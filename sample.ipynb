{
 "cells": [
  {
   "cell_type": "code",
   "execution_count": 1,
   "id": "3124d374",
   "metadata": {
    "vscode": {
     "languageId": "r"
    }
   },
   "outputs": [
    {
     "data": {
      "text/html": [
       "'/Users/aryamanbahl/Desktop/IIITH/Research/Metabrick_RRBS/analysis_files'"
      ],
      "text/latex": [
       "'/Users/aryamanbahl/Desktop/IIITH/Research/Metabrick\\_RRBS/analysis\\_files'"
      ],
      "text/markdown": [
       "'/Users/aryamanbahl/Desktop/IIITH/Research/Metabrick_RRBS/analysis_files'"
      ],
      "text/plain": [
       "[1] \"/Users/aryamanbahl/Desktop/IIITH/Research/Metabrick_RRBS/analysis_files\""
      ]
     },
     "metadata": {},
     "output_type": "display_data"
    }
   ],
   "source": [
    "setwd(\"/Users/aryamanbahl/Desktop/IIITH/Research/Metabrick_RRBS/analysis_files\")\n",
    "getwd()\n",
    "source(\"metabric_rrbs/scripts/utils.R\", encoding = \"latin1\")"
   ]
  },
  {
   "cell_type": "code",
   "execution_count": null,
   "id": "09d05bd5",
   "metadata": {
    "vscode": {
     "languageId": "r"
    }
   },
   "outputs": [
    {
     "name": "stdout",
     "output_type": "stream",
     "text": [
      "\n",
      "The downloaded binary packages are in\n",
      "\t/var/folders/1j/6n9mdv5j1zv3pd80zp_xh8mr0000gn/T//RtmpkY5WT3/downloaded_packages\n",
      "\n",
      "The downloaded binary packages are in\n",
      "\t/var/folders/1j/6n9mdv5j1zv3pd80zp_xh8mr0000gn/T//RtmpkY5WT3/downloaded_packages\n",
      "\n",
      "The downloaded binary packages are in\n",
      "\t/var/folders/1j/6n9mdv5j1zv3pd80zp_xh8mr0000gn/T//RtmpkY5WT3/downloaded_packages\n"
     ]
    },
    {
     "name": "stderr",
     "output_type": "stream",
     "text": [
      "'getOption(\"repos\")' replaces Bioconductor standard repositories, see\n",
      "'help(\"repositories\", package = \"BiocManager\")' for details.\n",
      "Replacement repositories:\n",
      "    CRAN: https://cran.r-project.org\n",
      "\n",
      "Bioconductor version 3.20 (BiocManager 1.30.25), R 4.4.2 (2024-10-31)\n",
      "\n",
      "Warning message:\n",
      "“package(s) not installed when version(s) same as or greater than current; use\n",
      "  `force = TRUE` to re-install: 'impute'”\n",
      "Old packages: 'BiocParallel', 'broom', 'cli', 'cluster', 'collections',\n",
      "  'commonmark', 'curl', 'diffobj', 'doBy', 'docopt', 'doFuture', 'doRNG',\n",
      "  'fastcluster', 'foreign', 'fs', 'future', 'gclus', 'gdtools', 'generics',\n",
      "  'gert', 'ggplot2', 'gh', 'globals', 'httpuv', 'httr2', 'hunspell', 'jpeg',\n",
      "  'jsonlite', 'KMsurv', 'knitr', 'later', 'lattice', 'lme4', 'magick',\n",
      "  'markdown', 'MatrixModels', 'maxstat', 'mgcv', 'mime', 'miniUI', 'nlme',\n",
      "  'nloptr', 'officer', 'openssl', 'parallelly', 'pbdZMQ', 'pbkrtest', 'pillar',\n",
      "  'pkgbuild', 'pkgdown', 'prodlim', 'ps', 'R.cache', 'R.oo', 'ragg',\n",
      "  'RcppArmadillo', 'Rdpack', 'recipes', 'reformulas', 'reticulate', 'rlang',\n",
      "  'RSQLite', 'rvg', 'sass', 'scales', 'sparsevctrs', 'stringi', 'systemfonts',\n",
      "  'textshaping', 'tinytex', 'utf8', 'writexl', 'xfun', 'xml2', 'zip', 'zoo'\n",
      "\n"
     ]
    },
    {
     "data": {
      "text/html": [
       "<table class=\"dataframe\">\n",
       "<caption>A matrix: 0 × 17 of type chr</caption>\n",
       "<thead>\n",
       "\t<tr><th scope=col>Package</th><th scope=col>LibPath</th><th scope=col>Version</th><th scope=col>Priority</th><th scope=col>Depends</th><th scope=col>Imports</th><th scope=col>LinkingTo</th><th scope=col>Suggests</th><th scope=col>Enhances</th><th scope=col>License</th><th scope=col>License_is_FOSS</th><th scope=col>License_restricts_use</th><th scope=col>OS_type</th><th scope=col>Archs</th><th scope=col>MD5sum</th><th scope=col>NeedsCompilation</th><th scope=col>Built</th></tr>\n",
       "</thead>\n",
       "<tbody>\n",
       "</tbody>\n",
       "</table>\n"
      ],
      "text/latex": [
       "A matrix: 0 × 17 of type chr\n",
       "\\begin{tabular}{lllllllllllllllll}\n",
       " Package & LibPath & Version & Priority & Depends & Imports & LinkingTo & Suggests & Enhances & License & License\\_is\\_FOSS & License\\_restricts\\_use & OS\\_type & Archs & MD5sum & NeedsCompilation & Built\\\\\n",
       "\\hline\n",
       "\\end{tabular}\n"
      ],
      "text/markdown": [
       "\n",
       "A matrix: 0 × 17 of type chr\n",
       "\n",
       "| Package | LibPath | Version | Priority | Depends | Imports | LinkingTo | Suggests | Enhances | License | License_is_FOSS | License_restricts_use | OS_type | Archs | MD5sum | NeedsCompilation | Built |\n",
       "|---|---|---|---|---|---|---|---|---|---|---|---|---|---|---|---|---|\n",
       "\n"
      ],
      "text/plain": [
       "     Package LibPath Version Priority Depends Imports LinkingTo Suggests\n",
       "     Enhances License License_is_FOSS License_restricts_use OS_type Archs\n",
       "     MD5sum NeedsCompilation Built"
      ]
     },
     "metadata": {},
     "output_type": "display_data"
    },
    {
     "name": "stderr",
     "output_type": "stream",
     "text": [
      "'getOption(\"repos\")' replaces Bioconductor standard repositories, see\n",
      "'help(\"repositories\", package = \"BiocManager\")' for details.\n",
      "Replacement repositories:\n",
      "    CRAN: https://cran.r-project.org\n",
      "\n",
      "Bioconductor version 3.20 (BiocManager 1.30.25), R 4.4.2 (2024-10-31)\n",
      "\n",
      "Installing package(s) 'DESeq2'\n",
      "\n"
     ]
    },
    {
     "name": "stdout",
     "output_type": "stream",
     "text": [
      "\n",
      "The downloaded binary packages are in\n",
      "\t/var/folders/1j/6n9mdv5j1zv3pd80zp_xh8mr0000gn/T//RtmpkY5WT3/downloaded_packages\n"
     ]
    },
    {
     "name": "stderr",
     "output_type": "stream",
     "text": [
      "Old packages: 'BiocParallel', 'broom', 'cli', 'cluster', 'collections',\n",
      "  'commonmark', 'curl', 'diffobj', 'doBy', 'docopt', 'doFuture', 'doRNG',\n",
      "  'fastcluster', 'foreign', 'fs', 'future', 'gclus', 'gdtools', 'generics',\n",
      "  'gert', 'ggplot2', 'gh', 'globals', 'httpuv', 'httr2', 'hunspell', 'jpeg',\n",
      "  'jsonlite', 'KMsurv', 'knitr', 'later', 'lattice', 'lme4', 'magick',\n",
      "  'markdown', 'MatrixModels', 'maxstat', 'mgcv', 'mime', 'miniUI', 'nlme',\n",
      "  'nloptr', 'officer', 'openssl', 'parallelly', 'pbdZMQ', 'pbkrtest', 'pillar',\n",
      "  'pkgbuild', 'pkgdown', 'prodlim', 'ps', 'R.cache', 'R.oo', 'ragg',\n",
      "  'RcppArmadillo', 'Rdpack', 'recipes', 'reformulas', 'reticulate', 'rlang',\n",
      "  'RSQLite', 'rvg', 'sass', 'scales', 'sparsevctrs', 'stringi', 'systemfonts',\n",
      "  'textshaping', 'tinytex', 'utf8', 'writexl', 'xfun', 'xml2', 'zip', 'zoo'\n",
      "\n"
     ]
    }
   ],
   "source": [
    "if (!requireNamespace(\"BiocManager\", quietly = TRUE))\n",
    "    install.packages(\"BiocManager\")\n",
    "\n",
    "install.packages(\"dplyr\")\n",
    "install.packages(\"data.table\")\n",
    "install.packages(\"readxl\")\n",
    "BiocManager::install(\"impute\")\n",
    "installed.packages(\"limma\")\n",
    "BiocManager::install(\"DESeq2\")"
   ]
  },
  {
   "cell_type": "code",
   "execution_count": 197,
   "id": "6c5b7c84",
   "metadata": {
    "vscode": {
     "languageId": "r"
    }
   },
   "outputs": [],
   "source": [
    "library(tidyverse)   # Data manipulation and visualization\n",
    "library(data.table)  # Fast data handling\n",
    "library(dplyr)       # Data wrangling (part of tidyverse)\n",
    "library(readxl)      # Read Excel files\n",
    "library(readr)       # Read CSV/TSV files\n",
    "library(impute)      # Impute missing values \n",
    "library(limma)       # Differential expression/methylation analysis\n",
    "library(DESeq2)      # Differential expression analysis for RNA-Seq data\n",
    "library(ggrepel)     # For better text labels in ggplot2\n",
    "library(ggplot2)     # Data visualization"
   ]
  },
  {
   "cell_type": "markdown",
   "id": "1c5c821c",
   "metadata": {},
   "source": [
    "## Sample data "
   ]
  },
  {
   "cell_type": "code",
   "execution_count": 4,
   "id": "60eb680e",
   "metadata": {
    "vscode": {
     "languageId": "r"
    }
   },
   "outputs": [
    {
     "data": {
      "text/html": [
       "<style>\n",
       ".list-inline {list-style: none; margin:0; padding: 0}\n",
       ".list-inline>li {display: inline-block}\n",
       ".list-inline>li:not(:last-child)::after {content: \"\\00b7\"; padding: 0 .5ex}\n",
       "</style>\n",
       "<ol class=list-inline><li>1782</li><li>27</li></ol>\n"
      ],
      "text/latex": [
       "\\begin{enumerate*}\n",
       "\\item 1782\n",
       "\\item 27\n",
       "\\end{enumerate*}\n"
      ],
      "text/markdown": [
       "1. 1782\n",
       "2. 27\n",
       "\n",
       "\n"
      ],
      "text/plain": [
       "[1] 1782   27"
      ]
     },
     "metadata": {},
     "output_type": "display_data"
    },
    {
     "data": {
      "text/html": [
       "<style>\n",
       ".list-inline {list-style: none; margin:0; padding: 0}\n",
       ".list-inline>li {display: inline-block}\n",
       ".list-inline>li:not(:last-child)::after {content: \"\\00b7\"; padding: 0 .5ex}\n",
       "</style>\n",
       "<ol class=list-inline><li>'samp'</li><li>'patient'</li><li>'batch'</li><li>'track'</li><li>'total_reads'</li><li>'mapped_reads'</li><li>'mapped_frac'</li><li>'cg_num'</li><li>'meth_calls'</li><li>'global_avg_meth'</li><li>'type'</li><li>'age'</li><li>'grade'</li><li>'stage'</li><li>'ER'</li><li>'IHC'</li><li>'iC10'</li><li>'PAM50'</li><li>'matched_normal'</li><li>'matched_tumor'</li><li>'digpath_lymph'</li><li>'digpath_stromal'</li><li>'IMC_Fibroblasts'</li><li>'IMC_Lymphocytes'</li><li>'ASCAT_cellularity'</li><li>'MathScore'</li><li>'log10_global_epm'</li></ol>\n"
      ],
      "text/latex": [
       "\\begin{enumerate*}\n",
       "\\item 'samp'\n",
       "\\item 'patient'\n",
       "\\item 'batch'\n",
       "\\item 'track'\n",
       "\\item 'total\\_reads'\n",
       "\\item 'mapped\\_reads'\n",
       "\\item 'mapped\\_frac'\n",
       "\\item 'cg\\_num'\n",
       "\\item 'meth\\_calls'\n",
       "\\item 'global\\_avg\\_meth'\n",
       "\\item 'type'\n",
       "\\item 'age'\n",
       "\\item 'grade'\n",
       "\\item 'stage'\n",
       "\\item 'ER'\n",
       "\\item 'IHC'\n",
       "\\item 'iC10'\n",
       "\\item 'PAM50'\n",
       "\\item 'matched\\_normal'\n",
       "\\item 'matched\\_tumor'\n",
       "\\item 'digpath\\_lymph'\n",
       "\\item 'digpath\\_stromal'\n",
       "\\item 'IMC\\_Fibroblasts'\n",
       "\\item 'IMC\\_Lymphocytes'\n",
       "\\item 'ASCAT\\_cellularity'\n",
       "\\item 'MathScore'\n",
       "\\item 'log10\\_global\\_epm'\n",
       "\\end{enumerate*}\n"
      ],
      "text/markdown": [
       "1. 'samp'\n",
       "2. 'patient'\n",
       "3. 'batch'\n",
       "4. 'track'\n",
       "5. 'total_reads'\n",
       "6. 'mapped_reads'\n",
       "7. 'mapped_frac'\n",
       "8. 'cg_num'\n",
       "9. 'meth_calls'\n",
       "10. 'global_avg_meth'\n",
       "11. 'type'\n",
       "12. 'age'\n",
       "13. 'grade'\n",
       "14. 'stage'\n",
       "15. 'ER'\n",
       "16. 'IHC'\n",
       "17. 'iC10'\n",
       "18. 'PAM50'\n",
       "19. 'matched_normal'\n",
       "20. 'matched_tumor'\n",
       "21. 'digpath_lymph'\n",
       "22. 'digpath_stromal'\n",
       "23. 'IMC_Fibroblasts'\n",
       "24. 'IMC_Lymphocytes'\n",
       "25. 'ASCAT_cellularity'\n",
       "26. 'MathScore'\n",
       "27. 'log10_global_epm'\n",
       "\n",
       "\n"
      ],
      "text/plain": [
       " [1] \"samp\"              \"patient\"           \"batch\"            \n",
       " [4] \"track\"             \"total_reads\"       \"mapped_reads\"     \n",
       " [7] \"mapped_frac\"       \"cg_num\"            \"meth_calls\"       \n",
       "[10] \"global_avg_meth\"   \"type\"              \"age\"              \n",
       "[13] \"grade\"             \"stage\"             \"ER\"               \n",
       "[16] \"IHC\"               \"iC10\"              \"PAM50\"            \n",
       "[19] \"matched_normal\"    \"matched_tumor\"     \"digpath_lymph\"    \n",
       "[22] \"digpath_stromal\"   \"IMC_Fibroblasts\"   \"IMC_Lymphocytes\"  \n",
       "[25] \"ASCAT_cellularity\" \"MathScore\"         \"log10_global_epm\" "
      ]
     },
     "metadata": {},
     "output_type": "display_data"
    },
    {
     "data": {
      "text/html": [
       "<table class=\"dataframe\">\n",
       "<caption>A tibble: 6 × 27</caption>\n",
       "<thead>\n",
       "\t<tr><th scope=col>samp</th><th scope=col>patient</th><th scope=col>batch</th><th scope=col>track</th><th scope=col>total_reads</th><th scope=col>mapped_reads</th><th scope=col>mapped_frac</th><th scope=col>cg_num</th><th scope=col>meth_calls</th><th scope=col>global_avg_meth</th><th scope=col>⋯</th><th scope=col>PAM50</th><th scope=col>matched_normal</th><th scope=col>matched_tumor</th><th scope=col>digpath_lymph</th><th scope=col>digpath_stromal</th><th scope=col>IMC_Fibroblasts</th><th scope=col>IMC_Lymphocytes</th><th scope=col>ASCAT_cellularity</th><th scope=col>MathScore</th><th scope=col>log10_global_epm</th></tr>\n",
       "\t<tr><th scope=col>&lt;chr&gt;</th><th scope=col>&lt;chr&gt;</th><th scope=col>&lt;chr&gt;</th><th scope=col>&lt;chr&gt;</th><th scope=col>&lt;dbl&gt;</th><th scope=col>&lt;dbl&gt;</th><th scope=col>&lt;dbl&gt;</th><th scope=col>&lt;dbl&gt;</th><th scope=col>&lt;dbl&gt;</th><th scope=col>&lt;dbl&gt;</th><th scope=col>⋯</th><th scope=col>&lt;chr&gt;</th><th scope=col>&lt;chr&gt;</th><th scope=col>&lt;chr&gt;</th><th scope=col>&lt;dbl&gt;</th><th scope=col>&lt;dbl&gt;</th><th scope=col>&lt;dbl&gt;</th><th scope=col>&lt;dbl&gt;</th><th scope=col>&lt;dbl&gt;</th><th scope=col>&lt;dbl&gt;</th><th scope=col>&lt;dbl&gt;</th></tr>\n",
       "</thead>\n",
       "<tbody>\n",
       "\t<tr><td>MB_0006</td><td>P2 </td><td>b4</td><td>metabric_rrbs_new.BATCH4.SLX_10703.A004.C8107ANXX</td><td>16994775</td><td>14269780</td><td>0.8396569</td><td>4001519</td><td>55735755</td><td>0.5578358</td><td>⋯</td><td>LUMB</td><td>NA</td><td>NA</td><td>0.08118741</td><td>0.5749816</td><td>        NA</td><td>          NA</td><td>0.58</td><td>0.8236636</td><td>      NA</td></tr>\n",
       "\t<tr><td>MB_0028</td><td>P6 </td><td>b1</td><td>metabric_rrbs_new.BATCH1.SLX_10132.A016.C6J71ANXX</td><td>12814856</td><td>11528115</td><td>0.8995899</td><td>4763459</td><td>45868097</td><td>0.6253500</td><td>⋯</td><td>LUMB</td><td>NA</td><td>NA</td><td>0.15468349</td><td>0.5017763</td><td>0.04735547</td><td>0.0104551050</td><td>0.69</td><td>0.6455982</td><td>4.190811</td></tr>\n",
       "\t<tr><td>MB_0030</td><td>P7 </td><td>b1</td><td>metabric_rrbs_new.BATCH1.SLX_10132.A018.C6J71ANXX</td><td>12366830</td><td>11114423</td><td>0.8987285</td><td>4464651</td><td>43879242</td><td>0.5822559</td><td>⋯</td><td>NA  </td><td>NA</td><td>NA</td><td>0.13091014</td><td>0.5361913</td><td>0.48115298</td><td>0.0144124170</td><td>  NA</td><td>       NA</td><td>3.480036</td></tr>\n",
       "\t<tr><td>MB_0035</td><td>P8 </td><td>b4</td><td>metabric_rrbs_new.BATCH4.SLX_10702.A005.C8107ANXX</td><td>22283773</td><td>18670811</td><td>0.8378658</td><td>3977722</td><td>66980881</td><td>0.6533751</td><td>⋯</td><td>HER2</td><td>NA</td><td>NA</td><td>0.11840248</td><td>0.5022391</td><td>0.07276657</td><td>0.0000000000</td><td>0.51</td><td>0.3576067</td><td>      NA</td></tr>\n",
       "\t<tr><td>MB_0040</td><td>P9 </td><td>b1</td><td>metabric_rrbs_new.BATCH1.SLX_10133.A015.C6J71ANXX</td><td>10309989</td><td> 8842899</td><td>0.8577021</td><td>4305845</td><td>34669398</td><td>0.5911771</td><td>⋯</td><td>NA  </td><td>NA</td><td>NA</td><td>0.21741995</td><td>0.5176772</td><td>0.67786068</td><td>0.0006218905</td><td>  NA</td><td>0.1147223</td><td>3.609631</td></tr>\n",
       "\t<tr><td>MB_0046</td><td>P11</td><td>b4</td><td>metabric_rrbs_new.BATCH4.SLX_10702.A016.C8107ANXX</td><td>16865163</td><td>14138471</td><td>0.8383240</td><td>3915679</td><td>52680191</td><td>0.5778299</td><td>⋯</td><td>LUMA</td><td>NA</td><td>NA</td><td>0.07668140</td><td>0.4993792</td><td>        NA</td><td>          NA</td><td>0.40</td><td>0.3057615</td><td>      NA</td></tr>\n",
       "</tbody>\n",
       "</table>\n"
      ],
      "text/latex": [
       "A tibble: 6 × 27\n",
       "\\begin{tabular}{lllllllllllllllllllll}\n",
       " samp & patient & batch & track & total\\_reads & mapped\\_reads & mapped\\_frac & cg\\_num & meth\\_calls & global\\_avg\\_meth & ⋯ & PAM50 & matched\\_normal & matched\\_tumor & digpath\\_lymph & digpath\\_stromal & IMC\\_Fibroblasts & IMC\\_Lymphocytes & ASCAT\\_cellularity & MathScore & log10\\_global\\_epm\\\\\n",
       " <chr> & <chr> & <chr> & <chr> & <dbl> & <dbl> & <dbl> & <dbl> & <dbl> & <dbl> & ⋯ & <chr> & <chr> & <chr> & <dbl> & <dbl> & <dbl> & <dbl> & <dbl> & <dbl> & <dbl>\\\\\n",
       "\\hline\n",
       "\t MB\\_0006 & P2  & b4 & metabric\\_rrbs\\_new.BATCH4.SLX\\_10703.A004.C8107ANXX & 16994775 & 14269780 & 0.8396569 & 4001519 & 55735755 & 0.5578358 & ⋯ & LUMB & NA & NA & 0.08118741 & 0.5749816 &         NA &           NA & 0.58 & 0.8236636 &       NA\\\\\n",
       "\t MB\\_0028 & P6  & b1 & metabric\\_rrbs\\_new.BATCH1.SLX\\_10132.A016.C6J71ANXX & 12814856 & 11528115 & 0.8995899 & 4763459 & 45868097 & 0.6253500 & ⋯ & LUMB & NA & NA & 0.15468349 & 0.5017763 & 0.04735547 & 0.0104551050 & 0.69 & 0.6455982 & 4.190811\\\\\n",
       "\t MB\\_0030 & P7  & b1 & metabric\\_rrbs\\_new.BATCH1.SLX\\_10132.A018.C6J71ANXX & 12366830 & 11114423 & 0.8987285 & 4464651 & 43879242 & 0.5822559 & ⋯ & NA   & NA & NA & 0.13091014 & 0.5361913 & 0.48115298 & 0.0144124170 &   NA &        NA & 3.480036\\\\\n",
       "\t MB\\_0035 & P8  & b4 & metabric\\_rrbs\\_new.BATCH4.SLX\\_10702.A005.C8107ANXX & 22283773 & 18670811 & 0.8378658 & 3977722 & 66980881 & 0.6533751 & ⋯ & HER2 & NA & NA & 0.11840248 & 0.5022391 & 0.07276657 & 0.0000000000 & 0.51 & 0.3576067 &       NA\\\\\n",
       "\t MB\\_0040 & P9  & b1 & metabric\\_rrbs\\_new.BATCH1.SLX\\_10133.A015.C6J71ANXX & 10309989 &  8842899 & 0.8577021 & 4305845 & 34669398 & 0.5911771 & ⋯ & NA   & NA & NA & 0.21741995 & 0.5176772 & 0.67786068 & 0.0006218905 &   NA & 0.1147223 & 3.609631\\\\\n",
       "\t MB\\_0046 & P11 & b4 & metabric\\_rrbs\\_new.BATCH4.SLX\\_10702.A016.C8107ANXX & 16865163 & 14138471 & 0.8383240 & 3915679 & 52680191 & 0.5778299 & ⋯ & LUMA & NA & NA & 0.07668140 & 0.4993792 &         NA &           NA & 0.40 & 0.3057615 &       NA\\\\\n",
       "\\end{tabular}\n"
      ],
      "text/markdown": [
       "\n",
       "A tibble: 6 × 27\n",
       "\n",
       "| samp &lt;chr&gt; | patient &lt;chr&gt; | batch &lt;chr&gt; | track &lt;chr&gt; | total_reads &lt;dbl&gt; | mapped_reads &lt;dbl&gt; | mapped_frac &lt;dbl&gt; | cg_num &lt;dbl&gt; | meth_calls &lt;dbl&gt; | global_avg_meth &lt;dbl&gt; | ⋯ ⋯ | PAM50 &lt;chr&gt; | matched_normal &lt;chr&gt; | matched_tumor &lt;chr&gt; | digpath_lymph &lt;dbl&gt; | digpath_stromal &lt;dbl&gt; | IMC_Fibroblasts &lt;dbl&gt; | IMC_Lymphocytes &lt;dbl&gt; | ASCAT_cellularity &lt;dbl&gt; | MathScore &lt;dbl&gt; | log10_global_epm &lt;dbl&gt; |\n",
       "|---|---|---|---|---|---|---|---|---|---|---|---|---|---|---|---|---|---|---|---|---|\n",
       "| MB_0006 | P2  | b4 | metabric_rrbs_new.BATCH4.SLX_10703.A004.C8107ANXX | 16994775 | 14269780 | 0.8396569 | 4001519 | 55735755 | 0.5578358 | ⋯ | LUMB | NA | NA | 0.08118741 | 0.5749816 |         NA |           NA | 0.58 | 0.8236636 |       NA |\n",
       "| MB_0028 | P6  | b1 | metabric_rrbs_new.BATCH1.SLX_10132.A016.C6J71ANXX | 12814856 | 11528115 | 0.8995899 | 4763459 | 45868097 | 0.6253500 | ⋯ | LUMB | NA | NA | 0.15468349 | 0.5017763 | 0.04735547 | 0.0104551050 | 0.69 | 0.6455982 | 4.190811 |\n",
       "| MB_0030 | P7  | b1 | metabric_rrbs_new.BATCH1.SLX_10132.A018.C6J71ANXX | 12366830 | 11114423 | 0.8987285 | 4464651 | 43879242 | 0.5822559 | ⋯ | NA   | NA | NA | 0.13091014 | 0.5361913 | 0.48115298 | 0.0144124170 |   NA |        NA | 3.480036 |\n",
       "| MB_0035 | P8  | b4 | metabric_rrbs_new.BATCH4.SLX_10702.A005.C8107ANXX | 22283773 | 18670811 | 0.8378658 | 3977722 | 66980881 | 0.6533751 | ⋯ | HER2 | NA | NA | 0.11840248 | 0.5022391 | 0.07276657 | 0.0000000000 | 0.51 | 0.3576067 |       NA |\n",
       "| MB_0040 | P9  | b1 | metabric_rrbs_new.BATCH1.SLX_10133.A015.C6J71ANXX | 10309989 |  8842899 | 0.8577021 | 4305845 | 34669398 | 0.5911771 | ⋯ | NA   | NA | NA | 0.21741995 | 0.5176772 | 0.67786068 | 0.0006218905 |   NA | 0.1147223 | 3.609631 |\n",
       "| MB_0046 | P11 | b4 | metabric_rrbs_new.BATCH4.SLX_10702.A016.C8107ANXX | 16865163 | 14138471 | 0.8383240 | 3915679 | 52680191 | 0.5778299 | ⋯ | LUMA | NA | NA | 0.07668140 | 0.4993792 |         NA |           NA | 0.40 | 0.3057615 |       NA |\n",
       "\n"
      ],
      "text/plain": [
       "  samp    patient batch track                                            \n",
       "1 MB_0006 P2      b4    metabric_rrbs_new.BATCH4.SLX_10703.A004.C8107ANXX\n",
       "2 MB_0028 P6      b1    metabric_rrbs_new.BATCH1.SLX_10132.A016.C6J71ANXX\n",
       "3 MB_0030 P7      b1    metabric_rrbs_new.BATCH1.SLX_10132.A018.C6J71ANXX\n",
       "4 MB_0035 P8      b4    metabric_rrbs_new.BATCH4.SLX_10702.A005.C8107ANXX\n",
       "5 MB_0040 P9      b1    metabric_rrbs_new.BATCH1.SLX_10133.A015.C6J71ANXX\n",
       "6 MB_0046 P11     b4    metabric_rrbs_new.BATCH4.SLX_10702.A016.C8107ANXX\n",
       "  total_reads mapped_reads mapped_frac cg_num  meth_calls global_avg_meth ⋯\n",
       "1 16994775    14269780     0.8396569   4001519 55735755   0.5578358       ⋯\n",
       "2 12814856    11528115     0.8995899   4763459 45868097   0.6253500       ⋯\n",
       "3 12366830    11114423     0.8987285   4464651 43879242   0.5822559       ⋯\n",
       "4 22283773    18670811     0.8378658   3977722 66980881   0.6533751       ⋯\n",
       "5 10309989     8842899     0.8577021   4305845 34669398   0.5911771       ⋯\n",
       "6 16865163    14138471     0.8383240   3915679 52680191   0.5778299       ⋯\n",
       "  PAM50 matched_normal matched_tumor digpath_lymph digpath_stromal\n",
       "1 LUMB  NA             NA            0.08118741    0.5749816      \n",
       "2 LUMB  NA             NA            0.15468349    0.5017763      \n",
       "3 NA    NA             NA            0.13091014    0.5361913      \n",
       "4 HER2  NA             NA            0.11840248    0.5022391      \n",
       "5 NA    NA             NA            0.21741995    0.5176772      \n",
       "6 LUMA  NA             NA            0.07668140    0.4993792      \n",
       "  IMC_Fibroblasts IMC_Lymphocytes ASCAT_cellularity MathScore log10_global_epm\n",
       "1         NA                NA    0.58              0.8236636       NA        \n",
       "2 0.04735547      0.0104551050    0.69              0.6455982 4.190811        \n",
       "3 0.48115298      0.0144124170      NA                     NA 3.480036        \n",
       "4 0.07276657      0.0000000000    0.51              0.3576067       NA        \n",
       "5 0.67786068      0.0006218905      NA              0.1147223 3.609631        \n",
       "6         NA                NA    0.40              0.3057615       NA        "
      ]
     },
     "metadata": {},
     "output_type": "display_data"
    }
   ],
   "source": [
    "metadata <- read_excel(\"data/S1 - Sample Information.xlsx\", sheet = \"Sheet1\")\n",
    "dim(metadata)        \n",
    "colnames(metadata)\n",
    "head(metadata)        "
   ]
  },
  {
   "cell_type": "code",
   "execution_count": 5,
   "id": "fb490929",
   "metadata": {
    "vscode": {
     "languageId": "r"
    }
   },
   "outputs": [
    {
     "data": {
      "text/plain": [
       "\n",
       "ADJNORMAL    TUMOUR \n",
       "      244      1538 "
      ]
     },
     "metadata": {},
     "output_type": "display_data"
    },
    {
     "data": {
      "text/plain": [
       "\n",
       "negative   normal positive \n",
       "     350      244     1179 "
      ]
     },
     "metadata": {},
     "output_type": "display_data"
    },
    {
     "data": {
      "text/plain": [
       "\n",
       "ADJNORMAL  ER-HER2+  ER+HER2-  ER+HER2+      TNBC \n",
       "      244        59      1117        44       307 "
      ]
     },
     "metadata": {},
     "output_type": "display_data"
    },
    {
     "data": {
      "text/plain": [
       "\n",
       "ADJNORMAL     BASAL   CLAUDIN      HER2      LUMA      LUMB    NORMAL \n",
       "      244       144       139       174       500       340       115 "
      ]
     },
     "metadata": {},
     "output_type": "display_data"
    }
   ],
   "source": [
    "table(metadata$type)\n",
    "table(metadata$ER)\n",
    "table(metadata$IHC)\n",
    "table(metadata$PAM50)"
   ]
  },
  {
   "cell_type": "code",
   "execution_count": 6,
   "id": "b275c7af",
   "metadata": {
    "vscode": {
     "languageId": "r"
    }
   },
   "outputs": [
    {
     "data": {
      "text/html": [
       "1538"
      ],
      "text/latex": [
       "1538"
      ],
      "text/markdown": [
       "1538"
      ],
      "text/plain": [
       "[1] 1538"
      ]
     },
     "metadata": {},
     "output_type": "display_data"
    },
    {
     "data": {
      "text/html": [
       "244"
      ],
      "text/latex": [
       "244"
      ],
      "text/markdown": [
       "244"
      ],
      "text/plain": [
       "[1] 244"
      ]
     },
     "metadata": {},
     "output_type": "display_data"
    }
   ],
   "source": [
    "tumor_samples <- metadata %>% filter(type == \"TUMOUR\") %>% pull(samp)\n",
    "normal_samples <- metadata %>% filter(type == \"ADJNORMAL\") %>% pull(samp)\n",
    "\n",
    "length(tumor_samples)\n",
    "length(normal_samples)"
   ]
  },
  {
   "cell_type": "code",
   "execution_count": 8,
   "id": "179a5428",
   "metadata": {
    "vscode": {
     "languageId": "r"
    }
   },
   "outputs": [
    {
     "name": "stderr",
     "output_type": "stream",
     "text": [
      "\u001b[1mRows: \u001b[22m\u001b[34m33241\u001b[39m \u001b[1mColumns: \u001b[22m\u001b[34m2\u001b[39m\n",
      "\u001b[36m--\u001b[39m \u001b[1mColumn specification\u001b[22m \u001b[36m--------------------------------------------------------\u001b[39m\n",
      "\u001b[1mDelimiter:\u001b[22m \"\\t\"\n",
      "\u001b[31mchr\u001b[39m (1): full_name\n",
      "\u001b[32mdbl\u001b[39m (1): tss\n",
      "\n",
      "\u001b[36mi\u001b[39m Use `spec()` to retrieve the full column specification for this data.\n",
      "\u001b[36mi\u001b[39m Specify the column types or set `show_col_types = FALSE` to quiet this message.\n"
     ]
    },
    {
     "data": {
      "text/html": [
       "<table class=\"dataframe\">\n",
       "<caption>A tibble: 6 x 2</caption>\n",
       "<thead>\n",
       "\t<tr><th scope=col>full_name</th><th scope=col>tss</th></tr>\n",
       "\t<tr><th scope=col>&lt;chr&gt;</th><th scope=col>&lt;dbl&gt;</th></tr>\n",
       "</thead>\n",
       "<tbody>\n",
       "\t<tr><td>chr1.+.DDX11L1   </td><td>11873</td></tr>\n",
       "\t<tr><td>chr1.+.MIR1302-10</td><td>30365</td></tr>\n",
       "\t<tr><td>chr1.+.MIR1302-11</td><td>30365</td></tr>\n",
       "\t<tr><td>chr1.+.MIR1302-2 </td><td>30365</td></tr>\n",
       "\t<tr><td>chr1.+.MIR1302-9 </td><td>30365</td></tr>\n",
       "\t<tr><td>chr1.+.OR4F5     </td><td>69090</td></tr>\n",
       "</tbody>\n",
       "</table>\n"
      ],
      "text/latex": [
       "A tibble: 6 x 2\n",
       "\\begin{tabular}{ll}\n",
       " full\\_name & tss\\\\\n",
       " <chr> & <dbl>\\\\\n",
       "\\hline\n",
       "\t chr1.+.DDX11L1    & 11873\\\\\n",
       "\t chr1.+.MIR1302-10 & 30365\\\\\n",
       "\t chr1.+.MIR1302-11 & 30365\\\\\n",
       "\t chr1.+.MIR1302-2  & 30365\\\\\n",
       "\t chr1.+.MIR1302-9  & 30365\\\\\n",
       "\t chr1.+.OR4F5      & 69090\\\\\n",
       "\\end{tabular}\n"
      ],
      "text/markdown": [
       "\n",
       "A tibble: 6 x 2\n",
       "\n",
       "| full_name &lt;chr&gt; | tss &lt;dbl&gt; |\n",
       "|---|---|\n",
       "| chr1.+.DDX11L1    | 11873 |\n",
       "| chr1.+.MIR1302-10 | 30365 |\n",
       "| chr1.+.MIR1302-11 | 30365 |\n",
       "| chr1.+.MIR1302-2  | 30365 |\n",
       "| chr1.+.MIR1302-9  | 30365 |\n",
       "| chr1.+.OR4F5      | 69090 |\n",
       "\n"
      ],
      "text/plain": [
       "  full_name         tss  \n",
       "1 chr1.+.DDX11L1    11873\n",
       "2 chr1.+.MIR1302-10 30365\n",
       "3 chr1.+.MIR1302-11 30365\n",
       "4 chr1.+.MIR1302-2  30365\n",
       "5 chr1.+.MIR1302-9  30365\n",
       "6 chr1.+.OR4F5      69090"
      ]
     },
     "metadata": {},
     "output_type": "display_data"
    },
    {
     "name": "stderr",
     "output_type": "stream",
     "text": [
      "\u001b[1mRows: \u001b[22m\u001b[34m114\u001b[39m \u001b[1mColumns: \u001b[22m\u001b[34m4\u001b[39m\n",
      "\u001b[36m--\u001b[39m \u001b[1mColumn specification\u001b[22m \u001b[36m--------------------------------------------------------\u001b[39m\n",
      "\u001b[1mDelimiter:\u001b[22m \",\"\n",
      "\u001b[31mchr\u001b[39m (3): gene, type, description\n",
      "\u001b[32mdbl\u001b[39m (1): clust\n",
      "\n",
      "\u001b[36mi\u001b[39m Use `spec()` to retrieve the full column specification for this data.\n",
      "\u001b[36mi\u001b[39m Specify the column types or set `show_col_types = FALSE` to quiet this message.\n"
     ]
    },
    {
     "data": {
      "text/html": [
       "<table class=\"dataframe\">\n",
       "<caption>A tibble: 6 x 4</caption>\n",
       "<thead>\n",
       "\t<tr><th scope=col>gene</th><th scope=col>type</th><th scope=col>description</th><th scope=col>clust</th></tr>\n",
       "\t<tr><th scope=col>&lt;chr&gt;</th><th scope=col>&lt;chr&gt;</th><th scope=col>&lt;chr&gt;</th><th scope=col>&lt;dbl&gt;</th></tr>\n",
       "</thead>\n",
       "<tbody>\n",
       "\t<tr><td>ZIC2  </td><td>EMB_TF</td><td>NA</td><td>15</td></tr>\n",
       "\t<tr><td>TMEM97</td><td>Extra </td><td>NA</td><td>15</td></tr>\n",
       "\t<tr><td>NKX2-2</td><td>EMB_TF</td><td>NA</td><td>15</td></tr>\n",
       "\t<tr><td>CBX2  </td><td>PcG   </td><td>NA</td><td>15</td></tr>\n",
       "\t<tr><td>SIX4  </td><td>EMB_TF</td><td>NA</td><td>15</td></tr>\n",
       "\t<tr><td>GATA2 </td><td>EMB_TF</td><td>NA</td><td>15</td></tr>\n",
       "</tbody>\n",
       "</table>\n"
      ],
      "text/latex": [
       "A tibble: 6 x 4\n",
       "\\begin{tabular}{llll}\n",
       " gene & type & description & clust\\\\\n",
       " <chr> & <chr> & <chr> & <dbl>\\\\\n",
       "\\hline\n",
       "\t ZIC2   & EMB\\_TF & NA & 15\\\\\n",
       "\t TMEM97 & Extra  & NA & 15\\\\\n",
       "\t NKX2-2 & EMB\\_TF & NA & 15\\\\\n",
       "\t CBX2   & PcG    & NA & 15\\\\\n",
       "\t SIX4   & EMB\\_TF & NA & 15\\\\\n",
       "\t GATA2  & EMB\\_TF & NA & 15\\\\\n",
       "\\end{tabular}\n"
      ],
      "text/markdown": [
       "\n",
       "A tibble: 6 x 4\n",
       "\n",
       "| gene &lt;chr&gt; | type &lt;chr&gt; | description &lt;chr&gt; | clust &lt;dbl&gt; |\n",
       "|---|---|---|---|\n",
       "| ZIC2   | EMB_TF | NA | 15 |\n",
       "| TMEM97 | Extra  | NA | 15 |\n",
       "| NKX2-2 | EMB_TF | NA | 15 |\n",
       "| CBX2   | PcG    | NA | 15 |\n",
       "| SIX4   | EMB_TF | NA | 15 |\n",
       "| GATA2  | EMB_TF | NA | 15 |\n",
       "\n"
      ],
      "text/plain": [
       "  gene   type   description clust\n",
       "1 ZIC2   EMB_TF NA          15   \n",
       "2 TMEM97 Extra  NA          15   \n",
       "3 NKX2-2 EMB_TF NA          15   \n",
       "4 CBX2   PcG    NA          15   \n",
       "5 SIX4   EMB_TF NA          15   \n",
       "6 GATA2  EMB_TF NA          15   "
      ]
     },
     "metadata": {},
     "output_type": "display_data"
    }
   ],
   "source": [
    "tss_coords<-read_tsv(\"data/gene_tss.tsv\")\n",
    "head(tss_coords)\n",
    "\n",
    "genes_annot <- read_csv(\"data/genes_annot.csv\")\n",
    "head(genes_annot)"
   ]
  },
  {
   "cell_type": "markdown",
   "id": "2b82f3f8",
   "metadata": {},
   "source": [
    "### Methylation data "
   ]
  },
  {
   "cell_type": "code",
   "execution_count": 93,
   "id": "a5420f66",
   "metadata": {
    "vscode": {
     "languageId": "r"
    }
   },
   "outputs": [
    {
     "name": "stderr",
     "output_type": "stream",
     "text": [
      "\u001b[1mRows: \u001b[22m\u001b[34m15793\u001b[39m \u001b[1mColumns: \u001b[22m\u001b[34m1787\u001b[39m\n",
      "\u001b[36m──\u001b[39m \u001b[1mColumn specification\u001b[22m \u001b[36m────────────────────────────────────────────────────────\u001b[39m\n",
      "\u001b[1mDelimiter:\u001b[22m \",\"\n",
      "\u001b[31mchr\u001b[39m    (3): chrom, name, name3.chr\n",
      "\u001b[32mdbl\u001b[39m (1784): start, end, MB_0006, MB_0028, MB_0030, MB_0035, MB_0040, MB_0046...\n",
      "\n",
      "\u001b[36mℹ\u001b[39m Use `spec()` to retrieve the full column specification for this data.\n",
      "\u001b[36mℹ\u001b[39m Specify the column types or set `show_col_types = FALSE` to quiet this message.\n"
     ]
    },
    {
     "data": {
      "text/html": [
       "<style>\n",
       ".list-inline {list-style: none; margin:0; padding: 0}\n",
       ".list-inline>li {display: inline-block}\n",
       ".list-inline>li:not(:last-child)::after {content: \"\\00b7\"; padding: 0 .5ex}\n",
       "</style>\n",
       "<ol class=list-inline><li>15793</li><li>1786</li></ol>\n"
      ],
      "text/latex": [
       "\\begin{enumerate*}\n",
       "\\item 15793\n",
       "\\item 1786\n",
       "\\end{enumerate*}\n"
      ],
      "text/markdown": [
       "1. 15793\n",
       "2. 1786\n",
       "\n",
       "\n"
      ],
      "text/plain": [
       "[1] 15793  1786"
      ]
     },
     "metadata": {},
     "output_type": "display_data"
    },
    {
     "data": {
      "text/html": [
       "<table class=\"dataframe\">\n",
       "<caption>A tibble: 6 × 1786</caption>\n",
       "<thead>\n",
       "\t<tr><th scope=col>chrom</th><th scope=col>start</th><th scope=col>end</th><th scope=col>name</th><th scope=col>MB_0006</th><th scope=col>MB_0028</th><th scope=col>MB_0030</th><th scope=col>MB_0035</th><th scope=col>MB_0040</th><th scope=col>MB_0046</th><th scope=col>⋯</th><th scope=col>MB_7281</th><th scope=col>MB_7283</th><th scope=col>MB_7285</th><th scope=col>MB_7288</th><th scope=col>MB_7289</th><th scope=col>MB_7291</th><th scope=col>MB_7292</th><th scope=col>MB_7293</th><th scope=col>MB_7296</th><th scope=col>MB_7298</th></tr>\n",
       "\t<tr><th scope=col>&lt;chr&gt;</th><th scope=col>&lt;dbl&gt;</th><th scope=col>&lt;dbl&gt;</th><th scope=col>&lt;chr&gt;</th><th scope=col>&lt;dbl&gt;</th><th scope=col>&lt;dbl&gt;</th><th scope=col>&lt;dbl&gt;</th><th scope=col>&lt;dbl&gt;</th><th scope=col>&lt;dbl&gt;</th><th scope=col>&lt;dbl&gt;</th><th scope=col>⋯</th><th scope=col>&lt;dbl&gt;</th><th scope=col>&lt;dbl&gt;</th><th scope=col>&lt;dbl&gt;</th><th scope=col>&lt;dbl&gt;</th><th scope=col>&lt;dbl&gt;</th><th scope=col>&lt;dbl&gt;</th><th scope=col>&lt;dbl&gt;</th><th scope=col>&lt;dbl&gt;</th><th scope=col>&lt;dbl&gt;</th><th scope=col>&lt;dbl&gt;</th></tr>\n",
       "</thead>\n",
       "<tbody>\n",
       "\t<tr><td>chr1</td><td>762469</td><td>763020</td><td>LINC01128</td><td>0.000000000</td><td>0.00000000</td><td>0.00000000</td><td>0.00000000</td><td>0.00000000</td><td>0.00000000</td><td>⋯</td><td>0.00000000</td><td>0.01829268</td><td>        NA</td><td>0.000000000</td><td>0.000000000</td><td>0.00000000</td><td>0.00000000</td><td>0.006849315</td><td>        NA</td><td>0.000000000</td></tr>\n",
       "\t<tr><td>chr1</td><td>762676</td><td>763227</td><td>LINC01128</td><td>0.021929825</td><td>0.03018109</td><td>0.07858546</td><td>0.00000000</td><td>0.01627486</td><td>0.21922626</td><td>⋯</td><td>0.02374169</td><td>0.17092338</td><td>0.01785714</td><td>0.000000000</td><td>0.066974596</td><td>0.00000000</td><td>0.11016949</td><td>0.042925278</td><td>0.01030928</td><td>0.062780269</td></tr>\n",
       "\t<tr><td>chr1</td><td>860619</td><td>861170</td><td>SAMD11   </td><td>0.001870324</td><td>0.01188300</td><td>0.01046622</td><td>0.15767196</td><td>0.01549464</td><td>0.05299539</td><td>⋯</td><td>0.01910480</td><td>0.00802139</td><td>0.02392344</td><td>0.002307692</td><td>0.002057613</td><td>0.01895375</td><td>0.02185792</td><td>0.000000000</td><td>0.00000000</td><td>0.006283229</td></tr>\n",
       "\t<tr><td>chr1</td><td>895465</td><td>896016</td><td>KLHL17   </td><td>0.014367816</td><td>0.04901961</td><td>0.04769737</td><td>0.03629032</td><td>0.03182580</td><td>0.06606607</td><td>⋯</td><td>0.03778802</td><td>0.04700855</td><td>0.11333333</td><td>0.004689332</td><td>0.030204962</td><td>0.02810651</td><td>0.14285714</td><td>0.026392962</td><td>0.09826590</td><td>0.058666667</td></tr>\n",
       "\t<tr><td>chr1</td><td>901375</td><td>901926</td><td>PLEKHN1  </td><td>0.024253731</td><td>0.05357143</td><td>0.02334630</td><td>0.01470588</td><td>0.01798561</td><td>0.00000000</td><td>⋯</td><td>0.10212766</td><td>0.04149378</td><td>0.01369863</td><td>0.000000000</td><td>0.015873016</td><td>0.07216495</td><td>0.07185629</td><td>0.021526419</td><td>0.00000000</td><td>0.029490617</td></tr>\n",
       "\t<tr><td>chr1</td><td>948345</td><td>948896</td><td>ISG15    </td><td>0.000000000</td><td>0.00000000</td><td>0.00000000</td><td>0.02083333</td><td>0.00000000</td><td>0.00000000</td><td>⋯</td><td>0.00000000</td><td>0.02439024</td><td>0.00000000</td><td>0.009523810</td><td>0.010309278</td><td>0.00000000</td><td>0.00000000</td><td>0.000000000</td><td>0.00000000</td><td>0.000000000</td></tr>\n",
       "</tbody>\n",
       "</table>\n"
      ],
      "text/latex": [
       "A tibble: 6 × 1786\n",
       "\\begin{tabular}{lllllllllllllllllllll}\n",
       " chrom & start & end & name & MB\\_0006 & MB\\_0028 & MB\\_0030 & MB\\_0035 & MB\\_0040 & MB\\_0046 & ⋯ & MB\\_7281 & MB\\_7283 & MB\\_7285 & MB\\_7288 & MB\\_7289 & MB\\_7291 & MB\\_7292 & MB\\_7293 & MB\\_7296 & MB\\_7298\\\\\n",
       " <chr> & <dbl> & <dbl> & <chr> & <dbl> & <dbl> & <dbl> & <dbl> & <dbl> & <dbl> & ⋯ & <dbl> & <dbl> & <dbl> & <dbl> & <dbl> & <dbl> & <dbl> & <dbl> & <dbl> & <dbl>\\\\\n",
       "\\hline\n",
       "\t chr1 & 762469 & 763020 & LINC01128 & 0.000000000 & 0.00000000 & 0.00000000 & 0.00000000 & 0.00000000 & 0.00000000 & ⋯ & 0.00000000 & 0.01829268 &         NA & 0.000000000 & 0.000000000 & 0.00000000 & 0.00000000 & 0.006849315 &         NA & 0.000000000\\\\\n",
       "\t chr1 & 762676 & 763227 & LINC01128 & 0.021929825 & 0.03018109 & 0.07858546 & 0.00000000 & 0.01627486 & 0.21922626 & ⋯ & 0.02374169 & 0.17092338 & 0.01785714 & 0.000000000 & 0.066974596 & 0.00000000 & 0.11016949 & 0.042925278 & 0.01030928 & 0.062780269\\\\\n",
       "\t chr1 & 860619 & 861170 & SAMD11    & 0.001870324 & 0.01188300 & 0.01046622 & 0.15767196 & 0.01549464 & 0.05299539 & ⋯ & 0.01910480 & 0.00802139 & 0.02392344 & 0.002307692 & 0.002057613 & 0.01895375 & 0.02185792 & 0.000000000 & 0.00000000 & 0.006283229\\\\\n",
       "\t chr1 & 895465 & 896016 & KLHL17    & 0.014367816 & 0.04901961 & 0.04769737 & 0.03629032 & 0.03182580 & 0.06606607 & ⋯ & 0.03778802 & 0.04700855 & 0.11333333 & 0.004689332 & 0.030204962 & 0.02810651 & 0.14285714 & 0.026392962 & 0.09826590 & 0.058666667\\\\\n",
       "\t chr1 & 901375 & 901926 & PLEKHN1   & 0.024253731 & 0.05357143 & 0.02334630 & 0.01470588 & 0.01798561 & 0.00000000 & ⋯ & 0.10212766 & 0.04149378 & 0.01369863 & 0.000000000 & 0.015873016 & 0.07216495 & 0.07185629 & 0.021526419 & 0.00000000 & 0.029490617\\\\\n",
       "\t chr1 & 948345 & 948896 & ISG15     & 0.000000000 & 0.00000000 & 0.00000000 & 0.02083333 & 0.00000000 & 0.00000000 & ⋯ & 0.00000000 & 0.02439024 & 0.00000000 & 0.009523810 & 0.010309278 & 0.00000000 & 0.00000000 & 0.000000000 & 0.00000000 & 0.000000000\\\\\n",
       "\\end{tabular}\n"
      ],
      "text/markdown": [
       "\n",
       "A tibble: 6 × 1786\n",
       "\n",
       "| chrom &lt;chr&gt; | start &lt;dbl&gt; | end &lt;dbl&gt; | name &lt;chr&gt; | MB_0006 &lt;dbl&gt; | MB_0028 &lt;dbl&gt; | MB_0030 &lt;dbl&gt; | MB_0035 &lt;dbl&gt; | MB_0040 &lt;dbl&gt; | MB_0046 &lt;dbl&gt; | ⋯ ⋯ | MB_7281 &lt;dbl&gt; | MB_7283 &lt;dbl&gt; | MB_7285 &lt;dbl&gt; | MB_7288 &lt;dbl&gt; | MB_7289 &lt;dbl&gt; | MB_7291 &lt;dbl&gt; | MB_7292 &lt;dbl&gt; | MB_7293 &lt;dbl&gt; | MB_7296 &lt;dbl&gt; | MB_7298 &lt;dbl&gt; |\n",
       "|---|---|---|---|---|---|---|---|---|---|---|---|---|---|---|---|---|---|---|---|---|\n",
       "| chr1 | 762469 | 763020 | LINC01128 | 0.000000000 | 0.00000000 | 0.00000000 | 0.00000000 | 0.00000000 | 0.00000000 | ⋯ | 0.00000000 | 0.01829268 |         NA | 0.000000000 | 0.000000000 | 0.00000000 | 0.00000000 | 0.006849315 |         NA | 0.000000000 |\n",
       "| chr1 | 762676 | 763227 | LINC01128 | 0.021929825 | 0.03018109 | 0.07858546 | 0.00000000 | 0.01627486 | 0.21922626 | ⋯ | 0.02374169 | 0.17092338 | 0.01785714 | 0.000000000 | 0.066974596 | 0.00000000 | 0.11016949 | 0.042925278 | 0.01030928 | 0.062780269 |\n",
       "| chr1 | 860619 | 861170 | SAMD11    | 0.001870324 | 0.01188300 | 0.01046622 | 0.15767196 | 0.01549464 | 0.05299539 | ⋯ | 0.01910480 | 0.00802139 | 0.02392344 | 0.002307692 | 0.002057613 | 0.01895375 | 0.02185792 | 0.000000000 | 0.00000000 | 0.006283229 |\n",
       "| chr1 | 895465 | 896016 | KLHL17    | 0.014367816 | 0.04901961 | 0.04769737 | 0.03629032 | 0.03182580 | 0.06606607 | ⋯ | 0.03778802 | 0.04700855 | 0.11333333 | 0.004689332 | 0.030204962 | 0.02810651 | 0.14285714 | 0.026392962 | 0.09826590 | 0.058666667 |\n",
       "| chr1 | 901375 | 901926 | PLEKHN1   | 0.024253731 | 0.05357143 | 0.02334630 | 0.01470588 | 0.01798561 | 0.00000000 | ⋯ | 0.10212766 | 0.04149378 | 0.01369863 | 0.000000000 | 0.015873016 | 0.07216495 | 0.07185629 | 0.021526419 | 0.00000000 | 0.029490617 |\n",
       "| chr1 | 948345 | 948896 | ISG15     | 0.000000000 | 0.00000000 | 0.00000000 | 0.02083333 | 0.00000000 | 0.00000000 | ⋯ | 0.00000000 | 0.02439024 | 0.00000000 | 0.009523810 | 0.010309278 | 0.00000000 | 0.00000000 | 0.000000000 | 0.00000000 | 0.000000000 |\n",
       "\n"
      ],
      "text/plain": [
       "  chrom start  end    name      MB_0006     MB_0028    MB_0030    MB_0035   \n",
       "1 chr1  762469 763020 LINC01128 0.000000000 0.00000000 0.00000000 0.00000000\n",
       "2 chr1  762676 763227 LINC01128 0.021929825 0.03018109 0.07858546 0.00000000\n",
       "3 chr1  860619 861170 SAMD11    0.001870324 0.01188300 0.01046622 0.15767196\n",
       "4 chr1  895465 896016 KLHL17    0.014367816 0.04901961 0.04769737 0.03629032\n",
       "5 chr1  901375 901926 PLEKHN1   0.024253731 0.05357143 0.02334630 0.01470588\n",
       "6 chr1  948345 948896 ISG15     0.000000000 0.00000000 0.00000000 0.02083333\n",
       "  MB_0040    MB_0046    ⋯ MB_7281    MB_7283    MB_7285    MB_7288    \n",
       "1 0.00000000 0.00000000 ⋯ 0.00000000 0.01829268         NA 0.000000000\n",
       "2 0.01627486 0.21922626 ⋯ 0.02374169 0.17092338 0.01785714 0.000000000\n",
       "3 0.01549464 0.05299539 ⋯ 0.01910480 0.00802139 0.02392344 0.002307692\n",
       "4 0.03182580 0.06606607 ⋯ 0.03778802 0.04700855 0.11333333 0.004689332\n",
       "5 0.01798561 0.00000000 ⋯ 0.10212766 0.04149378 0.01369863 0.000000000\n",
       "6 0.00000000 0.00000000 ⋯ 0.00000000 0.02439024 0.00000000 0.009523810\n",
       "  MB_7289     MB_7291    MB_7292    MB_7293     MB_7296    MB_7298    \n",
       "1 0.000000000 0.00000000 0.00000000 0.006849315         NA 0.000000000\n",
       "2 0.066974596 0.00000000 0.11016949 0.042925278 0.01030928 0.062780269\n",
       "3 0.002057613 0.01895375 0.02185792 0.000000000 0.00000000 0.006283229\n",
       "4 0.030204962 0.02810651 0.14285714 0.026392962 0.09826590 0.058666667\n",
       "5 0.015873016 0.07216495 0.07185629 0.021526419 0.00000000 0.029490617\n",
       "6 0.010309278 0.00000000 0.00000000 0.000000000 0.00000000 0.000000000"
      ]
     },
     "metadata": {},
     "output_type": "display_data"
    }
   ],
   "source": [
    "prom_meth <- read_csv(\"data/promoter_avg_meth_filt.csv\")\n",
    "prom_meth <- prom_meth %>% select(-name3.chr)\n",
    "dim(prom_meth)\n",
    "head(prom_meth)"
   ]
  },
  {
   "cell_type": "code",
   "execution_count": 94,
   "id": "48844ccd",
   "metadata": {
    "vscode": {
     "languageId": "r"
    }
   },
   "outputs": [
    {
     "name": "stderr",
     "output_type": "stream",
     "text": [
      "Warning message:\n",
      "“\u001b[1m\u001b[22mThere were 13552 warnings in `summarise()`.\n",
      "The first warning was:\n",
      "\u001b[1m\u001b[22m\u001b[36mℹ\u001b[39m In argument: `across(everything(), mean, na.rm = TRUE)`.\n",
      "\u001b[36mℹ\u001b[39m In group 1: `name = \"A2M-AS1\"`.\n",
      "Caused by warning in `mean.default()`:\n",
      "\u001b[33m!\u001b[39m argument is not numeric or logical: returning NA\n",
      "\u001b[1m\u001b[22m\u001b[36mℹ\u001b[39m Run `dplyr::last_dplyr_warnings()` to see the 13551 remaining warnings.”\n"
     ]
    },
    {
     "name": "stdout",
     "output_type": "stream",
     "text": [
      "Cluster size 13552 broken into 11797 1755 \n",
      "Cluster size 11797 broken into 1793 10004 \n",
      "Cluster size 1793 broken into 754 1039 \n",
      "Done cluster 754 \n",
      "Done cluster 1039 \n",
      "Done cluster 1793 \n",
      "Cluster size 10004 broken into 1513 8491 \n",
      "Cluster size 1513 broken into 537 976 \n",
      "Done cluster 537 \n",
      "Done cluster 976 \n",
      "Done cluster 1513 \n",
      "Cluster size 8491 broken into 7111 1380 \n",
      "Cluster size 7111 broken into 272 6839 \n",
      "Done cluster 272 \n",
      "Cluster size 6839 broken into 5123 1716 \n",
      "Cluster size 5123 broken into 5064 59 \n",
      "Cluster size 5064 broken into 5060 4 \n",
      "Cluster size 5060 broken into 5056 4 \n",
      "Cluster size 5056 broken into 1 5055 \n",
      "Done cluster 1 \n",
      "Cluster size 5055 broken into 17 5038 \n",
      "Done cluster 17 \n",
      "Cluster size 5038 broken into 2673 2365 \n",
      "Cluster size 2673 broken into 1060 1613 \n",
      "Done cluster 1060 \n",
      "Cluster size 1613 broken into 2 1611 \n",
      "Done cluster 2 \n",
      "Cluster size 1611 broken into 1 1610 \n",
      "Done cluster 1 \n",
      "Cluster size 1610 broken into 1609 1 \n",
      "Cluster size 1609 broken into 1608 1 \n",
      "Cluster size 1608 broken into 9 1599 \n",
      "Done cluster 9 \n",
      "Cluster size 1599 broken into 2 1597 \n",
      "Done cluster 2 \n",
      "Cluster size 1597 broken into 1341 256 \n",
      "Done cluster 1341 \n",
      "Done cluster 256 \n",
      "Done cluster 1597 \n",
      "Done cluster 1599 \n",
      "Done cluster 1608 \n",
      "Done cluster 1 \n",
      "Done cluster 1609 \n",
      "Done cluster 1 \n",
      "Done cluster 1610 \n",
      "Done cluster 1611 \n",
      "Done cluster 1613 \n",
      "Done cluster 2673 \n",
      "Cluster size 2365 broken into 5 2360 \n",
      "Done cluster 5 \n",
      "Cluster size 2360 broken into 2359 1 \n",
      "Cluster size 2359 broken into 1347 1012 \n",
      "Done cluster 1347 \n",
      "Done cluster 1012 \n",
      "Done cluster 2359 \n",
      "Done cluster 1 \n",
      "Done cluster 2360 \n",
      "Done cluster 2365 \n",
      "Done cluster 5038 \n",
      "Done cluster 5055 \n",
      "Done cluster 5056 \n",
      "Done cluster 4 \n",
      "Done cluster 5060 \n",
      "Done cluster 4 \n",
      "Done cluster 5064 \n",
      "Done cluster 59 \n",
      "Done cluster 5123 \n",
      "Cluster size 1716 broken into 168 1548 \n",
      "Done cluster 168 \n",
      "Cluster size 1548 broken into 44 1504 \n",
      "Done cluster 44 \n",
      "Cluster size 1504 broken into 1502 2 \n",
      "Cluster size 1502 broken into 112 1390 \n",
      "Done cluster 112 \n",
      "Done cluster 1390 \n",
      "Done cluster 1502 \n",
      "Done cluster 2 \n",
      "Done cluster 1504 \n",
      "Done cluster 1548 \n",
      "Done cluster 1716 \n",
      "Done cluster 6839 \n",
      "Done cluster 7111 \n",
      "Done cluster 1380 \n",
      "Done cluster 8491 \n",
      "Done cluster 10004 \n",
      "Done cluster 11797 \n",
      "Cluster size 1755 broken into 952 803 \n",
      "Done cluster 952 \n",
      "Done cluster 803 \n",
      "Done cluster 1755 \n"
     ]
    }
   ],
   "source": [
    "# Averaging out methylation values for each gene to keep on value for each gene\n",
    "prom_meth_clean <- prom_meth %>%\n",
    "  select(-start, -end) %>%\n",
    "  group_by(name) %>%\n",
    "  summarise(across(everything(), mean, na.rm = TRUE)) %>%\n",
    "  ungroup()\n",
    "\n",
    "meth_matrix <- prom_meth_clean %>%\n",
    "  column_to_rownames(\"name\") %>%\n",
    "  as.matrix()\n",
    "\n",
    "# Remove samples with >80% missing values\n",
    "meth_matrix_filtered <- meth_matrix[, colMeans(is.na(meth_matrix)) <= 0.8]\n",
    "\n",
    "# Now run imputation\n",
    "imputed <- impute.knn(meth_matrix_filtered, k = 5)\n"
   ]
  },
  {
   "cell_type": "code",
   "execution_count": 95,
   "id": "12bc79d8",
   "metadata": {
    "vscode": {
     "languageId": "r"
    }
   },
   "outputs": [
    {
     "data": {
      "text/html": [
       "<table class=\"dataframe\">\n",
       "<caption>A data.frame: 6 × 1783</caption>\n",
       "<thead>\n",
       "\t<tr><th></th><th scope=col>name</th><th scope=col>MB_0006</th><th scope=col>MB_0028</th><th scope=col>MB_0030</th><th scope=col>MB_0035</th><th scope=col>MB_0040</th><th scope=col>MB_0046</th><th scope=col>MB_0050</th><th scope=col>MB_0053</th><th scope=col>MB_0054</th><th scope=col>⋯</th><th scope=col>MB_7281</th><th scope=col>MB_7283</th><th scope=col>MB_7285</th><th scope=col>MB_7288</th><th scope=col>MB_7289</th><th scope=col>MB_7291</th><th scope=col>MB_7292</th><th scope=col>MB_7293</th><th scope=col>MB_7296</th><th scope=col>MB_7298</th></tr>\n",
       "\t<tr><th></th><th scope=col>&lt;chr&gt;</th><th scope=col>&lt;dbl&gt;</th><th scope=col>&lt;dbl&gt;</th><th scope=col>&lt;dbl&gt;</th><th scope=col>&lt;dbl&gt;</th><th scope=col>&lt;dbl&gt;</th><th scope=col>&lt;dbl&gt;</th><th scope=col>&lt;dbl&gt;</th><th scope=col>&lt;dbl&gt;</th><th scope=col>&lt;dbl&gt;</th><th scope=col>⋯</th><th scope=col>&lt;dbl&gt;</th><th scope=col>&lt;dbl&gt;</th><th scope=col>&lt;dbl&gt;</th><th scope=col>&lt;dbl&gt;</th><th scope=col>&lt;dbl&gt;</th><th scope=col>&lt;dbl&gt;</th><th scope=col>&lt;dbl&gt;</th><th scope=col>&lt;dbl&gt;</th><th scope=col>&lt;dbl&gt;</th><th scope=col>&lt;dbl&gt;</th></tr>\n",
       "</thead>\n",
       "<tbody>\n",
       "\t<tr><th scope=row>1</th><td>A2M-AS1    </td><td>0.04503106</td><td>0.06653226</td><td>0.058189655</td><td>0.01548673</td><td>0.05649718</td><td>0.1024390</td><td>0.001904762</td><td>0.03910615</td><td>0.08031088</td><td>⋯</td><td>0.10837438</td><td>0.001915709</td><td>0.004672897</td><td>0.004048583</td><td>0.00000000</td><td>0.177111717</td><td>0.015463918</td><td>0.09090909</td><td>0.10000000</td><td>0.06956522</td></tr>\n",
       "\t<tr><th scope=row>2</th><td>A4GALT     </td><td>0.01758242</td><td>0.03809524</td><td>0.015197568</td><td>0.03333333</td><td>0.02208202</td><td>0.0000000</td><td>0.009803922</td><td>0.23631124</td><td>0.02346041</td><td>⋯</td><td>0.02639296</td><td>0.202150538</td><td>0.061224490</td><td>0.000000000</td><td>0.06274510</td><td>0.039772727</td><td>0.007751938</td><td>0.01162791</td><td>0.00000000</td><td>0.01463415</td></tr>\n",
       "\t<tr><th scope=row>3</th><td>AAAS       </td><td>0.00000000</td><td>0.00000000</td><td>0.004347826</td><td>0.00000000</td><td>0.00000000</td><td>0.0000000</td><td>0.000000000</td><td>0.00000000</td><td>0.00000000</td><td>⋯</td><td>0.00000000</td><td>0.013043478</td><td>0.000000000</td><td>0.000000000</td><td>0.01181102</td><td>0.003401361</td><td>0.000000000</td><td>0.01415094</td><td>0.00000000</td><td>0.00000000</td></tr>\n",
       "\t<tr><th scope=row>4</th><td>AACS       </td><td>0.00000000</td><td>0.01980198</td><td>0.030000000</td><td>0.00000000</td><td>0.00000000</td><td>0.0000000</td><td>0.000000000</td><td>0.00000000</td><td>0.03296703</td><td>⋯</td><td>0.00000000</td><td>0.026315789</td><td>0.010908763</td><td>0.000000000</td><td>0.00000000</td><td>0.007194245</td><td>0.000000000</td><td>0.00000000</td><td>0.00000000</td><td>0.00000000</td></tr>\n",
       "\t<tr><th scope=row>5</th><td>AADACL2-AS1</td><td>0.87037037</td><td>0.95876289</td><td>0.976744186</td><td>0.98739496</td><td>0.87155963</td><td>0.9655172</td><td>0.969230769</td><td>0.76335878</td><td>0.97931034</td><td>⋯</td><td>0.92241379</td><td>0.962264151</td><td>0.935483871</td><td>0.812500000</td><td>0.93916350</td><td>0.921348315</td><td>0.934030881</td><td>0.93750000</td><td>1.00000000</td><td>0.81318681</td></tr>\n",
       "\t<tr><th scope=row>6</th><td>AADAT      </td><td>0.04423454</td><td>0.10129164</td><td>0.145657339</td><td>0.25582886</td><td>0.07697122</td><td>0.1254959</td><td>0.063224415</td><td>0.29063399</td><td>0.11874137</td><td>⋯</td><td>0.17214703</td><td>0.791520791</td><td>0.123962052</td><td>0.104915636</td><td>0.09474926</td><td>0.101307895</td><td>0.070596629</td><td>0.24767405</td><td>0.07254412</td><td>0.11727368</td></tr>\n",
       "</tbody>\n",
       "</table>\n"
      ],
      "text/latex": [
       "A data.frame: 6 × 1783\n",
       "\\begin{tabular}{r|lllllllllllllllllllll}\n",
       "  & name & MB\\_0006 & MB\\_0028 & MB\\_0030 & MB\\_0035 & MB\\_0040 & MB\\_0046 & MB\\_0050 & MB\\_0053 & MB\\_0054 & ⋯ & MB\\_7281 & MB\\_7283 & MB\\_7285 & MB\\_7288 & MB\\_7289 & MB\\_7291 & MB\\_7292 & MB\\_7293 & MB\\_7296 & MB\\_7298\\\\\n",
       "  & <chr> & <dbl> & <dbl> & <dbl> & <dbl> & <dbl> & <dbl> & <dbl> & <dbl> & <dbl> & ⋯ & <dbl> & <dbl> & <dbl> & <dbl> & <dbl> & <dbl> & <dbl> & <dbl> & <dbl> & <dbl>\\\\\n",
       "\\hline\n",
       "\t1 & A2M-AS1     & 0.04503106 & 0.06653226 & 0.058189655 & 0.01548673 & 0.05649718 & 0.1024390 & 0.001904762 & 0.03910615 & 0.08031088 & ⋯ & 0.10837438 & 0.001915709 & 0.004672897 & 0.004048583 & 0.00000000 & 0.177111717 & 0.015463918 & 0.09090909 & 0.10000000 & 0.06956522\\\\\n",
       "\t2 & A4GALT      & 0.01758242 & 0.03809524 & 0.015197568 & 0.03333333 & 0.02208202 & 0.0000000 & 0.009803922 & 0.23631124 & 0.02346041 & ⋯ & 0.02639296 & 0.202150538 & 0.061224490 & 0.000000000 & 0.06274510 & 0.039772727 & 0.007751938 & 0.01162791 & 0.00000000 & 0.01463415\\\\\n",
       "\t3 & AAAS        & 0.00000000 & 0.00000000 & 0.004347826 & 0.00000000 & 0.00000000 & 0.0000000 & 0.000000000 & 0.00000000 & 0.00000000 & ⋯ & 0.00000000 & 0.013043478 & 0.000000000 & 0.000000000 & 0.01181102 & 0.003401361 & 0.000000000 & 0.01415094 & 0.00000000 & 0.00000000\\\\\n",
       "\t4 & AACS        & 0.00000000 & 0.01980198 & 0.030000000 & 0.00000000 & 0.00000000 & 0.0000000 & 0.000000000 & 0.00000000 & 0.03296703 & ⋯ & 0.00000000 & 0.026315789 & 0.010908763 & 0.000000000 & 0.00000000 & 0.007194245 & 0.000000000 & 0.00000000 & 0.00000000 & 0.00000000\\\\\n",
       "\t5 & AADACL2-AS1 & 0.87037037 & 0.95876289 & 0.976744186 & 0.98739496 & 0.87155963 & 0.9655172 & 0.969230769 & 0.76335878 & 0.97931034 & ⋯ & 0.92241379 & 0.962264151 & 0.935483871 & 0.812500000 & 0.93916350 & 0.921348315 & 0.934030881 & 0.93750000 & 1.00000000 & 0.81318681\\\\\n",
       "\t6 & AADAT       & 0.04423454 & 0.10129164 & 0.145657339 & 0.25582886 & 0.07697122 & 0.1254959 & 0.063224415 & 0.29063399 & 0.11874137 & ⋯ & 0.17214703 & 0.791520791 & 0.123962052 & 0.104915636 & 0.09474926 & 0.101307895 & 0.070596629 & 0.24767405 & 0.07254412 & 0.11727368\\\\\n",
       "\\end{tabular}\n"
      ],
      "text/markdown": [
       "\n",
       "A data.frame: 6 × 1783\n",
       "\n",
       "| <!--/--> | name &lt;chr&gt; | MB_0006 &lt;dbl&gt; | MB_0028 &lt;dbl&gt; | MB_0030 &lt;dbl&gt; | MB_0035 &lt;dbl&gt; | MB_0040 &lt;dbl&gt; | MB_0046 &lt;dbl&gt; | MB_0050 &lt;dbl&gt; | MB_0053 &lt;dbl&gt; | MB_0054 &lt;dbl&gt; | ⋯ ⋯ | MB_7281 &lt;dbl&gt; | MB_7283 &lt;dbl&gt; | MB_7285 &lt;dbl&gt; | MB_7288 &lt;dbl&gt; | MB_7289 &lt;dbl&gt; | MB_7291 &lt;dbl&gt; | MB_7292 &lt;dbl&gt; | MB_7293 &lt;dbl&gt; | MB_7296 &lt;dbl&gt; | MB_7298 &lt;dbl&gt; |\n",
       "|---|---|---|---|---|---|---|---|---|---|---|---|---|---|---|---|---|---|---|---|---|---|\n",
       "| 1 | A2M-AS1     | 0.04503106 | 0.06653226 | 0.058189655 | 0.01548673 | 0.05649718 | 0.1024390 | 0.001904762 | 0.03910615 | 0.08031088 | ⋯ | 0.10837438 | 0.001915709 | 0.004672897 | 0.004048583 | 0.00000000 | 0.177111717 | 0.015463918 | 0.09090909 | 0.10000000 | 0.06956522 |\n",
       "| 2 | A4GALT      | 0.01758242 | 0.03809524 | 0.015197568 | 0.03333333 | 0.02208202 | 0.0000000 | 0.009803922 | 0.23631124 | 0.02346041 | ⋯ | 0.02639296 | 0.202150538 | 0.061224490 | 0.000000000 | 0.06274510 | 0.039772727 | 0.007751938 | 0.01162791 | 0.00000000 | 0.01463415 |\n",
       "| 3 | AAAS        | 0.00000000 | 0.00000000 | 0.004347826 | 0.00000000 | 0.00000000 | 0.0000000 | 0.000000000 | 0.00000000 | 0.00000000 | ⋯ | 0.00000000 | 0.013043478 | 0.000000000 | 0.000000000 | 0.01181102 | 0.003401361 | 0.000000000 | 0.01415094 | 0.00000000 | 0.00000000 |\n",
       "| 4 | AACS        | 0.00000000 | 0.01980198 | 0.030000000 | 0.00000000 | 0.00000000 | 0.0000000 | 0.000000000 | 0.00000000 | 0.03296703 | ⋯ | 0.00000000 | 0.026315789 | 0.010908763 | 0.000000000 | 0.00000000 | 0.007194245 | 0.000000000 | 0.00000000 | 0.00000000 | 0.00000000 |\n",
       "| 5 | AADACL2-AS1 | 0.87037037 | 0.95876289 | 0.976744186 | 0.98739496 | 0.87155963 | 0.9655172 | 0.969230769 | 0.76335878 | 0.97931034 | ⋯ | 0.92241379 | 0.962264151 | 0.935483871 | 0.812500000 | 0.93916350 | 0.921348315 | 0.934030881 | 0.93750000 | 1.00000000 | 0.81318681 |\n",
       "| 6 | AADAT       | 0.04423454 | 0.10129164 | 0.145657339 | 0.25582886 | 0.07697122 | 0.1254959 | 0.063224415 | 0.29063399 | 0.11874137 | ⋯ | 0.17214703 | 0.791520791 | 0.123962052 | 0.104915636 | 0.09474926 | 0.101307895 | 0.070596629 | 0.24767405 | 0.07254412 | 0.11727368 |\n",
       "\n"
      ],
      "text/plain": [
       "  name        MB_0006    MB_0028    MB_0030     MB_0035    MB_0040    MB_0046  \n",
       "1 A2M-AS1     0.04503106 0.06653226 0.058189655 0.01548673 0.05649718 0.1024390\n",
       "2 A4GALT      0.01758242 0.03809524 0.015197568 0.03333333 0.02208202 0.0000000\n",
       "3 AAAS        0.00000000 0.00000000 0.004347826 0.00000000 0.00000000 0.0000000\n",
       "4 AACS        0.00000000 0.01980198 0.030000000 0.00000000 0.00000000 0.0000000\n",
       "5 AADACL2-AS1 0.87037037 0.95876289 0.976744186 0.98739496 0.87155963 0.9655172\n",
       "6 AADAT       0.04423454 0.10129164 0.145657339 0.25582886 0.07697122 0.1254959\n",
       "  MB_0050     MB_0053    MB_0054    ⋯ MB_7281    MB_7283     MB_7285    \n",
       "1 0.001904762 0.03910615 0.08031088 ⋯ 0.10837438 0.001915709 0.004672897\n",
       "2 0.009803922 0.23631124 0.02346041 ⋯ 0.02639296 0.202150538 0.061224490\n",
       "3 0.000000000 0.00000000 0.00000000 ⋯ 0.00000000 0.013043478 0.000000000\n",
       "4 0.000000000 0.00000000 0.03296703 ⋯ 0.00000000 0.026315789 0.010908763\n",
       "5 0.969230769 0.76335878 0.97931034 ⋯ 0.92241379 0.962264151 0.935483871\n",
       "6 0.063224415 0.29063399 0.11874137 ⋯ 0.17214703 0.791520791 0.123962052\n",
       "  MB_7288     MB_7289    MB_7291     MB_7292     MB_7293    MB_7296   \n",
       "1 0.004048583 0.00000000 0.177111717 0.015463918 0.09090909 0.10000000\n",
       "2 0.000000000 0.06274510 0.039772727 0.007751938 0.01162791 0.00000000\n",
       "3 0.000000000 0.01181102 0.003401361 0.000000000 0.01415094 0.00000000\n",
       "4 0.000000000 0.00000000 0.007194245 0.000000000 0.00000000 0.00000000\n",
       "5 0.812500000 0.93916350 0.921348315 0.934030881 0.93750000 1.00000000\n",
       "6 0.104915636 0.09474926 0.101307895 0.070596629 0.24767405 0.07254412\n",
       "  MB_7298   \n",
       "1 0.06956522\n",
       "2 0.01463415\n",
       "3 0.00000000\n",
       "4 0.00000000\n",
       "5 0.81318681\n",
       "6 0.11727368"
      ]
     },
     "metadata": {},
     "output_type": "display_data"
    },
    {
     "data": {
      "text/html": [
       "<style>\n",
       ".list-inline {list-style: none; margin:0; padding: 0}\n",
       ".list-inline>li {display: inline-block}\n",
       ".list-inline>li:not(:last-child)::after {content: \"\\00b7\"; padding: 0 .5ex}\n",
       "</style>\n",
       "<ol class=list-inline><li>13552</li><li>1783</li></ol>\n"
      ],
      "text/latex": [
       "\\begin{enumerate*}\n",
       "\\item 13552\n",
       "\\item 1783\n",
       "\\end{enumerate*}\n"
      ],
      "text/markdown": [
       "1. 13552\n",
       "2. 1783\n",
       "\n",
       "\n"
      ],
      "text/plain": [
       "[1] 13552  1783"
      ]
     },
     "metadata": {},
     "output_type": "display_data"
    }
   ],
   "source": [
    "imputed_df <- as.data.frame(imputed$data) %>%\n",
    "   rownames_to_column(\"name\")\n",
    "   \n",
    "head(imputed_df)\n",
    "dim(imputed_df)\n",
    "write_csv(imputed_df, \"./analysis/dataset/results/imputed_methylation_data.csv\")"
   ]
  },
  {
   "cell_type": "code",
   "execution_count": 100,
   "id": "56086420",
   "metadata": {
    "vscode": {
     "languageId": "r"
    }
   },
   "outputs": [
    {
     "data": {
      "text/html": [
       "<table class=\"dataframe\">\n",
       "<caption>A tibble: 6 × 4</caption>\n",
       "<thead>\n",
       "\t<tr><th scope=col>Sample_ID</th><th scope=col>Beta_Methylation</th><th scope=col>Gene</th><th scope=col>Group</th></tr>\n",
       "\t<tr><th scope=col>&lt;chr&gt;</th><th scope=col>&lt;dbl&gt;</th><th scope=col>&lt;chr&gt;</th><th scope=col>&lt;chr&gt;</th></tr>\n",
       "</thead>\n",
       "<tbody>\n",
       "\t<tr><td>MB_0006</td><td>0.04503106</td><td>A2M-AS1</td><td>Tumor</td></tr>\n",
       "\t<tr><td>MB_0028</td><td>0.06653226</td><td>A2M-AS1</td><td>Tumor</td></tr>\n",
       "\t<tr><td>MB_0030</td><td>0.05818966</td><td>A2M-AS1</td><td>Tumor</td></tr>\n",
       "\t<tr><td>MB_0035</td><td>0.01548673</td><td>A2M-AS1</td><td>Tumor</td></tr>\n",
       "\t<tr><td>MB_0040</td><td>0.05649718</td><td>A2M-AS1</td><td>Tumor</td></tr>\n",
       "\t<tr><td>MB_0046</td><td>0.10243902</td><td>A2M-AS1</td><td>Tumor</td></tr>\n",
       "</tbody>\n",
       "</table>\n"
      ],
      "text/latex": [
       "A tibble: 6 × 4\n",
       "\\begin{tabular}{llll}\n",
       " Sample\\_ID & Beta\\_Methylation & Gene & Group\\\\\n",
       " <chr> & <dbl> & <chr> & <chr>\\\\\n",
       "\\hline\n",
       "\t MB\\_0006 & 0.04503106 & A2M-AS1 & Tumor\\\\\n",
       "\t MB\\_0028 & 0.06653226 & A2M-AS1 & Tumor\\\\\n",
       "\t MB\\_0030 & 0.05818966 & A2M-AS1 & Tumor\\\\\n",
       "\t MB\\_0035 & 0.01548673 & A2M-AS1 & Tumor\\\\\n",
       "\t MB\\_0040 & 0.05649718 & A2M-AS1 & Tumor\\\\\n",
       "\t MB\\_0046 & 0.10243902 & A2M-AS1 & Tumor\\\\\n",
       "\\end{tabular}\n"
      ],
      "text/markdown": [
       "\n",
       "A tibble: 6 × 4\n",
       "\n",
       "| Sample_ID &lt;chr&gt; | Beta_Methylation &lt;dbl&gt; | Gene &lt;chr&gt; | Group &lt;chr&gt; |\n",
       "|---|---|---|---|\n",
       "| MB_0006 | 0.04503106 | A2M-AS1 | Tumor |\n",
       "| MB_0028 | 0.06653226 | A2M-AS1 | Tumor |\n",
       "| MB_0030 | 0.05818966 | A2M-AS1 | Tumor |\n",
       "| MB_0035 | 0.01548673 | A2M-AS1 | Tumor |\n",
       "| MB_0040 | 0.05649718 | A2M-AS1 | Tumor |\n",
       "| MB_0046 | 0.10243902 | A2M-AS1 | Tumor |\n",
       "\n"
      ],
      "text/plain": [
       "  Sample_ID Beta_Methylation Gene    Group\n",
       "1 MB_0006   0.04503106       A2M-AS1 Tumor\n",
       "2 MB_0028   0.06653226       A2M-AS1 Tumor\n",
       "3 MB_0030   0.05818966       A2M-AS1 Tumor\n",
       "4 MB_0035   0.01548673       A2M-AS1 Tumor\n",
       "5 MB_0040   0.05649718       A2M-AS1 Tumor\n",
       "6 MB_0046   0.10243902       A2M-AS1 Tumor"
      ]
     },
     "metadata": {},
     "output_type": "display_data"
    }
   ],
   "source": [
    "meth_long_labeled <- imputed_df %>%\n",
    "  pivot_longer(\n",
    "    cols = -name,  # all sample columns except 'name' (gene)\n",
    "    names_to = \"Sample_ID\",\n",
    "    values_to = \"Beta_Methylation\"\n",
    "  ) %>%\n",
    "  mutate(Gene = name) %>%  # just copy 'name' to 'Gene'\n",
    "  select(-name) %>%\n",
    "  mutate(Group = case_when(\n",
    "    Sample_ID %in% tumor_samples ~ \"Tumor\",\n",
    "    Sample_ID %in% normal_samples ~ \"Normal\",\n",
    "    TRUE ~ NA_character_\n",
    "  )) %>%\n",
    "  filter(!is.na(Group))\n",
    "head(meth_long_labeled)"
   ]
  },
  {
   "cell_type": "code",
   "execution_count": 103,
   "id": "0790a7d9",
   "metadata": {
    "vscode": {
     "languageId": "r"
    }
   },
   "outputs": [],
   "source": [
    "# Compute mean beta per gene per group\n",
    "beta_avg <- meth_long_labeled %>%\n",
    "  group_by(Gene, Group) %>%\n",
    "  summarise(mean_beta = mean(Beta_Methylation), .groups = \"drop\")\n",
    "\n",
    "# Pivot to wide to get tumor and normal side-by-side\n",
    "delta_beta_df <- beta_avg %>%\n",
    "  pivot_wider(names_from = Group, values_from = mean_beta, names_prefix = \"mean_beta_\") %>%\n",
    "  mutate(delta_beta = mean_beta_Tumor - mean_beta_Normal)\n",
    "\n",
    "# Filter for DMRs\n",
    "dmr_genes <- delta_beta_df %>%\n",
    "  filter(abs(delta_beta) > 0.2) %>%\n",
    "  arrange(desc(abs(delta_beta)))"
   ]
  },
  {
   "cell_type": "code",
   "execution_count": 106,
   "id": "b4a60f37",
   "metadata": {
    "vscode": {
     "languageId": "r"
    }
   },
   "outputs": [
    {
     "data": {
      "text/html": [
       "<table class=\"dataframe\">\n",
       "<caption>A tibble: 6 × 4</caption>\n",
       "<thead>\n",
       "\t<tr><th scope=col>Sample_ID</th><th scope=col>Beta_Methylation</th><th scope=col>Gene</th><th scope=col>Group</th></tr>\n",
       "\t<tr><th scope=col>&lt;chr&gt;</th><th scope=col>&lt;dbl&gt;</th><th scope=col>&lt;chr&gt;</th><th scope=col>&lt;chr&gt;</th></tr>\n",
       "</thead>\n",
       "<tbody>\n",
       "\t<tr><td>MB_0006</td><td>0.04503106</td><td>A2M-AS1</td><td>Tumor</td></tr>\n",
       "\t<tr><td>MB_0028</td><td>0.06653226</td><td>A2M-AS1</td><td>Tumor</td></tr>\n",
       "\t<tr><td>MB_0030</td><td>0.05818966</td><td>A2M-AS1</td><td>Tumor</td></tr>\n",
       "\t<tr><td>MB_0035</td><td>0.01548673</td><td>A2M-AS1</td><td>Tumor</td></tr>\n",
       "\t<tr><td>MB_0040</td><td>0.05649718</td><td>A2M-AS1</td><td>Tumor</td></tr>\n",
       "\t<tr><td>MB_0046</td><td>0.10243902</td><td>A2M-AS1</td><td>Tumor</td></tr>\n",
       "</tbody>\n",
       "</table>\n"
      ],
      "text/latex": [
       "A tibble: 6 × 4\n",
       "\\begin{tabular}{llll}\n",
       " Sample\\_ID & Beta\\_Methylation & Gene & Group\\\\\n",
       " <chr> & <dbl> & <chr> & <chr>\\\\\n",
       "\\hline\n",
       "\t MB\\_0006 & 0.04503106 & A2M-AS1 & Tumor\\\\\n",
       "\t MB\\_0028 & 0.06653226 & A2M-AS1 & Tumor\\\\\n",
       "\t MB\\_0030 & 0.05818966 & A2M-AS1 & Tumor\\\\\n",
       "\t MB\\_0035 & 0.01548673 & A2M-AS1 & Tumor\\\\\n",
       "\t MB\\_0040 & 0.05649718 & A2M-AS1 & Tumor\\\\\n",
       "\t MB\\_0046 & 0.10243902 & A2M-AS1 & Tumor\\\\\n",
       "\\end{tabular}\n"
      ],
      "text/markdown": [
       "\n",
       "A tibble: 6 × 4\n",
       "\n",
       "| Sample_ID &lt;chr&gt; | Beta_Methylation &lt;dbl&gt; | Gene &lt;chr&gt; | Group &lt;chr&gt; |\n",
       "|---|---|---|---|\n",
       "| MB_0006 | 0.04503106 | A2M-AS1 | Tumor |\n",
       "| MB_0028 | 0.06653226 | A2M-AS1 | Tumor |\n",
       "| MB_0030 | 0.05818966 | A2M-AS1 | Tumor |\n",
       "| MB_0035 | 0.01548673 | A2M-AS1 | Tumor |\n",
       "| MB_0040 | 0.05649718 | A2M-AS1 | Tumor |\n",
       "| MB_0046 | 0.10243902 | A2M-AS1 | Tumor |\n",
       "\n"
      ],
      "text/plain": [
       "  Sample_ID Beta_Methylation Gene    Group\n",
       "1 MB_0006   0.04503106       A2M-AS1 Tumor\n",
       "2 MB_0028   0.06653226       A2M-AS1 Tumor\n",
       "3 MB_0030   0.05818966       A2M-AS1 Tumor\n",
       "4 MB_0035   0.01548673       A2M-AS1 Tumor\n",
       "5 MB_0040   0.05649718       A2M-AS1 Tumor\n",
       "6 MB_0046   0.10243902       A2M-AS1 Tumor"
      ]
     },
     "metadata": {},
     "output_type": "display_data"
    },
    {
     "data": {
      "text/html": [
       "<table class=\"dataframe\">\n",
       "<caption>A tibble: 6 × 4</caption>\n",
       "<thead>\n",
       "\t<tr><th scope=col>Gene</th><th scope=col>mean_beta_Normal</th><th scope=col>mean_beta_Tumor</th><th scope=col>delta_beta</th></tr>\n",
       "\t<tr><th scope=col>&lt;chr&gt;</th><th scope=col>&lt;dbl&gt;</th><th scope=col>&lt;dbl&gt;</th><th scope=col>&lt;dbl&gt;</th></tr>\n",
       "</thead>\n",
       "<tbody>\n",
       "\t<tr><td>A2M-AS1    </td><td>0.047311498</td><td>0.085542723</td><td> 0.0382312251</td></tr>\n",
       "\t<tr><td>A4GALT     </td><td>0.021547509</td><td>0.029933318</td><td> 0.0083858098</td></tr>\n",
       "\t<tr><td>AAAS       </td><td>0.002568996</td><td>0.003100639</td><td> 0.0005316430</td></tr>\n",
       "\t<tr><td>AACS       </td><td>0.009723214</td><td>0.010184859</td><td> 0.0004616454</td></tr>\n",
       "\t<tr><td>AADACL2-AS1</td><td>0.945279710</td><td>0.913754975</td><td>-0.0315247358</td></tr>\n",
       "\t<tr><td>AADAT      </td><td>0.080670454</td><td>0.144276451</td><td> 0.0636059969</td></tr>\n",
       "</tbody>\n",
       "</table>\n"
      ],
      "text/latex": [
       "A tibble: 6 × 4\n",
       "\\begin{tabular}{llll}\n",
       " Gene & mean\\_beta\\_Normal & mean\\_beta\\_Tumor & delta\\_beta\\\\\n",
       " <chr> & <dbl> & <dbl> & <dbl>\\\\\n",
       "\\hline\n",
       "\t A2M-AS1     & 0.047311498 & 0.085542723 &  0.0382312251\\\\\n",
       "\t A4GALT      & 0.021547509 & 0.029933318 &  0.0083858098\\\\\n",
       "\t AAAS        & 0.002568996 & 0.003100639 &  0.0005316430\\\\\n",
       "\t AACS        & 0.009723214 & 0.010184859 &  0.0004616454\\\\\n",
       "\t AADACL2-AS1 & 0.945279710 & 0.913754975 & -0.0315247358\\\\\n",
       "\t AADAT       & 0.080670454 & 0.144276451 &  0.0636059969\\\\\n",
       "\\end{tabular}\n"
      ],
      "text/markdown": [
       "\n",
       "A tibble: 6 × 4\n",
       "\n",
       "| Gene &lt;chr&gt; | mean_beta_Normal &lt;dbl&gt; | mean_beta_Tumor &lt;dbl&gt; | delta_beta &lt;dbl&gt; |\n",
       "|---|---|---|---|\n",
       "| A2M-AS1     | 0.047311498 | 0.085542723 |  0.0382312251 |\n",
       "| A4GALT      | 0.021547509 | 0.029933318 |  0.0083858098 |\n",
       "| AAAS        | 0.002568996 | 0.003100639 |  0.0005316430 |\n",
       "| AACS        | 0.009723214 | 0.010184859 |  0.0004616454 |\n",
       "| AADACL2-AS1 | 0.945279710 | 0.913754975 | -0.0315247358 |\n",
       "| AADAT       | 0.080670454 | 0.144276451 |  0.0636059969 |\n",
       "\n"
      ],
      "text/plain": [
       "  Gene        mean_beta_Normal mean_beta_Tumor delta_beta   \n",
       "1 A2M-AS1     0.047311498      0.085542723      0.0382312251\n",
       "2 A4GALT      0.021547509      0.029933318      0.0083858098\n",
       "3 AAAS        0.002568996      0.003100639      0.0005316430\n",
       "4 AACS        0.009723214      0.010184859      0.0004616454\n",
       "5 AADACL2-AS1 0.945279710      0.913754975     -0.0315247358\n",
       "6 AADAT       0.080670454      0.144276451      0.0636059969"
      ]
     },
     "metadata": {},
     "output_type": "display_data"
    },
    {
     "data": {
      "text/html": [
       "<style>\n",
       ".list-inline {list-style: none; margin:0; padding: 0}\n",
       ".list-inline>li {display: inline-block}\n",
       ".list-inline>li:not(:last-child)::after {content: \"\\00b7\"; padding: 0 .5ex}\n",
       "</style>\n",
       "<ol class=list-inline><li>13552</li><li>4</li></ol>\n"
      ],
      "text/latex": [
       "\\begin{enumerate*}\n",
       "\\item 13552\n",
       "\\item 4\n",
       "\\end{enumerate*}\n"
      ],
      "text/markdown": [
       "1. 13552\n",
       "2. 4\n",
       "\n",
       "\n"
      ],
      "text/plain": [
       "[1] 13552     4"
      ]
     },
     "metadata": {},
     "output_type": "display_data"
    },
    {
     "data": {
      "text/html": [
       "<table class=\"dataframe\">\n",
       "<caption>A tibble: 6 × 4</caption>\n",
       "<thead>\n",
       "\t<tr><th scope=col>Gene</th><th scope=col>mean_beta_Normal</th><th scope=col>mean_beta_Tumor</th><th scope=col>delta_beta</th></tr>\n",
       "\t<tr><th scope=col>&lt;chr&gt;</th><th scope=col>&lt;dbl&gt;</th><th scope=col>&lt;dbl&gt;</th><th scope=col>&lt;dbl&gt;</th></tr>\n",
       "</thead>\n",
       "<tbody>\n",
       "\t<tr><td>RGS22       </td><td>0.12071097</td><td>0.5635271</td><td>0.4428162</td></tr>\n",
       "\t<tr><td>CCDC181     </td><td>0.06355955</td><td>0.4608988</td><td>0.3973392</td></tr>\n",
       "\t<tr><td>RARRES2     </td><td>0.25614017</td><td>0.6509755</td><td>0.3948353</td></tr>\n",
       "\t<tr><td>PFN3        </td><td>0.27926288</td><td>0.6632078</td><td>0.3839450</td></tr>\n",
       "\t<tr><td>FAM193A     </td><td>0.33508421</td><td>0.7167874</td><td>0.3817032</td></tr>\n",
       "\t<tr><td>LOC101929415</td><td>0.08099144</td><td>0.4569550</td><td>0.3759636</td></tr>\n",
       "</tbody>\n",
       "</table>\n"
      ],
      "text/latex": [
       "A tibble: 6 × 4\n",
       "\\begin{tabular}{llll}\n",
       " Gene & mean\\_beta\\_Normal & mean\\_beta\\_Tumor & delta\\_beta\\\\\n",
       " <chr> & <dbl> & <dbl> & <dbl>\\\\\n",
       "\\hline\n",
       "\t RGS22        & 0.12071097 & 0.5635271 & 0.4428162\\\\\n",
       "\t CCDC181      & 0.06355955 & 0.4608988 & 0.3973392\\\\\n",
       "\t RARRES2      & 0.25614017 & 0.6509755 & 0.3948353\\\\\n",
       "\t PFN3         & 0.27926288 & 0.6632078 & 0.3839450\\\\\n",
       "\t FAM193A      & 0.33508421 & 0.7167874 & 0.3817032\\\\\n",
       "\t LOC101929415 & 0.08099144 & 0.4569550 & 0.3759636\\\\\n",
       "\\end{tabular}\n"
      ],
      "text/markdown": [
       "\n",
       "A tibble: 6 × 4\n",
       "\n",
       "| Gene &lt;chr&gt; | mean_beta_Normal &lt;dbl&gt; | mean_beta_Tumor &lt;dbl&gt; | delta_beta &lt;dbl&gt; |\n",
       "|---|---|---|---|\n",
       "| RGS22        | 0.12071097 | 0.5635271 | 0.4428162 |\n",
       "| CCDC181      | 0.06355955 | 0.4608988 | 0.3973392 |\n",
       "| RARRES2      | 0.25614017 | 0.6509755 | 0.3948353 |\n",
       "| PFN3         | 0.27926288 | 0.6632078 | 0.3839450 |\n",
       "| FAM193A      | 0.33508421 | 0.7167874 | 0.3817032 |\n",
       "| LOC101929415 | 0.08099144 | 0.4569550 | 0.3759636 |\n",
       "\n"
      ],
      "text/plain": [
       "  Gene         mean_beta_Normal mean_beta_Tumor delta_beta\n",
       "1 RGS22        0.12071097       0.5635271       0.4428162 \n",
       "2 CCDC181      0.06355955       0.4608988       0.3973392 \n",
       "3 RARRES2      0.25614017       0.6509755       0.3948353 \n",
       "4 PFN3         0.27926288       0.6632078       0.3839450 \n",
       "5 FAM193A      0.33508421       0.7167874       0.3817032 \n",
       "6 LOC101929415 0.08099144       0.4569550       0.3759636 "
      ]
     },
     "metadata": {},
     "output_type": "display_data"
    },
    {
     "data": {
      "text/html": [
       "<style>\n",
       ".list-inline {list-style: none; margin:0; padding: 0}\n",
       ".list-inline>li {display: inline-block}\n",
       ".list-inline>li:not(:last-child)::after {content: \"\\00b7\"; padding: 0 .5ex}\n",
       "</style>\n",
       "<ol class=list-inline><li>389</li><li>4</li></ol>\n"
      ],
      "text/latex": [
       "\\begin{enumerate*}\n",
       "\\item 389\n",
       "\\item 4\n",
       "\\end{enumerate*}\n"
      ],
      "text/markdown": [
       "1. 389\n",
       "2. 4\n",
       "\n",
       "\n"
      ],
      "text/plain": [
       "[1] 389   4"
      ]
     },
     "metadata": {},
     "output_type": "display_data"
    }
   ],
   "source": [
    "head(meth_long_labeled)\n",
    "head(delta_beta_df)\n",
    "dim(delta_beta_df)\n",
    "head(dmr_genes)\n",
    "dim(dmr_genes)\n",
    "write_csv(dmr_genes, \"results/DMGs_deltabeta.csv\")"
   ]
  },
  {
   "cell_type": "markdown",
   "id": "0e384f8e",
   "metadata": {},
   "source": [
    "Limma test "
   ]
  },
  {
   "cell_type": "code",
   "execution_count": 109,
   "id": "171905c9",
   "metadata": {
    "vscode": {
     "languageId": "r"
    }
   },
   "outputs": [
    {
     "data": {
      "text/plain": [
       "group\n",
       "Normal  Tumor \n",
       "   244   1538 "
      ]
     },
     "metadata": {},
     "output_type": "display_data"
    },
    {
     "data": {
      "text/html": [
       "<style>\n",
       ".list-inline {list-style: none; margin:0; padding: 0}\n",
       ".list-inline>li {display: inline-block}\n",
       ".list-inline>li:not(:last-child)::after {content: \"\\00b7\"; padding: 0 .5ex}\n",
       "</style>\n",
       "<ol class=list-inline><li>'(Intercept)'</li><li>'groupTumor'</li></ol>\n"
      ],
      "text/latex": [
       "\\begin{enumerate*}\n",
       "\\item '(Intercept)'\n",
       "\\item 'groupTumor'\n",
       "\\end{enumerate*}\n"
      ],
      "text/markdown": [
       "1. '(Intercept)'\n",
       "2. 'groupTumor'\n",
       "\n",
       "\n"
      ],
      "text/plain": [
       "[1] \"(Intercept)\" \"groupTumor\" "
      ]
     },
     "metadata": {},
     "output_type": "display_data"
    },
    {
     "data": {
      "text/html": [
       "<table class=\"dataframe\">\n",
       "<caption>A data.frame: 6 × 7</caption>\n",
       "<thead>\n",
       "\t<tr><th></th><th scope=col>name</th><th scope=col>logFC</th><th scope=col>AveExpr</th><th scope=col>t</th><th scope=col>P.Value</th><th scope=col>adj.P.Val</th><th scope=col>B</th></tr>\n",
       "\t<tr><th></th><th scope=col>&lt;chr&gt;</th><th scope=col>&lt;dbl&gt;</th><th scope=col>&lt;dbl&gt;</th><th scope=col>&lt;dbl&gt;</th><th scope=col>&lt;dbl&gt;</th><th scope=col>&lt;dbl&gt;</th><th scope=col>&lt;dbl&gt;</th></tr>\n",
       "</thead>\n",
       "<tbody>\n",
       "\t<tr><th scope=row>1</th><td>CLDN15 </td><td> 0.3464979</td><td>0.7032807</td><td> 38.62804</td><td>1.236462e-237</td><td>1.675654e-233</td><td>532.8939</td></tr>\n",
       "\t<tr><th scope=row>2</th><td>DNHD1  </td><td> 0.3242689</td><td>0.7421438</td><td> 35.00313</td><td>1.029206e-204</td><td>4.649267e-201</td><td>457.1170</td></tr>\n",
       "\t<tr><th scope=row>3</th><td>FAM193A</td><td> 0.3817032</td><td>0.6645227</td><td> 33.86437</td><td>1.752624e-194</td><td>5.937889e-191</td><td>433.5688</td></tr>\n",
       "\t<tr><th scope=row>4</th><td>PTK6   </td><td>-0.2238605</td><td>0.1832359</td><td>-32.05179</td><td>2.351646e-178</td><td>5.311583e-175</td><td>396.4519</td></tr>\n",
       "\t<tr><th scope=row>5</th><td>RGS22  </td><td> 0.4428162</td><td>0.5028946</td><td> 31.19260</td><td>8.615077e-171</td><td>1.667879e-167</td><td>379.0453</td></tr>\n",
       "\t<tr><th scope=row>6</th><td>FXYD1  </td><td> 0.2995720</td><td>0.6001037</td><td> 30.72824</td><td>9.964368e-167</td><td>1.687964e-163</td><td>369.6952</td></tr>\n",
       "</tbody>\n",
       "</table>\n"
      ],
      "text/latex": [
       "A data.frame: 6 × 7\n",
       "\\begin{tabular}{r|lllllll}\n",
       "  & name & logFC & AveExpr & t & P.Value & adj.P.Val & B\\\\\n",
       "  & <chr> & <dbl> & <dbl> & <dbl> & <dbl> & <dbl> & <dbl>\\\\\n",
       "\\hline\n",
       "\t1 & CLDN15  &  0.3464979 & 0.7032807 &  38.62804 & 1.236462e-237 & 1.675654e-233 & 532.8939\\\\\n",
       "\t2 & DNHD1   &  0.3242689 & 0.7421438 &  35.00313 & 1.029206e-204 & 4.649267e-201 & 457.1170\\\\\n",
       "\t3 & FAM193A &  0.3817032 & 0.6645227 &  33.86437 & 1.752624e-194 & 5.937889e-191 & 433.5688\\\\\n",
       "\t4 & PTK6    & -0.2238605 & 0.1832359 & -32.05179 & 2.351646e-178 & 5.311583e-175 & 396.4519\\\\\n",
       "\t5 & RGS22   &  0.4428162 & 0.5028946 &  31.19260 & 8.615077e-171 & 1.667879e-167 & 379.0453\\\\\n",
       "\t6 & FXYD1   &  0.2995720 & 0.6001037 &  30.72824 & 9.964368e-167 & 1.687964e-163 & 369.6952\\\\\n",
       "\\end{tabular}\n"
      ],
      "text/markdown": [
       "\n",
       "A data.frame: 6 × 7\n",
       "\n",
       "| <!--/--> | name &lt;chr&gt; | logFC &lt;dbl&gt; | AveExpr &lt;dbl&gt; | t &lt;dbl&gt; | P.Value &lt;dbl&gt; | adj.P.Val &lt;dbl&gt; | B &lt;dbl&gt; |\n",
       "|---|---|---|---|---|---|---|---|\n",
       "| 1 | CLDN15  |  0.3464979 | 0.7032807 |  38.62804 | 1.236462e-237 | 1.675654e-233 | 532.8939 |\n",
       "| 2 | DNHD1   |  0.3242689 | 0.7421438 |  35.00313 | 1.029206e-204 | 4.649267e-201 | 457.1170 |\n",
       "| 3 | FAM193A |  0.3817032 | 0.6645227 |  33.86437 | 1.752624e-194 | 5.937889e-191 | 433.5688 |\n",
       "| 4 | PTK6    | -0.2238605 | 0.1832359 | -32.05179 | 2.351646e-178 | 5.311583e-175 | 396.4519 |\n",
       "| 5 | RGS22   |  0.4428162 | 0.5028946 |  31.19260 | 8.615077e-171 | 1.667879e-167 | 379.0453 |\n",
       "| 6 | FXYD1   |  0.2995720 | 0.6001037 |  30.72824 | 9.964368e-167 | 1.687964e-163 | 369.6952 |\n",
       "\n"
      ],
      "text/plain": [
       "  name    logFC      AveExpr   t         P.Value       adj.P.Val     B       \n",
       "1 CLDN15   0.3464979 0.7032807  38.62804 1.236462e-237 1.675654e-233 532.8939\n",
       "2 DNHD1    0.3242689 0.7421438  35.00313 1.029206e-204 4.649267e-201 457.1170\n",
       "3 FAM193A  0.3817032 0.6645227  33.86437 1.752624e-194 5.937889e-191 433.5688\n",
       "4 PTK6    -0.2238605 0.1832359 -32.05179 2.351646e-178 5.311583e-175 396.4519\n",
       "5 RGS22    0.4428162 0.5028946  31.19260 8.615077e-171 1.667879e-167 379.0453\n",
       "6 FXYD1    0.2995720 0.6001037  30.72824 9.964368e-167 1.687964e-163 369.6952"
      ]
     },
     "metadata": {},
     "output_type": "display_data"
    },
    {
     "data": {
      "text/html": [
       "<style>\n",
       ".list-inline {list-style: none; margin:0; padding: 0}\n",
       ".list-inline>li {display: inline-block}\n",
       ".list-inline>li:not(:last-child)::after {content: \"\\00b7\"; padding: 0 .5ex}\n",
       "</style>\n",
       "<ol class=list-inline><li>389</li><li>7</li></ol>\n"
      ],
      "text/latex": [
       "\\begin{enumerate*}\n",
       "\\item 389\n",
       "\\item 7\n",
       "\\end{enumerate*}\n"
      ],
      "text/markdown": [
       "1. 389\n",
       "2. 7\n",
       "\n",
       "\n"
      ],
      "text/plain": [
       "[1] 389   7"
      ]
     },
     "metadata": {},
     "output_type": "display_data"
    }
   ],
   "source": [
    "# Matrix from your imputation step\n",
    "meth_matrix <- imputed$data  # rows: genes, cols: samples\n",
    "\n",
    "# Sample labels\n",
    "group <- rep(NA, ncol(meth_matrix))\n",
    "group[colnames(meth_matrix) %in% tumor_samples] <- \"Tumor\"\n",
    "group[colnames(meth_matrix) %in% normal_samples] <- \"Normal\"\n",
    "group <- factor(group)\n",
    "\n",
    "# Check\n",
    "table(group)\n",
    "\n",
    "design <- model.matrix(~ group)\n",
    "colnames(design)  # should show: (Intercept), groupTumor\n",
    "\n",
    "\n",
    "fit <- lmFit(meth_matrix, design)  # Fit linear model\n",
    "fit <- eBayes(fit)  # Empirical Bayes moderation\n",
    "topTable <- topTable(fit, coef = \"groupTumor\", adjust = \"fdr\", number = Inf)\n",
    "\n",
    "# View top DMRs\n",
    "topTable <- topTable %>%\n",
    "  rownames_to_column(\"name\")\n",
    "\n",
    "dmrs_limma <- topTable %>%\n",
    "  filter(abs(logFC) > 0.2, adj.P.Val < 0.05)  # adjust thresholds as needed\n",
    "\n",
    "head(dmrs_limma)\n",
    "dim(dmrs_limma)\n",
    "write_csv(dmrs_limma, \"results/DMGs_limma.csv\")"
   ]
  },
  {
   "cell_type": "code",
   "execution_count": 111,
   "id": "37bfbeee",
   "metadata": {
    "vscode": {
     "languageId": "r"
    }
   },
   "outputs": [
    {
     "data": {
      "text/html": [
       "<table class=\"dataframe\">\n",
       "<caption>A data.frame: 6 × 7</caption>\n",
       "<thead>\n",
       "\t<tr><th></th><th scope=col>name</th><th scope=col>logFC</th><th scope=col>AveExpr</th><th scope=col>t</th><th scope=col>P.Value</th><th scope=col>adj.P.Val</th><th scope=col>B</th></tr>\n",
       "\t<tr><th></th><th scope=col>&lt;chr&gt;</th><th scope=col>&lt;dbl&gt;</th><th scope=col>&lt;dbl&gt;</th><th scope=col>&lt;dbl&gt;</th><th scope=col>&lt;dbl&gt;</th><th scope=col>&lt;dbl&gt;</th><th scope=col>&lt;dbl&gt;</th></tr>\n",
       "</thead>\n",
       "<tbody>\n",
       "\t<tr><th scope=row>1</th><td>RGS22       </td><td>0.4428162</td><td>0.5028946</td><td>31.19260</td><td>8.615077e-171</td><td>1.667879e-167</td><td>379.0453</td></tr>\n",
       "\t<tr><th scope=row>2</th><td>CCDC181     </td><td>0.3973392</td><td>0.4064932</td><td>24.94708</td><td>4.652591e-118</td><td>8.757210e-116</td><td>257.7263</td></tr>\n",
       "\t<tr><th scope=row>3</th><td>RARRES2     </td><td>0.3948353</td><td>0.5969127</td><td>29.89684</td><td>1.682290e-159</td><td>1.899866e-156</td><td>353.0643</td></tr>\n",
       "\t<tr><th scope=row>4</th><td>PFN3        </td><td>0.3839450</td><td>0.6106363</td><td>28.13784</td><td>1.959710e-144</td><td>1.021461e-141</td><td>318.3989</td></tr>\n",
       "\t<tr><th scope=row>5</th><td>FAM193A     </td><td>0.3817032</td><td>0.6645227</td><td>33.86437</td><td>1.752624e-194</td><td>5.937889e-191</td><td>433.5688</td></tr>\n",
       "\t<tr><th scope=row>6</th><td>LOC101929415</td><td>0.3759636</td><td>0.4054763</td><td>27.96367</td><td>5.829293e-143</td><td>2.821378e-140</td><td>315.0090</td></tr>\n",
       "</tbody>\n",
       "</table>\n"
      ],
      "text/latex": [
       "A data.frame: 6 × 7\n",
       "\\begin{tabular}{r|lllllll}\n",
       "  & name & logFC & AveExpr & t & P.Value & adj.P.Val & B\\\\\n",
       "  & <chr> & <dbl> & <dbl> & <dbl> & <dbl> & <dbl> & <dbl>\\\\\n",
       "\\hline\n",
       "\t1 & RGS22        & 0.4428162 & 0.5028946 & 31.19260 & 8.615077e-171 & 1.667879e-167 & 379.0453\\\\\n",
       "\t2 & CCDC181      & 0.3973392 & 0.4064932 & 24.94708 & 4.652591e-118 & 8.757210e-116 & 257.7263\\\\\n",
       "\t3 & RARRES2      & 0.3948353 & 0.5969127 & 29.89684 & 1.682290e-159 & 1.899866e-156 & 353.0643\\\\\n",
       "\t4 & PFN3         & 0.3839450 & 0.6106363 & 28.13784 & 1.959710e-144 & 1.021461e-141 & 318.3989\\\\\n",
       "\t5 & FAM193A      & 0.3817032 & 0.6645227 & 33.86437 & 1.752624e-194 & 5.937889e-191 & 433.5688\\\\\n",
       "\t6 & LOC101929415 & 0.3759636 & 0.4054763 & 27.96367 & 5.829293e-143 & 2.821378e-140 & 315.0090\\\\\n",
       "\\end{tabular}\n"
      ],
      "text/markdown": [
       "\n",
       "A data.frame: 6 × 7\n",
       "\n",
       "| <!--/--> | name &lt;chr&gt; | logFC &lt;dbl&gt; | AveExpr &lt;dbl&gt; | t &lt;dbl&gt; | P.Value &lt;dbl&gt; | adj.P.Val &lt;dbl&gt; | B &lt;dbl&gt; |\n",
       "|---|---|---|---|---|---|---|---|\n",
       "| 1 | RGS22        | 0.4428162 | 0.5028946 | 31.19260 | 8.615077e-171 | 1.667879e-167 | 379.0453 |\n",
       "| 2 | CCDC181      | 0.3973392 | 0.4064932 | 24.94708 | 4.652591e-118 | 8.757210e-116 | 257.7263 |\n",
       "| 3 | RARRES2      | 0.3948353 | 0.5969127 | 29.89684 | 1.682290e-159 | 1.899866e-156 | 353.0643 |\n",
       "| 4 | PFN3         | 0.3839450 | 0.6106363 | 28.13784 | 1.959710e-144 | 1.021461e-141 | 318.3989 |\n",
       "| 5 | FAM193A      | 0.3817032 | 0.6645227 | 33.86437 | 1.752624e-194 | 5.937889e-191 | 433.5688 |\n",
       "| 6 | LOC101929415 | 0.3759636 | 0.4054763 | 27.96367 | 5.829293e-143 | 2.821378e-140 | 315.0090 |\n",
       "\n"
      ],
      "text/plain": [
       "  name         logFC     AveExpr   t        P.Value       adj.P.Val    \n",
       "1 RGS22        0.4428162 0.5028946 31.19260 8.615077e-171 1.667879e-167\n",
       "2 CCDC181      0.3973392 0.4064932 24.94708 4.652591e-118 8.757210e-116\n",
       "3 RARRES2      0.3948353 0.5969127 29.89684 1.682290e-159 1.899866e-156\n",
       "4 PFN3         0.3839450 0.6106363 28.13784 1.959710e-144 1.021461e-141\n",
       "5 FAM193A      0.3817032 0.6645227 33.86437 1.752624e-194 5.937889e-191\n",
       "6 LOC101929415 0.3759636 0.4054763 27.96367 5.829293e-143 2.821378e-140\n",
       "  B       \n",
       "1 379.0453\n",
       "2 257.7263\n",
       "3 353.0643\n",
       "4 318.3989\n",
       "5 433.5688\n",
       "6 315.0090"
      ]
     },
     "metadata": {},
     "output_type": "display_data"
    },
    {
     "data": {
      "text/html": [
       "<table class=\"dataframe\">\n",
       "<caption>A tibble: 6 × 4</caption>\n",
       "<thead>\n",
       "\t<tr><th scope=col>Gene</th><th scope=col>mean_beta_Normal</th><th scope=col>mean_beta_Tumor</th><th scope=col>delta_beta</th></tr>\n",
       "\t<tr><th scope=col>&lt;chr&gt;</th><th scope=col>&lt;dbl&gt;</th><th scope=col>&lt;dbl&gt;</th><th scope=col>&lt;dbl&gt;</th></tr>\n",
       "</thead>\n",
       "<tbody>\n",
       "\t<tr><td>RGS22       </td><td>0.12071097</td><td>0.5635271</td><td>0.4428162</td></tr>\n",
       "\t<tr><td>CCDC181     </td><td>0.06355955</td><td>0.4608988</td><td>0.3973392</td></tr>\n",
       "\t<tr><td>RARRES2     </td><td>0.25614017</td><td>0.6509755</td><td>0.3948353</td></tr>\n",
       "\t<tr><td>PFN3        </td><td>0.27926288</td><td>0.6632078</td><td>0.3839450</td></tr>\n",
       "\t<tr><td>FAM193A     </td><td>0.33508421</td><td>0.7167874</td><td>0.3817032</td></tr>\n",
       "\t<tr><td>LOC101929415</td><td>0.08099144</td><td>0.4569550</td><td>0.3759636</td></tr>\n",
       "</tbody>\n",
       "</table>\n"
      ],
      "text/latex": [
       "A tibble: 6 × 4\n",
       "\\begin{tabular}{llll}\n",
       " Gene & mean\\_beta\\_Normal & mean\\_beta\\_Tumor & delta\\_beta\\\\\n",
       " <chr> & <dbl> & <dbl> & <dbl>\\\\\n",
       "\\hline\n",
       "\t RGS22        & 0.12071097 & 0.5635271 & 0.4428162\\\\\n",
       "\t CCDC181      & 0.06355955 & 0.4608988 & 0.3973392\\\\\n",
       "\t RARRES2      & 0.25614017 & 0.6509755 & 0.3948353\\\\\n",
       "\t PFN3         & 0.27926288 & 0.6632078 & 0.3839450\\\\\n",
       "\t FAM193A      & 0.33508421 & 0.7167874 & 0.3817032\\\\\n",
       "\t LOC101929415 & 0.08099144 & 0.4569550 & 0.3759636\\\\\n",
       "\\end{tabular}\n"
      ],
      "text/markdown": [
       "\n",
       "A tibble: 6 × 4\n",
       "\n",
       "| Gene &lt;chr&gt; | mean_beta_Normal &lt;dbl&gt; | mean_beta_Tumor &lt;dbl&gt; | delta_beta &lt;dbl&gt; |\n",
       "|---|---|---|---|\n",
       "| RGS22        | 0.12071097 | 0.5635271 | 0.4428162 |\n",
       "| CCDC181      | 0.06355955 | 0.4608988 | 0.3973392 |\n",
       "| RARRES2      | 0.25614017 | 0.6509755 | 0.3948353 |\n",
       "| PFN3         | 0.27926288 | 0.6632078 | 0.3839450 |\n",
       "| FAM193A      | 0.33508421 | 0.7167874 | 0.3817032 |\n",
       "| LOC101929415 | 0.08099144 | 0.4569550 | 0.3759636 |\n",
       "\n"
      ],
      "text/plain": [
       "  Gene         mean_beta_Normal mean_beta_Tumor delta_beta\n",
       "1 RGS22        0.12071097       0.5635271       0.4428162 \n",
       "2 CCDC181      0.06355955       0.4608988       0.3973392 \n",
       "3 RARRES2      0.25614017       0.6509755       0.3948353 \n",
       "4 PFN3         0.27926288       0.6632078       0.3839450 \n",
       "5 FAM193A      0.33508421       0.7167874       0.3817032 \n",
       "6 LOC101929415 0.08099144       0.4569550       0.3759636 "
      ]
     },
     "metadata": {},
     "output_type": "display_data"
    },
    {
     "data": {
      "text/html": [
       "<style>\n",
       ".list-inline {list-style: none; margin:0; padding: 0}\n",
       ".list-inline>li {display: inline-block}\n",
       ".list-inline>li:not(:last-child)::after {content: \"\\00b7\"; padding: 0 .5ex}\n",
       "</style>\n",
       "<ol class=list-inline><li>389</li><li>7</li></ol>\n"
      ],
      "text/latex": [
       "\\begin{enumerate*}\n",
       "\\item 389\n",
       "\\item 7\n",
       "\\end{enumerate*}\n"
      ],
      "text/markdown": [
       "1. 389\n",
       "2. 7\n",
       "\n",
       "\n"
      ],
      "text/plain": [
       "[1] 389   7"
      ]
     },
     "metadata": {},
     "output_type": "display_data"
    },
    {
     "data": {
      "text/html": [
       "<style>\n",
       ".list-inline {list-style: none; margin:0; padding: 0}\n",
       ".list-inline>li {display: inline-block}\n",
       ".list-inline>li:not(:last-child)::after {content: \"\\00b7\"; padding: 0 .5ex}\n",
       "</style>\n",
       "<ol class=list-inline><li>389</li><li>4</li></ol>\n"
      ],
      "text/latex": [
       "\\begin{enumerate*}\n",
       "\\item 389\n",
       "\\item 4\n",
       "\\end{enumerate*}\n"
      ],
      "text/markdown": [
       "1. 389\n",
       "2. 4\n",
       "\n",
       "\n"
      ],
      "text/plain": [
       "[1] 389   4"
      ]
     },
     "metadata": {},
     "output_type": "display_data"
    }
   ],
   "source": [
    "# Sort dmr_limma by absolute logFC (descending)\n",
    "dmr_limma_sorted <- dmrs_limma %>% arrange(desc(abs(logFC)))\n",
    "head(dmr_limma_sorted)\n",
    "\n",
    "# Sort dmr_gene by absolute delta_beta (descending)\n",
    "dmr_gene_sorted <- dmr_genes %>% arrange(desc(abs(delta_beta)))\n",
    "head(dmr_gene_sorted)\n",
    "\n",
    "dim(dmr_limma_sorted)\n",
    "dim(dmr_gene_sorted)"
   ]
  },
  {
   "cell_type": "markdown",
   "id": "db84438b",
   "metadata": {},
   "source": [
    "LogFC values and delta beta values are same, how ?\n",
    "\n",
    "We are fitting a linear model directly on the beta values. In such cases, the fitted logFC ≈ mean(Tumor) - mean(Normal)."
   ]
  },
  {
   "cell_type": "code",
   "execution_count": 143,
   "id": "953c6b8d",
   "metadata": {
    "vscode": {
     "languageId": "r"
    }
   },
   "outputs": [
    {
     "data": {
      "text/html": [
       "<style>\n",
       ".list-inline {list-style: none; margin:0; padding: 0}\n",
       ".list-inline>li {display: inline-block}\n",
       ".list-inline>li:not(:last-child)::after {content: \"\\00b7\"; padding: 0 .5ex}\n",
       "</style>\n",
       "<ol class=list-inline><li>'name'</li><li>'logFC'</li><li>'AveExpr'</li><li>'t'</li><li>'P.Value'</li><li>'adj.P.Val'</li><li>'B'</li></ol>\n"
      ],
      "text/latex": [
       "\\begin{enumerate*}\n",
       "\\item 'name'\n",
       "\\item 'logFC'\n",
       "\\item 'AveExpr'\n",
       "\\item 't'\n",
       "\\item 'P.Value'\n",
       "\\item 'adj.P.Val'\n",
       "\\item 'B'\n",
       "\\end{enumerate*}\n"
      ],
      "text/markdown": [
       "1. 'name'\n",
       "2. 'logFC'\n",
       "3. 'AveExpr'\n",
       "4. 't'\n",
       "5. 'P.Value'\n",
       "6. 'adj.P.Val'\n",
       "7. 'B'\n",
       "\n",
       "\n"
      ],
      "text/plain": [
       "[1] \"name\"      \"logFC\"     \"AveExpr\"   \"t\"         \"P.Value\"   \"adj.P.Val\"\n",
       "[7] \"B\"        "
      ]
     },
     "metadata": {},
     "output_type": "display_data"
    },
    {
     "data": {
      "text/html": [
       "<style>\n",
       ".list-inline {list-style: none; margin:0; padding: 0}\n",
       ".list-inline>li {display: inline-block}\n",
       ".list-inline>li:not(:last-child)::after {content: \"\\00b7\"; padding: 0 .5ex}\n",
       "</style>\n",
       "<ol class=list-inline><li>'Gene'</li><li>'logFC'</li><li>'AveExpr'</li><li>'t'</li><li>'P.Value'</li><li>'adj.P.Val'</li><li>'B'</li></ol>\n"
      ],
      "text/latex": [
       "\\begin{enumerate*}\n",
       "\\item 'Gene'\n",
       "\\item 'logFC'\n",
       "\\item 'AveExpr'\n",
       "\\item 't'\n",
       "\\item 'P.Value'\n",
       "\\item 'adj.P.Val'\n",
       "\\item 'B'\n",
       "\\end{enumerate*}\n"
      ],
      "text/markdown": [
       "1. 'Gene'\n",
       "2. 'logFC'\n",
       "3. 'AveExpr'\n",
       "4. 't'\n",
       "5. 'P.Value'\n",
       "6. 'adj.P.Val'\n",
       "7. 'B'\n",
       "\n",
       "\n"
      ],
      "text/plain": [
       "[1] \"Gene\"      \"logFC\"     \"AveExpr\"   \"t\"         \"P.Value\"   \"adj.P.Val\"\n",
       "[7] \"B\"        "
      ]
     },
     "metadata": {},
     "output_type": "display_data"
    }
   ],
   "source": [
    "names(dmrs_limma)\n",
    "colnames(dmrs_limma)[colnames(dmrs_limma) == \"name\"] <- \"Gene\"\n",
    "names(dmrs_limma)"
   ]
  },
  {
   "cell_type": "code",
   "execution_count": 148,
   "id": "c6f66be1",
   "metadata": {
    "vscode": {
     "languageId": "r"
    }
   },
   "outputs": [
    {
     "data": {
      "text/html": [
       "<table class=\"dataframe\">\n",
       "<caption>A data.frame: 6 × 8</caption>\n",
       "<thead>\n",
       "\t<tr><th></th><th scope=col>Gene</th><th scope=col>logFC</th><th scope=col>AveExpr</th><th scope=col>t</th><th scope=col>P.Value</th><th scope=col>adj.P.Val</th><th scope=col>B</th><th scope=col>delta_beta</th></tr>\n",
       "\t<tr><th></th><th scope=col>&lt;chr&gt;</th><th scope=col>&lt;dbl&gt;</th><th scope=col>&lt;dbl&gt;</th><th scope=col>&lt;dbl&gt;</th><th scope=col>&lt;dbl&gt;</th><th scope=col>&lt;dbl&gt;</th><th scope=col>&lt;dbl&gt;</th><th scope=col>&lt;dbl&gt;</th></tr>\n",
       "</thead>\n",
       "<tbody>\n",
       "\t<tr><th scope=row>1</th><td>CLDN15 </td><td> 0.3464979</td><td>0.7032807</td><td> 38.62804</td><td>1.236462e-237</td><td>1.675654e-233</td><td>532.8939</td><td> 0.3464979</td></tr>\n",
       "\t<tr><th scope=row>2</th><td>DNHD1  </td><td> 0.3242689</td><td>0.7421438</td><td> 35.00313</td><td>1.029206e-204</td><td>4.649267e-201</td><td>457.1170</td><td> 0.3242689</td></tr>\n",
       "\t<tr><th scope=row>3</th><td>FAM193A</td><td> 0.3817032</td><td>0.6645227</td><td> 33.86437</td><td>1.752624e-194</td><td>5.937889e-191</td><td>433.5688</td><td> 0.3817032</td></tr>\n",
       "\t<tr><th scope=row>4</th><td>PTK6   </td><td>-0.2238605</td><td>0.1832359</td><td>-32.05179</td><td>2.351646e-178</td><td>5.311583e-175</td><td>396.4519</td><td>-0.2238605</td></tr>\n",
       "\t<tr><th scope=row>5</th><td>RGS22  </td><td> 0.4428162</td><td>0.5028946</td><td> 31.19260</td><td>8.615077e-171</td><td>1.667879e-167</td><td>379.0453</td><td> 0.4428162</td></tr>\n",
       "\t<tr><th scope=row>6</th><td>FXYD1  </td><td> 0.2995720</td><td>0.6001037</td><td> 30.72824</td><td>9.964368e-167</td><td>1.687964e-163</td><td>369.6952</td><td> 0.2995720</td></tr>\n",
       "</tbody>\n",
       "</table>\n"
      ],
      "text/latex": [
       "A data.frame: 6 × 8\n",
       "\\begin{tabular}{r|llllllll}\n",
       "  & Gene & logFC & AveExpr & t & P.Value & adj.P.Val & B & delta\\_beta\\\\\n",
       "  & <chr> & <dbl> & <dbl> & <dbl> & <dbl> & <dbl> & <dbl> & <dbl>\\\\\n",
       "\\hline\n",
       "\t1 & CLDN15  &  0.3464979 & 0.7032807 &  38.62804 & 1.236462e-237 & 1.675654e-233 & 532.8939 &  0.3464979\\\\\n",
       "\t2 & DNHD1   &  0.3242689 & 0.7421438 &  35.00313 & 1.029206e-204 & 4.649267e-201 & 457.1170 &  0.3242689\\\\\n",
       "\t3 & FAM193A &  0.3817032 & 0.6645227 &  33.86437 & 1.752624e-194 & 5.937889e-191 & 433.5688 &  0.3817032\\\\\n",
       "\t4 & PTK6    & -0.2238605 & 0.1832359 & -32.05179 & 2.351646e-178 & 5.311583e-175 & 396.4519 & -0.2238605\\\\\n",
       "\t5 & RGS22   &  0.4428162 & 0.5028946 &  31.19260 & 8.615077e-171 & 1.667879e-167 & 379.0453 &  0.4428162\\\\\n",
       "\t6 & FXYD1   &  0.2995720 & 0.6001037 &  30.72824 & 9.964368e-167 & 1.687964e-163 & 369.6952 &  0.2995720\\\\\n",
       "\\end{tabular}\n"
      ],
      "text/markdown": [
       "\n",
       "A data.frame: 6 × 8\n",
       "\n",
       "| <!--/--> | Gene &lt;chr&gt; | logFC &lt;dbl&gt; | AveExpr &lt;dbl&gt; | t &lt;dbl&gt; | P.Value &lt;dbl&gt; | adj.P.Val &lt;dbl&gt; | B &lt;dbl&gt; | delta_beta &lt;dbl&gt; |\n",
       "|---|---|---|---|---|---|---|---|---|\n",
       "| 1 | CLDN15  |  0.3464979 | 0.7032807 |  38.62804 | 1.236462e-237 | 1.675654e-233 | 532.8939 |  0.3464979 |\n",
       "| 2 | DNHD1   |  0.3242689 | 0.7421438 |  35.00313 | 1.029206e-204 | 4.649267e-201 | 457.1170 |  0.3242689 |\n",
       "| 3 | FAM193A |  0.3817032 | 0.6645227 |  33.86437 | 1.752624e-194 | 5.937889e-191 | 433.5688 |  0.3817032 |\n",
       "| 4 | PTK6    | -0.2238605 | 0.1832359 | -32.05179 | 2.351646e-178 | 5.311583e-175 | 396.4519 | -0.2238605 |\n",
       "| 5 | RGS22   |  0.4428162 | 0.5028946 |  31.19260 | 8.615077e-171 | 1.667879e-167 | 379.0453 |  0.4428162 |\n",
       "| 6 | FXYD1   |  0.2995720 | 0.6001037 |  30.72824 | 9.964368e-167 | 1.687964e-163 | 369.6952 |  0.2995720 |\n",
       "\n"
      ],
      "text/plain": [
       "  Gene    logFC      AveExpr   t         P.Value       adj.P.Val     B       \n",
       "1 CLDN15   0.3464979 0.7032807  38.62804 1.236462e-237 1.675654e-233 532.8939\n",
       "2 DNHD1    0.3242689 0.7421438  35.00313 1.029206e-204 4.649267e-201 457.1170\n",
       "3 FAM193A  0.3817032 0.6645227  33.86437 1.752624e-194 5.937889e-191 433.5688\n",
       "4 PTK6    -0.2238605 0.1832359 -32.05179 2.351646e-178 5.311583e-175 396.4519\n",
       "5 RGS22    0.4428162 0.5028946  31.19260 8.615077e-171 1.667879e-167 379.0453\n",
       "6 FXYD1    0.2995720 0.6001037  30.72824 9.964368e-167 1.687964e-163 369.6952\n",
       "  delta_beta\n",
       "1  0.3464979\n",
       "2  0.3242689\n",
       "3  0.3817032\n",
       "4 -0.2238605\n",
       "5  0.4428162\n",
       "6  0.2995720"
      ]
     },
     "metadata": {},
     "output_type": "display_data"
    },
    {
     "data": {
      "text/html": [
       "<style>\n",
       ".list-inline {list-style: none; margin:0; padding: 0}\n",
       ".list-inline>li {display: inline-block}\n",
       ".list-inline>li:not(:last-child)::after {content: \"\\00b7\"; padding: 0 .5ex}\n",
       "</style>\n",
       "<ol class=list-inline><li>389</li><li>8</li></ol>\n"
      ],
      "text/latex": [
       "\\begin{enumerate*}\n",
       "\\item 389\n",
       "\\item 8\n",
       "\\end{enumerate*}\n"
      ],
      "text/markdown": [
       "1. 389\n",
       "2. 8\n",
       "\n",
       "\n"
      ],
      "text/plain": [
       "[1] 389   8"
      ]
     },
     "metadata": {},
     "output_type": "display_data"
    }
   ],
   "source": [
    "significant_dmrs <- inner_join(dmrs_limma, dmr_genes, by = \"Gene\") %>%\n",
    "  filter(abs(delta_beta) > 0.2, adj.P.Val < 0.05)\n",
    "significant_dmrs <- significant_dmrs %>%\n",
    "  select(-mean_beta_Normal, -mean_beta_Tumor)\n",
    "\n",
    "head(significant_dmrs)\n",
    "dim(significant_dmrs)\n",
    "write_csv(significant_dmrs, \"results/Significant_DMGs.csv\")"
   ]
  },
  {
   "cell_type": "markdown",
   "id": "3b835b75",
   "metadata": {},
   "source": [
    "### Expression data"
   ]
  },
  {
   "cell_type": "code",
   "execution_count": null,
   "id": "ba68d746",
   "metadata": {
    "vscode": {
     "languageId": "r"
    }
   },
   "outputs": [
    {
     "name": "stderr",
     "output_type": "stream",
     "text": [
      "\u001b[1mRows: \u001b[22m\u001b[34m26245\u001b[39m \u001b[1mColumns: \u001b[22m\u001b[34m2129\u001b[39m\n",
      "\u001b[36m──\u001b[39m \u001b[1mColumn specification\u001b[22m \u001b[36m────────────────────────────────────────────────────────\u001b[39m\n",
      "\u001b[1mDelimiter:\u001b[22m \",\"\n",
      "\u001b[31mchr\u001b[39m    (3): chrom, name, name3.chr\n",
      "\u001b[32mdbl\u001b[39m (2126): start, end, MB_0362, MB_0346, MB_0386, MB_0574, MB_0185, MB_0503...\n",
      "\n",
      "\u001b[36mℹ\u001b[39m Use `spec()` to retrieve the full column specification for this data.\n",
      "\u001b[36mℹ\u001b[39m Specify the column types or set `show_col_types = FALSE` to quiet this message.\n"
     ]
    },
    {
     "data": {
      "text/html": [
       "<table class=\"dataframe\">\n",
       "<caption>A tibble: 6 × 2129</caption>\n",
       "<thead>\n",
       "\t<tr><th scope=col>chrom</th><th scope=col>start</th><th scope=col>end</th><th scope=col>name</th><th scope=col>name3.chr</th><th scope=col>MB_0362</th><th scope=col>MB_0346</th><th scope=col>MB_0386</th><th scope=col>MB_0574</th><th scope=col>MB_0185</th><th scope=col>⋯</th><th scope=col>MB_1036</th><th scope=col>MB_1116</th><th scope=col>MB_1044</th><th scope=col>MB_1049</th><th scope=col>MB_1068</th><th scope=col>MB_0812</th><th scope=col>MB_1076</th><th scope=col>MB_0814</th><th scope=col>MB_1087</th><th scope=col>MB_0822</th></tr>\n",
       "\t<tr><th scope=col>&lt;chr&gt;</th><th scope=col>&lt;dbl&gt;</th><th scope=col>&lt;dbl&gt;</th><th scope=col>&lt;chr&gt;</th><th scope=col>&lt;chr&gt;</th><th scope=col>&lt;dbl&gt;</th><th scope=col>&lt;dbl&gt;</th><th scope=col>&lt;dbl&gt;</th><th scope=col>&lt;dbl&gt;</th><th scope=col>&lt;dbl&gt;</th><th scope=col>⋯</th><th scope=col>&lt;dbl&gt;</th><th scope=col>&lt;dbl&gt;</th><th scope=col>&lt;dbl&gt;</th><th scope=col>&lt;dbl&gt;</th><th scope=col>&lt;dbl&gt;</th><th scope=col>&lt;dbl&gt;</th><th scope=col>&lt;dbl&gt;</th><th scope=col>&lt;dbl&gt;</th><th scope=col>&lt;dbl&gt;</th><th scope=col>&lt;dbl&gt;</th></tr>\n",
       "</thead>\n",
       "<tbody>\n",
       "\t<tr><td>chr19</td><td>58864814</td><td>58865365</td><td>A1BG    </td><td>chr19.-.A1BG    </td><td>5.607785</td><td>5.515704</td><td>5.581684</td><td>5.602209</td><td>5.560794</td><td>⋯</td><td>5.225141</td><td>5.303794</td><td> 5.490734</td><td> 5.494082</td><td>5.269375</td><td>5.468187</td><td>5.566886</td><td>5.433821</td><td>5.320485</td><td> 5.502541</td></tr>\n",
       "\t<tr><td>chr19</td><td>58862834</td><td>58863385</td><td>A1BG-AS1</td><td>chr19.+.A1BG-AS1</td><td>      NA</td><td>      NA</td><td>      NA</td><td>      NA</td><td>      NA</td><td>⋯</td><td>      NA</td><td>      NA</td><td>       NA</td><td>       NA</td><td>      NA</td><td>      NA</td><td>      NA</td><td>      NA</td><td>      NA</td><td>       NA</td></tr>\n",
       "\t<tr><td>chr10</td><td>52645384</td><td>52645935</td><td>A1CF    </td><td>chr10.-.A1CF    </td><td>5.409415</td><td>5.652667</td><td>5.364459</td><td>5.378185</td><td>5.485144</td><td>⋯</td><td>5.428412</td><td>5.474348</td><td> 5.419358</td><td> 5.700195</td><td>5.478201</td><td>5.752783</td><td>5.673940</td><td>5.862117</td><td>5.424626</td><td> 5.791611</td></tr>\n",
       "\t<tr><td>chr12</td><td> 9268507</td><td> 9269058</td><td>A2M     </td><td>chr12.-.A2M     </td><td>7.653319</td><td>6.564312</td><td>8.201633</td><td>7.587296</td><td>8.427318</td><td>⋯</td><td>9.198370</td><td>9.042949</td><td>10.144846</td><td>10.143342</td><td>9.782934</td><td>8.360063</td><td>9.929925</td><td>9.927135</td><td>9.638372</td><td>10.153996</td></tr>\n",
       "\t<tr><td>chr12</td><td> 9217271</td><td> 9217822</td><td>A2M-AS1 </td><td>chr12.+.A2M-AS1 </td><td>      NA</td><td>      NA</td><td>      NA</td><td>      NA</td><td>      NA</td><td>⋯</td><td>      NA</td><td>      NA</td><td>       NA</td><td>       NA</td><td>      NA</td><td>      NA</td><td>      NA</td><td>      NA</td><td>      NA</td><td>       NA</td></tr>\n",
       "\t<tr><td>chr12</td><td> 8974648</td><td> 8975199</td><td>A2ML1   </td><td>chr12.+.A2ML1.1 </td><td>5.535317</td><td>5.938013</td><td>5.337279</td><td>5.221707</td><td>5.514548</td><td>⋯</td><td>5.366756</td><td>5.799424</td><td> 5.139738</td><td> 5.095827</td><td>5.545775</td><td>5.608514</td><td>5.503125</td><td>5.350733</td><td>5.267158</td><td> 5.455640</td></tr>\n",
       "</tbody>\n",
       "</table>\n"
      ],
      "text/latex": [
       "A tibble: 6 × 2129\n",
       "\\begin{tabular}{lllllllllllllllllllll}\n",
       " chrom & start & end & name & name3.chr & MB\\_0362 & MB\\_0346 & MB\\_0386 & MB\\_0574 & MB\\_0185 & ⋯ & MB\\_1036 & MB\\_1116 & MB\\_1044 & MB\\_1049 & MB\\_1068 & MB\\_0812 & MB\\_1076 & MB\\_0814 & MB\\_1087 & MB\\_0822\\\\\n",
       " <chr> & <dbl> & <dbl> & <chr> & <chr> & <dbl> & <dbl> & <dbl> & <dbl> & <dbl> & ⋯ & <dbl> & <dbl> & <dbl> & <dbl> & <dbl> & <dbl> & <dbl> & <dbl> & <dbl> & <dbl>\\\\\n",
       "\\hline\n",
       "\t chr19 & 58864814 & 58865365 & A1BG     & chr19.-.A1BG     & 5.607785 & 5.515704 & 5.581684 & 5.602209 & 5.560794 & ⋯ & 5.225141 & 5.303794 &  5.490734 &  5.494082 & 5.269375 & 5.468187 & 5.566886 & 5.433821 & 5.320485 &  5.502541\\\\\n",
       "\t chr19 & 58862834 & 58863385 & A1BG-AS1 & chr19.+.A1BG-AS1 &       NA &       NA &       NA &       NA &       NA & ⋯ &       NA &       NA &        NA &        NA &       NA &       NA &       NA &       NA &       NA &        NA\\\\\n",
       "\t chr10 & 52645384 & 52645935 & A1CF     & chr10.-.A1CF     & 5.409415 & 5.652667 & 5.364459 & 5.378185 & 5.485144 & ⋯ & 5.428412 & 5.474348 &  5.419358 &  5.700195 & 5.478201 & 5.752783 & 5.673940 & 5.862117 & 5.424626 &  5.791611\\\\\n",
       "\t chr12 &  9268507 &  9269058 & A2M      & chr12.-.A2M      & 7.653319 & 6.564312 & 8.201633 & 7.587296 & 8.427318 & ⋯ & 9.198370 & 9.042949 & 10.144846 & 10.143342 & 9.782934 & 8.360063 & 9.929925 & 9.927135 & 9.638372 & 10.153996\\\\\n",
       "\t chr12 &  9217271 &  9217822 & A2M-AS1  & chr12.+.A2M-AS1  &       NA &       NA &       NA &       NA &       NA & ⋯ &       NA &       NA &        NA &        NA &       NA &       NA &       NA &       NA &       NA &        NA\\\\\n",
       "\t chr12 &  8974648 &  8975199 & A2ML1    & chr12.+.A2ML1.1  & 5.535317 & 5.938013 & 5.337279 & 5.221707 & 5.514548 & ⋯ & 5.366756 & 5.799424 &  5.139738 &  5.095827 & 5.545775 & 5.608514 & 5.503125 & 5.350733 & 5.267158 &  5.455640\\\\\n",
       "\\end{tabular}\n"
      ],
      "text/markdown": [
       "\n",
       "A tibble: 6 × 2129\n",
       "\n",
       "| chrom &lt;chr&gt; | start &lt;dbl&gt; | end &lt;dbl&gt; | name &lt;chr&gt; | name3.chr &lt;chr&gt; | MB_0362 &lt;dbl&gt; | MB_0346 &lt;dbl&gt; | MB_0386 &lt;dbl&gt; | MB_0574 &lt;dbl&gt; | MB_0185 &lt;dbl&gt; | ⋯ ⋯ | MB_1036 &lt;dbl&gt; | MB_1116 &lt;dbl&gt; | MB_1044 &lt;dbl&gt; | MB_1049 &lt;dbl&gt; | MB_1068 &lt;dbl&gt; | MB_0812 &lt;dbl&gt; | MB_1076 &lt;dbl&gt; | MB_0814 &lt;dbl&gt; | MB_1087 &lt;dbl&gt; | MB_0822 &lt;dbl&gt; |\n",
       "|---|---|---|---|---|---|---|---|---|---|---|---|---|---|---|---|---|---|---|---|---|\n",
       "| chr19 | 58864814 | 58865365 | A1BG     | chr19.-.A1BG     | 5.607785 | 5.515704 | 5.581684 | 5.602209 | 5.560794 | ⋯ | 5.225141 | 5.303794 |  5.490734 |  5.494082 | 5.269375 | 5.468187 | 5.566886 | 5.433821 | 5.320485 |  5.502541 |\n",
       "| chr19 | 58862834 | 58863385 | A1BG-AS1 | chr19.+.A1BG-AS1 |       NA |       NA |       NA |       NA |       NA | ⋯ |       NA |       NA |        NA |        NA |       NA |       NA |       NA |       NA |       NA |        NA |\n",
       "| chr10 | 52645384 | 52645935 | A1CF     | chr10.-.A1CF     | 5.409415 | 5.652667 | 5.364459 | 5.378185 | 5.485144 | ⋯ | 5.428412 | 5.474348 |  5.419358 |  5.700195 | 5.478201 | 5.752783 | 5.673940 | 5.862117 | 5.424626 |  5.791611 |\n",
       "| chr12 |  9268507 |  9269058 | A2M      | chr12.-.A2M      | 7.653319 | 6.564312 | 8.201633 | 7.587296 | 8.427318 | ⋯ | 9.198370 | 9.042949 | 10.144846 | 10.143342 | 9.782934 | 8.360063 | 9.929925 | 9.927135 | 9.638372 | 10.153996 |\n",
       "| chr12 |  9217271 |  9217822 | A2M-AS1  | chr12.+.A2M-AS1  |       NA |       NA |       NA |       NA |       NA | ⋯ |       NA |       NA |        NA |        NA |       NA |       NA |       NA |       NA |       NA |        NA |\n",
       "| chr12 |  8974648 |  8975199 | A2ML1    | chr12.+.A2ML1.1  | 5.535317 | 5.938013 | 5.337279 | 5.221707 | 5.514548 | ⋯ | 5.366756 | 5.799424 |  5.139738 |  5.095827 | 5.545775 | 5.608514 | 5.503125 | 5.350733 | 5.267158 |  5.455640 |\n",
       "\n"
      ],
      "text/plain": [
       "  chrom start    end      name     name3.chr        MB_0362  MB_0346  MB_0386 \n",
       "1 chr19 58864814 58865365 A1BG     chr19.-.A1BG     5.607785 5.515704 5.581684\n",
       "2 chr19 58862834 58863385 A1BG-AS1 chr19.+.A1BG-AS1       NA       NA       NA\n",
       "3 chr10 52645384 52645935 A1CF     chr10.-.A1CF     5.409415 5.652667 5.364459\n",
       "4 chr12  9268507  9269058 A2M      chr12.-.A2M      7.653319 6.564312 8.201633\n",
       "5 chr12  9217271  9217822 A2M-AS1  chr12.+.A2M-AS1        NA       NA       NA\n",
       "6 chr12  8974648  8975199 A2ML1    chr12.+.A2ML1.1  5.535317 5.938013 5.337279\n",
       "  MB_0574  MB_0185  ⋯ MB_1036  MB_1116  MB_1044   MB_1049   MB_1068  MB_0812 \n",
       "1 5.602209 5.560794 ⋯ 5.225141 5.303794  5.490734  5.494082 5.269375 5.468187\n",
       "2       NA       NA ⋯       NA       NA        NA        NA       NA       NA\n",
       "3 5.378185 5.485144 ⋯ 5.428412 5.474348  5.419358  5.700195 5.478201 5.752783\n",
       "4 7.587296 8.427318 ⋯ 9.198370 9.042949 10.144846 10.143342 9.782934 8.360063\n",
       "5       NA       NA ⋯       NA       NA        NA        NA       NA       NA\n",
       "6 5.221707 5.514548 ⋯ 5.366756 5.799424  5.139738  5.095827 5.545775 5.608514\n",
       "  MB_1076  MB_0814  MB_1087  MB_0822  \n",
       "1 5.566886 5.433821 5.320485  5.502541\n",
       "2       NA       NA       NA        NA\n",
       "3 5.673940 5.862117 5.424626  5.791611\n",
       "4 9.929925 9.927135 9.638372 10.153996\n",
       "5       NA       NA       NA        NA\n",
       "6 5.503125 5.350733 5.267158  5.455640"
      ]
     },
     "metadata": {},
     "output_type": "display_data"
    },
    {
     "data": {
      "text/html": [
       "<style>\n",
       ".list-inline {list-style: none; margin:0; padding: 0}\n",
       ".list-inline>li {display: inline-block}\n",
       ".list-inline>li:not(:last-child)::after {content: \"\\00b7\"; padding: 0 .5ex}\n",
       "</style>\n",
       "<ol class=list-inline><li>26245</li><li>2129</li></ol>\n"
      ],
      "text/latex": [
       "\\begin{enumerate*}\n",
       "\\item 26245\n",
       "\\item 2129\n",
       "\\end{enumerate*}\n"
      ],
      "text/markdown": [
       "1. 26245\n",
       "2. 2129\n",
       "\n",
       "\n"
      ],
      "text/plain": [
       "[1] 26245  2129"
      ]
     },
     "metadata": {},
     "output_type": "display_data"
    }
   ],
   "source": [
    "expr_mat <- read_csv(\"data/expression_matrix.csv\")\n",
    "head(expr_mat)\n",
    "dim(expr_mat)"
   ]
  },
  {
   "cell_type": "code",
   "execution_count": 48,
   "id": "611b837e",
   "metadata": {
    "vscode": {
     "languageId": "r"
    }
   },
   "outputs": [],
   "source": [
    "expr_clean <- expr_mat %>% select(name, starts_with(\"MB_\"))"
   ]
  },
  {
   "cell_type": "code",
   "execution_count": 49,
   "id": "21d78630",
   "metadata": {
    "vscode": {
     "languageId": "r"
    }
   },
   "outputs": [],
   "source": [
    "genes_all_na <- expr_clean %>%\n",
    "  filter(if_all(-name, is.na)) %>%\n",
    "  pull(name)\n",
    "\n",
    "# Remove genes with 100% NA values from expr_clean\n",
    "expr_clean_no_na <- expr_clean %>%\n",
    "  filter(!(name %in% genes_all_na))"
   ]
  },
  {
   "cell_type": "code",
   "execution_count": 57,
   "id": "f1130763",
   "metadata": {
    "vscode": {
     "languageId": "r"
    }
   },
   "outputs": [
    {
     "data": {
      "text/html": [
       "8"
      ],
      "text/latex": [
       "8"
      ],
      "text/markdown": [
       "8"
      ],
      "text/plain": [
       "[1] 8"
      ]
     },
     "metadata": {},
     "output_type": "display_data"
    },
    {
     "data": {
      "text/html": [
       "<table class=\"dataframe\">\n",
       "<caption>A matrix: 6 × 2124 of type dbl</caption>\n",
       "<thead>\n",
       "\t<tr><th></th><th scope=col>MB_0362</th><th scope=col>MB_0346</th><th scope=col>MB_0386</th><th scope=col>MB_0574</th><th scope=col>MB_0185</th><th scope=col>MB_0503</th><th scope=col>MB_0641</th><th scope=col>MB_0201</th><th scope=col>MB_0218</th><th scope=col>MB_0316</th><th scope=col>⋯</th><th scope=col>MB_1036</th><th scope=col>MB_1116</th><th scope=col>MB_1044</th><th scope=col>MB_1049</th><th scope=col>MB_1068</th><th scope=col>MB_0812</th><th scope=col>MB_1076</th><th scope=col>MB_0814</th><th scope=col>MB_1087</th><th scope=col>MB_0822</th></tr>\n",
       "</thead>\n",
       "<tbody>\n",
       "\t<tr><th scope=row>A1BG</th><td>5.607785</td><td>5.515704</td><td>5.581684</td><td>5.602209</td><td>5.560794</td><td>5.443726</td><td>5.374949</td><td>5.625163</td><td>5.533212</td><td>5.359228</td><td>⋯</td><td>5.225141</td><td>5.303794</td><td> 5.490734</td><td> 5.494082</td><td>5.269375</td><td>5.468187</td><td>5.566886</td><td>5.433821</td><td>5.320485</td><td> 5.502541</td></tr>\n",
       "\t<tr><th scope=row>A1CF</th><td>5.409415</td><td>5.652667</td><td>5.364459</td><td>5.378185</td><td>5.485144</td><td>5.321734</td><td>5.386645</td><td>5.432328</td><td>5.332541</td><td>5.493423</td><td>⋯</td><td>5.428412</td><td>5.474348</td><td> 5.419358</td><td> 5.700195</td><td>5.478201</td><td>5.752783</td><td>5.673940</td><td>5.862117</td><td>5.424626</td><td> 5.791611</td></tr>\n",
       "\t<tr><th scope=row>A2M</th><td>7.653319</td><td>6.564312</td><td>8.201633</td><td>7.587296</td><td>8.427318</td><td>7.545219</td><td>8.693606</td><td>8.898809</td><td>8.763382</td><td>9.100264</td><td>⋯</td><td>9.198370</td><td>9.042949</td><td>10.144846</td><td>10.143342</td><td>9.782934</td><td>8.360063</td><td>9.929925</td><td>9.927135</td><td>9.638372</td><td>10.153996</td></tr>\n",
       "\t<tr><th scope=row>A2ML1</th><td>5.535317</td><td>5.938013</td><td>5.337279</td><td>5.221707</td><td>5.514548</td><td>5.279701</td><td>5.201008</td><td>5.695971</td><td>5.108838</td><td>6.942946</td><td>⋯</td><td>5.366756</td><td>5.799424</td><td> 5.139738</td><td> 5.095827</td><td>5.545775</td><td>5.608514</td><td>5.503125</td><td>5.350733</td><td>5.267158</td><td> 5.455640</td></tr>\n",
       "\t<tr><th scope=row>A3GALT2</th><td>4.981355</td><td>5.205735</td><td>5.226664</td><td>5.173150</td><td>5.143560</td><td>5.170576</td><td>5.254851</td><td>5.263361</td><td>5.214664</td><td>5.208407</td><td>⋯</td><td>5.179645</td><td>5.349457</td><td> 5.343883</td><td> 4.859195</td><td>5.251195</td><td>5.139245</td><td>5.193950</td><td>5.275657</td><td>5.324381</td><td> 5.267929</td></tr>\n",
       "\t<tr><th scope=row>A4GALT</th><td>6.347507</td><td>5.567505</td><td>6.923349</td><td>5.756924</td><td>6.154819</td><td>6.407954</td><td>7.228863</td><td>6.608221</td><td>5.947872</td><td>6.951467</td><td>⋯</td><td>7.495228</td><td>7.121193</td><td> 6.547483</td><td> 7.316774</td><td>6.818794</td><td>5.871052</td><td>7.873741</td><td>6.733388</td><td>7.320739</td><td> 7.393306</td></tr>\n",
       "</tbody>\n",
       "</table>\n"
      ],
      "text/latex": [
       "A matrix: 6 × 2124 of type dbl\n",
       "\\begin{tabular}{r|lllllllllllllllllllll}\n",
       "  & MB\\_0362 & MB\\_0346 & MB\\_0386 & MB\\_0574 & MB\\_0185 & MB\\_0503 & MB\\_0641 & MB\\_0201 & MB\\_0218 & MB\\_0316 & ⋯ & MB\\_1036 & MB\\_1116 & MB\\_1044 & MB\\_1049 & MB\\_1068 & MB\\_0812 & MB\\_1076 & MB\\_0814 & MB\\_1087 & MB\\_0822\\\\\n",
       "\\hline\n",
       "\tA1BG & 5.607785 & 5.515704 & 5.581684 & 5.602209 & 5.560794 & 5.443726 & 5.374949 & 5.625163 & 5.533212 & 5.359228 & ⋯ & 5.225141 & 5.303794 &  5.490734 &  5.494082 & 5.269375 & 5.468187 & 5.566886 & 5.433821 & 5.320485 &  5.502541\\\\\n",
       "\tA1CF & 5.409415 & 5.652667 & 5.364459 & 5.378185 & 5.485144 & 5.321734 & 5.386645 & 5.432328 & 5.332541 & 5.493423 & ⋯ & 5.428412 & 5.474348 &  5.419358 &  5.700195 & 5.478201 & 5.752783 & 5.673940 & 5.862117 & 5.424626 &  5.791611\\\\\n",
       "\tA2M & 7.653319 & 6.564312 & 8.201633 & 7.587296 & 8.427318 & 7.545219 & 8.693606 & 8.898809 & 8.763382 & 9.100264 & ⋯ & 9.198370 & 9.042949 & 10.144846 & 10.143342 & 9.782934 & 8.360063 & 9.929925 & 9.927135 & 9.638372 & 10.153996\\\\\n",
       "\tA2ML1 & 5.535317 & 5.938013 & 5.337279 & 5.221707 & 5.514548 & 5.279701 & 5.201008 & 5.695971 & 5.108838 & 6.942946 & ⋯ & 5.366756 & 5.799424 &  5.139738 &  5.095827 & 5.545775 & 5.608514 & 5.503125 & 5.350733 & 5.267158 &  5.455640\\\\\n",
       "\tA3GALT2 & 4.981355 & 5.205735 & 5.226664 & 5.173150 & 5.143560 & 5.170576 & 5.254851 & 5.263361 & 5.214664 & 5.208407 & ⋯ & 5.179645 & 5.349457 &  5.343883 &  4.859195 & 5.251195 & 5.139245 & 5.193950 & 5.275657 & 5.324381 &  5.267929\\\\\n",
       "\tA4GALT & 6.347507 & 5.567505 & 6.923349 & 5.756924 & 6.154819 & 6.407954 & 7.228863 & 6.608221 & 5.947872 & 6.951467 & ⋯ & 7.495228 & 7.121193 &  6.547483 &  7.316774 & 6.818794 & 5.871052 & 7.873741 & 6.733388 & 7.320739 &  7.393306\\\\\n",
       "\\end{tabular}\n"
      ],
      "text/markdown": [
       "\n",
       "A matrix: 6 × 2124 of type dbl\n",
       "\n",
       "| <!--/--> | MB_0362 | MB_0346 | MB_0386 | MB_0574 | MB_0185 | MB_0503 | MB_0641 | MB_0201 | MB_0218 | MB_0316 | ⋯ | MB_1036 | MB_1116 | MB_1044 | MB_1049 | MB_1068 | MB_0812 | MB_1076 | MB_0814 | MB_1087 | MB_0822 |\n",
       "|---|---|---|---|---|---|---|---|---|---|---|---|---|---|---|---|---|---|---|---|---|---|\n",
       "| A1BG | 5.607785 | 5.515704 | 5.581684 | 5.602209 | 5.560794 | 5.443726 | 5.374949 | 5.625163 | 5.533212 | 5.359228 | ⋯ | 5.225141 | 5.303794 |  5.490734 |  5.494082 | 5.269375 | 5.468187 | 5.566886 | 5.433821 | 5.320485 |  5.502541 |\n",
       "| A1CF | 5.409415 | 5.652667 | 5.364459 | 5.378185 | 5.485144 | 5.321734 | 5.386645 | 5.432328 | 5.332541 | 5.493423 | ⋯ | 5.428412 | 5.474348 |  5.419358 |  5.700195 | 5.478201 | 5.752783 | 5.673940 | 5.862117 | 5.424626 |  5.791611 |\n",
       "| A2M | 7.653319 | 6.564312 | 8.201633 | 7.587296 | 8.427318 | 7.545219 | 8.693606 | 8.898809 | 8.763382 | 9.100264 | ⋯ | 9.198370 | 9.042949 | 10.144846 | 10.143342 | 9.782934 | 8.360063 | 9.929925 | 9.927135 | 9.638372 | 10.153996 |\n",
       "| A2ML1 | 5.535317 | 5.938013 | 5.337279 | 5.221707 | 5.514548 | 5.279701 | 5.201008 | 5.695971 | 5.108838 | 6.942946 | ⋯ | 5.366756 | 5.799424 |  5.139738 |  5.095827 | 5.545775 | 5.608514 | 5.503125 | 5.350733 | 5.267158 |  5.455640 |\n",
       "| A3GALT2 | 4.981355 | 5.205735 | 5.226664 | 5.173150 | 5.143560 | 5.170576 | 5.254851 | 5.263361 | 5.214664 | 5.208407 | ⋯ | 5.179645 | 5.349457 |  5.343883 |  4.859195 | 5.251195 | 5.139245 | 5.193950 | 5.275657 | 5.324381 |  5.267929 |\n",
       "| A4GALT | 6.347507 | 5.567505 | 6.923349 | 5.756924 | 6.154819 | 6.407954 | 7.228863 | 6.608221 | 5.947872 | 6.951467 | ⋯ | 7.495228 | 7.121193 |  6.547483 |  7.316774 | 6.818794 | 5.871052 | 7.873741 | 6.733388 | 7.320739 |  7.393306 |\n",
       "\n"
      ],
      "text/plain": [
       "        MB_0362  MB_0346  MB_0386  MB_0574  MB_0185  MB_0503  MB_0641  MB_0201 \n",
       "A1BG    5.607785 5.515704 5.581684 5.602209 5.560794 5.443726 5.374949 5.625163\n",
       "A1CF    5.409415 5.652667 5.364459 5.378185 5.485144 5.321734 5.386645 5.432328\n",
       "A2M     7.653319 6.564312 8.201633 7.587296 8.427318 7.545219 8.693606 8.898809\n",
       "A2ML1   5.535317 5.938013 5.337279 5.221707 5.514548 5.279701 5.201008 5.695971\n",
       "A3GALT2 4.981355 5.205735 5.226664 5.173150 5.143560 5.170576 5.254851 5.263361\n",
       "A4GALT  6.347507 5.567505 6.923349 5.756924 6.154819 6.407954 7.228863 6.608221\n",
       "        MB_0218  MB_0316  ⋯ MB_1036  MB_1116  MB_1044   MB_1049   MB_1068 \n",
       "A1BG    5.533212 5.359228 ⋯ 5.225141 5.303794  5.490734  5.494082 5.269375\n",
       "A1CF    5.332541 5.493423 ⋯ 5.428412 5.474348  5.419358  5.700195 5.478201\n",
       "A2M     8.763382 9.100264 ⋯ 9.198370 9.042949 10.144846 10.143342 9.782934\n",
       "A2ML1   5.108838 6.942946 ⋯ 5.366756 5.799424  5.139738  5.095827 5.545775\n",
       "A3GALT2 5.214664 5.208407 ⋯ 5.179645 5.349457  5.343883  4.859195 5.251195\n",
       "A4GALT  5.947872 6.951467 ⋯ 7.495228 7.121193  6.547483  7.316774 6.818794\n",
       "        MB_0812  MB_1076  MB_0814  MB_1087  MB_0822  \n",
       "A1BG    5.468187 5.566886 5.433821 5.320485  5.502541\n",
       "A1CF    5.752783 5.673940 5.862117 5.424626  5.791611\n",
       "A2M     8.360063 9.929925 9.927135 9.638372 10.153996\n",
       "A2ML1   5.608514 5.503125 5.350733 5.267158  5.455640\n",
       "A3GALT2 5.139245 5.193950 5.275657 5.324381  5.267929\n",
       "A4GALT  5.871052 7.873741 6.733388 7.320739  7.393306"
      ]
     },
     "metadata": {},
     "output_type": "display_data"
    },
    {
     "data": {
      "text/html": [
       "<style>\n",
       ".list-inline {list-style: none; margin:0; padding: 0}\n",
       ".list-inline>li {display: inline-block}\n",
       ".list-inline>li:not(:last-child)::after {content: \"\\00b7\"; padding: 0 .5ex}\n",
       "</style>\n",
       "<ol class=list-inline><li>17691</li><li>2124</li></ol>\n"
      ],
      "text/latex": [
       "\\begin{enumerate*}\n",
       "\\item 17691\n",
       "\\item 2124\n",
       "\\end{enumerate*}\n"
      ],
      "text/markdown": [
       "1. 17691\n",
       "2. 2124\n",
       "\n",
       "\n"
      ],
      "text/plain": [
       "[1] 17691  2124"
      ]
     },
     "metadata": {},
     "output_type": "display_data"
    }
   ],
   "source": [
    "# Extract expression matrix (numeric only)\n",
    "expr_matrix <- expr_clean_no_na %>%\n",
    "  column_to_rownames(\"name\") %>%\n",
    "  as.matrix()\n",
    "\n",
    "# Check for any remaining NA\n",
    "sum(is.na(expr_matrix))\n",
    "head(expr_matrix)\n",
    "dim(expr_matrix)"
   ]
  },
  {
   "cell_type": "code",
   "execution_count": 58,
   "id": "c04d2ea7",
   "metadata": {
    "vscode": {
     "languageId": "r"
    }
   },
   "outputs": [
    {
     "data": {
      "text/html": [
       "<style>\n",
       ".list-inline {list-style: none; margin:0; padding: 0}\n",
       ".list-inline>li {display: inline-block}\n",
       ".list-inline>li:not(:last-child)::after {content: \"\\00b7\"; padding: 0 .5ex}\n",
       "</style>\n",
       "<ol class=list-inline><li>'MB_0030'</li><li>'MB_0040'</li><li>'MB_0118'</li><li>'MB_0137'</li><li>'MB_0240'</li><li>'MB_0246'</li><li>'MB_0250'</li><li>'MB_0251'</li><li>'MB_0252'</li><li>'MB_0254'</li><li>'MB_0255'</li><li>'MB_0271'</li><li>'MB_0329'</li><li>'MB_0330'</li><li>'MB_0530'</li><li>'MB_0566'</li><li>'MB_0572'</li><li>'MB_0622'</li><li>'MB_0668'</li><li>'MB_0890'</li><li>'MB_2640'</li><li>'MB_2775'</li><li>'MB_2862'</li><li>'MB_3082'</li><li>'MB_3089'</li><li>'MB_3315'</li><li>'MB_3555'</li><li>'MB_3560'</li><li>'MB_3676'</li><li>'MB_3747'</li><li>'MB_3755'</li><li>'MB_3804'</li><li>'MB_4036'</li><li>'MB_4038'</li><li>'MB_4039'</li><li>'MB_4040'</li><li>'MB_4042'</li><li>'MB_4048'</li><li>'MB_4049'</li><li>'MB_4051'</li><li>'MB_4053'</li><li>'MB_4054'</li><li>'MB_4055'</li><li>'MB_4056'</li><li>'MB_4057'</li><li>'MB_4058'</li><li>'MB_4060'</li><li>'MB_4061'</li><li>'MB_4062'</li><li>'MB_4063'</li><li>'MB_4064'</li><li>'MB_4066'</li><li>'MB_4072'</li><li>'MB_4083'</li><li>'MB_4084'</li><li>'MB_4110'</li><li>'MB_4117'</li><li>'MB_4123'</li><li>'MB_4169'</li><li>'MB_4190'</li><li>'MB_4211'</li><li>'MB_4255'</li><li>'MB_4268'</li><li>'MB_4272'</li><li>'MB_4308'</li><li>'MB_4361'</li><li>'MB_4409'</li><li>'MB_4410'</li><li>'MB_4413'</li><li>'MB_4431'</li><li>'MB_4444'</li><li>'MB_4455'</li><li>'MB_4458'</li><li>'MB_4464'</li><li>'MB_4465'</li><li>'MB_4474'</li><li>'MB_4477'</li><li>'MB_4482'</li><li>'MB_4483'</li><li>'MB_4487'</li><li>'MB_4492'</li><li>'MB_4495'</li><li>'MB_4511'</li><li>'MB_4521'</li><li>'MB_4528'</li><li>'MB_4531'</li><li>'MB_4541'</li><li>'MB_4556'</li><li>'MB_4558'</li><li>'MB_4613'</li><li>'MB_4635'</li><li>'MB_4816'</li><li>'MB_4907'</li><li>'MB_5028'</li><li>'MB_5286'</li><li>'MB_5439'</li><li>'MB_6025'</li><li>'MB_6046'</li><li>'MB_6090'</li><li>'MB_6259'</li><li>'MB_6261'</li><li>'MB_6269'</li><li>'MB_6274'</li><li>'MB_6275'</li><li>'MB_6289'</li><li>'MB_6291'</li><li>'MB_6293'</li><li>'MB_6294'</li><li>'MB_6360'</li><li>'MB_7016'</li><li>'MB_7120'</li><li>'MB_7129'</li><li>'MB_7192'</li><li>'MB_7214'</li><li>'MB_7221'</li><li>'MB_7223'</li><li>'MB_7245'</li><li>'MB_7261'</li><li>'MB_7265'</li><li>'MB_7271'</li></ol>\n"
      ],
      "text/latex": [
       "\\begin{enumerate*}\n",
       "\\item 'MB\\_0030'\n",
       "\\item 'MB\\_0040'\n",
       "\\item 'MB\\_0118'\n",
       "\\item 'MB\\_0137'\n",
       "\\item 'MB\\_0240'\n",
       "\\item 'MB\\_0246'\n",
       "\\item 'MB\\_0250'\n",
       "\\item 'MB\\_0251'\n",
       "\\item 'MB\\_0252'\n",
       "\\item 'MB\\_0254'\n",
       "\\item 'MB\\_0255'\n",
       "\\item 'MB\\_0271'\n",
       "\\item 'MB\\_0329'\n",
       "\\item 'MB\\_0330'\n",
       "\\item 'MB\\_0530'\n",
       "\\item 'MB\\_0566'\n",
       "\\item 'MB\\_0572'\n",
       "\\item 'MB\\_0622'\n",
       "\\item 'MB\\_0668'\n",
       "\\item 'MB\\_0890'\n",
       "\\item 'MB\\_2640'\n",
       "\\item 'MB\\_2775'\n",
       "\\item 'MB\\_2862'\n",
       "\\item 'MB\\_3082'\n",
       "\\item 'MB\\_3089'\n",
       "\\item 'MB\\_3315'\n",
       "\\item 'MB\\_3555'\n",
       "\\item 'MB\\_3560'\n",
       "\\item 'MB\\_3676'\n",
       "\\item 'MB\\_3747'\n",
       "\\item 'MB\\_3755'\n",
       "\\item 'MB\\_3804'\n",
       "\\item 'MB\\_4036'\n",
       "\\item 'MB\\_4038'\n",
       "\\item 'MB\\_4039'\n",
       "\\item 'MB\\_4040'\n",
       "\\item 'MB\\_4042'\n",
       "\\item 'MB\\_4048'\n",
       "\\item 'MB\\_4049'\n",
       "\\item 'MB\\_4051'\n",
       "\\item 'MB\\_4053'\n",
       "\\item 'MB\\_4054'\n",
       "\\item 'MB\\_4055'\n",
       "\\item 'MB\\_4056'\n",
       "\\item 'MB\\_4057'\n",
       "\\item 'MB\\_4058'\n",
       "\\item 'MB\\_4060'\n",
       "\\item 'MB\\_4061'\n",
       "\\item 'MB\\_4062'\n",
       "\\item 'MB\\_4063'\n",
       "\\item 'MB\\_4064'\n",
       "\\item 'MB\\_4066'\n",
       "\\item 'MB\\_4072'\n",
       "\\item 'MB\\_4083'\n",
       "\\item 'MB\\_4084'\n",
       "\\item 'MB\\_4110'\n",
       "\\item 'MB\\_4117'\n",
       "\\item 'MB\\_4123'\n",
       "\\item 'MB\\_4169'\n",
       "\\item 'MB\\_4190'\n",
       "\\item 'MB\\_4211'\n",
       "\\item 'MB\\_4255'\n",
       "\\item 'MB\\_4268'\n",
       "\\item 'MB\\_4272'\n",
       "\\item 'MB\\_4308'\n",
       "\\item 'MB\\_4361'\n",
       "\\item 'MB\\_4409'\n",
       "\\item 'MB\\_4410'\n",
       "\\item 'MB\\_4413'\n",
       "\\item 'MB\\_4431'\n",
       "\\item 'MB\\_4444'\n",
       "\\item 'MB\\_4455'\n",
       "\\item 'MB\\_4458'\n",
       "\\item 'MB\\_4464'\n",
       "\\item 'MB\\_4465'\n",
       "\\item 'MB\\_4474'\n",
       "\\item 'MB\\_4477'\n",
       "\\item 'MB\\_4482'\n",
       "\\item 'MB\\_4483'\n",
       "\\item 'MB\\_4487'\n",
       "\\item 'MB\\_4492'\n",
       "\\item 'MB\\_4495'\n",
       "\\item 'MB\\_4511'\n",
       "\\item 'MB\\_4521'\n",
       "\\item 'MB\\_4528'\n",
       "\\item 'MB\\_4531'\n",
       "\\item 'MB\\_4541'\n",
       "\\item 'MB\\_4556'\n",
       "\\item 'MB\\_4558'\n",
       "\\item 'MB\\_4613'\n",
       "\\item 'MB\\_4635'\n",
       "\\item 'MB\\_4816'\n",
       "\\item 'MB\\_4907'\n",
       "\\item 'MB\\_5028'\n",
       "\\item 'MB\\_5286'\n",
       "\\item 'MB\\_5439'\n",
       "\\item 'MB\\_6025'\n",
       "\\item 'MB\\_6046'\n",
       "\\item 'MB\\_6090'\n",
       "\\item 'MB\\_6259'\n",
       "\\item 'MB\\_6261'\n",
       "\\item 'MB\\_6269'\n",
       "\\item 'MB\\_6274'\n",
       "\\item 'MB\\_6275'\n",
       "\\item 'MB\\_6289'\n",
       "\\item 'MB\\_6291'\n",
       "\\item 'MB\\_6293'\n",
       "\\item 'MB\\_6294'\n",
       "\\item 'MB\\_6360'\n",
       "\\item 'MB\\_7016'\n",
       "\\item 'MB\\_7120'\n",
       "\\item 'MB\\_7129'\n",
       "\\item 'MB\\_7192'\n",
       "\\item 'MB\\_7214'\n",
       "\\item 'MB\\_7221'\n",
       "\\item 'MB\\_7223'\n",
       "\\item 'MB\\_7245'\n",
       "\\item 'MB\\_7261'\n",
       "\\item 'MB\\_7265'\n",
       "\\item 'MB\\_7271'\n",
       "\\end{enumerate*}\n"
      ],
      "text/markdown": [
       "1. 'MB_0030'\n",
       "2. 'MB_0040'\n",
       "3. 'MB_0118'\n",
       "4. 'MB_0137'\n",
       "5. 'MB_0240'\n",
       "6. 'MB_0246'\n",
       "7. 'MB_0250'\n",
       "8. 'MB_0251'\n",
       "9. 'MB_0252'\n",
       "10. 'MB_0254'\n",
       "11. 'MB_0255'\n",
       "12. 'MB_0271'\n",
       "13. 'MB_0329'\n",
       "14. 'MB_0330'\n",
       "15. 'MB_0530'\n",
       "16. 'MB_0566'\n",
       "17. 'MB_0572'\n",
       "18. 'MB_0622'\n",
       "19. 'MB_0668'\n",
       "20. 'MB_0890'\n",
       "21. 'MB_2640'\n",
       "22. 'MB_2775'\n",
       "23. 'MB_2862'\n",
       "24. 'MB_3082'\n",
       "25. 'MB_3089'\n",
       "26. 'MB_3315'\n",
       "27. 'MB_3555'\n",
       "28. 'MB_3560'\n",
       "29. 'MB_3676'\n",
       "30. 'MB_3747'\n",
       "31. 'MB_3755'\n",
       "32. 'MB_3804'\n",
       "33. 'MB_4036'\n",
       "34. 'MB_4038'\n",
       "35. 'MB_4039'\n",
       "36. 'MB_4040'\n",
       "37. 'MB_4042'\n",
       "38. 'MB_4048'\n",
       "39. 'MB_4049'\n",
       "40. 'MB_4051'\n",
       "41. 'MB_4053'\n",
       "42. 'MB_4054'\n",
       "43. 'MB_4055'\n",
       "44. 'MB_4056'\n",
       "45. 'MB_4057'\n",
       "46. 'MB_4058'\n",
       "47. 'MB_4060'\n",
       "48. 'MB_4061'\n",
       "49. 'MB_4062'\n",
       "50. 'MB_4063'\n",
       "51. 'MB_4064'\n",
       "52. 'MB_4066'\n",
       "53. 'MB_4072'\n",
       "54. 'MB_4083'\n",
       "55. 'MB_4084'\n",
       "56. 'MB_4110'\n",
       "57. 'MB_4117'\n",
       "58. 'MB_4123'\n",
       "59. 'MB_4169'\n",
       "60. 'MB_4190'\n",
       "61. 'MB_4211'\n",
       "62. 'MB_4255'\n",
       "63. 'MB_4268'\n",
       "64. 'MB_4272'\n",
       "65. 'MB_4308'\n",
       "66. 'MB_4361'\n",
       "67. 'MB_4409'\n",
       "68. 'MB_4410'\n",
       "69. 'MB_4413'\n",
       "70. 'MB_4431'\n",
       "71. 'MB_4444'\n",
       "72. 'MB_4455'\n",
       "73. 'MB_4458'\n",
       "74. 'MB_4464'\n",
       "75. 'MB_4465'\n",
       "76. 'MB_4474'\n",
       "77. 'MB_4477'\n",
       "78. 'MB_4482'\n",
       "79. 'MB_4483'\n",
       "80. 'MB_4487'\n",
       "81. 'MB_4492'\n",
       "82. 'MB_4495'\n",
       "83. 'MB_4511'\n",
       "84. 'MB_4521'\n",
       "85. 'MB_4528'\n",
       "86. 'MB_4531'\n",
       "87. 'MB_4541'\n",
       "88. 'MB_4556'\n",
       "89. 'MB_4558'\n",
       "90. 'MB_4613'\n",
       "91. 'MB_4635'\n",
       "92. 'MB_4816'\n",
       "93. 'MB_4907'\n",
       "94. 'MB_5028'\n",
       "95. 'MB_5286'\n",
       "96. 'MB_5439'\n",
       "97. 'MB_6025'\n",
       "98. 'MB_6046'\n",
       "99. 'MB_6090'\n",
       "100. 'MB_6259'\n",
       "101. 'MB_6261'\n",
       "102. 'MB_6269'\n",
       "103. 'MB_6274'\n",
       "104. 'MB_6275'\n",
       "105. 'MB_6289'\n",
       "106. 'MB_6291'\n",
       "107. 'MB_6293'\n",
       "108. 'MB_6294'\n",
       "109. 'MB_6360'\n",
       "110. 'MB_7016'\n",
       "111. 'MB_7120'\n",
       "112. 'MB_7129'\n",
       "113. 'MB_7192'\n",
       "114. 'MB_7214'\n",
       "115. 'MB_7221'\n",
       "116. 'MB_7223'\n",
       "117. 'MB_7245'\n",
       "118. 'MB_7261'\n",
       "119. 'MB_7265'\n",
       "120. 'MB_7271'\n",
       "\n",
       "\n"
      ],
      "text/plain": [
       "  [1] \"MB_0030\" \"MB_0040\" \"MB_0118\" \"MB_0137\" \"MB_0240\" \"MB_0246\" \"MB_0250\"\n",
       "  [8] \"MB_0251\" \"MB_0252\" \"MB_0254\" \"MB_0255\" \"MB_0271\" \"MB_0329\" \"MB_0330\"\n",
       " [15] \"MB_0530\" \"MB_0566\" \"MB_0572\" \"MB_0622\" \"MB_0668\" \"MB_0890\" \"MB_2640\"\n",
       " [22] \"MB_2775\" \"MB_2862\" \"MB_3082\" \"MB_3089\" \"MB_3315\" \"MB_3555\" \"MB_3560\"\n",
       " [29] \"MB_3676\" \"MB_3747\" \"MB_3755\" \"MB_3804\" \"MB_4036\" \"MB_4038\" \"MB_4039\"\n",
       " [36] \"MB_4040\" \"MB_4042\" \"MB_4048\" \"MB_4049\" \"MB_4051\" \"MB_4053\" \"MB_4054\"\n",
       " [43] \"MB_4055\" \"MB_4056\" \"MB_4057\" \"MB_4058\" \"MB_4060\" \"MB_4061\" \"MB_4062\"\n",
       " [50] \"MB_4063\" \"MB_4064\" \"MB_4066\" \"MB_4072\" \"MB_4083\" \"MB_4084\" \"MB_4110\"\n",
       " [57] \"MB_4117\" \"MB_4123\" \"MB_4169\" \"MB_4190\" \"MB_4211\" \"MB_4255\" \"MB_4268\"\n",
       " [64] \"MB_4272\" \"MB_4308\" \"MB_4361\" \"MB_4409\" \"MB_4410\" \"MB_4413\" \"MB_4431\"\n",
       " [71] \"MB_4444\" \"MB_4455\" \"MB_4458\" \"MB_4464\" \"MB_4465\" \"MB_4474\" \"MB_4477\"\n",
       " [78] \"MB_4482\" \"MB_4483\" \"MB_4487\" \"MB_4492\" \"MB_4495\" \"MB_4511\" \"MB_4521\"\n",
       " [85] \"MB_4528\" \"MB_4531\" \"MB_4541\" \"MB_4556\" \"MB_4558\" \"MB_4613\" \"MB_4635\"\n",
       " [92] \"MB_4816\" \"MB_4907\" \"MB_5028\" \"MB_5286\" \"MB_5439\" \"MB_6025\" \"MB_6046\"\n",
       " [99] \"MB_6090\" \"MB_6259\" \"MB_6261\" \"MB_6269\" \"MB_6274\" \"MB_6275\" \"MB_6289\"\n",
       "[106] \"MB_6291\" \"MB_6293\" \"MB_6294\" \"MB_6360\" \"MB_7016\" \"MB_7120\" \"MB_7129\"\n",
       "[113] \"MB_7192\" \"MB_7214\" \"MB_7221\" \"MB_7223\" \"MB_7245\" \"MB_7261\" \"MB_7265\"\n",
       "[120] \"MB_7271\""
      ]
     },
     "metadata": {},
     "output_type": "display_data"
    },
    {
     "data": {
      "text/html": [
       "<style>\n",
       ".list-inline {list-style: none; margin:0; padding: 0}\n",
       ".list-inline>li {display: inline-block}\n",
       ".list-inline>li:not(:last-child)::after {content: \"\\00b7\"; padding: 0 .5ex}\n",
       "</style>\n",
       "<ol class=list-inline><li>'MB_0676'</li><li>'MB_0684'</li><li>'MB_0685'</li><li>'MB_0692'</li><li>'MB_0698'</li><li>'MB_0700'</li><li>'MB_0732'</li><li>'MB_0739'</li><li>'MB_0756'</li><li>'MB_0767'</li><li>'MB_0768'</li><li>'MB_0770'</li><li>'MB_0785'</li><li>'MB_0786'</li><li>'MB_0788'</li><li>'MB_0794'</li><li>'MB_0795'</li><li>'MB_0801'</li><li>'MB_0826'</li><li>'MB_0828'</li><li>'MB_0835'</li><li>'MB_0841'</li><li>'MB_0850'</li><li>'MB_0868'</li><li>'MB_0873'</li><li>'MB_0878'</li><li>'MB_0881'</li><li>'MB_0886'</li><li>'MB_0898'</li><li>'MB_0902'</li><li>'MB_0923'</li><li>'MB_0924'</li><li>'MB_0925'</li><li>'MB_0927'</li><li>'MB_0928'</li><li>'MB_0930'</li><li>'MB_0931'</li><li>'MB_0934'</li><li>'MB_0935'</li><li>'MB_0941'</li><li>'MB_0942'</li><li>'MB_0943'</li><li>'MB_0944'</li><li>'MB_0945'</li><li>'MB_0947'</li><li>'MB_0949'</li><li>'MB_0950'</li><li>'MB_0951'</li><li>'MB_0953'</li><li>'MB_0957'</li><li>'MB_0958'</li><li>'MB_0965'</li><li>'MB_0966'</li><li>'MB_0967'</li><li>'MB_0968'</li><li>'MB_0969'</li><li>'MB_0970'</li><li>'MB_0974'</li><li>'MB_0975'</li><li>'MB_0976'</li><li>'MB_0978'</li><li>'MB_0979'</li><li>'MB_0980'</li><li>'MB_0982'</li><li>'MB_0983'</li><li>'MB_0984'</li><li>'MB_0986'</li><li>'MB_0987'</li><li>'MB_0989'</li><li>'MB_0990'</li><li>'MB_0991'</li><li>'MB_0992'</li><li>'MB_0993'</li><li>'MB_0994'</li><li>'MB_0995'</li><li>'MB_0996'</li><li>'MB_0997'</li><li>'MB_0999'</li><li>'MB_1001'</li><li>'MB_1002'</li><li>'MB_1003'</li><li>'MB_1004'</li><li>'MB_1005'</li><li>'MB_1006'</li><li>'MB_1008'</li><li>'MB_1010'</li><li>'MB_1013'</li><li>'MB_1015'</li><li>'MB_1017'</li><li>'MB_1020'</li><li>'MB_1025'</li><li>'MB_1026'</li><li>'MB_1029'</li><li>'MB_1032'</li><li>'MB_1035'</li><li>'MB_1038'</li><li>'MB_1040'</li><li>'MB_1041'</li><li>'MB_1043'</li><li>'MB_1045'</li><li>'MB_1046'</li><li>'MB_1047'</li><li>'MB_1048'</li><li>'MB_1051'</li><li>'MB_1052'</li><li>'MB_1053'</li><li>'MB_1054'</li><li>'MB_1056'</li><li>'MB_1058'</li><li>'MB_1059'</li><li>'MB_1061'</li><li>'MB_1062'</li><li>'MB_1064'</li><li>'MB_1066'</li><li>'MB_1067'</li><li>'MB_1069'</li><li>'MB_1070'</li><li>'MB_1072'</li><li>'MB_1073'</li><li>'MB_1078'</li><li>'MB_1079'</li><li>'MB_1083'</li><li>'MB_1084'</li><li>'MB_1090'</li><li>'MB_1091'</li><li>'MB_1093'</li><li>'MB_1097'</li><li>'MB_1098'</li><li>'MB_1101'</li><li>'MB_1102'</li><li>'MB_1110'</li><li>'MB_1118'</li><li>'MB_1119'</li><li>'MB_1123'</li><li>'MB_1135'</li><li>'MB_1136'</li><li>'MB_1137'</li><li>'MB_1138'</li><li>'MB_1139'</li><li>'MB_1141'</li><li>'MB_1142'</li><li>'MB_1143'</li><li>'MB_1144'</li><li>'MB_1145'</li><li>'MB_1146'</li><li>'MB_1147'</li><li>'MB_1148'</li><li>'MB_1149'</li><li>'MB_1151'</li><li>'MB_1152'</li><li>'MB_1155'</li><li>'MB_1156'</li></ol>\n"
      ],
      "text/latex": [
       "\\begin{enumerate*}\n",
       "\\item 'MB\\_0676'\n",
       "\\item 'MB\\_0684'\n",
       "\\item 'MB\\_0685'\n",
       "\\item 'MB\\_0692'\n",
       "\\item 'MB\\_0698'\n",
       "\\item 'MB\\_0700'\n",
       "\\item 'MB\\_0732'\n",
       "\\item 'MB\\_0739'\n",
       "\\item 'MB\\_0756'\n",
       "\\item 'MB\\_0767'\n",
       "\\item 'MB\\_0768'\n",
       "\\item 'MB\\_0770'\n",
       "\\item 'MB\\_0785'\n",
       "\\item 'MB\\_0786'\n",
       "\\item 'MB\\_0788'\n",
       "\\item 'MB\\_0794'\n",
       "\\item 'MB\\_0795'\n",
       "\\item 'MB\\_0801'\n",
       "\\item 'MB\\_0826'\n",
       "\\item 'MB\\_0828'\n",
       "\\item 'MB\\_0835'\n",
       "\\item 'MB\\_0841'\n",
       "\\item 'MB\\_0850'\n",
       "\\item 'MB\\_0868'\n",
       "\\item 'MB\\_0873'\n",
       "\\item 'MB\\_0878'\n",
       "\\item 'MB\\_0881'\n",
       "\\item 'MB\\_0886'\n",
       "\\item 'MB\\_0898'\n",
       "\\item 'MB\\_0902'\n",
       "\\item 'MB\\_0923'\n",
       "\\item 'MB\\_0924'\n",
       "\\item 'MB\\_0925'\n",
       "\\item 'MB\\_0927'\n",
       "\\item 'MB\\_0928'\n",
       "\\item 'MB\\_0930'\n",
       "\\item 'MB\\_0931'\n",
       "\\item 'MB\\_0934'\n",
       "\\item 'MB\\_0935'\n",
       "\\item 'MB\\_0941'\n",
       "\\item 'MB\\_0942'\n",
       "\\item 'MB\\_0943'\n",
       "\\item 'MB\\_0944'\n",
       "\\item 'MB\\_0945'\n",
       "\\item 'MB\\_0947'\n",
       "\\item 'MB\\_0949'\n",
       "\\item 'MB\\_0950'\n",
       "\\item 'MB\\_0951'\n",
       "\\item 'MB\\_0953'\n",
       "\\item 'MB\\_0957'\n",
       "\\item 'MB\\_0958'\n",
       "\\item 'MB\\_0965'\n",
       "\\item 'MB\\_0966'\n",
       "\\item 'MB\\_0967'\n",
       "\\item 'MB\\_0968'\n",
       "\\item 'MB\\_0969'\n",
       "\\item 'MB\\_0970'\n",
       "\\item 'MB\\_0974'\n",
       "\\item 'MB\\_0975'\n",
       "\\item 'MB\\_0976'\n",
       "\\item 'MB\\_0978'\n",
       "\\item 'MB\\_0979'\n",
       "\\item 'MB\\_0980'\n",
       "\\item 'MB\\_0982'\n",
       "\\item 'MB\\_0983'\n",
       "\\item 'MB\\_0984'\n",
       "\\item 'MB\\_0986'\n",
       "\\item 'MB\\_0987'\n",
       "\\item 'MB\\_0989'\n",
       "\\item 'MB\\_0990'\n",
       "\\item 'MB\\_0991'\n",
       "\\item 'MB\\_0992'\n",
       "\\item 'MB\\_0993'\n",
       "\\item 'MB\\_0994'\n",
       "\\item 'MB\\_0995'\n",
       "\\item 'MB\\_0996'\n",
       "\\item 'MB\\_0997'\n",
       "\\item 'MB\\_0999'\n",
       "\\item 'MB\\_1001'\n",
       "\\item 'MB\\_1002'\n",
       "\\item 'MB\\_1003'\n",
       "\\item 'MB\\_1004'\n",
       "\\item 'MB\\_1005'\n",
       "\\item 'MB\\_1006'\n",
       "\\item 'MB\\_1008'\n",
       "\\item 'MB\\_1010'\n",
       "\\item 'MB\\_1013'\n",
       "\\item 'MB\\_1015'\n",
       "\\item 'MB\\_1017'\n",
       "\\item 'MB\\_1020'\n",
       "\\item 'MB\\_1025'\n",
       "\\item 'MB\\_1026'\n",
       "\\item 'MB\\_1029'\n",
       "\\item 'MB\\_1032'\n",
       "\\item 'MB\\_1035'\n",
       "\\item 'MB\\_1038'\n",
       "\\item 'MB\\_1040'\n",
       "\\item 'MB\\_1041'\n",
       "\\item 'MB\\_1043'\n",
       "\\item 'MB\\_1045'\n",
       "\\item 'MB\\_1046'\n",
       "\\item 'MB\\_1047'\n",
       "\\item 'MB\\_1048'\n",
       "\\item 'MB\\_1051'\n",
       "\\item 'MB\\_1052'\n",
       "\\item 'MB\\_1053'\n",
       "\\item 'MB\\_1054'\n",
       "\\item 'MB\\_1056'\n",
       "\\item 'MB\\_1058'\n",
       "\\item 'MB\\_1059'\n",
       "\\item 'MB\\_1061'\n",
       "\\item 'MB\\_1062'\n",
       "\\item 'MB\\_1064'\n",
       "\\item 'MB\\_1066'\n",
       "\\item 'MB\\_1067'\n",
       "\\item 'MB\\_1069'\n",
       "\\item 'MB\\_1070'\n",
       "\\item 'MB\\_1072'\n",
       "\\item 'MB\\_1073'\n",
       "\\item 'MB\\_1078'\n",
       "\\item 'MB\\_1079'\n",
       "\\item 'MB\\_1083'\n",
       "\\item 'MB\\_1084'\n",
       "\\item 'MB\\_1090'\n",
       "\\item 'MB\\_1091'\n",
       "\\item 'MB\\_1093'\n",
       "\\item 'MB\\_1097'\n",
       "\\item 'MB\\_1098'\n",
       "\\item 'MB\\_1101'\n",
       "\\item 'MB\\_1102'\n",
       "\\item 'MB\\_1110'\n",
       "\\item 'MB\\_1118'\n",
       "\\item 'MB\\_1119'\n",
       "\\item 'MB\\_1123'\n",
       "\\item 'MB\\_1135'\n",
       "\\item 'MB\\_1136'\n",
       "\\item 'MB\\_1137'\n",
       "\\item 'MB\\_1138'\n",
       "\\item 'MB\\_1139'\n",
       "\\item 'MB\\_1141'\n",
       "\\item 'MB\\_1142'\n",
       "\\item 'MB\\_1143'\n",
       "\\item 'MB\\_1144'\n",
       "\\item 'MB\\_1145'\n",
       "\\item 'MB\\_1146'\n",
       "\\item 'MB\\_1147'\n",
       "\\item 'MB\\_1148'\n",
       "\\item 'MB\\_1149'\n",
       "\\item 'MB\\_1151'\n",
       "\\item 'MB\\_1152'\n",
       "\\item 'MB\\_1155'\n",
       "\\item 'MB\\_1156'\n",
       "\\end{enumerate*}\n"
      ],
      "text/markdown": [
       "1. 'MB_0676'\n",
       "2. 'MB_0684'\n",
       "3. 'MB_0685'\n",
       "4. 'MB_0692'\n",
       "5. 'MB_0698'\n",
       "6. 'MB_0700'\n",
       "7. 'MB_0732'\n",
       "8. 'MB_0739'\n",
       "9. 'MB_0756'\n",
       "10. 'MB_0767'\n",
       "11. 'MB_0768'\n",
       "12. 'MB_0770'\n",
       "13. 'MB_0785'\n",
       "14. 'MB_0786'\n",
       "15. 'MB_0788'\n",
       "16. 'MB_0794'\n",
       "17. 'MB_0795'\n",
       "18. 'MB_0801'\n",
       "19. 'MB_0826'\n",
       "20. 'MB_0828'\n",
       "21. 'MB_0835'\n",
       "22. 'MB_0841'\n",
       "23. 'MB_0850'\n",
       "24. 'MB_0868'\n",
       "25. 'MB_0873'\n",
       "26. 'MB_0878'\n",
       "27. 'MB_0881'\n",
       "28. 'MB_0886'\n",
       "29. 'MB_0898'\n",
       "30. 'MB_0902'\n",
       "31. 'MB_0923'\n",
       "32. 'MB_0924'\n",
       "33. 'MB_0925'\n",
       "34. 'MB_0927'\n",
       "35. 'MB_0928'\n",
       "36. 'MB_0930'\n",
       "37. 'MB_0931'\n",
       "38. 'MB_0934'\n",
       "39. 'MB_0935'\n",
       "40. 'MB_0941'\n",
       "41. 'MB_0942'\n",
       "42. 'MB_0943'\n",
       "43. 'MB_0944'\n",
       "44. 'MB_0945'\n",
       "45. 'MB_0947'\n",
       "46. 'MB_0949'\n",
       "47. 'MB_0950'\n",
       "48. 'MB_0951'\n",
       "49. 'MB_0953'\n",
       "50. 'MB_0957'\n",
       "51. 'MB_0958'\n",
       "52. 'MB_0965'\n",
       "53. 'MB_0966'\n",
       "54. 'MB_0967'\n",
       "55. 'MB_0968'\n",
       "56. 'MB_0969'\n",
       "57. 'MB_0970'\n",
       "58. 'MB_0974'\n",
       "59. 'MB_0975'\n",
       "60. 'MB_0976'\n",
       "61. 'MB_0978'\n",
       "62. 'MB_0979'\n",
       "63. 'MB_0980'\n",
       "64. 'MB_0982'\n",
       "65. 'MB_0983'\n",
       "66. 'MB_0984'\n",
       "67. 'MB_0986'\n",
       "68. 'MB_0987'\n",
       "69. 'MB_0989'\n",
       "70. 'MB_0990'\n",
       "71. 'MB_0991'\n",
       "72. 'MB_0992'\n",
       "73. 'MB_0993'\n",
       "74. 'MB_0994'\n",
       "75. 'MB_0995'\n",
       "76. 'MB_0996'\n",
       "77. 'MB_0997'\n",
       "78. 'MB_0999'\n",
       "79. 'MB_1001'\n",
       "80. 'MB_1002'\n",
       "81. 'MB_1003'\n",
       "82. 'MB_1004'\n",
       "83. 'MB_1005'\n",
       "84. 'MB_1006'\n",
       "85. 'MB_1008'\n",
       "86. 'MB_1010'\n",
       "87. 'MB_1013'\n",
       "88. 'MB_1015'\n",
       "89. 'MB_1017'\n",
       "90. 'MB_1020'\n",
       "91. 'MB_1025'\n",
       "92. 'MB_1026'\n",
       "93. 'MB_1029'\n",
       "94. 'MB_1032'\n",
       "95. 'MB_1035'\n",
       "96. 'MB_1038'\n",
       "97. 'MB_1040'\n",
       "98. 'MB_1041'\n",
       "99. 'MB_1043'\n",
       "100. 'MB_1045'\n",
       "101. 'MB_1046'\n",
       "102. 'MB_1047'\n",
       "103. 'MB_1048'\n",
       "104. 'MB_1051'\n",
       "105. 'MB_1052'\n",
       "106. 'MB_1053'\n",
       "107. 'MB_1054'\n",
       "108. 'MB_1056'\n",
       "109. 'MB_1058'\n",
       "110. 'MB_1059'\n",
       "111. 'MB_1061'\n",
       "112. 'MB_1062'\n",
       "113. 'MB_1064'\n",
       "114. 'MB_1066'\n",
       "115. 'MB_1067'\n",
       "116. 'MB_1069'\n",
       "117. 'MB_1070'\n",
       "118. 'MB_1072'\n",
       "119. 'MB_1073'\n",
       "120. 'MB_1078'\n",
       "121. 'MB_1079'\n",
       "122. 'MB_1083'\n",
       "123. 'MB_1084'\n",
       "124. 'MB_1090'\n",
       "125. 'MB_1091'\n",
       "126. 'MB_1093'\n",
       "127. 'MB_1097'\n",
       "128. 'MB_1098'\n",
       "129. 'MB_1101'\n",
       "130. 'MB_1102'\n",
       "131. 'MB_1110'\n",
       "132. 'MB_1118'\n",
       "133. 'MB_1119'\n",
       "134. 'MB_1123'\n",
       "135. 'MB_1135'\n",
       "136. 'MB_1136'\n",
       "137. 'MB_1137'\n",
       "138. 'MB_1138'\n",
       "139. 'MB_1139'\n",
       "140. 'MB_1141'\n",
       "141. 'MB_1142'\n",
       "142. 'MB_1143'\n",
       "143. 'MB_1144'\n",
       "144. 'MB_1145'\n",
       "145. 'MB_1146'\n",
       "146. 'MB_1147'\n",
       "147. 'MB_1148'\n",
       "148. 'MB_1149'\n",
       "149. 'MB_1151'\n",
       "150. 'MB_1152'\n",
       "151. 'MB_1155'\n",
       "152. 'MB_1156'\n",
       "\n",
       "\n"
      ],
      "text/plain": [
       "  [1] \"MB_0676\" \"MB_0684\" \"MB_0685\" \"MB_0692\" \"MB_0698\" \"MB_0700\" \"MB_0732\"\n",
       "  [8] \"MB_0739\" \"MB_0756\" \"MB_0767\" \"MB_0768\" \"MB_0770\" \"MB_0785\" \"MB_0786\"\n",
       " [15] \"MB_0788\" \"MB_0794\" \"MB_0795\" \"MB_0801\" \"MB_0826\" \"MB_0828\" \"MB_0835\"\n",
       " [22] \"MB_0841\" \"MB_0850\" \"MB_0868\" \"MB_0873\" \"MB_0878\" \"MB_0881\" \"MB_0886\"\n",
       " [29] \"MB_0898\" \"MB_0902\" \"MB_0923\" \"MB_0924\" \"MB_0925\" \"MB_0927\" \"MB_0928\"\n",
       " [36] \"MB_0930\" \"MB_0931\" \"MB_0934\" \"MB_0935\" \"MB_0941\" \"MB_0942\" \"MB_0943\"\n",
       " [43] \"MB_0944\" \"MB_0945\" \"MB_0947\" \"MB_0949\" \"MB_0950\" \"MB_0951\" \"MB_0953\"\n",
       " [50] \"MB_0957\" \"MB_0958\" \"MB_0965\" \"MB_0966\" \"MB_0967\" \"MB_0968\" \"MB_0969\"\n",
       " [57] \"MB_0970\" \"MB_0974\" \"MB_0975\" \"MB_0976\" \"MB_0978\" \"MB_0979\" \"MB_0980\"\n",
       " [64] \"MB_0982\" \"MB_0983\" \"MB_0984\" \"MB_0986\" \"MB_0987\" \"MB_0989\" \"MB_0990\"\n",
       " [71] \"MB_0991\" \"MB_0992\" \"MB_0993\" \"MB_0994\" \"MB_0995\" \"MB_0996\" \"MB_0997\"\n",
       " [78] \"MB_0999\" \"MB_1001\" \"MB_1002\" \"MB_1003\" \"MB_1004\" \"MB_1005\" \"MB_1006\"\n",
       " [85] \"MB_1008\" \"MB_1010\" \"MB_1013\" \"MB_1015\" \"MB_1017\" \"MB_1020\" \"MB_1025\"\n",
       " [92] \"MB_1026\" \"MB_1029\" \"MB_1032\" \"MB_1035\" \"MB_1038\" \"MB_1040\" \"MB_1041\"\n",
       " [99] \"MB_1043\" \"MB_1045\" \"MB_1046\" \"MB_1047\" \"MB_1048\" \"MB_1051\" \"MB_1052\"\n",
       "[106] \"MB_1053\" \"MB_1054\" \"MB_1056\" \"MB_1058\" \"MB_1059\" \"MB_1061\" \"MB_1062\"\n",
       "[113] \"MB_1064\" \"MB_1066\" \"MB_1067\" \"MB_1069\" \"MB_1070\" \"MB_1072\" \"MB_1073\"\n",
       "[120] \"MB_1078\" \"MB_1079\" \"MB_1083\" \"MB_1084\" \"MB_1090\" \"MB_1091\" \"MB_1093\"\n",
       "[127] \"MB_1097\" \"MB_1098\" \"MB_1101\" \"MB_1102\" \"MB_1110\" \"MB_1118\" \"MB_1119\"\n",
       "[134] \"MB_1123\" \"MB_1135\" \"MB_1136\" \"MB_1137\" \"MB_1138\" \"MB_1139\" \"MB_1141\"\n",
       "[141] \"MB_1142\" \"MB_1143\" \"MB_1144\" \"MB_1145\" \"MB_1146\" \"MB_1147\" \"MB_1148\"\n",
       "[148] \"MB_1149\" \"MB_1151\" \"MB_1152\" \"MB_1155\" \"MB_1156\""
      ]
     },
     "metadata": {},
     "output_type": "display_data"
    }
   ],
   "source": [
    "# Find missing tumor and normal samples \n",
    "setdiff(tumor_samples, colnames(expr_clean_no_na))\n",
    "setdiff(normal_samples, colnames(expr_clean_no_na))"
   ]
  },
  {
   "cell_type": "code",
   "execution_count": 59,
   "id": "f901bf0b",
   "metadata": {
    "vscode": {
     "languageId": "r"
    }
   },
   "outputs": [],
   "source": [
    "# Keeping only samples that are present in the expression matrix\n",
    "valid_tumor_samples <- tumor_samples[tumor_samples %in% colnames(expr_clean_no_na)]\n",
    "valid_normal_samples <- normal_samples[normal_samples %in% colnames(expr_clean_no_na)]\n",
    "\n",
    "all_samples <- c(valid_tumor_samples, valid_normal_samples)\n",
    "\n",
    "expr_matrix <- expr_clean_no_na %>%\n",
    "  select(name, all_of(all_samples)) %>%\n",
    "  column_to_rownames(\"name\") %>%\n",
    "  as.matrix()\n",
    "\n",
    "group_info <- factor(c(rep(\"Tumor\", length(valid_tumor_samples)),\n",
    "                       rep(\"Normal\", length(valid_normal_samples))))\n",
    "\n",
    "sample_info <- data.frame(row.names = all_samples,\n",
    "                          condition = group_info)"
   ]
  },
  {
   "cell_type": "code",
   "execution_count": 61,
   "id": "7822263b",
   "metadata": {
    "vscode": {
     "languageId": "r"
    }
   },
   "outputs": [
    {
     "data": {
      "text/html": [
       "<table class=\"dataframe\">\n",
       "<caption>A matrix: 6 × 1510 of type dbl</caption>\n",
       "<thead>\n",
       "\t<tr><th></th><th scope=col>MB_0006</th><th scope=col>MB_0028</th><th scope=col>MB_0035</th><th scope=col>MB_0046</th><th scope=col>MB_0050</th><th scope=col>MB_0053</th><th scope=col>MB_0054</th><th scope=col>MB_0062</th><th scope=col>MB_0064</th><th scope=col>MB_0068</th><th scope=col>⋯</th><th scope=col>MB_1122</th><th scope=col>MB_1124</th><th scope=col>MB_1125</th><th scope=col>MB_1126</th><th scope=col>MB_1127</th><th scope=col>MB_1129</th><th scope=col>MB_1130</th><th scope=col>MB_1131</th><th scope=col>MB_1132</th><th scope=col>MB_1134</th></tr>\n",
       "</thead>\n",
       "<tbody>\n",
       "\t<tr><th scope=row>A1BG</th><td> 5.154137</td><td>5.427331</td><td>5.348858</td><td>5.202343</td><td>5.578217</td><td> 5.478944</td><td> 5.416361</td><td>5.412713</td><td> 5.568018</td><td> 5.538632</td><td>⋯</td><td>5.367985</td><td> 5.415512</td><td>5.697088</td><td> 5.258433</td><td> 5.740049</td><td> 5.349690</td><td> 5.690235</td><td> 5.351243</td><td>5.394567</td><td> 5.332850</td></tr>\n",
       "\t<tr><th scope=row>A1CF</th><td> 5.369542</td><td>5.461679</td><td>5.522452</td><td>5.300575</td><td>5.534461</td><td> 5.589849</td><td> 5.862583</td><td>5.554187</td><td> 5.407471</td><td> 5.552637</td><td>⋯</td><td>5.542789</td><td> 5.410999</td><td>5.332696</td><td> 5.605308</td><td> 5.421568</td><td> 5.493910</td><td> 5.585538</td><td> 5.468745</td><td>5.648910</td><td> 5.360135</td></tr>\n",
       "\t<tr><th scope=row>A2M</th><td>11.313047</td><td>8.331443</td><td>8.799081</td><td>8.950381</td><td>8.389486</td><td>10.113432</td><td>10.987968</td><td>8.675327</td><td>10.404373</td><td>11.195207</td><td>⋯</td><td>9.120693</td><td>10.300475</td><td>9.067258</td><td>10.260171</td><td>10.009167</td><td>10.423527</td><td>10.629988</td><td>10.781345</td><td>9.452789</td><td>10.692419</td></tr>\n",
       "\t<tr><th scope=row>A2ML1</th><td> 5.143290</td><td>5.248334</td><td>5.048026</td><td>5.473531</td><td>5.177723</td><td> 5.177799</td><td> 5.453070</td><td>6.825765</td><td> 5.153257</td><td> 5.309752</td><td>⋯</td><td>5.467551</td><td> 5.496686</td><td>5.271079</td><td> 5.635833</td><td> 5.296339</td><td> 5.373953</td><td> 5.720738</td><td> 5.251468</td><td>5.691414</td><td> 5.158742</td></tr>\n",
       "\t<tr><th scope=row>A3GALT2</th><td> 5.083991</td><td>5.154873</td><td>5.179089</td><td>5.230425</td><td>5.314897</td><td> 5.165210</td><td> 5.207755</td><td>5.372409</td><td> 5.324554</td><td> 5.197040</td><td>⋯</td><td>5.230520</td><td> 5.252018</td><td>5.307065</td><td> 5.181244</td><td> 5.106386</td><td> 5.269903</td><td> 5.135607</td><td> 5.208010</td><td>5.271826</td><td> 5.240749</td></tr>\n",
       "\t<tr><th scope=row>A4GALT</th><td> 6.223461</td><td>6.632423</td><td>5.493569</td><td>6.690209</td><td>6.511529</td><td> 5.681092</td><td> 6.010715</td><td>6.128620</td><td> 5.675376</td><td> 5.812931</td><td>⋯</td><td>6.851858</td><td> 7.192845</td><td>7.415868</td><td> 7.237813</td><td> 6.889397</td><td> 6.756294</td><td> 7.420115</td><td> 6.859438</td><td>7.186318</td><td> 7.263735</td></tr>\n",
       "</tbody>\n",
       "</table>\n"
      ],
      "text/latex": [
       "A matrix: 6 × 1510 of type dbl\n",
       "\\begin{tabular}{r|lllllllllllllllllllll}\n",
       "  & MB\\_0006 & MB\\_0028 & MB\\_0035 & MB\\_0046 & MB\\_0050 & MB\\_0053 & MB\\_0054 & MB\\_0062 & MB\\_0064 & MB\\_0068 & ⋯ & MB\\_1122 & MB\\_1124 & MB\\_1125 & MB\\_1126 & MB\\_1127 & MB\\_1129 & MB\\_1130 & MB\\_1131 & MB\\_1132 & MB\\_1134\\\\\n",
       "\\hline\n",
       "\tA1BG &  5.154137 & 5.427331 & 5.348858 & 5.202343 & 5.578217 &  5.478944 &  5.416361 & 5.412713 &  5.568018 &  5.538632 & ⋯ & 5.367985 &  5.415512 & 5.697088 &  5.258433 &  5.740049 &  5.349690 &  5.690235 &  5.351243 & 5.394567 &  5.332850\\\\\n",
       "\tA1CF &  5.369542 & 5.461679 & 5.522452 & 5.300575 & 5.534461 &  5.589849 &  5.862583 & 5.554187 &  5.407471 &  5.552637 & ⋯ & 5.542789 &  5.410999 & 5.332696 &  5.605308 &  5.421568 &  5.493910 &  5.585538 &  5.468745 & 5.648910 &  5.360135\\\\\n",
       "\tA2M & 11.313047 & 8.331443 & 8.799081 & 8.950381 & 8.389486 & 10.113432 & 10.987968 & 8.675327 & 10.404373 & 11.195207 & ⋯ & 9.120693 & 10.300475 & 9.067258 & 10.260171 & 10.009167 & 10.423527 & 10.629988 & 10.781345 & 9.452789 & 10.692419\\\\\n",
       "\tA2ML1 &  5.143290 & 5.248334 & 5.048026 & 5.473531 & 5.177723 &  5.177799 &  5.453070 & 6.825765 &  5.153257 &  5.309752 & ⋯ & 5.467551 &  5.496686 & 5.271079 &  5.635833 &  5.296339 &  5.373953 &  5.720738 &  5.251468 & 5.691414 &  5.158742\\\\\n",
       "\tA3GALT2 &  5.083991 & 5.154873 & 5.179089 & 5.230425 & 5.314897 &  5.165210 &  5.207755 & 5.372409 &  5.324554 &  5.197040 & ⋯ & 5.230520 &  5.252018 & 5.307065 &  5.181244 &  5.106386 &  5.269903 &  5.135607 &  5.208010 & 5.271826 &  5.240749\\\\\n",
       "\tA4GALT &  6.223461 & 6.632423 & 5.493569 & 6.690209 & 6.511529 &  5.681092 &  6.010715 & 6.128620 &  5.675376 &  5.812931 & ⋯ & 6.851858 &  7.192845 & 7.415868 &  7.237813 &  6.889397 &  6.756294 &  7.420115 &  6.859438 & 7.186318 &  7.263735\\\\\n",
       "\\end{tabular}\n"
      ],
      "text/markdown": [
       "\n",
       "A matrix: 6 × 1510 of type dbl\n",
       "\n",
       "| <!--/--> | MB_0006 | MB_0028 | MB_0035 | MB_0046 | MB_0050 | MB_0053 | MB_0054 | MB_0062 | MB_0064 | MB_0068 | ⋯ | MB_1122 | MB_1124 | MB_1125 | MB_1126 | MB_1127 | MB_1129 | MB_1130 | MB_1131 | MB_1132 | MB_1134 |\n",
       "|---|---|---|---|---|---|---|---|---|---|---|---|---|---|---|---|---|---|---|---|---|---|\n",
       "| A1BG |  5.154137 | 5.427331 | 5.348858 | 5.202343 | 5.578217 |  5.478944 |  5.416361 | 5.412713 |  5.568018 |  5.538632 | ⋯ | 5.367985 |  5.415512 | 5.697088 |  5.258433 |  5.740049 |  5.349690 |  5.690235 |  5.351243 | 5.394567 |  5.332850 |\n",
       "| A1CF |  5.369542 | 5.461679 | 5.522452 | 5.300575 | 5.534461 |  5.589849 |  5.862583 | 5.554187 |  5.407471 |  5.552637 | ⋯ | 5.542789 |  5.410999 | 5.332696 |  5.605308 |  5.421568 |  5.493910 |  5.585538 |  5.468745 | 5.648910 |  5.360135 |\n",
       "| A2M | 11.313047 | 8.331443 | 8.799081 | 8.950381 | 8.389486 | 10.113432 | 10.987968 | 8.675327 | 10.404373 | 11.195207 | ⋯ | 9.120693 | 10.300475 | 9.067258 | 10.260171 | 10.009167 | 10.423527 | 10.629988 | 10.781345 | 9.452789 | 10.692419 |\n",
       "| A2ML1 |  5.143290 | 5.248334 | 5.048026 | 5.473531 | 5.177723 |  5.177799 |  5.453070 | 6.825765 |  5.153257 |  5.309752 | ⋯ | 5.467551 |  5.496686 | 5.271079 |  5.635833 |  5.296339 |  5.373953 |  5.720738 |  5.251468 | 5.691414 |  5.158742 |\n",
       "| A3GALT2 |  5.083991 | 5.154873 | 5.179089 | 5.230425 | 5.314897 |  5.165210 |  5.207755 | 5.372409 |  5.324554 |  5.197040 | ⋯ | 5.230520 |  5.252018 | 5.307065 |  5.181244 |  5.106386 |  5.269903 |  5.135607 |  5.208010 | 5.271826 |  5.240749 |\n",
       "| A4GALT |  6.223461 | 6.632423 | 5.493569 | 6.690209 | 6.511529 |  5.681092 |  6.010715 | 6.128620 |  5.675376 |  5.812931 | ⋯ | 6.851858 |  7.192845 | 7.415868 |  7.237813 |  6.889397 |  6.756294 |  7.420115 |  6.859438 | 7.186318 |  7.263735 |\n",
       "\n"
      ],
      "text/plain": [
       "        MB_0006   MB_0028  MB_0035  MB_0046  MB_0050  MB_0053   MB_0054  \n",
       "A1BG     5.154137 5.427331 5.348858 5.202343 5.578217  5.478944  5.416361\n",
       "A1CF     5.369542 5.461679 5.522452 5.300575 5.534461  5.589849  5.862583\n",
       "A2M     11.313047 8.331443 8.799081 8.950381 8.389486 10.113432 10.987968\n",
       "A2ML1    5.143290 5.248334 5.048026 5.473531 5.177723  5.177799  5.453070\n",
       "A3GALT2  5.083991 5.154873 5.179089 5.230425 5.314897  5.165210  5.207755\n",
       "A4GALT   6.223461 6.632423 5.493569 6.690209 6.511529  5.681092  6.010715\n",
       "        MB_0062  MB_0064   MB_0068   ⋯ MB_1122  MB_1124   MB_1125  MB_1126  \n",
       "A1BG    5.412713  5.568018  5.538632 ⋯ 5.367985  5.415512 5.697088  5.258433\n",
       "A1CF    5.554187  5.407471  5.552637 ⋯ 5.542789  5.410999 5.332696  5.605308\n",
       "A2M     8.675327 10.404373 11.195207 ⋯ 9.120693 10.300475 9.067258 10.260171\n",
       "A2ML1   6.825765  5.153257  5.309752 ⋯ 5.467551  5.496686 5.271079  5.635833\n",
       "A3GALT2 5.372409  5.324554  5.197040 ⋯ 5.230520  5.252018 5.307065  5.181244\n",
       "A4GALT  6.128620  5.675376  5.812931 ⋯ 6.851858  7.192845 7.415868  7.237813\n",
       "        MB_1127   MB_1129   MB_1130   MB_1131   MB_1132  MB_1134  \n",
       "A1BG     5.740049  5.349690  5.690235  5.351243 5.394567  5.332850\n",
       "A1CF     5.421568  5.493910  5.585538  5.468745 5.648910  5.360135\n",
       "A2M     10.009167 10.423527 10.629988 10.781345 9.452789 10.692419\n",
       "A2ML1    5.296339  5.373953  5.720738  5.251468 5.691414  5.158742\n",
       "A3GALT2  5.106386  5.269903  5.135607  5.208010 5.271826  5.240749\n",
       "A4GALT   6.889397  6.756294  7.420115  6.859438 7.186318  7.263735"
      ]
     },
     "metadata": {},
     "output_type": "display_data"
    },
    {
     "data": {
      "text/html": [
       "<style>\n",
       ".list-inline {list-style: none; margin:0; padding: 0}\n",
       ".list-inline>li {display: inline-block}\n",
       ".list-inline>li:not(:last-child)::after {content: \"\\00b7\"; padding: 0 .5ex}\n",
       "</style>\n",
       "<ol class=list-inline><li>17691</li><li>1510</li></ol>\n"
      ],
      "text/latex": [
       "\\begin{enumerate*}\n",
       "\\item 17691\n",
       "\\item 1510\n",
       "\\end{enumerate*}\n"
      ],
      "text/markdown": [
       "1. 17691\n",
       "2. 1510\n",
       "\n",
       "\n"
      ],
      "text/plain": [
       "[1] 17691  1510"
      ]
     },
     "metadata": {},
     "output_type": "display_data"
    }
   ],
   "source": [
    "head(expr_matrix)\n",
    "dim(expr_matrix)\n"
   ]
  },
  {
   "cell_type": "code",
   "execution_count": 65,
   "id": "345eb9b3",
   "metadata": {
    "vscode": {
     "languageId": "r"
    }
   },
   "outputs": [
    {
     "data": {
      "text/html": [
       "1510"
      ],
      "text/latex": [
       "1510"
      ],
      "text/markdown": [
       "1510"
      ],
      "text/plain": [
       "[1] 1510"
      ]
     },
     "metadata": {},
     "output_type": "display_data"
    },
    {
     "data": {
      "text/html": [
       "1510"
      ],
      "text/latex": [
       "1510"
      ],
      "text/markdown": [
       "1510"
      ],
      "text/plain": [
       "[1] 1510"
      ]
     },
     "metadata": {},
     "output_type": "display_data"
    },
    {
     "data": {
      "text/html": [
       "0"
      ],
      "text/latex": [
       "0"
      ],
      "text/markdown": [
       "0"
      ],
      "text/plain": [
       "[1] 0"
      ]
     },
     "metadata": {},
     "output_type": "display_data"
    }
   ],
   "source": [
    "ncol(expr_matrix)         # number of samples in the expression matrix\n",
    "nrow(sample_info)         # number of samples in the metadata\n",
    "\n",
    "# Ensure that the expression matrix has no NA values for DeSeq2 analysis\n",
    "expr_matrix <- expr_matrix[complete.cases(expr_matrix), ]\n",
    "sum(is.na(expr_matrix))  # should be 0"
   ]
  },
  {
   "cell_type": "code",
   "execution_count": null,
   "id": "6b894c2e",
   "metadata": {
    "vscode": {
     "languageId": "r"
    }
   },
   "outputs": [
    {
     "data": {
      "text/html": [
       "<table class=\"dataframe\">\n",
       "<caption>A matrix: 6 × 5 of type dbl</caption>\n",
       "<thead>\n",
       "\t<tr><th></th><th scope=col>MB_0006</th><th scope=col>MB_0028</th><th scope=col>MB_0035</th><th scope=col>MB_0046</th><th scope=col>MB_0050</th></tr>\n",
       "</thead>\n",
       "<tbody>\n",
       "\t<tr><th scope=row>A1BG</th><td> 5.154137</td><td>5.427331</td><td>5.348858</td><td>5.202343</td><td>5.578217</td></tr>\n",
       "\t<tr><th scope=row>A1CF</th><td> 5.369542</td><td>5.461679</td><td>5.522452</td><td>5.300575</td><td>5.534461</td></tr>\n",
       "\t<tr><th scope=row>A2M</th><td>11.313047</td><td>8.331443</td><td>8.799081</td><td>8.950381</td><td>8.389486</td></tr>\n",
       "\t<tr><th scope=row>A2ML1</th><td> 5.143290</td><td>5.248334</td><td>5.048026</td><td>5.473531</td><td>5.177723</td></tr>\n",
       "\t<tr><th scope=row>A3GALT2</th><td> 5.083991</td><td>5.154873</td><td>5.179089</td><td>5.230425</td><td>5.314897</td></tr>\n",
       "\t<tr><th scope=row>A4GALT</th><td> 6.223461</td><td>6.632423</td><td>5.493569</td><td>6.690209</td><td>6.511529</td></tr>\n",
       "</tbody>\n",
       "</table>\n"
      ],
      "text/latex": [
       "A matrix: 6 × 5 of type dbl\n",
       "\\begin{tabular}{r|lllll}\n",
       "  & MB\\_0006 & MB\\_0028 & MB\\_0035 & MB\\_0046 & MB\\_0050\\\\\n",
       "\\hline\n",
       "\tA1BG &  5.154137 & 5.427331 & 5.348858 & 5.202343 & 5.578217\\\\\n",
       "\tA1CF &  5.369542 & 5.461679 & 5.522452 & 5.300575 & 5.534461\\\\\n",
       "\tA2M & 11.313047 & 8.331443 & 8.799081 & 8.950381 & 8.389486\\\\\n",
       "\tA2ML1 &  5.143290 & 5.248334 & 5.048026 & 5.473531 & 5.177723\\\\\n",
       "\tA3GALT2 &  5.083991 & 5.154873 & 5.179089 & 5.230425 & 5.314897\\\\\n",
       "\tA4GALT &  6.223461 & 6.632423 & 5.493569 & 6.690209 & 6.511529\\\\\n",
       "\\end{tabular}\n"
      ],
      "text/markdown": [
       "\n",
       "A matrix: 6 × 5 of type dbl\n",
       "\n",
       "| <!--/--> | MB_0006 | MB_0028 | MB_0035 | MB_0046 | MB_0050 |\n",
       "|---|---|---|---|---|---|\n",
       "| A1BG |  5.154137 | 5.427331 | 5.348858 | 5.202343 | 5.578217 |\n",
       "| A1CF |  5.369542 | 5.461679 | 5.522452 | 5.300575 | 5.534461 |\n",
       "| A2M | 11.313047 | 8.331443 | 8.799081 | 8.950381 | 8.389486 |\n",
       "| A2ML1 |  5.143290 | 5.248334 | 5.048026 | 5.473531 | 5.177723 |\n",
       "| A3GALT2 |  5.083991 | 5.154873 | 5.179089 | 5.230425 | 5.314897 |\n",
       "| A4GALT |  6.223461 | 6.632423 | 5.493569 | 6.690209 | 6.511529 |\n",
       "\n"
      ],
      "text/plain": [
       "        MB_0006   MB_0028  MB_0035  MB_0046  MB_0050 \n",
       "A1BG     5.154137 5.427331 5.348858 5.202343 5.578217\n",
       "A1CF     5.369542 5.461679 5.522452 5.300575 5.534461\n",
       "A2M     11.313047 8.331443 8.799081 8.950381 8.389486\n",
       "A2ML1    5.143290 5.248334 5.048026 5.473531 5.177723\n",
       "A3GALT2  5.083991 5.154873 5.179089 5.230425 5.314897\n",
       "A4GALT   6.223461 6.632423 5.493569 6.690209 6.511529"
      ]
     },
     "metadata": {},
     "output_type": "display_data"
    },
    {
     "data": {
      "text/plain": [
       "   Min. 1st Qu.  Median    Mean 3rd Qu.    Max. \n",
       "  4.558   5.488   6.146   6.764   7.692  14.879 "
      ]
     },
     "metadata": {},
     "output_type": "display_data"
    }
   ],
   "source": [
    "head(expr_matrix[, 1:5])\n",
    "summary(as.vector(expr_matrix))"
   ]
  },
  {
   "cell_type": "markdown",
   "id": "87191b88",
   "metadata": {},
   "source": [
    "Log transformed data hence use limma, not DeSeq(assumes raw counts)"
   ]
  },
  {
   "cell_type": "code",
   "execution_count": 202,
   "id": "969277bd",
   "metadata": {
    "vscode": {
     "languageId": "r"
    }
   },
   "outputs": [],
   "source": [
    "# Expression matrix: log2-normalized already\n",
    "expr_matrix <- as.matrix(expr_matrix)\n",
    "\n",
    "# Make sure sample_info is a DataFrame with matching rownames\n",
    "design <- model.matrix(~ 0 + condition, data = sample_info)\n",
    "colnames(design) <- levels(sample_info$condition)\n",
    "fit <- lmFit(expr_matrix, design)\n",
    "contrast_matrix <- makeContrasts(TumorVsNormal = Tumor - Normal, levels = design)\n",
    "fit2 <- contrasts.fit(fit, contrast_matrix)\n",
    "fit2 <- eBayes(fit2)\n",
    "\n",
    "degs <- topTable(fit2, adjust = \"BH\", number = Inf)\n",
    "\n",
    "deg_filtered <- degs %>%\n",
    "  filter(adj.P.Val < 0.05 & abs(logFC) > 1)\n",
    "\n",
    "deg_filtered <- deg_filtered %>% tibble::rownames_to_column(var = \"Gene\")\n",
    "write.csv(deg_filtered, \"results/DEGs_limma_log2.csv\", row.names = TRUE)"
   ]
  },
  {
   "cell_type": "code",
   "execution_count": 189,
   "id": "f9e8ae25",
   "metadata": {
    "vscode": {
     "languageId": "r"
    }
   },
   "outputs": [
    {
     "data": {
      "text/html": [
       "<table class=\"dataframe\">\n",
       "<caption>A data.frame: 6 × 7</caption>\n",
       "<thead>\n",
       "\t<tr><th></th><th scope=col>Gene</th><th scope=col>logFC</th><th scope=col>AveExpr</th><th scope=col>t</th><th scope=col>P.Value</th><th scope=col>adj.P.Val</th><th scope=col>B</th></tr>\n",
       "\t<tr><th></th><th scope=col>&lt;chr&gt;</th><th scope=col>&lt;dbl&gt;</th><th scope=col>&lt;dbl&gt;</th><th scope=col>&lt;dbl&gt;</th><th scope=col>&lt;dbl&gt;</th><th scope=col>&lt;dbl&gt;</th><th scope=col>&lt;dbl&gt;</th></tr>\n",
       "</thead>\n",
       "<tbody>\n",
       "\t<tr><th scope=row>1</th><td>CLDN15 </td><td> 0.3464979</td><td>0.7032807</td><td> 38.62804</td><td>1.236462e-237</td><td>1.675654e-233</td><td>532.8939</td></tr>\n",
       "\t<tr><th scope=row>2</th><td>DNHD1  </td><td> 0.3242689</td><td>0.7421438</td><td> 35.00313</td><td>1.029206e-204</td><td>4.649267e-201</td><td>457.1170</td></tr>\n",
       "\t<tr><th scope=row>3</th><td>FAM193A</td><td> 0.3817032</td><td>0.6645227</td><td> 33.86437</td><td>1.752624e-194</td><td>5.937889e-191</td><td>433.5688</td></tr>\n",
       "\t<tr><th scope=row>4</th><td>PTK6   </td><td>-0.2238605</td><td>0.1832359</td><td>-32.05179</td><td>2.351646e-178</td><td>5.311583e-175</td><td>396.4519</td></tr>\n",
       "\t<tr><th scope=row>5</th><td>RGS22  </td><td> 0.4428162</td><td>0.5028946</td><td> 31.19260</td><td>8.615077e-171</td><td>1.667879e-167</td><td>379.0453</td></tr>\n",
       "\t<tr><th scope=row>6</th><td>FXYD1  </td><td> 0.2995720</td><td>0.6001037</td><td> 30.72824</td><td>9.964368e-167</td><td>1.687964e-163</td><td>369.6952</td></tr>\n",
       "</tbody>\n",
       "</table>\n"
      ],
      "text/latex": [
       "A data.frame: 6 × 7\n",
       "\\begin{tabular}{r|lllllll}\n",
       "  & Gene & logFC & AveExpr & t & P.Value & adj.P.Val & B\\\\\n",
       "  & <chr> & <dbl> & <dbl> & <dbl> & <dbl> & <dbl> & <dbl>\\\\\n",
       "\\hline\n",
       "\t1 & CLDN15  &  0.3464979 & 0.7032807 &  38.62804 & 1.236462e-237 & 1.675654e-233 & 532.8939\\\\\n",
       "\t2 & DNHD1   &  0.3242689 & 0.7421438 &  35.00313 & 1.029206e-204 & 4.649267e-201 & 457.1170\\\\\n",
       "\t3 & FAM193A &  0.3817032 & 0.6645227 &  33.86437 & 1.752624e-194 & 5.937889e-191 & 433.5688\\\\\n",
       "\t4 & PTK6    & -0.2238605 & 0.1832359 & -32.05179 & 2.351646e-178 & 5.311583e-175 & 396.4519\\\\\n",
       "\t5 & RGS22   &  0.4428162 & 0.5028946 &  31.19260 & 8.615077e-171 & 1.667879e-167 & 379.0453\\\\\n",
       "\t6 & FXYD1   &  0.2995720 & 0.6001037 &  30.72824 & 9.964368e-167 & 1.687964e-163 & 369.6952\\\\\n",
       "\\end{tabular}\n"
      ],
      "text/markdown": [
       "\n",
       "A data.frame: 6 × 7\n",
       "\n",
       "| <!--/--> | Gene &lt;chr&gt; | logFC &lt;dbl&gt; | AveExpr &lt;dbl&gt; | t &lt;dbl&gt; | P.Value &lt;dbl&gt; | adj.P.Val &lt;dbl&gt; | B &lt;dbl&gt; |\n",
       "|---|---|---|---|---|---|---|---|\n",
       "| 1 | CLDN15  |  0.3464979 | 0.7032807 |  38.62804 | 1.236462e-237 | 1.675654e-233 | 532.8939 |\n",
       "| 2 | DNHD1   |  0.3242689 | 0.7421438 |  35.00313 | 1.029206e-204 | 4.649267e-201 | 457.1170 |\n",
       "| 3 | FAM193A |  0.3817032 | 0.6645227 |  33.86437 | 1.752624e-194 | 5.937889e-191 | 433.5688 |\n",
       "| 4 | PTK6    | -0.2238605 | 0.1832359 | -32.05179 | 2.351646e-178 | 5.311583e-175 | 396.4519 |\n",
       "| 5 | RGS22   |  0.4428162 | 0.5028946 |  31.19260 | 8.615077e-171 | 1.667879e-167 | 379.0453 |\n",
       "| 6 | FXYD1   |  0.2995720 | 0.6001037 |  30.72824 | 9.964368e-167 | 1.687964e-163 | 369.6952 |\n",
       "\n"
      ],
      "text/plain": [
       "  Gene    logFC      AveExpr   t         P.Value       adj.P.Val     B       \n",
       "1 CLDN15   0.3464979 0.7032807  38.62804 1.236462e-237 1.675654e-233 532.8939\n",
       "2 DNHD1    0.3242689 0.7421438  35.00313 1.029206e-204 4.649267e-201 457.1170\n",
       "3 FAM193A  0.3817032 0.6645227  33.86437 1.752624e-194 5.937889e-191 433.5688\n",
       "4 PTK6    -0.2238605 0.1832359 -32.05179 2.351646e-178 5.311583e-175 396.4519\n",
       "5 RGS22    0.4428162 0.5028946  31.19260 8.615077e-171 1.667879e-167 379.0453\n",
       "6 FXYD1    0.2995720 0.6001037  30.72824 9.964368e-167 1.687964e-163 369.6952"
      ]
     },
     "metadata": {},
     "output_type": "display_data"
    },
    {
     "data": {
      "text/html": [
       "<table class=\"dataframe\">\n",
       "<caption>A data.frame: 6 × 7</caption>\n",
       "<thead>\n",
       "\t<tr><th></th><th scope=col>Gene</th><th scope=col>logFC</th><th scope=col>AveExpr</th><th scope=col>t</th><th scope=col>P.Value</th><th scope=col>adj.P.Val</th><th scope=col>B</th></tr>\n",
       "\t<tr><th></th><th scope=col>&lt;chr&gt;</th><th scope=col>&lt;dbl&gt;</th><th scope=col>&lt;dbl&gt;</th><th scope=col>&lt;dbl&gt;</th><th scope=col>&lt;dbl&gt;</th><th scope=col>&lt;dbl&gt;</th><th scope=col>&lt;dbl&gt;</th></tr>\n",
       "</thead>\n",
       "<tbody>\n",
       "\t<tr><th scope=row>1</th><td>FXYD1  </td><td>-1.767169</td><td>5.905455</td><td>-45.30222</td><td>9.911630e-284</td><td>1.752971e-279</td><td>639.3498</td></tr>\n",
       "\t<tr><th scope=row>2</th><td>ABCA9  </td><td>-1.882253</td><td>5.995793</td><td>-44.26197</td><td>4.907092e-275</td><td>4.339342e-271</td><td>619.3757</td></tr>\n",
       "\t<tr><th scope=row>3</th><td>SDPR   </td><td>-2.769505</td><td>6.547513</td><td>-43.98155</td><td>1.094869e-272</td><td>6.454617e-269</td><td>613.9803</td></tr>\n",
       "\t<tr><th scope=row>4</th><td>CLEC3B </td><td>-3.016425</td><td>6.557248</td><td>-43.56792</td><td>3.213359e-269</td><td>1.420787e-265</td><td>606.0140</td></tr>\n",
       "\t<tr><th scope=row>5</th><td>CD300LG</td><td>-3.512054</td><td>6.709771</td><td>-42.85208</td><td>3.286971e-263</td><td>1.162668e-259</td><td>592.2069</td></tr>\n",
       "\t<tr><th scope=row>6</th><td>SCARA5 </td><td>-2.802986</td><td>5.950360</td><td>-42.02167</td><td>3.168275e-256</td><td>9.339017e-253</td><td>576.1613</td></tr>\n",
       "</tbody>\n",
       "</table>\n"
      ],
      "text/latex": [
       "A data.frame: 6 × 7\n",
       "\\begin{tabular}{r|lllllll}\n",
       "  & Gene & logFC & AveExpr & t & P.Value & adj.P.Val & B\\\\\n",
       "  & <chr> & <dbl> & <dbl> & <dbl> & <dbl> & <dbl> & <dbl>\\\\\n",
       "\\hline\n",
       "\t1 & FXYD1   & -1.767169 & 5.905455 & -45.30222 & 9.911630e-284 & 1.752971e-279 & 639.3498\\\\\n",
       "\t2 & ABCA9   & -1.882253 & 5.995793 & -44.26197 & 4.907092e-275 & 4.339342e-271 & 619.3757\\\\\n",
       "\t3 & SDPR    & -2.769505 & 6.547513 & -43.98155 & 1.094869e-272 & 6.454617e-269 & 613.9803\\\\\n",
       "\t4 & CLEC3B  & -3.016425 & 6.557248 & -43.56792 & 3.213359e-269 & 1.420787e-265 & 606.0140\\\\\n",
       "\t5 & CD300LG & -3.512054 & 6.709771 & -42.85208 & 3.286971e-263 & 1.162668e-259 & 592.2069\\\\\n",
       "\t6 & SCARA5  & -2.802986 & 5.950360 & -42.02167 & 3.168275e-256 & 9.339017e-253 & 576.1613\\\\\n",
       "\\end{tabular}\n"
      ],
      "text/markdown": [
       "\n",
       "A data.frame: 6 × 7\n",
       "\n",
       "| <!--/--> | Gene &lt;chr&gt; | logFC &lt;dbl&gt; | AveExpr &lt;dbl&gt; | t &lt;dbl&gt; | P.Value &lt;dbl&gt; | adj.P.Val &lt;dbl&gt; | B &lt;dbl&gt; |\n",
       "|---|---|---|---|---|---|---|---|\n",
       "| 1 | FXYD1   | -1.767169 | 5.905455 | -45.30222 | 9.911630e-284 | 1.752971e-279 | 639.3498 |\n",
       "| 2 | ABCA9   | -1.882253 | 5.995793 | -44.26197 | 4.907092e-275 | 4.339342e-271 | 619.3757 |\n",
       "| 3 | SDPR    | -2.769505 | 6.547513 | -43.98155 | 1.094869e-272 | 6.454617e-269 | 613.9803 |\n",
       "| 4 | CLEC3B  | -3.016425 | 6.557248 | -43.56792 | 3.213359e-269 | 1.420787e-265 | 606.0140 |\n",
       "| 5 | CD300LG | -3.512054 | 6.709771 | -42.85208 | 3.286971e-263 | 1.162668e-259 | 592.2069 |\n",
       "| 6 | SCARA5  | -2.802986 | 5.950360 | -42.02167 | 3.168275e-256 | 9.339017e-253 | 576.1613 |\n",
       "\n"
      ],
      "text/plain": [
       "  Gene    logFC     AveExpr  t         P.Value       adj.P.Val     B       \n",
       "1 FXYD1   -1.767169 5.905455 -45.30222 9.911630e-284 1.752971e-279 639.3498\n",
       "2 ABCA9   -1.882253 5.995793 -44.26197 4.907092e-275 4.339342e-271 619.3757\n",
       "3 SDPR    -2.769505 6.547513 -43.98155 1.094869e-272 6.454617e-269 613.9803\n",
       "4 CLEC3B  -3.016425 6.557248 -43.56792 3.213359e-269 1.420787e-265 606.0140\n",
       "5 CD300LG -3.512054 6.709771 -42.85208 3.286971e-263 1.162668e-259 592.2069\n",
       "6 SCARA5  -2.802986 5.950360 -42.02167 3.168275e-256 9.339017e-253 576.1613"
      ]
     },
     "metadata": {},
     "output_type": "display_data"
    }
   ],
   "source": [
    "head(dmrs_limma)\n",
    "head(deg_filtered)"
   ]
  },
  {
   "cell_type": "markdown",
   "id": "731a30da",
   "metadata": {},
   "source": []
  },
  {
   "cell_type": "markdown",
   "id": "3e089499",
   "metadata": {},
   "source": [
    "Merging expression and methylation dataframes to compute spearman correlation between theri logFC values "
   ]
  },
  {
   "cell_type": "code",
   "execution_count": 193,
   "id": "7bee2990",
   "metadata": {
    "vscode": {
     "languageId": "r"
    }
   },
   "outputs": [
    {
     "data": {
      "text/plain": [
       "\n",
       "\tSpearman's rank correlation rho\n",
       "\n",
       "data:  deg_dmr_overlap$logFC_expr and deg_dmr_overlap$logFC_meth\n",
       "S = 9424, p-value = 0.009812\n",
       "alternative hypothesis: true rho is not equal to 0\n",
       "sample estimates:\n",
       "       rho \n",
       "-0.4398778 \n"
      ]
     },
     "metadata": {},
     "output_type": "display_data"
    }
   ],
   "source": [
    "deg_dmr_overlap <- inner_join(deg_filtered, dmrs_limma, by = \"Gene\", suffix = c(\"_expr\", \"_meth\"))\n",
    "cor.test(deg_dmr_overlap$logFC_expr, deg_dmr_overlap$logFC_meth, method = \"spearman\")"
   ]
  },
  {
   "cell_type": "code",
   "execution_count": 201,
   "id": "27743b44",
   "metadata": {
    "vscode": {
     "languageId": "r"
    }
   },
   "outputs": [
    {
     "name": "stderr",
     "output_type": "stream",
     "text": [
      "\u001b[1m\u001b[22m`geom_smooth()` using formula = 'y ~ x'\n",
      "Warning message:\n",
      "“\u001b[1m\u001b[22mThe following aesthetics were dropped during statistical transformation: \u001b[32mlabel\u001b[39m.\n",
      "\u001b[36mℹ\u001b[39m This can happen when ggplot fails to infer the correct grouping structure in\n",
      "  the data.\n",
      "\u001b[36mℹ\u001b[39m Did you forget to specify a `group` aesthetic or to convert a numerical\n",
      "  variable into a factor?”\n",
      "\u001b[1m\u001b[22m`geom_smooth()` using formula = 'y ~ x'\n",
      "Warning message:\n",
      "“\u001b[1m\u001b[22mThe following aesthetics were dropped during statistical transformation: \u001b[32mlabel\u001b[39m.\n",
      "\u001b[36mℹ\u001b[39m This can happen when ggplot fails to infer the correct grouping structure in\n",
      "  the data.\n",
      "\u001b[36mℹ\u001b[39m Did you forget to specify a `group` aesthetic or to convert a numerical\n",
      "  variable into a factor?”\n"
     ]
    },
    {
     "data": {
      "image/png": "[encoded data removed]",
      "text/plain": [
       "plot without title"
      ]
     },
     "metadata": {
      "image/png": {
       "height": 420,
       "width": 420
      }
     },
     "output_type": "display_data"
    }
   ],
   "source": [
    "ggplot(deg_dmr_overlap, aes(x = logFC_meth, y = logFC_expr, label = Gene)) +\n",
    "  geom_point(alpha = 0.6) +\n",
    "  geom_smooth(method = \"lm\", color = \"blue\", se = FALSE) +\n",
    "  geom_text_repel(data = subset(deg_dmr_overlap, abs(logFC_expr) > 2), max.overlaps = 10) +\n",
    "  theme_minimal() +\n",
    "  labs(\n",
    "    title = \"Top DEG-DMR Anti-Correlated Genes\",\n",
    "    x = \"logFC (Methylation)\",\n",
    "    y = \"logFC (Expression)\"\n",
    "  )\n",
    "ggsave(\"results/DEG_DMR_correlation_plot.png\", width = 10, height = 6, bg = \"white\")"
   ]
  },
  {
   "cell_type": "markdown",
   "id": "4af926c7",
   "metadata": {},
   "source": [
    "Observed a statistically significant inverse relationship between promoter methylation and gene expression across overlapping DEGs and DMRs (Spearman ρ = -0.44, p = 0.0098), suggesting potential epigenetic silencing mechanisms in the tumor group."
   ]
  }
 ],
 "metadata": {
  "kernelspec": {
   "display_name": "R",
   "language": "R",
   "name": "ir"
  },
  "language_info": {
   "codemirror_mode": "r",
   "file_extension": ".r",
   "mimetype": "text/x-r-source",
   "name": "R",
   "pygments_lexer": "r",
   "version": "4.4.2"
  }
 },
 "nbformat": 4,
 "nbformat_minor": 5
}
