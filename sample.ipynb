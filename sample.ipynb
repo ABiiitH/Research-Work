{
 "cells": [
  {
   "cell_type": "code",
   "execution_count": 8,
   "id": "3124d374",
   "metadata": {
    "vscode": {
     "languageId": "r"
    }
   },
   "outputs": [
    {
     "data": {
      "text/html": [
       "'/Users/aryamanbahl/Desktop/IIITH/Research/Metabrick_RRBS/analysis_files'"
      ],
      "text/latex": [
       "'/Users/aryamanbahl/Desktop/IIITH/Research/Metabrick\\_RRBS/analysis\\_files'"
      ],
      "text/markdown": [
       "'/Users/aryamanbahl/Desktop/IIITH/Research/Metabrick_RRBS/analysis_files'"
      ],
      "text/plain": [
       "[1] \"/Users/aryamanbahl/Desktop/IIITH/Research/Metabrick_RRBS/analysis_files\""
      ]
     },
     "metadata": {},
     "output_type": "display_data"
    }
   ],
   "source": [
    "setwd(\"/Users/aryamanbahl/Desktop/IIITH/Research/Metabrick_RRBS/analysis_files\")\n",
    "getwd()\n",
    "source(\"metabric_rrbs/scripts/utils.R\", encoding = \"latin1\")"
   ]
  },
  {
   "cell_type": "code",
   "execution_count": null,
   "id": "09d05bd5",
   "metadata": {
    "vscode": {
     "languageId": "r"
    }
   },
   "outputs": [
    {
     "name": "stdout",
     "output_type": "stream",
     "text": [
      "\n",
      "The downloaded binary packages are in\n",
      "\t/var/folders/1j/6n9mdv5j1zv3pd80zp_xh8mr0000gn/T//Rtmp2LnaR2/downloaded_packages\n",
      "\n",
      "The downloaded binary packages are in\n",
      "\t/var/folders/1j/6n9mdv5j1zv3pd80zp_xh8mr0000gn/T//Rtmp2LnaR2/downloaded_packages\n",
      "\n",
      "The downloaded binary packages are in\n",
      "\t/var/folders/1j/6n9mdv5j1zv3pd80zp_xh8mr0000gn/T//Rtmp2LnaR2/downloaded_packages\n"
     ]
    },
    {
     "name": "stderr",
     "output_type": "stream",
     "text": [
      "'getOption(\"repos\")' replaces Bioconductor standard repositories, see\n",
      "'help(\"repositories\", package = \"BiocManager\")' for details.\n",
      "Replacement repositories:\n",
      "    CRAN: https://cran.r-project.org\n",
      "\n",
      "Bioconductor version 3.20 (BiocManager 1.30.25), R 4.4.2 (2024-10-31)\n",
      "\n",
      "Installing package(s) 'impute'\n",
      "\n"
     ]
    },
    {
     "name": "stdout",
     "output_type": "stream",
     "text": [
      "\n",
      "The downloaded binary packages are in\n",
      "\t/var/folders/1j/6n9mdv5j1zv3pd80zp_xh8mr0000gn/T//Rtmp2LnaR2/downloaded_packages\n"
     ]
    },
    {
     "name": "stderr",
     "output_type": "stream",
     "text": [
      "Old packages: 'BiocParallel', 'KMsurv', 'MatrixModels', 'R.cache', 'R.oo',\n",
      "  'RSQLite', 'RcppArmadillo', 'Rdpack', 'broom', 'cli', 'cluster',\n",
      "  'collections', 'commonmark', 'curl', 'diffobj', 'doBy', 'doFuture', 'doRNG',\n",
      "  'docopt', 'fastcluster', 'foreign', 'fs', 'future', 'gclus', 'gdtools',\n",
      "  'generics', 'gert', 'ggplot2', 'globals', 'httpuv', 'httr2', 'hunspell',\n",
      "  'jpeg', 'jsonlite', 'knitr', 'later', 'lattice', 'lme4', 'magick',\n",
      "  'markdown', 'maxstat', 'mgcv', 'mime', 'miniUI', 'nlme', 'nloptr', 'officer',\n",
      "  'parallelly', 'pbdZMQ', 'pbkrtest', 'pillar', 'pkgbuild', 'pkgdown',\n",
      "  'prodlim', 'ps', 'ragg', 'recipes', 'reformulas', 'reticulate', 'rlang',\n",
      "  'rvg', 'sass', 'scales', 'sparsevctrs', 'stringi', 'systemfonts',\n",
      "  'textshaping', 'tinytex', 'utf8', 'writexl', 'xfun', 'xml2', 'zip', 'zoo'\n",
      "\n"
     ]
    }
   ],
   "source": [
    "if (!requireNamespace(\"BiocManager\", quietly = TRUE))\n",
    "    install.packages(\"BiocManager\")\n",
    "\n",
    "install.packages(\"dplyr\")\n",
    "install.packages(\"data.table\")\n",
    "install.packages(\"readxl\")\n",
    "BiocManager::install(\"impute\")\n",
    "installed.packages(\"limma\")"
   ]
  },
  {
   "cell_type": "code",
   "execution_count": null,
   "id": "6c5b7c84",
   "metadata": {
    "vscode": {
     "languageId": "r"
    }
   },
   "outputs": [],
   "source": [
    "library(tidyverse)\n",
    "library(data.table)\n",
    "library(dplyr)\n",
    "library(readxl)\n",
    "library(readr)\n",
    "library(impute)\n",
    "library(limma)"
   ]
  },
  {
   "cell_type": "markdown",
   "id": "1c5c821c",
   "metadata": {},
   "source": [
    "## Sample data "
   ]
  },
  {
   "cell_type": "code",
   "execution_count": 10,
   "id": "60eb680e",
   "metadata": {
    "vscode": {
     "languageId": "r"
    }
   },
   "outputs": [
    {
     "data": {
      "text/html": [
       "<style>\n",
       ".list-inline {list-style: none; margin:0; padding: 0}\n",
       ".list-inline>li {display: inline-block}\n",
       ".list-inline>li:not(:last-child)::after {content: \"\\00b7\"; padding: 0 .5ex}\n",
       "</style>\n",
       "<ol class=list-inline><li>1782</li><li>27</li></ol>\n"
      ],
      "text/latex": [
       "\\begin{enumerate*}\n",
       "\\item 1782\n",
       "\\item 27\n",
       "\\end{enumerate*}\n"
      ],
      "text/markdown": [
       "1. 1782\n",
       "2. 27\n",
       "\n",
       "\n"
      ],
      "text/plain": [
       "[1] 1782   27"
      ]
     },
     "metadata": {},
     "output_type": "display_data"
    },
    {
     "data": {
      "text/html": [
       "<style>\n",
       ".list-inline {list-style: none; margin:0; padding: 0}\n",
       ".list-inline>li {display: inline-block}\n",
       ".list-inline>li:not(:last-child)::after {content: \"\\00b7\"; padding: 0 .5ex}\n",
       "</style>\n",
       "<ol class=list-inline><li>'samp'</li><li>'patient'</li><li>'batch'</li><li>'track'</li><li>'total_reads'</li><li>'mapped_reads'</li><li>'mapped_frac'</li><li>'cg_num'</li><li>'meth_calls'</li><li>'global_avg_meth'</li><li>'type'</li><li>'age'</li><li>'grade'</li><li>'stage'</li><li>'ER'</li><li>'IHC'</li><li>'iC10'</li><li>'PAM50'</li><li>'matched_normal'</li><li>'matched_tumor'</li><li>'digpath_lymph'</li><li>'digpath_stromal'</li><li>'IMC_Fibroblasts'</li><li>'IMC_Lymphocytes'</li><li>'ASCAT_cellularity'</li><li>'MathScore'</li><li>'log10_global_epm'</li></ol>\n"
      ],
      "text/latex": [
       "\\begin{enumerate*}\n",
       "\\item 'samp'\n",
       "\\item 'patient'\n",
       "\\item 'batch'\n",
       "\\item 'track'\n",
       "\\item 'total\\_reads'\n",
       "\\item 'mapped\\_reads'\n",
       "\\item 'mapped\\_frac'\n",
       "\\item 'cg\\_num'\n",
       "\\item 'meth\\_calls'\n",
       "\\item 'global\\_avg\\_meth'\n",
       "\\item 'type'\n",
       "\\item 'age'\n",
       "\\item 'grade'\n",
       "\\item 'stage'\n",
       "\\item 'ER'\n",
       "\\item 'IHC'\n",
       "\\item 'iC10'\n",
       "\\item 'PAM50'\n",
       "\\item 'matched\\_normal'\n",
       "\\item 'matched\\_tumor'\n",
       "\\item 'digpath\\_lymph'\n",
       "\\item 'digpath\\_stromal'\n",
       "\\item 'IMC\\_Fibroblasts'\n",
       "\\item 'IMC\\_Lymphocytes'\n",
       "\\item 'ASCAT\\_cellularity'\n",
       "\\item 'MathScore'\n",
       "\\item 'log10\\_global\\_epm'\n",
       "\\end{enumerate*}\n"
      ],
      "text/markdown": [
       "1. 'samp'\n",
       "2. 'patient'\n",
       "3. 'batch'\n",
       "4. 'track'\n",
       "5. 'total_reads'\n",
       "6. 'mapped_reads'\n",
       "7. 'mapped_frac'\n",
       "8. 'cg_num'\n",
       "9. 'meth_calls'\n",
       "10. 'global_avg_meth'\n",
       "11. 'type'\n",
       "12. 'age'\n",
       "13. 'grade'\n",
       "14. 'stage'\n",
       "15. 'ER'\n",
       "16. 'IHC'\n",
       "17. 'iC10'\n",
       "18. 'PAM50'\n",
       "19. 'matched_normal'\n",
       "20. 'matched_tumor'\n",
       "21. 'digpath_lymph'\n",
       "22. 'digpath_stromal'\n",
       "23. 'IMC_Fibroblasts'\n",
       "24. 'IMC_Lymphocytes'\n",
       "25. 'ASCAT_cellularity'\n",
       "26. 'MathScore'\n",
       "27. 'log10_global_epm'\n",
       "\n",
       "\n"
      ],
      "text/plain": [
       " [1] \"samp\"              \"patient\"           \"batch\"            \n",
       " [4] \"track\"             \"total_reads\"       \"mapped_reads\"     \n",
       " [7] \"mapped_frac\"       \"cg_num\"            \"meth_calls\"       \n",
       "[10] \"global_avg_meth\"   \"type\"              \"age\"              \n",
       "[13] \"grade\"             \"stage\"             \"ER\"               \n",
       "[16] \"IHC\"               \"iC10\"              \"PAM50\"            \n",
       "[19] \"matched_normal\"    \"matched_tumor\"     \"digpath_lymph\"    \n",
       "[22] \"digpath_stromal\"   \"IMC_Fibroblasts\"   \"IMC_Lymphocytes\"  \n",
       "[25] \"ASCAT_cellularity\" \"MathScore\"         \"log10_global_epm\" "
      ]
     },
     "metadata": {},
     "output_type": "display_data"
    },
    {
     "data": {
      "text/html": [
       "<table class=\"dataframe\">\n",
       "<caption>A tibble: 6 x 27</caption>\n",
       "<thead>\n",
       "\t<tr><th scope=col>samp</th><th scope=col>patient</th><th scope=col>batch</th><th scope=col>track</th><th scope=col>total_reads</th><th scope=col>mapped_reads</th><th scope=col>mapped_frac</th><th scope=col>cg_num</th><th scope=col>meth_calls</th><th scope=col>global_avg_meth</th><th scope=col>...</th><th scope=col>PAM50</th><th scope=col>matched_normal</th><th scope=col>matched_tumor</th><th scope=col>digpath_lymph</th><th scope=col>digpath_stromal</th><th scope=col>IMC_Fibroblasts</th><th scope=col>IMC_Lymphocytes</th><th scope=col>ASCAT_cellularity</th><th scope=col>MathScore</th><th scope=col>log10_global_epm</th></tr>\n",
       "\t<tr><th scope=col>&lt;chr&gt;</th><th scope=col>&lt;chr&gt;</th><th scope=col>&lt;chr&gt;</th><th scope=col>&lt;chr&gt;</th><th scope=col>&lt;dbl&gt;</th><th scope=col>&lt;dbl&gt;</th><th scope=col>&lt;dbl&gt;</th><th scope=col>&lt;dbl&gt;</th><th scope=col>&lt;dbl&gt;</th><th scope=col>&lt;dbl&gt;</th><th scope=col>...</th><th scope=col>&lt;chr&gt;</th><th scope=col>&lt;chr&gt;</th><th scope=col>&lt;chr&gt;</th><th scope=col>&lt;dbl&gt;</th><th scope=col>&lt;dbl&gt;</th><th scope=col>&lt;dbl&gt;</th><th scope=col>&lt;dbl&gt;</th><th scope=col>&lt;dbl&gt;</th><th scope=col>&lt;dbl&gt;</th><th scope=col>&lt;dbl&gt;</th></tr>\n",
       "</thead>\n",
       "<tbody>\n",
       "\t<tr><td>MB_0006</td><td>P2 </td><td>b4</td><td>metabric_rrbs_new.BATCH4.SLX_10703.A004.C8107ANXX</td><td>16994775</td><td>14269780</td><td>0.8396569</td><td>4001519</td><td>55735755</td><td>0.5578358</td><td>...</td><td>LUMB</td><td>NA</td><td>NA</td><td>0.08118741</td><td>0.5749816</td><td>        NA</td><td>          NA</td><td>0.58</td><td>0.8236636</td><td>      NA</td></tr>\n",
       "\t<tr><td>MB_0028</td><td>P6 </td><td>b1</td><td>metabric_rrbs_new.BATCH1.SLX_10132.A016.C6J71ANXX</td><td>12814856</td><td>11528115</td><td>0.8995899</td><td>4763459</td><td>45868097</td><td>0.6253500</td><td>...</td><td>LUMB</td><td>NA</td><td>NA</td><td>0.15468349</td><td>0.5017763</td><td>0.04735547</td><td>0.0104551050</td><td>0.69</td><td>0.6455982</td><td>4.190811</td></tr>\n",
       "\t<tr><td>MB_0030</td><td>P7 </td><td>b1</td><td>metabric_rrbs_new.BATCH1.SLX_10132.A018.C6J71ANXX</td><td>12366830</td><td>11114423</td><td>0.8987285</td><td>4464651</td><td>43879242</td><td>0.5822559</td><td>...</td><td>NA  </td><td>NA</td><td>NA</td><td>0.13091014</td><td>0.5361913</td><td>0.48115298</td><td>0.0144124170</td><td>  NA</td><td>       NA</td><td>3.480036</td></tr>\n",
       "\t<tr><td>MB_0035</td><td>P8 </td><td>b4</td><td>metabric_rrbs_new.BATCH4.SLX_10702.A005.C8107ANXX</td><td>22283773</td><td>18670811</td><td>0.8378658</td><td>3977722</td><td>66980881</td><td>0.6533751</td><td>...</td><td>HER2</td><td>NA</td><td>NA</td><td>0.11840248</td><td>0.5022391</td><td>0.07276657</td><td>0.0000000000</td><td>0.51</td><td>0.3576067</td><td>      NA</td></tr>\n",
       "\t<tr><td>MB_0040</td><td>P9 </td><td>b1</td><td>metabric_rrbs_new.BATCH1.SLX_10133.A015.C6J71ANXX</td><td>10309989</td><td> 8842899</td><td>0.8577021</td><td>4305845</td><td>34669398</td><td>0.5911771</td><td>...</td><td>NA  </td><td>NA</td><td>NA</td><td>0.21741995</td><td>0.5176772</td><td>0.67786068</td><td>0.0006218905</td><td>  NA</td><td>0.1147223</td><td>3.609631</td></tr>\n",
       "\t<tr><td>MB_0046</td><td>P11</td><td>b4</td><td>metabric_rrbs_new.BATCH4.SLX_10702.A016.C8107ANXX</td><td>16865163</td><td>14138471</td><td>0.8383240</td><td>3915679</td><td>52680191</td><td>0.5778299</td><td>...</td><td>LUMA</td><td>NA</td><td>NA</td><td>0.07668140</td><td>0.4993792</td><td>        NA</td><td>          NA</td><td>0.40</td><td>0.3057615</td><td>      NA</td></tr>\n",
       "</tbody>\n",
       "</table>\n"
      ],
      "text/latex": [
       "A tibble: 6 x 27\n",
       "\\begin{tabular}{lllllllllllllllllllll}\n",
       " samp & patient & batch & track & total\\_reads & mapped\\_reads & mapped\\_frac & cg\\_num & meth\\_calls & global\\_avg\\_meth & ... & PAM50 & matched\\_normal & matched\\_tumor & digpath\\_lymph & digpath\\_stromal & IMC\\_Fibroblasts & IMC\\_Lymphocytes & ASCAT\\_cellularity & MathScore & log10\\_global\\_epm\\\\\n",
       " <chr> & <chr> & <chr> & <chr> & <dbl> & <dbl> & <dbl> & <dbl> & <dbl> & <dbl> & ... & <chr> & <chr> & <chr> & <dbl> & <dbl> & <dbl> & <dbl> & <dbl> & <dbl> & <dbl>\\\\\n",
       "\\hline\n",
       "\t MB\\_0006 & P2  & b4 & metabric\\_rrbs\\_new.BATCH4.SLX\\_10703.A004.C8107ANXX & 16994775 & 14269780 & 0.8396569 & 4001519 & 55735755 & 0.5578358 & ... & LUMB & NA & NA & 0.08118741 & 0.5749816 &         NA &           NA & 0.58 & 0.8236636 &       NA\\\\\n",
       "\t MB\\_0028 & P6  & b1 & metabric\\_rrbs\\_new.BATCH1.SLX\\_10132.A016.C6J71ANXX & 12814856 & 11528115 & 0.8995899 & 4763459 & 45868097 & 0.6253500 & ... & LUMB & NA & NA & 0.15468349 & 0.5017763 & 0.04735547 & 0.0104551050 & 0.69 & 0.6455982 & 4.190811\\\\\n",
       "\t MB\\_0030 & P7  & b1 & metabric\\_rrbs\\_new.BATCH1.SLX\\_10132.A018.C6J71ANXX & 12366830 & 11114423 & 0.8987285 & 4464651 & 43879242 & 0.5822559 & ... & NA   & NA & NA & 0.13091014 & 0.5361913 & 0.48115298 & 0.0144124170 &   NA &        NA & 3.480036\\\\\n",
       "\t MB\\_0035 & P8  & b4 & metabric\\_rrbs\\_new.BATCH4.SLX\\_10702.A005.C8107ANXX & 22283773 & 18670811 & 0.8378658 & 3977722 & 66980881 & 0.6533751 & ... & HER2 & NA & NA & 0.11840248 & 0.5022391 & 0.07276657 & 0.0000000000 & 0.51 & 0.3576067 &       NA\\\\\n",
       "\t MB\\_0040 & P9  & b1 & metabric\\_rrbs\\_new.BATCH1.SLX\\_10133.A015.C6J71ANXX & 10309989 &  8842899 & 0.8577021 & 4305845 & 34669398 & 0.5911771 & ... & NA   & NA & NA & 0.21741995 & 0.5176772 & 0.67786068 & 0.0006218905 &   NA & 0.1147223 & 3.609631\\\\\n",
       "\t MB\\_0046 & P11 & b4 & metabric\\_rrbs\\_new.BATCH4.SLX\\_10702.A016.C8107ANXX & 16865163 & 14138471 & 0.8383240 & 3915679 & 52680191 & 0.5778299 & ... & LUMA & NA & NA & 0.07668140 & 0.4993792 &         NA &           NA & 0.40 & 0.3057615 &       NA\\\\\n",
       "\\end{tabular}\n"
      ],
      "text/markdown": [
       "\n",
       "A tibble: 6 x 27\n",
       "\n",
       "| samp &lt;chr&gt; | patient &lt;chr&gt; | batch &lt;chr&gt; | track &lt;chr&gt; | total_reads &lt;dbl&gt; | mapped_reads &lt;dbl&gt; | mapped_frac &lt;dbl&gt; | cg_num &lt;dbl&gt; | meth_calls &lt;dbl&gt; | global_avg_meth &lt;dbl&gt; | ... ... | PAM50 &lt;chr&gt; | matched_normal &lt;chr&gt; | matched_tumor &lt;chr&gt; | digpath_lymph &lt;dbl&gt; | digpath_stromal &lt;dbl&gt; | IMC_Fibroblasts &lt;dbl&gt; | IMC_Lymphocytes &lt;dbl&gt; | ASCAT_cellularity &lt;dbl&gt; | MathScore &lt;dbl&gt; | log10_global_epm &lt;dbl&gt; |\n",
       "|---|---|---|---|---|---|---|---|---|---|---|---|---|---|---|---|---|---|---|---|---|\n",
       "| MB_0006 | P2  | b4 | metabric_rrbs_new.BATCH4.SLX_10703.A004.C8107ANXX | 16994775 | 14269780 | 0.8396569 | 4001519 | 55735755 | 0.5578358 | ... | LUMB | NA | NA | 0.08118741 | 0.5749816 |         NA |           NA | 0.58 | 0.8236636 |       NA |\n",
       "| MB_0028 | P6  | b1 | metabric_rrbs_new.BATCH1.SLX_10132.A016.C6J71ANXX | 12814856 | 11528115 | 0.8995899 | 4763459 | 45868097 | 0.6253500 | ... | LUMB | NA | NA | 0.15468349 | 0.5017763 | 0.04735547 | 0.0104551050 | 0.69 | 0.6455982 | 4.190811 |\n",
       "| MB_0030 | P7  | b1 | metabric_rrbs_new.BATCH1.SLX_10132.A018.C6J71ANXX | 12366830 | 11114423 | 0.8987285 | 4464651 | 43879242 | 0.5822559 | ... | NA   | NA | NA | 0.13091014 | 0.5361913 | 0.48115298 | 0.0144124170 |   NA |        NA | 3.480036 |\n",
       "| MB_0035 | P8  | b4 | metabric_rrbs_new.BATCH4.SLX_10702.A005.C8107ANXX | 22283773 | 18670811 | 0.8378658 | 3977722 | 66980881 | 0.6533751 | ... | HER2 | NA | NA | 0.11840248 | 0.5022391 | 0.07276657 | 0.0000000000 | 0.51 | 0.3576067 |       NA |\n",
       "| MB_0040 | P9  | b1 | metabric_rrbs_new.BATCH1.SLX_10133.A015.C6J71ANXX | 10309989 |  8842899 | 0.8577021 | 4305845 | 34669398 | 0.5911771 | ... | NA   | NA | NA | 0.21741995 | 0.5176772 | 0.67786068 | 0.0006218905 |   NA | 0.1147223 | 3.609631 |\n",
       "| MB_0046 | P11 | b4 | metabric_rrbs_new.BATCH4.SLX_10702.A016.C8107ANXX | 16865163 | 14138471 | 0.8383240 | 3915679 | 52680191 | 0.5778299 | ... | LUMA | NA | NA | 0.07668140 | 0.4993792 |         NA |           NA | 0.40 | 0.3057615 |       NA |\n",
       "\n"
      ],
      "text/plain": [
       "  samp    patient batch track                                            \n",
       "1 MB_0006 P2      b4    metabric_rrbs_new.BATCH4.SLX_10703.A004.C8107ANXX\n",
       "2 MB_0028 P6      b1    metabric_rrbs_new.BATCH1.SLX_10132.A016.C6J71ANXX\n",
       "3 MB_0030 P7      b1    metabric_rrbs_new.BATCH1.SLX_10132.A018.C6J71ANXX\n",
       "4 MB_0035 P8      b4    metabric_rrbs_new.BATCH4.SLX_10702.A005.C8107ANXX\n",
       "5 MB_0040 P9      b1    metabric_rrbs_new.BATCH1.SLX_10133.A015.C6J71ANXX\n",
       "6 MB_0046 P11     b4    metabric_rrbs_new.BATCH4.SLX_10702.A016.C8107ANXX\n",
       "  total_reads mapped_reads mapped_frac cg_num  meth_calls global_avg_meth ...\n",
       "1 16994775    14269780     0.8396569   4001519 55735755   0.5578358       ...\n",
       "2 12814856    11528115     0.8995899   4763459 45868097   0.6253500       ...\n",
       "3 12366830    11114423     0.8987285   4464651 43879242   0.5822559       ...\n",
       "4 22283773    18670811     0.8378658   3977722 66980881   0.6533751       ...\n",
       "5 10309989     8842899     0.8577021   4305845 34669398   0.5911771       ...\n",
       "6 16865163    14138471     0.8383240   3915679 52680191   0.5778299       ...\n",
       "  PAM50 matched_normal matched_tumor digpath_lymph digpath_stromal\n",
       "1 LUMB  NA             NA            0.08118741    0.5749816      \n",
       "2 LUMB  NA             NA            0.15468349    0.5017763      \n",
       "3 NA    NA             NA            0.13091014    0.5361913      \n",
       "4 HER2  NA             NA            0.11840248    0.5022391      \n",
       "5 NA    NA             NA            0.21741995    0.5176772      \n",
       "6 LUMA  NA             NA            0.07668140    0.4993792      \n",
       "  IMC_Fibroblasts IMC_Lymphocytes ASCAT_cellularity MathScore log10_global_epm\n",
       "1         NA                NA    0.58              0.8236636       NA        \n",
       "2 0.04735547      0.0104551050    0.69              0.6455982 4.190811        \n",
       "3 0.48115298      0.0144124170      NA                     NA 3.480036        \n",
       "4 0.07276657      0.0000000000    0.51              0.3576067       NA        \n",
       "5 0.67786068      0.0006218905      NA              0.1147223 3.609631        \n",
       "6         NA                NA    0.40              0.3057615       NA        "
      ]
     },
     "metadata": {},
     "output_type": "display_data"
    }
   ],
   "source": [
    "metadata <- read_excel(\"data/S1 - Sample Information.xlsx\", sheet = \"Sheet1\")\n",
    "dim(metadata)        \n",
    "colnames(metadata)\n",
    "head(metadata)        "
   ]
  },
  {
   "cell_type": "code",
   "execution_count": 11,
   "id": "fb490929",
   "metadata": {
    "vscode": {
     "languageId": "r"
    }
   },
   "outputs": [
    {
     "data": {
      "text/plain": [
       "\n",
       "ADJNORMAL    TUMOUR \n",
       "      244      1538 "
      ]
     },
     "metadata": {},
     "output_type": "display_data"
    },
    {
     "data": {
      "text/plain": [
       "\n",
       "negative   normal positive \n",
       "     350      244     1179 "
      ]
     },
     "metadata": {},
     "output_type": "display_data"
    },
    {
     "data": {
      "text/plain": [
       "\n",
       "ADJNORMAL  ER+HER2+  ER+HER2-  ER-HER2+      TNBC \n",
       "      244        44      1117        59       307 "
      ]
     },
     "metadata": {},
     "output_type": "display_data"
    },
    {
     "data": {
      "text/plain": [
       "\n",
       "ADJNORMAL     BASAL   CLAUDIN      HER2      LUMA      LUMB    NORMAL \n",
       "      244       144       139       174       500       340       115 "
      ]
     },
     "metadata": {},
     "output_type": "display_data"
    }
   ],
   "source": [
    "table(metadata$type)\n",
    "table(metadata$ER)\n",
    "table(metadata$IHC)\n",
    "table(metadata$PAM50)"
   ]
  },
  {
   "cell_type": "code",
   "execution_count": null,
   "id": "b275c7af",
   "metadata": {
    "vscode": {
     "languageId": "r"
    }
   },
   "outputs": [
    {
     "data": {
      "text/html": [
       "1538"
      ],
      "text/latex": [
       "1538"
      ],
      "text/markdown": [
       "1538"
      ],
      "text/plain": [
       "[1] 1538"
      ]
     },
     "metadata": {},
     "output_type": "display_data"
    },
    {
     "data": {
      "text/html": [
       "244"
      ],
      "text/latex": [
       "244"
      ],
      "text/markdown": [
       "244"
      ],
      "text/plain": [
       "[1] 244"
      ]
     },
     "metadata": {},
     "output_type": "display_data"
    }
   ],
   "source": [
    "tumor_samples <- metadata %>% filter(type == \"TUMOUR\") %>% pull(samp)\n",
    "normal_samples <- metadata %>% filter(type == \"ADJNORMAL\") %>% pull(samp)\n",
    "\n",
    "length(tumor_samples)\n",
    "length(normal_samples)"
   ]
  },
  {
   "cell_type": "code",
   "execution_count": 16,
   "id": "179a5428",
   "metadata": {
    "vscode": {
     "languageId": "r"
    }
   },
   "outputs": [
    {
     "name": "stderr",
     "output_type": "stream",
     "text": [
      "\u001b[1mRows: \u001b[22m\u001b[34m33241\u001b[39m \u001b[1mColumns: \u001b[22m\u001b[34m2\u001b[39m\n",
      "\u001b[36m--\u001b[39m \u001b[1mColumn specification\u001b[22m \u001b[36m--------------------------------------------------------\u001b[39m\n",
      "\u001b[1mDelimiter:\u001b[22m \"\\t\"\n",
      "\u001b[31mchr\u001b[39m (1): full_name\n",
      "\u001b[32mdbl\u001b[39m (1): tss\n",
      "\n",
      "\u001b[36mi\u001b[39m Use `spec()` to retrieve the full column specification for this data.\n",
      "\u001b[36mi\u001b[39m Specify the column types or set `show_col_types = FALSE` to quiet this message.\n"
     ]
    },
    {
     "data": {
      "text/html": [
       "<table class=\"dataframe\">\n",
       "<caption>A tibble: 6 x 2</caption>\n",
       "<thead>\n",
       "\t<tr><th scope=col>full_name</th><th scope=col>tss</th></tr>\n",
       "\t<tr><th scope=col>&lt;chr&gt;</th><th scope=col>&lt;dbl&gt;</th></tr>\n",
       "</thead>\n",
       "<tbody>\n",
       "\t<tr><td>chr1.+.DDX11L1   </td><td>11873</td></tr>\n",
       "\t<tr><td>chr1.+.MIR1302-10</td><td>30365</td></tr>\n",
       "\t<tr><td>chr1.+.MIR1302-11</td><td>30365</td></tr>\n",
       "\t<tr><td>chr1.+.MIR1302-2 </td><td>30365</td></tr>\n",
       "\t<tr><td>chr1.+.MIR1302-9 </td><td>30365</td></tr>\n",
       "\t<tr><td>chr1.+.OR4F5     </td><td>69090</td></tr>\n",
       "</tbody>\n",
       "</table>\n"
      ],
      "text/latex": [
       "A tibble: 6 x 2\n",
       "\\begin{tabular}{ll}\n",
       " full\\_name & tss\\\\\n",
       " <chr> & <dbl>\\\\\n",
       "\\hline\n",
       "\t chr1.+.DDX11L1    & 11873\\\\\n",
       "\t chr1.+.MIR1302-10 & 30365\\\\\n",
       "\t chr1.+.MIR1302-11 & 30365\\\\\n",
       "\t chr1.+.MIR1302-2  & 30365\\\\\n",
       "\t chr1.+.MIR1302-9  & 30365\\\\\n",
       "\t chr1.+.OR4F5      & 69090\\\\\n",
       "\\end{tabular}\n"
      ],
      "text/markdown": [
       "\n",
       "A tibble: 6 x 2\n",
       "\n",
       "| full_name &lt;chr&gt; | tss &lt;dbl&gt; |\n",
       "|---|---|\n",
       "| chr1.+.DDX11L1    | 11873 |\n",
       "| chr1.+.MIR1302-10 | 30365 |\n",
       "| chr1.+.MIR1302-11 | 30365 |\n",
       "| chr1.+.MIR1302-2  | 30365 |\n",
       "| chr1.+.MIR1302-9  | 30365 |\n",
       "| chr1.+.OR4F5      | 69090 |\n",
       "\n"
      ],
      "text/plain": [
       "  full_name         tss  \n",
       "1 chr1.+.DDX11L1    11873\n",
       "2 chr1.+.MIR1302-10 30365\n",
       "3 chr1.+.MIR1302-11 30365\n",
       "4 chr1.+.MIR1302-2  30365\n",
       "5 chr1.+.MIR1302-9  30365\n",
       "6 chr1.+.OR4F5      69090"
      ]
     },
     "metadata": {},
     "output_type": "display_data"
    },
    {
     "name": "stderr",
     "output_type": "stream",
     "text": [
      "\u001b[1mRows: \u001b[22m\u001b[34m114\u001b[39m \u001b[1mColumns: \u001b[22m\u001b[34m4\u001b[39m\n",
      "\u001b[36m--\u001b[39m \u001b[1mColumn specification\u001b[22m \u001b[36m--------------------------------------------------------\u001b[39m\n",
      "\u001b[1mDelimiter:\u001b[22m \",\"\n",
      "\u001b[31mchr\u001b[39m (3): gene, type, description\n",
      "\u001b[32mdbl\u001b[39m (1): clust\n",
      "\n",
      "\u001b[36mi\u001b[39m Use `spec()` to retrieve the full column specification for this data.\n",
      "\u001b[36mi\u001b[39m Specify the column types or set `show_col_types = FALSE` to quiet this message.\n"
     ]
    },
    {
     "data": {
      "text/html": [
       "<table class=\"dataframe\">\n",
       "<caption>A tibble: 6 x 4</caption>\n",
       "<thead>\n",
       "\t<tr><th scope=col>gene</th><th scope=col>type</th><th scope=col>description</th><th scope=col>clust</th></tr>\n",
       "\t<tr><th scope=col>&lt;chr&gt;</th><th scope=col>&lt;chr&gt;</th><th scope=col>&lt;chr&gt;</th><th scope=col>&lt;dbl&gt;</th></tr>\n",
       "</thead>\n",
       "<tbody>\n",
       "\t<tr><td>ZIC2  </td><td>EMB_TF</td><td>NA</td><td>15</td></tr>\n",
       "\t<tr><td>TMEM97</td><td>Extra </td><td>NA</td><td>15</td></tr>\n",
       "\t<tr><td>NKX2-2</td><td>EMB_TF</td><td>NA</td><td>15</td></tr>\n",
       "\t<tr><td>CBX2  </td><td>PcG   </td><td>NA</td><td>15</td></tr>\n",
       "\t<tr><td>SIX4  </td><td>EMB_TF</td><td>NA</td><td>15</td></tr>\n",
       "\t<tr><td>GATA2 </td><td>EMB_TF</td><td>NA</td><td>15</td></tr>\n",
       "</tbody>\n",
       "</table>\n"
      ],
      "text/latex": [
       "A tibble: 6 x 4\n",
       "\\begin{tabular}{llll}\n",
       " gene & type & description & clust\\\\\n",
       " <chr> & <chr> & <chr> & <dbl>\\\\\n",
       "\\hline\n",
       "\t ZIC2   & EMB\\_TF & NA & 15\\\\\n",
       "\t TMEM97 & Extra  & NA & 15\\\\\n",
       "\t NKX2-2 & EMB\\_TF & NA & 15\\\\\n",
       "\t CBX2   & PcG    & NA & 15\\\\\n",
       "\t SIX4   & EMB\\_TF & NA & 15\\\\\n",
       "\t GATA2  & EMB\\_TF & NA & 15\\\\\n",
       "\\end{tabular}\n"
      ],
      "text/markdown": [
       "\n",
       "A tibble: 6 x 4\n",
       "\n",
       "| gene &lt;chr&gt; | type &lt;chr&gt; | description &lt;chr&gt; | clust &lt;dbl&gt; |\n",
       "|---|---|---|---|\n",
       "| ZIC2   | EMB_TF | NA | 15 |\n",
       "| TMEM97 | Extra  | NA | 15 |\n",
       "| NKX2-2 | EMB_TF | NA | 15 |\n",
       "| CBX2   | PcG    | NA | 15 |\n",
       "| SIX4   | EMB_TF | NA | 15 |\n",
       "| GATA2  | EMB_TF | NA | 15 |\n",
       "\n"
      ],
      "text/plain": [
       "  gene   type   description clust\n",
       "1 ZIC2   EMB_TF NA          15   \n",
       "2 TMEM97 Extra  NA          15   \n",
       "3 NKX2-2 EMB_TF NA          15   \n",
       "4 CBX2   PcG    NA          15   \n",
       "5 SIX4   EMB_TF NA          15   \n",
       "6 GATA2  EMB_TF NA          15   "
      ]
     },
     "metadata": {},
     "output_type": "display_data"
    }
   ],
   "source": [
    "tss_coords<-read_tsv(\"data/gene_tss.tsv\")\n",
    "head(tss_coords)\n",
    "\n",
    "genes_annot <- read_csv(\"data/genes_annot.csv\")\n",
    "head(genes_annot)"
   ]
  },
  {
   "cell_type": "markdown",
   "id": "2b82f3f8",
   "metadata": {},
   "source": [
    "### Methylation data "
   ]
  },
  {
   "cell_type": "code",
   "execution_count": 111,
   "id": "a5420f66",
   "metadata": {
    "vscode": {
     "languageId": "r"
    }
   },
   "outputs": [
    {
     "name": "stderr",
     "output_type": "stream",
     "text": [
      "\u001b[1mRows: \u001b[22m\u001b[34m15793\u001b[39m \u001b[1mColumns: \u001b[22m\u001b[34m1787\u001b[39m\n",
      "\u001b[36m--\u001b[39m \u001b[1mColumn specification\u001b[22m \u001b[36m--------------------------------------------------------\u001b[39m\n",
      "\u001b[1mDelimiter:\u001b[22m \",\"\n",
      "\u001b[31mchr\u001b[39m    (3): chrom, name, name3.chr\n",
      "\u001b[32mdbl\u001b[39m (1784): start, end, MB_0006, MB_0028, MB_0030, MB_0035, MB_0040, MB_0046...\n",
      "\n",
      "\u001b[36mi\u001b[39m Use `spec()` to retrieve the full column specification for this data.\n",
      "\u001b[36mi\u001b[39m Specify the column types or set `show_col_types = FALSE` to quiet this message.\n"
     ]
    },
    {
     "data": {
      "text/html": [
       "<style>\n",
       ".list-inline {list-style: none; margin:0; padding: 0}\n",
       ".list-inline>li {display: inline-block}\n",
       ".list-inline>li:not(:last-child)::after {content: \"\\00b7\"; padding: 0 .5ex}\n",
       "</style>\n",
       "<ol class=list-inline><li>15793</li><li>1786</li></ol>\n"
      ],
      "text/latex": [
       "\\begin{enumerate*}\n",
       "\\item 15793\n",
       "\\item 1786\n",
       "\\end{enumerate*}\n"
      ],
      "text/markdown": [
       "1. 15793\n",
       "2. 1786\n",
       "\n",
       "\n"
      ],
      "text/plain": [
       "[1] 15793  1786"
      ]
     },
     "metadata": {},
     "output_type": "display_data"
    },
    {
     "data": {
      "text/html": [
       "<table class=\"dataframe\">\n",
       "<caption>A tibble: 6 x 1786</caption>\n",
       "<thead>\n",
       "\t<tr><th scope=col>chrom</th><th scope=col>start</th><th scope=col>end</th><th scope=col>name</th><th scope=col>MB_0006</th><th scope=col>MB_0028</th><th scope=col>MB_0030</th><th scope=col>MB_0035</th><th scope=col>MB_0040</th><th scope=col>MB_0046</th><th scope=col>...</th><th scope=col>MB_7281</th><th scope=col>MB_7283</th><th scope=col>MB_7285</th><th scope=col>MB_7288</th><th scope=col>MB_7289</th><th scope=col>MB_7291</th><th scope=col>MB_7292</th><th scope=col>MB_7293</th><th scope=col>MB_7296</th><th scope=col>MB_7298</th></tr>\n",
       "\t<tr><th scope=col>&lt;chr&gt;</th><th scope=col>&lt;dbl&gt;</th><th scope=col>&lt;dbl&gt;</th><th scope=col>&lt;chr&gt;</th><th scope=col>&lt;dbl&gt;</th><th scope=col>&lt;dbl&gt;</th><th scope=col>&lt;dbl&gt;</th><th scope=col>&lt;dbl&gt;</th><th scope=col>&lt;dbl&gt;</th><th scope=col>&lt;dbl&gt;</th><th scope=col>...</th><th scope=col>&lt;dbl&gt;</th><th scope=col>&lt;dbl&gt;</th><th scope=col>&lt;dbl&gt;</th><th scope=col>&lt;dbl&gt;</th><th scope=col>&lt;dbl&gt;</th><th scope=col>&lt;dbl&gt;</th><th scope=col>&lt;dbl&gt;</th><th scope=col>&lt;dbl&gt;</th><th scope=col>&lt;dbl&gt;</th><th scope=col>&lt;dbl&gt;</th></tr>\n",
       "</thead>\n",
       "<tbody>\n",
       "\t<tr><td>chr1</td><td>762469</td><td>763020</td><td>LINC01128</td><td>0.000000000</td><td>0.00000000</td><td>0.00000000</td><td>0.00000000</td><td>0.00000000</td><td>0.00000000</td><td>...</td><td>0.00000000</td><td>0.01829268</td><td>        NA</td><td>0.000000000</td><td>0.000000000</td><td>0.00000000</td><td>0.00000000</td><td>0.006849315</td><td>        NA</td><td>0.000000000</td></tr>\n",
       "\t<tr><td>chr1</td><td>762676</td><td>763227</td><td>LINC01128</td><td>0.021929825</td><td>0.03018109</td><td>0.07858546</td><td>0.00000000</td><td>0.01627486</td><td>0.21922626</td><td>...</td><td>0.02374169</td><td>0.17092338</td><td>0.01785714</td><td>0.000000000</td><td>0.066974596</td><td>0.00000000</td><td>0.11016949</td><td>0.042925278</td><td>0.01030928</td><td>0.062780269</td></tr>\n",
       "\t<tr><td>chr1</td><td>860619</td><td>861170</td><td>SAMD11   </td><td>0.001870324</td><td>0.01188300</td><td>0.01046622</td><td>0.15767196</td><td>0.01549464</td><td>0.05299539</td><td>...</td><td>0.01910480</td><td>0.00802139</td><td>0.02392344</td><td>0.002307692</td><td>0.002057613</td><td>0.01895375</td><td>0.02185792</td><td>0.000000000</td><td>0.00000000</td><td>0.006283229</td></tr>\n",
       "\t<tr><td>chr1</td><td>895465</td><td>896016</td><td>KLHL17   </td><td>0.014367816</td><td>0.04901961</td><td>0.04769737</td><td>0.03629032</td><td>0.03182580</td><td>0.06606607</td><td>...</td><td>0.03778802</td><td>0.04700855</td><td>0.11333333</td><td>0.004689332</td><td>0.030204962</td><td>0.02810651</td><td>0.14285714</td><td>0.026392962</td><td>0.09826590</td><td>0.058666667</td></tr>\n",
       "\t<tr><td>chr1</td><td>901375</td><td>901926</td><td>PLEKHN1  </td><td>0.024253731</td><td>0.05357143</td><td>0.02334630</td><td>0.01470588</td><td>0.01798561</td><td>0.00000000</td><td>...</td><td>0.10212766</td><td>0.04149378</td><td>0.01369863</td><td>0.000000000</td><td>0.015873016</td><td>0.07216495</td><td>0.07185629</td><td>0.021526419</td><td>0.00000000</td><td>0.029490617</td></tr>\n",
       "\t<tr><td>chr1</td><td>948345</td><td>948896</td><td>ISG15    </td><td>0.000000000</td><td>0.00000000</td><td>0.00000000</td><td>0.02083333</td><td>0.00000000</td><td>0.00000000</td><td>...</td><td>0.00000000</td><td>0.02439024</td><td>0.00000000</td><td>0.009523810</td><td>0.010309278</td><td>0.00000000</td><td>0.00000000</td><td>0.000000000</td><td>0.00000000</td><td>0.000000000</td></tr>\n",
       "</tbody>\n",
       "</table>\n"
      ],
      "text/latex": [
       "A tibble: 6 x 1786\n",
       "\\begin{tabular}{lllllllllllllllllllll}\n",
       " chrom & start & end & name & MB\\_0006 & MB\\_0028 & MB\\_0030 & MB\\_0035 & MB\\_0040 & MB\\_0046 & ... & MB\\_7281 & MB\\_7283 & MB\\_7285 & MB\\_7288 & MB\\_7289 & MB\\_7291 & MB\\_7292 & MB\\_7293 & MB\\_7296 & MB\\_7298\\\\\n",
       " <chr> & <dbl> & <dbl> & <chr> & <dbl> & <dbl> & <dbl> & <dbl> & <dbl> & <dbl> & ... & <dbl> & <dbl> & <dbl> & <dbl> & <dbl> & <dbl> & <dbl> & <dbl> & <dbl> & <dbl>\\\\\n",
       "\\hline\n",
       "\t chr1 & 762469 & 763020 & LINC01128 & 0.000000000 & 0.00000000 & 0.00000000 & 0.00000000 & 0.00000000 & 0.00000000 & ... & 0.00000000 & 0.01829268 &         NA & 0.000000000 & 0.000000000 & 0.00000000 & 0.00000000 & 0.006849315 &         NA & 0.000000000\\\\\n",
       "\t chr1 & 762676 & 763227 & LINC01128 & 0.021929825 & 0.03018109 & 0.07858546 & 0.00000000 & 0.01627486 & 0.21922626 & ... & 0.02374169 & 0.17092338 & 0.01785714 & 0.000000000 & 0.066974596 & 0.00000000 & 0.11016949 & 0.042925278 & 0.01030928 & 0.062780269\\\\\n",
       "\t chr1 & 860619 & 861170 & SAMD11    & 0.001870324 & 0.01188300 & 0.01046622 & 0.15767196 & 0.01549464 & 0.05299539 & ... & 0.01910480 & 0.00802139 & 0.02392344 & 0.002307692 & 0.002057613 & 0.01895375 & 0.02185792 & 0.000000000 & 0.00000000 & 0.006283229\\\\\n",
       "\t chr1 & 895465 & 896016 & KLHL17    & 0.014367816 & 0.04901961 & 0.04769737 & 0.03629032 & 0.03182580 & 0.06606607 & ... & 0.03778802 & 0.04700855 & 0.11333333 & 0.004689332 & 0.030204962 & 0.02810651 & 0.14285714 & 0.026392962 & 0.09826590 & 0.058666667\\\\\n",
       "\t chr1 & 901375 & 901926 & PLEKHN1   & 0.024253731 & 0.05357143 & 0.02334630 & 0.01470588 & 0.01798561 & 0.00000000 & ... & 0.10212766 & 0.04149378 & 0.01369863 & 0.000000000 & 0.015873016 & 0.07216495 & 0.07185629 & 0.021526419 & 0.00000000 & 0.029490617\\\\\n",
       "\t chr1 & 948345 & 948896 & ISG15     & 0.000000000 & 0.00000000 & 0.00000000 & 0.02083333 & 0.00000000 & 0.00000000 & ... & 0.00000000 & 0.02439024 & 0.00000000 & 0.009523810 & 0.010309278 & 0.00000000 & 0.00000000 & 0.000000000 & 0.00000000 & 0.000000000\\\\\n",
       "\\end{tabular}\n"
      ],
      "text/markdown": [
       "\n",
       "A tibble: 6 x 1786\n",
       "\n",
       "| chrom &lt;chr&gt; | start &lt;dbl&gt; | end &lt;dbl&gt; | name &lt;chr&gt; | MB_0006 &lt;dbl&gt; | MB_0028 &lt;dbl&gt; | MB_0030 &lt;dbl&gt; | MB_0035 &lt;dbl&gt; | MB_0040 &lt;dbl&gt; | MB_0046 &lt;dbl&gt; | ... ... | MB_7281 &lt;dbl&gt; | MB_7283 &lt;dbl&gt; | MB_7285 &lt;dbl&gt; | MB_7288 &lt;dbl&gt; | MB_7289 &lt;dbl&gt; | MB_7291 &lt;dbl&gt; | MB_7292 &lt;dbl&gt; | MB_7293 &lt;dbl&gt; | MB_7296 &lt;dbl&gt; | MB_7298 &lt;dbl&gt; |\n",
       "|---|---|---|---|---|---|---|---|---|---|---|---|---|---|---|---|---|---|---|---|---|\n",
       "| chr1 | 762469 | 763020 | LINC01128 | 0.000000000 | 0.00000000 | 0.00000000 | 0.00000000 | 0.00000000 | 0.00000000 | ... | 0.00000000 | 0.01829268 |         NA | 0.000000000 | 0.000000000 | 0.00000000 | 0.00000000 | 0.006849315 |         NA | 0.000000000 |\n",
       "| chr1 | 762676 | 763227 | LINC01128 | 0.021929825 | 0.03018109 | 0.07858546 | 0.00000000 | 0.01627486 | 0.21922626 | ... | 0.02374169 | 0.17092338 | 0.01785714 | 0.000000000 | 0.066974596 | 0.00000000 | 0.11016949 | 0.042925278 | 0.01030928 | 0.062780269 |\n",
       "| chr1 | 860619 | 861170 | SAMD11    | 0.001870324 | 0.01188300 | 0.01046622 | 0.15767196 | 0.01549464 | 0.05299539 | ... | 0.01910480 | 0.00802139 | 0.02392344 | 0.002307692 | 0.002057613 | 0.01895375 | 0.02185792 | 0.000000000 | 0.00000000 | 0.006283229 |\n",
       "| chr1 | 895465 | 896016 | KLHL17    | 0.014367816 | 0.04901961 | 0.04769737 | 0.03629032 | 0.03182580 | 0.06606607 | ... | 0.03778802 | 0.04700855 | 0.11333333 | 0.004689332 | 0.030204962 | 0.02810651 | 0.14285714 | 0.026392962 | 0.09826590 | 0.058666667 |\n",
       "| chr1 | 901375 | 901926 | PLEKHN1   | 0.024253731 | 0.05357143 | 0.02334630 | 0.01470588 | 0.01798561 | 0.00000000 | ... | 0.10212766 | 0.04149378 | 0.01369863 | 0.000000000 | 0.015873016 | 0.07216495 | 0.07185629 | 0.021526419 | 0.00000000 | 0.029490617 |\n",
       "| chr1 | 948345 | 948896 | ISG15     | 0.000000000 | 0.00000000 | 0.00000000 | 0.02083333 | 0.00000000 | 0.00000000 | ... | 0.00000000 | 0.02439024 | 0.00000000 | 0.009523810 | 0.010309278 | 0.00000000 | 0.00000000 | 0.000000000 | 0.00000000 | 0.000000000 |\n",
       "\n"
      ],
      "text/plain": [
       "  chrom start  end    name      MB_0006     MB_0028    MB_0030    MB_0035   \n",
       "1 chr1  762469 763020 LINC01128 0.000000000 0.00000000 0.00000000 0.00000000\n",
       "2 chr1  762676 763227 LINC01128 0.021929825 0.03018109 0.07858546 0.00000000\n",
       "3 chr1  860619 861170 SAMD11    0.001870324 0.01188300 0.01046622 0.15767196\n",
       "4 chr1  895465 896016 KLHL17    0.014367816 0.04901961 0.04769737 0.03629032\n",
       "5 chr1  901375 901926 PLEKHN1   0.024253731 0.05357143 0.02334630 0.01470588\n",
       "6 chr1  948345 948896 ISG15     0.000000000 0.00000000 0.00000000 0.02083333\n",
       "  MB_0040    MB_0046    ... MB_7281    MB_7283    MB_7285    MB_7288    \n",
       "1 0.00000000 0.00000000 ... 0.00000000 0.01829268         NA 0.000000000\n",
       "2 0.01627486 0.21922626 ... 0.02374169 0.17092338 0.01785714 0.000000000\n",
       "3 0.01549464 0.05299539 ... 0.01910480 0.00802139 0.02392344 0.002307692\n",
       "4 0.03182580 0.06606607 ... 0.03778802 0.04700855 0.11333333 0.004689332\n",
       "5 0.01798561 0.00000000 ... 0.10212766 0.04149378 0.01369863 0.000000000\n",
       "6 0.00000000 0.00000000 ... 0.00000000 0.02439024 0.00000000 0.009523810\n",
       "  MB_7289     MB_7291    MB_7292    MB_7293     MB_7296    MB_7298    \n",
       "1 0.000000000 0.00000000 0.00000000 0.006849315         NA 0.000000000\n",
       "2 0.066974596 0.00000000 0.11016949 0.042925278 0.01030928 0.062780269\n",
       "3 0.002057613 0.01895375 0.02185792 0.000000000 0.00000000 0.006283229\n",
       "4 0.030204962 0.02810651 0.14285714 0.026392962 0.09826590 0.058666667\n",
       "5 0.015873016 0.07216495 0.07185629 0.021526419 0.00000000 0.029490617\n",
       "6 0.010309278 0.00000000 0.00000000 0.000000000 0.00000000 0.000000000"
      ]
     },
     "metadata": {},
     "output_type": "display_data"
    }
   ],
   "source": [
    "prom_meth <- read_csv(\"data/promoter_avg_meth_filt.csv\")\n",
    "prom_meth <- prom_meth %>% select(-name3.chr)\n",
    "dim(prom_meth)\n",
    "head(prom_meth)"
   ]
  },
  {
   "cell_type": "code",
   "execution_count": 112,
   "id": "48844ccd",
   "metadata": {
    "vscode": {
     "languageId": "r"
    }
   },
   "outputs": [
    {
     "name": "stderr",
     "output_type": "stream",
     "text": [
      "Warning message:\n",
      "\"\u001b[1m\u001b[22mThere were 13552 warnings in `summarise()`.\n",
      "The first warning was:\n",
      "\u001b[1m\u001b[22m\u001b[36mi\u001b[39m In argument: `across(everything(), mean, na.rm = TRUE)`.\n",
      "\u001b[36mi\u001b[39m In group 1: `name = \"A2M-AS1\"`.\n",
      "Caused by warning in `mean.default()`:\n",
      "\u001b[33m!\u001b[39m argument is not numeric or logical: returning NA\n",
      "\u001b[1m\u001b[22m\u001b[36mi\u001b[39m Run `dplyr::last_dplyr_warnings()` to see the 13551 remaining warnings.\"\n"
     ]
    },
    {
     "name": "stdout",
     "output_type": "stream",
     "text": [
      "Cluster size 13552 broken into 11797 1755 \n",
      "Cluster size 11797 broken into 1793 10004 \n",
      "Cluster size 1793 broken into 754 1039 \n",
      "Done cluster 754 \n",
      "Done cluster 1039 \n",
      "Done cluster 1793 \n",
      "Cluster size 10004 broken into 1513 8491 \n",
      "Cluster size 1513 broken into 537 976 \n",
      "Done cluster 537 \n",
      "Done cluster 976 \n",
      "Done cluster 1513 \n",
      "Cluster size 8491 broken into 7111 1380 \n",
      "Cluster size 7111 broken into 272 6839 \n",
      "Done cluster 272 \n",
      "Cluster size 6839 broken into 5123 1716 \n",
      "Cluster size 5123 broken into 5064 59 \n",
      "Cluster size 5064 broken into 5060 4 \n",
      "Cluster size 5060 broken into 5056 4 \n",
      "Cluster size 5056 broken into 1 5055 \n",
      "Done cluster 1 \n",
      "Cluster size 5055 broken into 17 5038 \n",
      "Done cluster 17 \n",
      "Cluster size 5038 broken into 2673 2365 \n",
      "Cluster size 2673 broken into 1060 1613 \n",
      "Done cluster 1060 \n",
      "Cluster size 1613 broken into 2 1611 \n",
      "Done cluster 2 \n",
      "Cluster size 1611 broken into 1 1610 \n",
      "Done cluster 1 \n",
      "Cluster size 1610 broken into 1609 1 \n",
      "Cluster size 1609 broken into 1608 1 \n",
      "Cluster size 1608 broken into 9 1599 \n",
      "Done cluster 9 \n",
      "Cluster size 1599 broken into 2 1597 \n",
      "Done cluster 2 \n",
      "Cluster size 1597 broken into 1341 256 \n",
      "Done cluster 1341 \n",
      "Done cluster 256 \n",
      "Done cluster 1597 \n",
      "Done cluster 1599 \n",
      "Done cluster 1608 \n",
      "Done cluster 1 \n",
      "Done cluster 1609 \n",
      "Done cluster 1 \n",
      "Done cluster 1610 \n",
      "Done cluster 1611 \n",
      "Done cluster 1613 \n",
      "Done cluster 2673 \n",
      "Cluster size 2365 broken into 5 2360 \n",
      "Done cluster 5 \n",
      "Cluster size 2360 broken into 2359 1 \n",
      "Cluster size 2359 broken into 1347 1012 \n",
      "Done cluster 1347 \n",
      "Done cluster 1012 \n",
      "Done cluster 2359 \n",
      "Done cluster 1 \n",
      "Done cluster 2360 \n",
      "Done cluster 2365 \n",
      "Done cluster 5038 \n",
      "Done cluster 5055 \n",
      "Done cluster 5056 \n",
      "Done cluster 4 \n",
      "Done cluster 5060 \n",
      "Done cluster 4 \n",
      "Done cluster 5064 \n",
      "Done cluster 59 \n",
      "Done cluster 5123 \n",
      "Cluster size 1716 broken into 168 1548 \n",
      "Done cluster 168 \n",
      "Cluster size 1548 broken into 44 1504 \n",
      "Done cluster 44 \n",
      "Cluster size 1504 broken into 1502 2 \n",
      "Cluster size 1502 broken into 112 1390 \n",
      "Done cluster 112 \n",
      "Done cluster 1390 \n",
      "Done cluster 1502 \n",
      "Done cluster 2 \n",
      "Done cluster 1504 \n",
      "Done cluster 1548 \n",
      "Done cluster 1716 \n",
      "Done cluster 6839 \n",
      "Done cluster 7111 \n",
      "Done cluster 1380 \n",
      "Done cluster 8491 \n",
      "Done cluster 10004 \n",
      "Done cluster 11797 \n",
      "Cluster size 1755 broken into 952 803 \n",
      "Done cluster 952 \n",
      "Done cluster 803 \n",
      "Done cluster 1755 \n"
     ]
    }
   ],
   "source": [
    "# Averaging out methylation values for each gene to keep on value for each gene\n",
    "prom_meth_clean <- prom_meth %>%\n",
    "  select(-start, -end) %>%\n",
    "  group_by(name) %>%\n",
    "  summarise(across(everything(), mean, na.rm = TRUE)) %>%\n",
    "  ungroup()\n",
    "\n",
    "meth_matrix <- prom_meth_clean %>%\n",
    "  column_to_rownames(\"name\") %>%\n",
    "  as.matrix()\n",
    "\n",
    "# Remove samples with >80% missing values\n",
    "meth_matrix_filtered <- meth_matrix[, colMeans(is.na(meth_matrix)) <= 0.8]\n",
    "\n",
    "# Now run imputation\n",
    "imputed <- impute.knn(meth_matrix_filtered, k = 5)\n",
    "# dropped_samples <- colnames(meth_matrix)[colMeans(is.na(meth_matrix)) > 0.8]\n"
   ]
  },
  {
   "cell_type": "code",
   "execution_count": 113,
   "id": "12bc79d8",
   "metadata": {
    "vscode": {
     "languageId": "r"
    }
   },
   "outputs": [
    {
     "data": {
      "text/html": [
       "<table class=\"dataframe\">\n",
       "<caption>A data.frame: 6 x 1783</caption>\n",
       "<thead>\n",
       "\t<tr><th></th><th scope=col>name</th><th scope=col>MB_0006</th><th scope=col>MB_0028</th><th scope=col>MB_0030</th><th scope=col>MB_0035</th><th scope=col>MB_0040</th><th scope=col>MB_0046</th><th scope=col>MB_0050</th><th scope=col>MB_0053</th><th scope=col>MB_0054</th><th scope=col>...</th><th scope=col>MB_7281</th><th scope=col>MB_7283</th><th scope=col>MB_7285</th><th scope=col>MB_7288</th><th scope=col>MB_7289</th><th scope=col>MB_7291</th><th scope=col>MB_7292</th><th scope=col>MB_7293</th><th scope=col>MB_7296</th><th scope=col>MB_7298</th></tr>\n",
       "\t<tr><th></th><th scope=col>&lt;chr&gt;</th><th scope=col>&lt;dbl&gt;</th><th scope=col>&lt;dbl&gt;</th><th scope=col>&lt;dbl&gt;</th><th scope=col>&lt;dbl&gt;</th><th scope=col>&lt;dbl&gt;</th><th scope=col>&lt;dbl&gt;</th><th scope=col>&lt;dbl&gt;</th><th scope=col>&lt;dbl&gt;</th><th scope=col>&lt;dbl&gt;</th><th scope=col>...</th><th scope=col>&lt;dbl&gt;</th><th scope=col>&lt;dbl&gt;</th><th scope=col>&lt;dbl&gt;</th><th scope=col>&lt;dbl&gt;</th><th scope=col>&lt;dbl&gt;</th><th scope=col>&lt;dbl&gt;</th><th scope=col>&lt;dbl&gt;</th><th scope=col>&lt;dbl&gt;</th><th scope=col>&lt;dbl&gt;</th><th scope=col>&lt;dbl&gt;</th></tr>\n",
       "</thead>\n",
       "<tbody>\n",
       "\t<tr><th scope=row>1</th><td>A2M-AS1    </td><td>0.04503106</td><td>0.06653226</td><td>0.058189655</td><td>0.01548673</td><td>0.05649718</td><td>0.1024390</td><td>0.001904762</td><td>0.03910615</td><td>0.08031088</td><td>...</td><td>0.10837438</td><td>0.001915709</td><td>0.004672897</td><td>0.004048583</td><td>0.00000000</td><td>0.177111717</td><td>0.015463918</td><td>0.09090909</td><td>0.10000000</td><td>0.06956522</td></tr>\n",
       "\t<tr><th scope=row>2</th><td>A4GALT     </td><td>0.01758242</td><td>0.03809524</td><td>0.015197568</td><td>0.03333333</td><td>0.02208202</td><td>0.0000000</td><td>0.009803922</td><td>0.23631124</td><td>0.02346041</td><td>...</td><td>0.02639296</td><td>0.202150538</td><td>0.061224490</td><td>0.000000000</td><td>0.06274510</td><td>0.039772727</td><td>0.007751938</td><td>0.01162791</td><td>0.00000000</td><td>0.01463415</td></tr>\n",
       "\t<tr><th scope=row>3</th><td>AAAS       </td><td>0.00000000</td><td>0.00000000</td><td>0.004347826</td><td>0.00000000</td><td>0.00000000</td><td>0.0000000</td><td>0.000000000</td><td>0.00000000</td><td>0.00000000</td><td>...</td><td>0.00000000</td><td>0.013043478</td><td>0.000000000</td><td>0.000000000</td><td>0.01181102</td><td>0.003401361</td><td>0.000000000</td><td>0.01415094</td><td>0.00000000</td><td>0.00000000</td></tr>\n",
       "\t<tr><th scope=row>4</th><td>AACS       </td><td>0.00000000</td><td>0.01980198</td><td>0.030000000</td><td>0.00000000</td><td>0.00000000</td><td>0.0000000</td><td>0.000000000</td><td>0.00000000</td><td>0.03296703</td><td>...</td><td>0.00000000</td><td>0.026315789</td><td>0.010908763</td><td>0.000000000</td><td>0.00000000</td><td>0.007194245</td><td>0.000000000</td><td>0.00000000</td><td>0.00000000</td><td>0.00000000</td></tr>\n",
       "\t<tr><th scope=row>5</th><td>AADACL2-AS1</td><td>0.87037037</td><td>0.95876289</td><td>0.976744186</td><td>0.98739496</td><td>0.87155963</td><td>0.9655172</td><td>0.969230769</td><td>0.76335878</td><td>0.97931034</td><td>...</td><td>0.92241379</td><td>0.962264151</td><td>0.935483871</td><td>0.812500000</td><td>0.93916350</td><td>0.921348315</td><td>0.934030881</td><td>0.93750000</td><td>1.00000000</td><td>0.81318681</td></tr>\n",
       "\t<tr><th scope=row>6</th><td>AADAT      </td><td>0.04423454</td><td>0.10129164</td><td>0.145657339</td><td>0.25582886</td><td>0.07697122</td><td>0.1254959</td><td>0.063224415</td><td>0.29063399</td><td>0.11874137</td><td>...</td><td>0.17214703</td><td>0.791520791</td><td>0.123962052</td><td>0.104915636</td><td>0.09474926</td><td>0.101307895</td><td>0.070596629</td><td>0.24767405</td><td>0.07254412</td><td>0.11727368</td></tr>\n",
       "</tbody>\n",
       "</table>\n"
      ],
      "text/latex": [
       "A data.frame: 6 x 1783\n",
       "\\begin{tabular}{r|lllllllllllllllllllll}\n",
       "  & name & MB\\_0006 & MB\\_0028 & MB\\_0030 & MB\\_0035 & MB\\_0040 & MB\\_0046 & MB\\_0050 & MB\\_0053 & MB\\_0054 & ... & MB\\_7281 & MB\\_7283 & MB\\_7285 & MB\\_7288 & MB\\_7289 & MB\\_7291 & MB\\_7292 & MB\\_7293 & MB\\_7296 & MB\\_7298\\\\\n",
       "  & <chr> & <dbl> & <dbl> & <dbl> & <dbl> & <dbl> & <dbl> & <dbl> & <dbl> & <dbl> & ... & <dbl> & <dbl> & <dbl> & <dbl> & <dbl> & <dbl> & <dbl> & <dbl> & <dbl> & <dbl>\\\\\n",
       "\\hline\n",
       "\t1 & A2M-AS1     & 0.04503106 & 0.06653226 & 0.058189655 & 0.01548673 & 0.05649718 & 0.1024390 & 0.001904762 & 0.03910615 & 0.08031088 & ... & 0.10837438 & 0.001915709 & 0.004672897 & 0.004048583 & 0.00000000 & 0.177111717 & 0.015463918 & 0.09090909 & 0.10000000 & 0.06956522\\\\\n",
       "\t2 & A4GALT      & 0.01758242 & 0.03809524 & 0.015197568 & 0.03333333 & 0.02208202 & 0.0000000 & 0.009803922 & 0.23631124 & 0.02346041 & ... & 0.02639296 & 0.202150538 & 0.061224490 & 0.000000000 & 0.06274510 & 0.039772727 & 0.007751938 & 0.01162791 & 0.00000000 & 0.01463415\\\\\n",
       "\t3 & AAAS        & 0.00000000 & 0.00000000 & 0.004347826 & 0.00000000 & 0.00000000 & 0.0000000 & 0.000000000 & 0.00000000 & 0.00000000 & ... & 0.00000000 & 0.013043478 & 0.000000000 & 0.000000000 & 0.01181102 & 0.003401361 & 0.000000000 & 0.01415094 & 0.00000000 & 0.00000000\\\\\n",
       "\t4 & AACS        & 0.00000000 & 0.01980198 & 0.030000000 & 0.00000000 & 0.00000000 & 0.0000000 & 0.000000000 & 0.00000000 & 0.03296703 & ... & 0.00000000 & 0.026315789 & 0.010908763 & 0.000000000 & 0.00000000 & 0.007194245 & 0.000000000 & 0.00000000 & 0.00000000 & 0.00000000\\\\\n",
       "\t5 & AADACL2-AS1 & 0.87037037 & 0.95876289 & 0.976744186 & 0.98739496 & 0.87155963 & 0.9655172 & 0.969230769 & 0.76335878 & 0.97931034 & ... & 0.92241379 & 0.962264151 & 0.935483871 & 0.812500000 & 0.93916350 & 0.921348315 & 0.934030881 & 0.93750000 & 1.00000000 & 0.81318681\\\\\n",
       "\t6 & AADAT       & 0.04423454 & 0.10129164 & 0.145657339 & 0.25582886 & 0.07697122 & 0.1254959 & 0.063224415 & 0.29063399 & 0.11874137 & ... & 0.17214703 & 0.791520791 & 0.123962052 & 0.104915636 & 0.09474926 & 0.101307895 & 0.070596629 & 0.24767405 & 0.07254412 & 0.11727368\\\\\n",
       "\\end{tabular}\n"
      ],
      "text/markdown": [
       "\n",
       "A data.frame: 6 x 1783\n",
       "\n",
       "| <!--/--> | name &lt;chr&gt; | MB_0006 &lt;dbl&gt; | MB_0028 &lt;dbl&gt; | MB_0030 &lt;dbl&gt; | MB_0035 &lt;dbl&gt; | MB_0040 &lt;dbl&gt; | MB_0046 &lt;dbl&gt; | MB_0050 &lt;dbl&gt; | MB_0053 &lt;dbl&gt; | MB_0054 &lt;dbl&gt; | ... ... | MB_7281 &lt;dbl&gt; | MB_7283 &lt;dbl&gt; | MB_7285 &lt;dbl&gt; | MB_7288 &lt;dbl&gt; | MB_7289 &lt;dbl&gt; | MB_7291 &lt;dbl&gt; | MB_7292 &lt;dbl&gt; | MB_7293 &lt;dbl&gt; | MB_7296 &lt;dbl&gt; | MB_7298 &lt;dbl&gt; |\n",
       "|---|---|---|---|---|---|---|---|---|---|---|---|---|---|---|---|---|---|---|---|---|---|\n",
       "| 1 | A2M-AS1     | 0.04503106 | 0.06653226 | 0.058189655 | 0.01548673 | 0.05649718 | 0.1024390 | 0.001904762 | 0.03910615 | 0.08031088 | ... | 0.10837438 | 0.001915709 | 0.004672897 | 0.004048583 | 0.00000000 | 0.177111717 | 0.015463918 | 0.09090909 | 0.10000000 | 0.06956522 |\n",
       "| 2 | A4GALT      | 0.01758242 | 0.03809524 | 0.015197568 | 0.03333333 | 0.02208202 | 0.0000000 | 0.009803922 | 0.23631124 | 0.02346041 | ... | 0.02639296 | 0.202150538 | 0.061224490 | 0.000000000 | 0.06274510 | 0.039772727 | 0.007751938 | 0.01162791 | 0.00000000 | 0.01463415 |\n",
       "| 3 | AAAS        | 0.00000000 | 0.00000000 | 0.004347826 | 0.00000000 | 0.00000000 | 0.0000000 | 0.000000000 | 0.00000000 | 0.00000000 | ... | 0.00000000 | 0.013043478 | 0.000000000 | 0.000000000 | 0.01181102 | 0.003401361 | 0.000000000 | 0.01415094 | 0.00000000 | 0.00000000 |\n",
       "| 4 | AACS        | 0.00000000 | 0.01980198 | 0.030000000 | 0.00000000 | 0.00000000 | 0.0000000 | 0.000000000 | 0.00000000 | 0.03296703 | ... | 0.00000000 | 0.026315789 | 0.010908763 | 0.000000000 | 0.00000000 | 0.007194245 | 0.000000000 | 0.00000000 | 0.00000000 | 0.00000000 |\n",
       "| 5 | AADACL2-AS1 | 0.87037037 | 0.95876289 | 0.976744186 | 0.98739496 | 0.87155963 | 0.9655172 | 0.969230769 | 0.76335878 | 0.97931034 | ... | 0.92241379 | 0.962264151 | 0.935483871 | 0.812500000 | 0.93916350 | 0.921348315 | 0.934030881 | 0.93750000 | 1.00000000 | 0.81318681 |\n",
       "| 6 | AADAT       | 0.04423454 | 0.10129164 | 0.145657339 | 0.25582886 | 0.07697122 | 0.1254959 | 0.063224415 | 0.29063399 | 0.11874137 | ... | 0.17214703 | 0.791520791 | 0.123962052 | 0.104915636 | 0.09474926 | 0.101307895 | 0.070596629 | 0.24767405 | 0.07254412 | 0.11727368 |\n",
       "\n"
      ],
      "text/plain": [
       "  name        MB_0006    MB_0028    MB_0030     MB_0035    MB_0040    MB_0046  \n",
       "1 A2M-AS1     0.04503106 0.06653226 0.058189655 0.01548673 0.05649718 0.1024390\n",
       "2 A4GALT      0.01758242 0.03809524 0.015197568 0.03333333 0.02208202 0.0000000\n",
       "3 AAAS        0.00000000 0.00000000 0.004347826 0.00000000 0.00000000 0.0000000\n",
       "4 AACS        0.00000000 0.01980198 0.030000000 0.00000000 0.00000000 0.0000000\n",
       "5 AADACL2-AS1 0.87037037 0.95876289 0.976744186 0.98739496 0.87155963 0.9655172\n",
       "6 AADAT       0.04423454 0.10129164 0.145657339 0.25582886 0.07697122 0.1254959\n",
       "  MB_0050     MB_0053    MB_0054    ... MB_7281    MB_7283     MB_7285    \n",
       "1 0.001904762 0.03910615 0.08031088 ... 0.10837438 0.001915709 0.004672897\n",
       "2 0.009803922 0.23631124 0.02346041 ... 0.02639296 0.202150538 0.061224490\n",
       "3 0.000000000 0.00000000 0.00000000 ... 0.00000000 0.013043478 0.000000000\n",
       "4 0.000000000 0.00000000 0.03296703 ... 0.00000000 0.026315789 0.010908763\n",
       "5 0.969230769 0.76335878 0.97931034 ... 0.92241379 0.962264151 0.935483871\n",
       "6 0.063224415 0.29063399 0.11874137 ... 0.17214703 0.791520791 0.123962052\n",
       "  MB_7288     MB_7289    MB_7291     MB_7292     MB_7293    MB_7296   \n",
       "1 0.004048583 0.00000000 0.177111717 0.015463918 0.09090909 0.10000000\n",
       "2 0.000000000 0.06274510 0.039772727 0.007751938 0.01162791 0.00000000\n",
       "3 0.000000000 0.01181102 0.003401361 0.000000000 0.01415094 0.00000000\n",
       "4 0.000000000 0.00000000 0.007194245 0.000000000 0.00000000 0.00000000\n",
       "5 0.812500000 0.93916350 0.921348315 0.934030881 0.93750000 1.00000000\n",
       "6 0.104915636 0.09474926 0.101307895 0.070596629 0.24767405 0.07254412\n",
       "  MB_7298   \n",
       "1 0.06956522\n",
       "2 0.01463415\n",
       "3 0.00000000\n",
       "4 0.00000000\n",
       "5 0.81318681\n",
       "6 0.11727368"
      ]
     },
     "metadata": {},
     "output_type": "display_data"
    },
    {
     "data": {
      "text/html": [
       "<style>\n",
       ".list-inline {list-style: none; margin:0; padding: 0}\n",
       ".list-inline>li {display: inline-block}\n",
       ".list-inline>li:not(:last-child)::after {content: \"\\00b7\"; padding: 0 .5ex}\n",
       "</style>\n",
       "<ol class=list-inline><li>13552</li><li>1783</li></ol>\n"
      ],
      "text/latex": [
       "\\begin{enumerate*}\n",
       "\\item 13552\n",
       "\\item 1783\n",
       "\\end{enumerate*}\n"
      ],
      "text/markdown": [
       "1. 13552\n",
       "2. 1783\n",
       "\n",
       "\n"
      ],
      "text/plain": [
       "[1] 13552  1783"
      ]
     },
     "metadata": {},
     "output_type": "display_data"
    }
   ],
   "source": [
    "imputed_df <- as.data.frame(imputed$data) %>%\n",
    "   rownames_to_column(\"name\")\n",
    "   \n",
    "head(imputed_df)\n",
    "dim(imputed_df)"
   ]
  },
  {
   "cell_type": "code",
   "execution_count": 178,
   "id": "56086420",
   "metadata": {
    "vscode": {
     "languageId": "r"
    }
   },
   "outputs": [],
   "source": [
    "meth_long_labeled <- imputed_df %>%\n",
    "  pivot_longer(-name, names_to = \"Sample_ID\", values_to = \"Beta_Methylation\") %>%\n",
    "  rename(Gene = name) %>%\n",
    "  mutate(Group = case_when(\n",
    "    Sample_ID %in% tumor_samples ~ \"Tumor\",\n",
    "    Sample_ID %in% normal_samples ~ \"Normal\",\n",
    "    TRUE ~ NA_character_\n",
    "  )) %>%\n",
    "  filter(!is.na(Group))"
   ]
  },
  {
   "cell_type": "code",
   "execution_count": 183,
   "id": "0790a7d9",
   "metadata": {
    "vscode": {
     "languageId": "r"
    }
   },
   "outputs": [],
   "source": [
    "# 1. Compute mean beta per gene per group\n",
    "beta_avg <- meth_long_labeled %>%\n",
    "  group_by(Gene, Group) %>%\n",
    "  summarise(mean_beta = mean(Beta_Methylation), .groups = \"drop\")\n",
    "\n",
    "# 2. Pivot to wide to get tumor and normal side-by-side\n",
    "delta_beta_df <- beta_avg %>%\n",
    "  pivot_wider(names_from = Group, values_from = mean_beta, names_prefix = \"mean_beta_\") %>%\n",
    "  mutate(delta_beta = mean_beta_Tumor - mean_beta_Normal)\n",
    "\n",
    "# 3. Filter for DMRs\n",
    "dmr_genes <- delta_beta_df %>%\n",
    "  filter(abs(delta_beta) > 0.2) %>%\n",
    "  arrange(desc(abs(delta_beta)))"
   ]
  },
  {
   "cell_type": "code",
   "execution_count": 195,
   "id": "b4a60f37",
   "metadata": {
    "vscode": {
     "languageId": "r"
    }
   },
   "outputs": [
    {
     "data": {
      "text/html": [
       "<table class=\"dataframe\">\n",
       "<caption>A tibble: 6 x 4</caption>\n",
       "<thead>\n",
       "\t<tr><th scope=col>Gene</th><th scope=col>Sample_ID</th><th scope=col>Beta_Methylation</th><th scope=col>Group</th></tr>\n",
       "\t<tr><th scope=col>&lt;chr&gt;</th><th scope=col>&lt;chr&gt;</th><th scope=col>&lt;dbl&gt;</th><th scope=col>&lt;chr&gt;</th></tr>\n",
       "</thead>\n",
       "<tbody>\n",
       "\t<tr><td>A2M-AS1</td><td>MB_0006</td><td>0.04503106</td><td>Tumor</td></tr>\n",
       "\t<tr><td>A2M-AS1</td><td>MB_0028</td><td>0.06653226</td><td>Tumor</td></tr>\n",
       "\t<tr><td>A2M-AS1</td><td>MB_0030</td><td>0.05818966</td><td>Tumor</td></tr>\n",
       "\t<tr><td>A2M-AS1</td><td>MB_0035</td><td>0.01548673</td><td>Tumor</td></tr>\n",
       "\t<tr><td>A2M-AS1</td><td>MB_0040</td><td>0.05649718</td><td>Tumor</td></tr>\n",
       "\t<tr><td>A2M-AS1</td><td>MB_0046</td><td>0.10243902</td><td>Tumor</td></tr>\n",
       "</tbody>\n",
       "</table>\n"
      ],
      "text/latex": [
       "A tibble: 6 x 4\n",
       "\\begin{tabular}{llll}\n",
       " Gene & Sample\\_ID & Beta\\_Methylation & Group\\\\\n",
       " <chr> & <chr> & <dbl> & <chr>\\\\\n",
       "\\hline\n",
       "\t A2M-AS1 & MB\\_0006 & 0.04503106 & Tumor\\\\\n",
       "\t A2M-AS1 & MB\\_0028 & 0.06653226 & Tumor\\\\\n",
       "\t A2M-AS1 & MB\\_0030 & 0.05818966 & Tumor\\\\\n",
       "\t A2M-AS1 & MB\\_0035 & 0.01548673 & Tumor\\\\\n",
       "\t A2M-AS1 & MB\\_0040 & 0.05649718 & Tumor\\\\\n",
       "\t A2M-AS1 & MB\\_0046 & 0.10243902 & Tumor\\\\\n",
       "\\end{tabular}\n"
      ],
      "text/markdown": [
       "\n",
       "A tibble: 6 x 4\n",
       "\n",
       "| Gene &lt;chr&gt; | Sample_ID &lt;chr&gt; | Beta_Methylation &lt;dbl&gt; | Group &lt;chr&gt; |\n",
       "|---|---|---|---|\n",
       "| A2M-AS1 | MB_0006 | 0.04503106 | Tumor |\n",
       "| A2M-AS1 | MB_0028 | 0.06653226 | Tumor |\n",
       "| A2M-AS1 | MB_0030 | 0.05818966 | Tumor |\n",
       "| A2M-AS1 | MB_0035 | 0.01548673 | Tumor |\n",
       "| A2M-AS1 | MB_0040 | 0.05649718 | Tumor |\n",
       "| A2M-AS1 | MB_0046 | 0.10243902 | Tumor |\n",
       "\n"
      ],
      "text/plain": [
       "  Gene    Sample_ID Beta_Methylation Group\n",
       "1 A2M-AS1 MB_0006   0.04503106       Tumor\n",
       "2 A2M-AS1 MB_0028   0.06653226       Tumor\n",
       "3 A2M-AS1 MB_0030   0.05818966       Tumor\n",
       "4 A2M-AS1 MB_0035   0.01548673       Tumor\n",
       "5 A2M-AS1 MB_0040   0.05649718       Tumor\n",
       "6 A2M-AS1 MB_0046   0.10243902       Tumor"
      ]
     },
     "metadata": {},
     "output_type": "display_data"
    },
    {
     "data": {
      "text/html": [
       "<table class=\"dataframe\">\n",
       "<caption>A tibble: 6 x 4</caption>\n",
       "<thead>\n",
       "\t<tr><th scope=col>name</th><th scope=col>mean_beta_tumor</th><th scope=col>mean_beta_normal</th><th scope=col>delta_beta</th></tr>\n",
       "\t<tr><th scope=col>&lt;chr&gt;</th><th scope=col>&lt;dbl&gt;</th><th scope=col>&lt;dbl&gt;</th><th scope=col>&lt;dbl&gt;</th></tr>\n",
       "</thead>\n",
       "<tbody>\n",
       "\t<tr><td>A2M-AS1    </td><td>0.085542723</td><td>0.047311498</td><td> 0.0382312251</td></tr>\n",
       "\t<tr><td>A4GALT     </td><td>0.029933318</td><td>0.021547509</td><td> 0.0083858098</td></tr>\n",
       "\t<tr><td>AAAS       </td><td>0.003100639</td><td>0.002568996</td><td> 0.0005316430</td></tr>\n",
       "\t<tr><td>AACS       </td><td>0.010184859</td><td>0.009723214</td><td> 0.0004616454</td></tr>\n",
       "\t<tr><td>AADACL2-AS1</td><td>0.913754975</td><td>0.945279710</td><td>-0.0315247358</td></tr>\n",
       "\t<tr><td>AADAT      </td><td>0.144276451</td><td>0.080670454</td><td> 0.0636059969</td></tr>\n",
       "</tbody>\n",
       "</table>\n"
      ],
      "text/latex": [
       "A tibble: 6 x 4\n",
       "\\begin{tabular}{llll}\n",
       " name & mean\\_beta\\_tumor & mean\\_beta\\_normal & delta\\_beta\\\\\n",
       " <chr> & <dbl> & <dbl> & <dbl>\\\\\n",
       "\\hline\n",
       "\t A2M-AS1     & 0.085542723 & 0.047311498 &  0.0382312251\\\\\n",
       "\t A4GALT      & 0.029933318 & 0.021547509 &  0.0083858098\\\\\n",
       "\t AAAS        & 0.003100639 & 0.002568996 &  0.0005316430\\\\\n",
       "\t AACS        & 0.010184859 & 0.009723214 &  0.0004616454\\\\\n",
       "\t AADACL2-AS1 & 0.913754975 & 0.945279710 & -0.0315247358\\\\\n",
       "\t AADAT       & 0.144276451 & 0.080670454 &  0.0636059969\\\\\n",
       "\\end{tabular}\n"
      ],
      "text/markdown": [
       "\n",
       "A tibble: 6 x 4\n",
       "\n",
       "| name &lt;chr&gt; | mean_beta_tumor &lt;dbl&gt; | mean_beta_normal &lt;dbl&gt; | delta_beta &lt;dbl&gt; |\n",
       "|---|---|---|---|\n",
       "| A2M-AS1     | 0.085542723 | 0.047311498 |  0.0382312251 |\n",
       "| A4GALT      | 0.029933318 | 0.021547509 |  0.0083858098 |\n",
       "| AAAS        | 0.003100639 | 0.002568996 |  0.0005316430 |\n",
       "| AACS        | 0.010184859 | 0.009723214 |  0.0004616454 |\n",
       "| AADACL2-AS1 | 0.913754975 | 0.945279710 | -0.0315247358 |\n",
       "| AADAT       | 0.144276451 | 0.080670454 |  0.0636059969 |\n",
       "\n"
      ],
      "text/plain": [
       "  name        mean_beta_tumor mean_beta_normal delta_beta   \n",
       "1 A2M-AS1     0.085542723     0.047311498       0.0382312251\n",
       "2 A4GALT      0.029933318     0.021547509       0.0083858098\n",
       "3 AAAS        0.003100639     0.002568996       0.0005316430\n",
       "4 AACS        0.010184859     0.009723214       0.0004616454\n",
       "5 AADACL2-AS1 0.913754975     0.945279710      -0.0315247358\n",
       "6 AADAT       0.144276451     0.080670454       0.0636059969"
      ]
     },
     "metadata": {},
     "output_type": "display_data"
    },
    {
     "name": "stdout",
     "output_type": "stream",
     "text": [
      "\u001b[90m# A tibble: 389 x 4\u001b[39m\n",
      "   name         mean_beta_tumor mean_beta_normal delta_beta\n",
      "   \u001b[3m\u001b[90m<chr>\u001b[39m\u001b[23m                  \u001b[3m\u001b[90m<dbl>\u001b[39m\u001b[23m            \u001b[3m\u001b[90m<dbl>\u001b[39m\u001b[23m      \u001b[3m\u001b[90m<dbl>\u001b[39m\u001b[23m\n",
      "\u001b[90m 1\u001b[39m RGS22                  0.564           0.121       0.443\n",
      "\u001b[90m 2\u001b[39m CCDC181                0.461           0.063\u001b[4m6\u001b[24m      0.397\n",
      "\u001b[90m 3\u001b[39m RARRES2                0.651           0.256       0.395\n",
      "\u001b[90m 4\u001b[39m PFN3                   0.663           0.279       0.384\n",
      "\u001b[90m 5\u001b[39m FAM193A                0.717           0.335       0.382\n",
      "\u001b[90m 6\u001b[39m LOC101929415           0.457           0.081\u001b[4m0\u001b[24m      0.376\n",
      "\u001b[90m 7\u001b[39m CA3                    0.450           0.089\u001b[4m7\u001b[24m      0.361\n",
      "\u001b[90m 8\u001b[39m MIR663AHG              0.436           0.086\u001b[4m9\u001b[24m      0.349\n",
      "\u001b[90m 9\u001b[39m SLC35F4                0.413           0.066\u001b[4m1\u001b[24m      0.347\n",
      "\u001b[90m10\u001b[39m ZNF350-AS1             0.474           0.128       0.347\n",
      "\u001b[90m# i 379 more rows\u001b[39m\n"
     ]
    }
   ],
   "source": [
    "head(meth_long_labeled)\n",
    "head(delta_beta_df)\n",
    "print(dmr_genes)"
   ]
  },
  {
   "cell_type": "code",
   "execution_count": 190,
   "id": "2328dd10",
   "metadata": {
    "vscode": {
     "languageId": "r"
    }
   },
   "outputs": [],
   "source": [
    "# tumor_meth <- imputed_df %>% select(name, all_of(tumor_samples))\n",
    "# normal_meth <- imputed_df %>% select(name, all_of(normal_samples))\n",
    "# dim(tumor_meth)\n",
    "# dim(normal_meth)\n",
    "# head(tumor_meth)"
   ]
  },
  {
   "cell_type": "code",
   "execution_count": 191,
   "id": "58698920",
   "metadata": {
    "vscode": {
     "languageId": "r"
    }
   },
   "outputs": [],
   "source": [
    "# #Converting the data to long format\n",
    "# tumor_meth_long <- tumor_meth %>%\n",
    "#   pivot_longer(-name, names_to = \"Sample_ID\", values_to = \"Beta_Methylation\")\n",
    "\n",
    "# normal_meth_long <- normal_meth %>%\n",
    "#   pivot_longer(-name, names_to = \"Sample_ID\", values_to = \"Beta_Methylation\")\n",
    "\n",
    "# head(tumor_meth_long)\n",
    "# head(normal_meth_long)"
   ]
  },
  {
   "cell_type": "code",
   "execution_count": 181,
   "id": "9b042c96",
   "metadata": {
    "vscode": {
     "languageId": "r"
    }
   },
   "outputs": [],
   "source": [
    "# ggplot(tumor_meth_long, aes(x = Beta_Methylation)) +\n",
    "#   geom_histogram(bins = 30, fill = \"steelblue\", color = \"black\") +\n",
    "#   theme_minimal() +\n",
    "#   labs(title = \"Distribution of Beta Methylation in Tumor Samples\")"
   ]
  },
  {
   "cell_type": "code",
   "execution_count": 192,
   "id": "134bf956",
   "metadata": {
    "vscode": {
     "languageId": "r"
    }
   },
   "outputs": [],
   "source": [
    "# Compute average beta values for each gene\n",
    "# tumor_avg <- tumor_meth_long %>%\n",
    "#   group_by(name) %>%\n",
    "#   summarise(mean_beta_tumor = mean(Beta_Methylation))\n",
    "\n",
    "# normal_avg <- normal_meth_long %>%\n",
    "#   group_by(name) %>%\n",
    "#   summarise(mean_beta_normal = mean(Beta_Methylation))\n",
    "\n",
    "# # Calculate delta beta values\n",
    "# delta_beta_df <- inner_join(tumor_avg, normal_avg, by = \"name\") %>%\n",
    "#   mutate(delta_beta = mean_beta_tumor - mean_beta_normal)"
   ]
  },
  {
   "cell_type": "code",
   "execution_count": 118,
   "id": "9a33a29a",
   "metadata": {
    "vscode": {
     "languageId": "r"
    }
   },
   "outputs": [
    {
     "data": {
      "text/html": [
       "'/Users/aryamanbahl/Desktop/IIITH/Research/Metabrick_RRBS/analysis_files'"
      ],
      "text/latex": [
       "'/Users/aryamanbahl/Desktop/IIITH/Research/Metabrick\\_RRBS/analysis\\_files'"
      ],
      "text/markdown": [
       "'/Users/aryamanbahl/Desktop/IIITH/Research/Metabrick_RRBS/analysis_files'"
      ],
      "text/plain": [
       "[1] \"/Users/aryamanbahl/Desktop/IIITH/Research/Metabrick_RRBS/analysis_files\""
      ]
     },
     "metadata": {},
     "output_type": "display_data"
    }
   ],
   "source": [
    "getwd()"
   ]
  },
  {
   "cell_type": "code",
   "execution_count": 193,
   "id": "4c59d24f",
   "metadata": {
    "vscode": {
     "languageId": "r"
    }
   },
   "outputs": [],
   "source": [
    "# dmr_genes <- delta_beta_df %>%\n",
    "#   filter(abs(delta_beta) > 0.2)  # adjust threshold if needed\n",
    "\n",
    "# # Optional: sort by effect size\n",
    "# dmr_genes <- dmr_genes %>%\n",
    "#   arrange(desc(abs(delta_beta)))\n",
    "\n",
    "# dim(dmr_genes)\n",
    "# head(dmr_genes)"
   ]
  },
  {
   "cell_type": "code",
   "execution_count": 194,
   "id": "b22fbe74",
   "metadata": {
    "vscode": {
     "languageId": "r"
    }
   },
   "outputs": [],
   "source": [
    "# write_tsv(dmr_genes, \"./nita/data/differentially_methylated_genes.tsv\")\n",
    "# write_tsv(imputed_df, \"./nita/data/imputed_methylation_data.tsv\")"
   ]
  },
  {
   "cell_type": "markdown",
   "id": "0e384f8e",
   "metadata": {},
   "source": [
    "Limma test "
   ]
  },
  {
   "cell_type": "code",
   "execution_count": 121,
   "id": "171905c9",
   "metadata": {
    "vscode": {
     "languageId": "r"
    }
   },
   "outputs": [
    {
     "data": {
      "text/plain": [
       "group\n",
       "Normal  Tumor \n",
       "   244   1538 "
      ]
     },
     "metadata": {},
     "output_type": "display_data"
    },
    {
     "data": {
      "text/html": [
       "<style>\n",
       ".list-inline {list-style: none; margin:0; padding: 0}\n",
       ".list-inline>li {display: inline-block}\n",
       ".list-inline>li:not(:last-child)::after {content: \"\\00b7\"; padding: 0 .5ex}\n",
       "</style>\n",
       "<ol class=list-inline><li>'(Intercept)'</li><li>'groupTumor'</li></ol>\n"
      ],
      "text/latex": [
       "\\begin{enumerate*}\n",
       "\\item '(Intercept)'\n",
       "\\item 'groupTumor'\n",
       "\\end{enumerate*}\n"
      ],
      "text/markdown": [
       "1. '(Intercept)'\n",
       "2. 'groupTumor'\n",
       "\n",
       "\n"
      ],
      "text/plain": [
       "[1] \"(Intercept)\" \"groupTumor\" "
      ]
     },
     "metadata": {},
     "output_type": "display_data"
    },
    {
     "data": {
      "text/html": [
       "<table class=\"dataframe\">\n",
       "<caption>A data.frame: 6 x 6</caption>\n",
       "<thead>\n",
       "\t<tr><th></th><th scope=col>logFC</th><th scope=col>AveExpr</th><th scope=col>t</th><th scope=col>P.Value</th><th scope=col>adj.P.Val</th><th scope=col>B</th></tr>\n",
       "\t<tr><th></th><th scope=col>&lt;dbl&gt;</th><th scope=col>&lt;dbl&gt;</th><th scope=col>&lt;dbl&gt;</th><th scope=col>&lt;dbl&gt;</th><th scope=col>&lt;dbl&gt;</th><th scope=col>&lt;dbl&gt;</th></tr>\n",
       "</thead>\n",
       "<tbody>\n",
       "\t<tr><th scope=row>CLDN15</th><td> 0.3464979</td><td>0.7032807</td><td> 38.62804</td><td>1.236462e-237</td><td>1.675654e-233</td><td>532.8939</td></tr>\n",
       "\t<tr><th scope=row>TPTE</th><td> 0.1184310</td><td>0.8368518</td><td> 38.56633</td><td>4.527073e-237</td><td>3.067544e-233</td><td>531.5964</td></tr>\n",
       "\t<tr><th scope=row>DNHD1</th><td> 0.3242689</td><td>0.7421438</td><td> 35.00313</td><td>1.029206e-204</td><td>4.649267e-201</td><td>457.1170</td></tr>\n",
       "\t<tr><th scope=row>FAM193A</th><td> 0.3817032</td><td>0.6645227</td><td> 33.86437</td><td>1.752624e-194</td><td>5.937889e-191</td><td>433.5688</td></tr>\n",
       "\t<tr><th scope=row>PRKCZ</th><td> 0.1644233</td><td>0.5031888</td><td> 33.63183</td><td>2.110296e-192</td><td>5.719747e-189</td><td>428.7801</td></tr>\n",
       "\t<tr><th scope=row>PTK6</th><td>-0.2238605</td><td>0.1832359</td><td>-32.05179</td><td>2.351646e-178</td><td>5.311583e-175</td><td>396.4519</td></tr>\n",
       "</tbody>\n",
       "</table>\n"
      ],
      "text/latex": [
       "A data.frame: 6 x 6\n",
       "\\begin{tabular}{r|llllll}\n",
       "  & logFC & AveExpr & t & P.Value & adj.P.Val & B\\\\\n",
       "  & <dbl> & <dbl> & <dbl> & <dbl> & <dbl> & <dbl>\\\\\n",
       "\\hline\n",
       "\tCLDN15 &  0.3464979 & 0.7032807 &  38.62804 & 1.236462e-237 & 1.675654e-233 & 532.8939\\\\\n",
       "\tTPTE &  0.1184310 & 0.8368518 &  38.56633 & 4.527073e-237 & 3.067544e-233 & 531.5964\\\\\n",
       "\tDNHD1 &  0.3242689 & 0.7421438 &  35.00313 & 1.029206e-204 & 4.649267e-201 & 457.1170\\\\\n",
       "\tFAM193A &  0.3817032 & 0.6645227 &  33.86437 & 1.752624e-194 & 5.937889e-191 & 433.5688\\\\\n",
       "\tPRKCZ &  0.1644233 & 0.5031888 &  33.63183 & 2.110296e-192 & 5.719747e-189 & 428.7801\\\\\n",
       "\tPTK6 & -0.2238605 & 0.1832359 & -32.05179 & 2.351646e-178 & 5.311583e-175 & 396.4519\\\\\n",
       "\\end{tabular}\n"
      ],
      "text/markdown": [
       "\n",
       "A data.frame: 6 x 6\n",
       "\n",
       "| <!--/--> | logFC &lt;dbl&gt; | AveExpr &lt;dbl&gt; | t &lt;dbl&gt; | P.Value &lt;dbl&gt; | adj.P.Val &lt;dbl&gt; | B &lt;dbl&gt; |\n",
       "|---|---|---|---|---|---|---|\n",
       "| CLDN15 |  0.3464979 | 0.7032807 |  38.62804 | 1.236462e-237 | 1.675654e-233 | 532.8939 |\n",
       "| TPTE |  0.1184310 | 0.8368518 |  38.56633 | 4.527073e-237 | 3.067544e-233 | 531.5964 |\n",
       "| DNHD1 |  0.3242689 | 0.7421438 |  35.00313 | 1.029206e-204 | 4.649267e-201 | 457.1170 |\n",
       "| FAM193A |  0.3817032 | 0.6645227 |  33.86437 | 1.752624e-194 | 5.937889e-191 | 433.5688 |\n",
       "| PRKCZ |  0.1644233 | 0.5031888 |  33.63183 | 2.110296e-192 | 5.719747e-189 | 428.7801 |\n",
       "| PTK6 | -0.2238605 | 0.1832359 | -32.05179 | 2.351646e-178 | 5.311583e-175 | 396.4519 |\n",
       "\n"
      ],
      "text/plain": [
       "        logFC      AveExpr   t         P.Value       adj.P.Val     B       \n",
       "CLDN15   0.3464979 0.7032807  38.62804 1.236462e-237 1.675654e-233 532.8939\n",
       "TPTE     0.1184310 0.8368518  38.56633 4.527073e-237 3.067544e-233 531.5964\n",
       "DNHD1    0.3242689 0.7421438  35.00313 1.029206e-204 4.649267e-201 457.1170\n",
       "FAM193A  0.3817032 0.6645227  33.86437 1.752624e-194 5.937889e-191 433.5688\n",
       "PRKCZ    0.1644233 0.5031888  33.63183 2.110296e-192 5.719747e-189 428.7801\n",
       "PTK6    -0.2238605 0.1832359 -32.05179 2.351646e-178 5.311583e-175 396.4519"
      ]
     },
     "metadata": {},
     "output_type": "display_data"
    },
    {
     "data": {
      "text/html": [
       "<style>\n",
       ".list-inline {list-style: none; margin:0; padding: 0}\n",
       ".list-inline>li {display: inline-block}\n",
       ".list-inline>li:not(:last-child)::after {content: \"\\00b7\"; padding: 0 .5ex}\n",
       "</style>\n",
       "<ol class=list-inline><li>13552</li><li>6</li></ol>\n"
      ],
      "text/latex": [
       "\\begin{enumerate*}\n",
       "\\item 13552\n",
       "\\item 6\n",
       "\\end{enumerate*}\n"
      ],
      "text/markdown": [
       "1. 13552\n",
       "2. 6\n",
       "\n",
       "\n"
      ],
      "text/plain": [
       "[1] 13552     6"
      ]
     },
     "metadata": {},
     "output_type": "display_data"
    },
    {
     "data": {
      "text/html": [
       "<table class=\"dataframe\">\n",
       "<caption>A data.frame: 6 x 7</caption>\n",
       "<thead>\n",
       "\t<tr><th></th><th scope=col>name</th><th scope=col>logFC</th><th scope=col>AveExpr</th><th scope=col>t</th><th scope=col>P.Value</th><th scope=col>adj.P.Val</th><th scope=col>B</th></tr>\n",
       "\t<tr><th></th><th scope=col>&lt;chr&gt;</th><th scope=col>&lt;dbl&gt;</th><th scope=col>&lt;dbl&gt;</th><th scope=col>&lt;dbl&gt;</th><th scope=col>&lt;dbl&gt;</th><th scope=col>&lt;dbl&gt;</th><th scope=col>&lt;dbl&gt;</th></tr>\n",
       "</thead>\n",
       "<tbody>\n",
       "\t<tr><th scope=row>1</th><td>CLDN15 </td><td> 0.3464979</td><td>0.7032807</td><td> 38.62804</td><td>1.236462e-237</td><td>1.675654e-233</td><td>532.8939</td></tr>\n",
       "\t<tr><th scope=row>2</th><td>DNHD1  </td><td> 0.3242689</td><td>0.7421438</td><td> 35.00313</td><td>1.029206e-204</td><td>4.649267e-201</td><td>457.1170</td></tr>\n",
       "\t<tr><th scope=row>3</th><td>FAM193A</td><td> 0.3817032</td><td>0.6645227</td><td> 33.86437</td><td>1.752624e-194</td><td>5.937889e-191</td><td>433.5688</td></tr>\n",
       "\t<tr><th scope=row>4</th><td>PTK6   </td><td>-0.2238605</td><td>0.1832359</td><td>-32.05179</td><td>2.351646e-178</td><td>5.311583e-175</td><td>396.4519</td></tr>\n",
       "\t<tr><th scope=row>5</th><td>RGS22  </td><td> 0.4428162</td><td>0.5028946</td><td> 31.19260</td><td>8.615077e-171</td><td>1.667879e-167</td><td>379.0453</td></tr>\n",
       "\t<tr><th scope=row>6</th><td>FXYD1  </td><td> 0.2995720</td><td>0.6001037</td><td> 30.72824</td><td>9.964368e-167</td><td>1.687964e-163</td><td>369.6952</td></tr>\n",
       "</tbody>\n",
       "</table>\n"
      ],
      "text/latex": [
       "A data.frame: 6 x 7\n",
       "\\begin{tabular}{r|lllllll}\n",
       "  & name & logFC & AveExpr & t & P.Value & adj.P.Val & B\\\\\n",
       "  & <chr> & <dbl> & <dbl> & <dbl> & <dbl> & <dbl> & <dbl>\\\\\n",
       "\\hline\n",
       "\t1 & CLDN15  &  0.3464979 & 0.7032807 &  38.62804 & 1.236462e-237 & 1.675654e-233 & 532.8939\\\\\n",
       "\t2 & DNHD1   &  0.3242689 & 0.7421438 &  35.00313 & 1.029206e-204 & 4.649267e-201 & 457.1170\\\\\n",
       "\t3 & FAM193A &  0.3817032 & 0.6645227 &  33.86437 & 1.752624e-194 & 5.937889e-191 & 433.5688\\\\\n",
       "\t4 & PTK6    & -0.2238605 & 0.1832359 & -32.05179 & 2.351646e-178 & 5.311583e-175 & 396.4519\\\\\n",
       "\t5 & RGS22   &  0.4428162 & 0.5028946 &  31.19260 & 8.615077e-171 & 1.667879e-167 & 379.0453\\\\\n",
       "\t6 & FXYD1   &  0.2995720 & 0.6001037 &  30.72824 & 9.964368e-167 & 1.687964e-163 & 369.6952\\\\\n",
       "\\end{tabular}\n"
      ],
      "text/markdown": [
       "\n",
       "A data.frame: 6 x 7\n",
       "\n",
       "| <!--/--> | name &lt;chr&gt; | logFC &lt;dbl&gt; | AveExpr &lt;dbl&gt; | t &lt;dbl&gt; | P.Value &lt;dbl&gt; | adj.P.Val &lt;dbl&gt; | B &lt;dbl&gt; |\n",
       "|---|---|---|---|---|---|---|---|\n",
       "| 1 | CLDN15  |  0.3464979 | 0.7032807 |  38.62804 | 1.236462e-237 | 1.675654e-233 | 532.8939 |\n",
       "| 2 | DNHD1   |  0.3242689 | 0.7421438 |  35.00313 | 1.029206e-204 | 4.649267e-201 | 457.1170 |\n",
       "| 3 | FAM193A |  0.3817032 | 0.6645227 |  33.86437 | 1.752624e-194 | 5.937889e-191 | 433.5688 |\n",
       "| 4 | PTK6    | -0.2238605 | 0.1832359 | -32.05179 | 2.351646e-178 | 5.311583e-175 | 396.4519 |\n",
       "| 5 | RGS22   |  0.4428162 | 0.5028946 |  31.19260 | 8.615077e-171 | 1.667879e-167 | 379.0453 |\n",
       "| 6 | FXYD1   |  0.2995720 | 0.6001037 |  30.72824 | 9.964368e-167 | 1.687964e-163 | 369.6952 |\n",
       "\n"
      ],
      "text/plain": [
       "  name    logFC      AveExpr   t         P.Value       adj.P.Val     B       \n",
       "1 CLDN15   0.3464979 0.7032807  38.62804 1.236462e-237 1.675654e-233 532.8939\n",
       "2 DNHD1    0.3242689 0.7421438  35.00313 1.029206e-204 4.649267e-201 457.1170\n",
       "3 FAM193A  0.3817032 0.6645227  33.86437 1.752624e-194 5.937889e-191 433.5688\n",
       "4 PTK6    -0.2238605 0.1832359 -32.05179 2.351646e-178 5.311583e-175 396.4519\n",
       "5 RGS22    0.4428162 0.5028946  31.19260 8.615077e-171 1.667879e-167 379.0453\n",
       "6 FXYD1    0.2995720 0.6001037  30.72824 9.964368e-167 1.687964e-163 369.6952"
      ]
     },
     "metadata": {},
     "output_type": "display_data"
    },
    {
     "data": {
      "text/html": [
       "<style>\n",
       ".list-inline {list-style: none; margin:0; padding: 0}\n",
       ".list-inline>li {display: inline-block}\n",
       ".list-inline>li:not(:last-child)::after {content: \"\\00b7\"; padding: 0 .5ex}\n",
       "</style>\n",
       "<ol class=list-inline><li>389</li><li>7</li></ol>\n"
      ],
      "text/latex": [
       "\\begin{enumerate*}\n",
       "\\item 389\n",
       "\\item 7\n",
       "\\end{enumerate*}\n"
      ],
      "text/markdown": [
       "1. 389\n",
       "2. 7\n",
       "\n",
       "\n"
      ],
      "text/plain": [
       "[1] 389   7"
      ]
     },
     "metadata": {},
     "output_type": "display_data"
    }
   ],
   "source": [
    "# Matrix from your imputation step\n",
    "meth_matrix <- imputed$data  # rows: genes, cols: samples\n",
    "\n",
    "# Sample labels\n",
    "group <- rep(NA, ncol(meth_matrix))\n",
    "group[colnames(meth_matrix) %in% tumor_samples] <- \"Tumor\"\n",
    "group[colnames(meth_matrix) %in% normal_samples] <- \"Normal\"\n",
    "group <- factor(group)\n",
    "\n",
    "# Check\n",
    "table(group)\n",
    "\n",
    "design <- model.matrix(~ group)\n",
    "colnames(design)  # should show: (Intercept), groupTumor\n",
    "\n",
    "\n",
    "fit <- lmFit(meth_matrix, design)  # Fit linear model\n",
    "fit <- eBayes(fit)  # Empirical Bayes moderation\n",
    "topTable <- topTable(fit, coef = \"groupTumor\", adjust = \"fdr\", number = Inf)\n",
    "\n",
    "# View top DMRs\n",
    "head(topTable)\n",
    "dim(topTable)\n",
    "topTable <- topTable %>%\n",
    "  rownames_to_column(\"name\")\n",
    "\n",
    "dmrs_limma <- topTable %>%\n",
    "  filter(abs(logFC) > 0.2, adj.P.Val < 0.05)  # adjust thresholds as needed\n",
    "\n",
    "head(dmrs_limma)\n",
    "dim(dmrs_limma)"
   ]
  },
  {
   "cell_type": "code",
   "execution_count": 122,
   "id": "561f37ec",
   "metadata": {
    "vscode": {
     "languageId": "r"
    }
   },
   "outputs": [
    {
     "data": {
      "text/plain": [
       "\n",
       "\tPearson's product-moment correlation\n",
       "\n",
       "data:  comparison_df$delta_beta and comparison_df$logFC\n",
       "t = 538963984, df = 387, p-value < 2.2e-16\n",
       "alternative hypothesis: true correlation is not equal to 0\n",
       "95 percent confidence interval:\n",
       " 1 1\n",
       "sample estimates:\n",
       "cor \n",
       "  1 \n"
      ]
     },
     "metadata": {},
     "output_type": "display_data"
    },
    {
     "name": "stdout",
     "output_type": "stream",
     "text": [
      "[1] \"Correlation coefficient: 0.999999999999999\"\n"
     ]
    },
    {
     "data": {
      "image/png": "[encoded data removed]",
      "text/plain": [
       "plot without title"
      ]
     },
     "metadata": {
      "image/png": {
       "height": 420,
       "width": 420
      }
     },
     "output_type": "display_data"
    }
   ],
   "source": [
    "comparison_df <- inner_join(delta_beta_df, dmrs_limma, by = \"name\")\n",
    "ggplot(comparison_df, aes(x = delta_beta, y = logFC)) +\n",
    "  geom_point(alpha = 0.5) +\n",
    "  geom_abline(slope = 1, intercept = 0, color = \"red\", linetype = \"dashed\") +\n",
    "  theme_minimal() +\n",
    "  labs(title = \"Δβ vs logFC from limma\",\n",
    "       x = \"Δβ (Tumor - Normal)\",\n",
    "       y = \"logFC (from limma)\")\n",
    "\n",
    "cor.test(comparison_df$delta_beta, comparison_df$logFC)\n",
    "print(paste(\"Correlation coefficient:\", cor(comparison_df$delta_beta, comparison_df$logFC)))"
   ]
  },
  {
   "cell_type": "markdown",
   "id": "d81cf79c",
   "metadata": {},
   "source": [
    "limma test and beta value test have a strong correlation."
   ]
  },
  {
   "cell_type": "markdown",
   "id": "3b835b75",
   "metadata": {},
   "source": [
    "### Expression data"
   ]
  },
  {
   "cell_type": "code",
   "execution_count": 173,
   "id": "ba68d746",
   "metadata": {
    "vscode": {
     "languageId": "r"
    }
   },
   "outputs": [
    {
     "name": "stderr",
     "output_type": "stream",
     "text": [
      "\u001b[1mRows: \u001b[22m\u001b[34m26245\u001b[39m \u001b[1mColumns: \u001b[22m\u001b[34m2129\u001b[39m\n",
      "\u001b[36m--\u001b[39m \u001b[1mColumn specification\u001b[22m \u001b[36m--------------------------------------------------------\u001b[39m\n",
      "\u001b[1mDelimiter:\u001b[22m \",\"\n",
      "\u001b[31mchr\u001b[39m    (3): chrom, name, name3.chr\n",
      "\u001b[32mdbl\u001b[39m (2126): start, end, MB_0362, MB_0346, MB_0386, MB_0574, MB_0185, MB_0503...\n",
      "\n",
      "\u001b[36mi\u001b[39m Use `spec()` to retrieve the full column specification for this data.\n",
      "\u001b[36mi\u001b[39m Specify the column types or set `show_col_types = FALSE` to quiet this message.\n"
     ]
    },
    {
     "data": {
      "text/html": [
       "<table class=\"dataframe\">\n",
       "<caption>A tibble: 6 x 1787</caption>\n",
       "<thead>\n",
       "\t<tr><th scope=col>chrom</th><th scope=col>start</th><th scope=col>end</th><th scope=col>name</th><th scope=col>name3.chr</th><th scope=col>MB_0006</th><th scope=col>MB_0028</th><th scope=col>MB_0030</th><th scope=col>MB_0035</th><th scope=col>MB_0040</th><th scope=col>...</th><th scope=col>MB_7281</th><th scope=col>MB_7283</th><th scope=col>MB_7285</th><th scope=col>MB_7288</th><th scope=col>MB_7289</th><th scope=col>MB_7291</th><th scope=col>MB_7292</th><th scope=col>MB_7293</th><th scope=col>MB_7296</th><th scope=col>MB_7298</th></tr>\n",
       "\t<tr><th scope=col>&lt;chr&gt;</th><th scope=col>&lt;dbl&gt;</th><th scope=col>&lt;dbl&gt;</th><th scope=col>&lt;chr&gt;</th><th scope=col>&lt;chr&gt;</th><th scope=col>&lt;dbl&gt;</th><th scope=col>&lt;dbl&gt;</th><th scope=col>&lt;dbl&gt;</th><th scope=col>&lt;dbl&gt;</th><th scope=col>&lt;dbl&gt;</th><th scope=col>...</th><th scope=col>&lt;dbl&gt;</th><th scope=col>&lt;dbl&gt;</th><th scope=col>&lt;dbl&gt;</th><th scope=col>&lt;dbl&gt;</th><th scope=col>&lt;dbl&gt;</th><th scope=col>&lt;dbl&gt;</th><th scope=col>&lt;dbl&gt;</th><th scope=col>&lt;dbl&gt;</th><th scope=col>&lt;dbl&gt;</th><th scope=col>&lt;dbl&gt;</th></tr>\n",
       "</thead>\n",
       "<tbody>\n",
       "\t<tr><td>chr1</td><td>762469</td><td>763020</td><td>LINC01128</td><td>chr1.+.LINC01128.1</td><td>0.000000000</td><td>0.00000000</td><td>0.00000000</td><td>0.00000000</td><td>0.00000000</td><td>...</td><td>0.00000000</td><td>0.01829268</td><td>        NA</td><td>0.000000000</td><td>0.000000000</td><td>0.00000000</td><td>0.00000000</td><td>0.006849315</td><td>        NA</td><td>0.000000000</td></tr>\n",
       "\t<tr><td>chr1</td><td>762676</td><td>763227</td><td>LINC01128</td><td>chr1.+.LINC01128.2</td><td>0.021929825</td><td>0.03018109</td><td>0.07858546</td><td>0.00000000</td><td>0.01627486</td><td>...</td><td>0.02374169</td><td>0.17092338</td><td>0.01785714</td><td>0.000000000</td><td>0.066974596</td><td>0.00000000</td><td>0.11016949</td><td>0.042925278</td><td>0.01030928</td><td>0.062780269</td></tr>\n",
       "\t<tr><td>chr1</td><td>860619</td><td>861170</td><td>SAMD11   </td><td>chr1.+.SAMD11     </td><td>0.001870324</td><td>0.01188300</td><td>0.01046622</td><td>0.15767196</td><td>0.01549464</td><td>...</td><td>0.01910480</td><td>0.00802139</td><td>0.02392344</td><td>0.002307692</td><td>0.002057613</td><td>0.01895375</td><td>0.02185792</td><td>0.000000000</td><td>0.00000000</td><td>0.006283229</td></tr>\n",
       "\t<tr><td>chr1</td><td>895465</td><td>896016</td><td>KLHL17   </td><td>chr1.+.KLHL17     </td><td>0.014367816</td><td>0.04901961</td><td>0.04769737</td><td>0.03629032</td><td>0.03182580</td><td>...</td><td>0.03778802</td><td>0.04700855</td><td>0.11333333</td><td>0.004689332</td><td>0.030204962</td><td>0.02810651</td><td>0.14285714</td><td>0.026392962</td><td>0.09826590</td><td>0.058666667</td></tr>\n",
       "\t<tr><td>chr1</td><td>901375</td><td>901926</td><td>PLEKHN1  </td><td>chr1.+.PLEKHN1    </td><td>0.024253731</td><td>0.05357143</td><td>0.02334630</td><td>0.01470588</td><td>0.01798561</td><td>...</td><td>0.10212766</td><td>0.04149378</td><td>0.01369863</td><td>0.000000000</td><td>0.015873016</td><td>0.07216495</td><td>0.07185629</td><td>0.021526419</td><td>0.00000000</td><td>0.029490617</td></tr>\n",
       "\t<tr><td>chr1</td><td>948345</td><td>948896</td><td>ISG15    </td><td>chr1.+.ISG15      </td><td>0.000000000</td><td>0.00000000</td><td>0.00000000</td><td>0.02083333</td><td>0.00000000</td><td>...</td><td>0.00000000</td><td>0.02439024</td><td>0.00000000</td><td>0.009523810</td><td>0.010309278</td><td>0.00000000</td><td>0.00000000</td><td>0.000000000</td><td>0.00000000</td><td>0.000000000</td></tr>\n",
       "</tbody>\n",
       "</table>\n"
      ],
      "text/latex": [
       "A tibble: 6 x 1787\n",
       "\\begin{tabular}{lllllllllllllllllllll}\n",
       " chrom & start & end & name & name3.chr & MB\\_0006 & MB\\_0028 & MB\\_0030 & MB\\_0035 & MB\\_0040 & ... & MB\\_7281 & MB\\_7283 & MB\\_7285 & MB\\_7288 & MB\\_7289 & MB\\_7291 & MB\\_7292 & MB\\_7293 & MB\\_7296 & MB\\_7298\\\\\n",
       " <chr> & <dbl> & <dbl> & <chr> & <chr> & <dbl> & <dbl> & <dbl> & <dbl> & <dbl> & ... & <dbl> & <dbl> & <dbl> & <dbl> & <dbl> & <dbl> & <dbl> & <dbl> & <dbl> & <dbl>\\\\\n",
       "\\hline\n",
       "\t chr1 & 762469 & 763020 & LINC01128 & chr1.+.LINC01128.1 & 0.000000000 & 0.00000000 & 0.00000000 & 0.00000000 & 0.00000000 & ... & 0.00000000 & 0.01829268 &         NA & 0.000000000 & 0.000000000 & 0.00000000 & 0.00000000 & 0.006849315 &         NA & 0.000000000\\\\\n",
       "\t chr1 & 762676 & 763227 & LINC01128 & chr1.+.LINC01128.2 & 0.021929825 & 0.03018109 & 0.07858546 & 0.00000000 & 0.01627486 & ... & 0.02374169 & 0.17092338 & 0.01785714 & 0.000000000 & 0.066974596 & 0.00000000 & 0.11016949 & 0.042925278 & 0.01030928 & 0.062780269\\\\\n",
       "\t chr1 & 860619 & 861170 & SAMD11    & chr1.+.SAMD11      & 0.001870324 & 0.01188300 & 0.01046622 & 0.15767196 & 0.01549464 & ... & 0.01910480 & 0.00802139 & 0.02392344 & 0.002307692 & 0.002057613 & 0.01895375 & 0.02185792 & 0.000000000 & 0.00000000 & 0.006283229\\\\\n",
       "\t chr1 & 895465 & 896016 & KLHL17    & chr1.+.KLHL17      & 0.014367816 & 0.04901961 & 0.04769737 & 0.03629032 & 0.03182580 & ... & 0.03778802 & 0.04700855 & 0.11333333 & 0.004689332 & 0.030204962 & 0.02810651 & 0.14285714 & 0.026392962 & 0.09826590 & 0.058666667\\\\\n",
       "\t chr1 & 901375 & 901926 & PLEKHN1   & chr1.+.PLEKHN1     & 0.024253731 & 0.05357143 & 0.02334630 & 0.01470588 & 0.01798561 & ... & 0.10212766 & 0.04149378 & 0.01369863 & 0.000000000 & 0.015873016 & 0.07216495 & 0.07185629 & 0.021526419 & 0.00000000 & 0.029490617\\\\\n",
       "\t chr1 & 948345 & 948896 & ISG15     & chr1.+.ISG15       & 0.000000000 & 0.00000000 & 0.00000000 & 0.02083333 & 0.00000000 & ... & 0.00000000 & 0.02439024 & 0.00000000 & 0.009523810 & 0.010309278 & 0.00000000 & 0.00000000 & 0.000000000 & 0.00000000 & 0.000000000\\\\\n",
       "\\end{tabular}\n"
      ],
      "text/markdown": [
       "\n",
       "A tibble: 6 x 1787\n",
       "\n",
       "| chrom &lt;chr&gt; | start &lt;dbl&gt; | end &lt;dbl&gt; | name &lt;chr&gt; | name3.chr &lt;chr&gt; | MB_0006 &lt;dbl&gt; | MB_0028 &lt;dbl&gt; | MB_0030 &lt;dbl&gt; | MB_0035 &lt;dbl&gt; | MB_0040 &lt;dbl&gt; | ... ... | MB_7281 &lt;dbl&gt; | MB_7283 &lt;dbl&gt; | MB_7285 &lt;dbl&gt; | MB_7288 &lt;dbl&gt; | MB_7289 &lt;dbl&gt; | MB_7291 &lt;dbl&gt; | MB_7292 &lt;dbl&gt; | MB_7293 &lt;dbl&gt; | MB_7296 &lt;dbl&gt; | MB_7298 &lt;dbl&gt; |\n",
       "|---|---|---|---|---|---|---|---|---|---|---|---|---|---|---|---|---|---|---|---|---|\n",
       "| chr1 | 762469 | 763020 | LINC01128 | chr1.+.LINC01128.1 | 0.000000000 | 0.00000000 | 0.00000000 | 0.00000000 | 0.00000000 | ... | 0.00000000 | 0.01829268 |         NA | 0.000000000 | 0.000000000 | 0.00000000 | 0.00000000 | 0.006849315 |         NA | 0.000000000 |\n",
       "| chr1 | 762676 | 763227 | LINC01128 | chr1.+.LINC01128.2 | 0.021929825 | 0.03018109 | 0.07858546 | 0.00000000 | 0.01627486 | ... | 0.02374169 | 0.17092338 | 0.01785714 | 0.000000000 | 0.066974596 | 0.00000000 | 0.11016949 | 0.042925278 | 0.01030928 | 0.062780269 |\n",
       "| chr1 | 860619 | 861170 | SAMD11    | chr1.+.SAMD11      | 0.001870324 | 0.01188300 | 0.01046622 | 0.15767196 | 0.01549464 | ... | 0.01910480 | 0.00802139 | 0.02392344 | 0.002307692 | 0.002057613 | 0.01895375 | 0.02185792 | 0.000000000 | 0.00000000 | 0.006283229 |\n",
       "| chr1 | 895465 | 896016 | KLHL17    | chr1.+.KLHL17      | 0.014367816 | 0.04901961 | 0.04769737 | 0.03629032 | 0.03182580 | ... | 0.03778802 | 0.04700855 | 0.11333333 | 0.004689332 | 0.030204962 | 0.02810651 | 0.14285714 | 0.026392962 | 0.09826590 | 0.058666667 |\n",
       "| chr1 | 901375 | 901926 | PLEKHN1   | chr1.+.PLEKHN1     | 0.024253731 | 0.05357143 | 0.02334630 | 0.01470588 | 0.01798561 | ... | 0.10212766 | 0.04149378 | 0.01369863 | 0.000000000 | 0.015873016 | 0.07216495 | 0.07185629 | 0.021526419 | 0.00000000 | 0.029490617 |\n",
       "| chr1 | 948345 | 948896 | ISG15     | chr1.+.ISG15       | 0.000000000 | 0.00000000 | 0.00000000 | 0.02083333 | 0.00000000 | ... | 0.00000000 | 0.02439024 | 0.00000000 | 0.009523810 | 0.010309278 | 0.00000000 | 0.00000000 | 0.000000000 | 0.00000000 | 0.000000000 |\n",
       "\n"
      ],
      "text/plain": [
       "  chrom start  end    name      name3.chr          MB_0006     MB_0028   \n",
       "1 chr1  762469 763020 LINC01128 chr1.+.LINC01128.1 0.000000000 0.00000000\n",
       "2 chr1  762676 763227 LINC01128 chr1.+.LINC01128.2 0.021929825 0.03018109\n",
       "3 chr1  860619 861170 SAMD11    chr1.+.SAMD11      0.001870324 0.01188300\n",
       "4 chr1  895465 896016 KLHL17    chr1.+.KLHL17      0.014367816 0.04901961\n",
       "5 chr1  901375 901926 PLEKHN1   chr1.+.PLEKHN1     0.024253731 0.05357143\n",
       "6 chr1  948345 948896 ISG15     chr1.+.ISG15       0.000000000 0.00000000\n",
       "  MB_0030    MB_0035    MB_0040    ... MB_7281    MB_7283    MB_7285   \n",
       "1 0.00000000 0.00000000 0.00000000 ... 0.00000000 0.01829268         NA\n",
       "2 0.07858546 0.00000000 0.01627486 ... 0.02374169 0.17092338 0.01785714\n",
       "3 0.01046622 0.15767196 0.01549464 ... 0.01910480 0.00802139 0.02392344\n",
       "4 0.04769737 0.03629032 0.03182580 ... 0.03778802 0.04700855 0.11333333\n",
       "5 0.02334630 0.01470588 0.01798561 ... 0.10212766 0.04149378 0.01369863\n",
       "6 0.00000000 0.02083333 0.00000000 ... 0.00000000 0.02439024 0.00000000\n",
       "  MB_7288     MB_7289     MB_7291    MB_7292    MB_7293     MB_7296   \n",
       "1 0.000000000 0.000000000 0.00000000 0.00000000 0.006849315         NA\n",
       "2 0.000000000 0.066974596 0.00000000 0.11016949 0.042925278 0.01030928\n",
       "3 0.002307692 0.002057613 0.01895375 0.02185792 0.000000000 0.00000000\n",
       "4 0.004689332 0.030204962 0.02810651 0.14285714 0.026392962 0.09826590\n",
       "5 0.000000000 0.015873016 0.07216495 0.07185629 0.021526419 0.00000000\n",
       "6 0.009523810 0.010309278 0.00000000 0.00000000 0.000000000 0.00000000\n",
       "  MB_7298    \n",
       "1 0.000000000\n",
       "2 0.062780269\n",
       "3 0.006283229\n",
       "4 0.058666667\n",
       "5 0.029490617\n",
       "6 0.000000000"
      ]
     },
     "metadata": {},
     "output_type": "display_data"
    },
    {
     "data": {
      "text/html": [
       "<style>\n",
       ".list-inline {list-style: none; margin:0; padding: 0}\n",
       ".list-inline>li {display: inline-block}\n",
       ".list-inline>li:not(:last-child)::after {content: \"\\00b7\"; padding: 0 .5ex}\n",
       "</style>\n",
       "<ol class=list-inline><li>26245</li><li>2129</li></ol>\n"
      ],
      "text/latex": [
       "\\begin{enumerate*}\n",
       "\\item 26245\n",
       "\\item 2129\n",
       "\\end{enumerate*}\n"
      ],
      "text/markdown": [
       "1. 26245\n",
       "2. 2129\n",
       "\n",
       "\n"
      ],
      "text/plain": [
       "[1] 26245  2129"
      ]
     },
     "metadata": {},
     "output_type": "display_data"
    }
   ],
   "source": [
    "expr_mat <- read_csv(\"data/expression_matrix.csv\")\n",
    "head(data)\n",
    "dim(expr_mat)"
   ]
  },
  {
   "cell_type": "code",
   "execution_count": 162,
   "id": "f1130763",
   "metadata": {
    "vscode": {
     "languageId": "r"
    }
   },
   "outputs": [
    {
     "data": {
      "text/html": [
       "<table class=\"dataframe\">\n",
       "<caption>A matrix: 6 x 2124 of type dbl</caption>\n",
       "<thead>\n",
       "\t<tr><th></th><th scope=col>MB_0362</th><th scope=col>MB_0346</th><th scope=col>MB_0386</th><th scope=col>MB_0574</th><th scope=col>MB_0185</th><th scope=col>MB_0503</th><th scope=col>MB_0641</th><th scope=col>MB_0201</th><th scope=col>MB_0218</th><th scope=col>MB_0316</th><th scope=col>...</th><th scope=col>MB_1036</th><th scope=col>MB_1116</th><th scope=col>MB_1044</th><th scope=col>MB_1049</th><th scope=col>MB_1068</th><th scope=col>MB_0812</th><th scope=col>MB_1076</th><th scope=col>MB_0814</th><th scope=col>MB_1087</th><th scope=col>MB_0822</th></tr>\n",
       "</thead>\n",
       "<tbody>\n",
       "\t<tr><th scope=row>A1BG</th><td>5.607785</td><td>5.515704</td><td>5.581684</td><td>5.602209</td><td>5.560794</td><td>5.443726</td><td>5.374949</td><td>5.625163</td><td>5.533212</td><td>5.359228</td><td>...</td><td>5.225141</td><td>5.303794</td><td> 5.490734</td><td> 5.494082</td><td>5.269375</td><td>5.468187</td><td>5.566886</td><td>5.433821</td><td>5.320485</td><td> 5.502541</td></tr>\n",
       "\t<tr><th scope=row>A1BG-AS1</th><td>      NA</td><td>      NA</td><td>      NA</td><td>      NA</td><td>      NA</td><td>      NA</td><td>      NA</td><td>      NA</td><td>      NA</td><td>      NA</td><td>...</td><td>      NA</td><td>      NA</td><td>       NA</td><td>       NA</td><td>      NA</td><td>      NA</td><td>      NA</td><td>      NA</td><td>      NA</td><td>       NA</td></tr>\n",
       "\t<tr><th scope=row>A1CF</th><td>5.409415</td><td>5.652667</td><td>5.364459</td><td>5.378185</td><td>5.485144</td><td>5.321734</td><td>5.386645</td><td>5.432328</td><td>5.332541</td><td>5.493423</td><td>...</td><td>5.428412</td><td>5.474348</td><td> 5.419358</td><td> 5.700195</td><td>5.478201</td><td>5.752783</td><td>5.673940</td><td>5.862117</td><td>5.424626</td><td> 5.791611</td></tr>\n",
       "\t<tr><th scope=row>A2M</th><td>7.653319</td><td>6.564312</td><td>8.201633</td><td>7.587296</td><td>8.427318</td><td>7.545219</td><td>8.693606</td><td>8.898809</td><td>8.763382</td><td>9.100264</td><td>...</td><td>9.198370</td><td>9.042949</td><td>10.144846</td><td>10.143342</td><td>9.782934</td><td>8.360063</td><td>9.929925</td><td>9.927135</td><td>9.638372</td><td>10.153996</td></tr>\n",
       "\t<tr><th scope=row>A2M-AS1</th><td>      NA</td><td>      NA</td><td>      NA</td><td>      NA</td><td>      NA</td><td>      NA</td><td>      NA</td><td>      NA</td><td>      NA</td><td>      NA</td><td>...</td><td>      NA</td><td>      NA</td><td>       NA</td><td>       NA</td><td>      NA</td><td>      NA</td><td>      NA</td><td>      NA</td><td>      NA</td><td>       NA</td></tr>\n",
       "\t<tr><th scope=row>A2ML1</th><td>5.535317</td><td>5.938013</td><td>5.337279</td><td>5.221707</td><td>5.514548</td><td>5.279701</td><td>5.201008</td><td>5.695971</td><td>5.108838</td><td>6.942946</td><td>...</td><td>5.366756</td><td>5.799424</td><td> 5.139738</td><td> 5.095827</td><td>5.545775</td><td>5.608514</td><td>5.503125</td><td>5.350733</td><td>5.267158</td><td> 5.455640</td></tr>\n",
       "</tbody>\n",
       "</table>\n"
      ],
      "text/latex": [
       "A matrix: 6 x 2124 of type dbl\n",
       "\\begin{tabular}{r|lllllllllllllllllllll}\n",
       "  & MB\\_0362 & MB\\_0346 & MB\\_0386 & MB\\_0574 & MB\\_0185 & MB\\_0503 & MB\\_0641 & MB\\_0201 & MB\\_0218 & MB\\_0316 & ... & MB\\_1036 & MB\\_1116 & MB\\_1044 & MB\\_1049 & MB\\_1068 & MB\\_0812 & MB\\_1076 & MB\\_0814 & MB\\_1087 & MB\\_0822\\\\\n",
       "\\hline\n",
       "\tA1BG & 5.607785 & 5.515704 & 5.581684 & 5.602209 & 5.560794 & 5.443726 & 5.374949 & 5.625163 & 5.533212 & 5.359228 & ... & 5.225141 & 5.303794 &  5.490734 &  5.494082 & 5.269375 & 5.468187 & 5.566886 & 5.433821 & 5.320485 &  5.502541\\\\\n",
       "\tA1BG-AS1 &       NA &       NA &       NA &       NA &       NA &       NA &       NA &       NA &       NA &       NA & ... &       NA &       NA &        NA &        NA &       NA &       NA &       NA &       NA &       NA &        NA\\\\\n",
       "\tA1CF & 5.409415 & 5.652667 & 5.364459 & 5.378185 & 5.485144 & 5.321734 & 5.386645 & 5.432328 & 5.332541 & 5.493423 & ... & 5.428412 & 5.474348 &  5.419358 &  5.700195 & 5.478201 & 5.752783 & 5.673940 & 5.862117 & 5.424626 &  5.791611\\\\\n",
       "\tA2M & 7.653319 & 6.564312 & 8.201633 & 7.587296 & 8.427318 & 7.545219 & 8.693606 & 8.898809 & 8.763382 & 9.100264 & ... & 9.198370 & 9.042949 & 10.144846 & 10.143342 & 9.782934 & 8.360063 & 9.929925 & 9.927135 & 9.638372 & 10.153996\\\\\n",
       "\tA2M-AS1 &       NA &       NA &       NA &       NA &       NA &       NA &       NA &       NA &       NA &       NA & ... &       NA &       NA &        NA &        NA &       NA &       NA &       NA &       NA &       NA &        NA\\\\\n",
       "\tA2ML1 & 5.535317 & 5.938013 & 5.337279 & 5.221707 & 5.514548 & 5.279701 & 5.201008 & 5.695971 & 5.108838 & 6.942946 & ... & 5.366756 & 5.799424 &  5.139738 &  5.095827 & 5.545775 & 5.608514 & 5.503125 & 5.350733 & 5.267158 &  5.455640\\\\\n",
       "\\end{tabular}\n"
      ],
      "text/markdown": [
       "\n",
       "A matrix: 6 x 2124 of type dbl\n",
       "\n",
       "| <!--/--> | MB_0362 | MB_0346 | MB_0386 | MB_0574 | MB_0185 | MB_0503 | MB_0641 | MB_0201 | MB_0218 | MB_0316 | ... | MB_1036 | MB_1116 | MB_1044 | MB_1049 | MB_1068 | MB_0812 | MB_1076 | MB_0814 | MB_1087 | MB_0822 |\n",
       "|---|---|---|---|---|---|---|---|---|---|---|---|---|---|---|---|---|---|---|---|---|---|\n",
       "| A1BG | 5.607785 | 5.515704 | 5.581684 | 5.602209 | 5.560794 | 5.443726 | 5.374949 | 5.625163 | 5.533212 | 5.359228 | ... | 5.225141 | 5.303794 |  5.490734 |  5.494082 | 5.269375 | 5.468187 | 5.566886 | 5.433821 | 5.320485 |  5.502541 |\n",
       "| A1BG-AS1 |       NA |       NA |       NA |       NA |       NA |       NA |       NA |       NA |       NA |       NA | ... |       NA |       NA |        NA |        NA |       NA |       NA |       NA |       NA |       NA |        NA |\n",
       "| A1CF | 5.409415 | 5.652667 | 5.364459 | 5.378185 | 5.485144 | 5.321734 | 5.386645 | 5.432328 | 5.332541 | 5.493423 | ... | 5.428412 | 5.474348 |  5.419358 |  5.700195 | 5.478201 | 5.752783 | 5.673940 | 5.862117 | 5.424626 |  5.791611 |\n",
       "| A2M | 7.653319 | 6.564312 | 8.201633 | 7.587296 | 8.427318 | 7.545219 | 8.693606 | 8.898809 | 8.763382 | 9.100264 | ... | 9.198370 | 9.042949 | 10.144846 | 10.143342 | 9.782934 | 8.360063 | 9.929925 | 9.927135 | 9.638372 | 10.153996 |\n",
       "| A2M-AS1 |       NA |       NA |       NA |       NA |       NA |       NA |       NA |       NA |       NA |       NA | ... |       NA |       NA |        NA |        NA |       NA |       NA |       NA |       NA |       NA |        NA |\n",
       "| A2ML1 | 5.535317 | 5.938013 | 5.337279 | 5.221707 | 5.514548 | 5.279701 | 5.201008 | 5.695971 | 5.108838 | 6.942946 | ... | 5.366756 | 5.799424 |  5.139738 |  5.095827 | 5.545775 | 5.608514 | 5.503125 | 5.350733 | 5.267158 |  5.455640 |\n",
       "\n"
      ],
      "text/plain": [
       "         MB_0362  MB_0346  MB_0386  MB_0574  MB_0185  MB_0503  MB_0641 \n",
       "A1BG     5.607785 5.515704 5.581684 5.602209 5.560794 5.443726 5.374949\n",
       "A1BG-AS1       NA       NA       NA       NA       NA       NA       NA\n",
       "A1CF     5.409415 5.652667 5.364459 5.378185 5.485144 5.321734 5.386645\n",
       "A2M      7.653319 6.564312 8.201633 7.587296 8.427318 7.545219 8.693606\n",
       "A2M-AS1        NA       NA       NA       NA       NA       NA       NA\n",
       "A2ML1    5.535317 5.938013 5.337279 5.221707 5.514548 5.279701 5.201008\n",
       "         MB_0201  MB_0218  MB_0316  ... MB_1036  MB_1116  MB_1044   MB_1049  \n",
       "A1BG     5.625163 5.533212 5.359228 ... 5.225141 5.303794  5.490734  5.494082\n",
       "A1BG-AS1       NA       NA       NA ...       NA       NA        NA        NA\n",
       "A1CF     5.432328 5.332541 5.493423 ... 5.428412 5.474348  5.419358  5.700195\n",
       "A2M      8.898809 8.763382 9.100264 ... 9.198370 9.042949 10.144846 10.143342\n",
       "A2M-AS1        NA       NA       NA ...       NA       NA        NA        NA\n",
       "A2ML1    5.695971 5.108838 6.942946 ... 5.366756 5.799424  5.139738  5.095827\n",
       "         MB_1068  MB_0812  MB_1076  MB_0814  MB_1087  MB_0822  \n",
       "A1BG     5.269375 5.468187 5.566886 5.433821 5.320485  5.502541\n",
       "A1BG-AS1       NA       NA       NA       NA       NA        NA\n",
       "A1CF     5.478201 5.752783 5.673940 5.862117 5.424626  5.791611\n",
       "A2M      9.782934 8.360063 9.929925 9.927135 9.638372 10.153996\n",
       "A2M-AS1        NA       NA       NA       NA       NA        NA\n",
       "A2ML1    5.545775 5.608514 5.503125 5.350733 5.267158  5.455640"
      ]
     },
     "metadata": {},
     "output_type": "display_data"
    },
    {
     "name": "stderr",
     "output_type": "stream",
     "text": [
      "\n",
      "Attaching package: 'genefilter'\n",
      "\n",
      "\n",
      "The following object is masked from 'package:readr':\n",
      "\n",
      "    spec\n",
      "\n",
      "\n"
     ]
    }
   ],
   "source": [
    "expr_matrix <- expr_clean %>%\n",
    "  column_to_rownames(\"name\") %>%\n",
    "  as.matrix()\n",
    "head(expr_matrix)\n",
    "expr_unlogged <- 2^expr_matrix\n",
    "\n",
    "library(genefilter)\n",
    "\n",
    "ffun <- filterfun(pOverA(0.20, 100), cv(0.7, 10))\n",
    "filter_result <- genefilter(expr_unlogged, ffun)\n",
    "\n",
    "# Keep genes that pass the filter\n",
    "expr_filtered <- expr_unlogged[filter_result, ]\n",
    "\n",
    "# Optionally return to log2 scale\n",
    "expr_filtered_log2 <- log2(expr_filtered)"
   ]
  },
  {
   "cell_type": "code",
   "execution_count": 163,
   "id": "58095614",
   "metadata": {
    "vscode": {
     "languageId": "r"
    }
   },
   "outputs": [
    {
     "data": {
      "text/html": [
       "<style>\n",
       ".list-inline {list-style: none; margin:0; padding: 0}\n",
       ".list-inline>li {display: inline-block}\n",
       ".list-inline>li:not(:last-child)::after {content: \"\\00b7\"; padding: 0 .5ex}\n",
       "</style>\n",
       "<ol class=list-inline><li>26245</li><li>2124</li></ol>\n"
      ],
      "text/latex": [
       "\\begin{enumerate*}\n",
       "\\item 26245\n",
       "\\item 2124\n",
       "\\end{enumerate*}\n"
      ],
      "text/markdown": [
       "1. 26245\n",
       "2. 2124\n",
       "\n",
       "\n"
      ],
      "text/plain": [
       "[1] 26245  2124"
      ]
     },
     "metadata": {},
     "output_type": "display_data"
    },
    {
     "data": {
      "text/html": [
       "<style>\n",
       ".list-inline {list-style: none; margin:0; padding: 0}\n",
       ".list-inline>li {display: inline-block}\n",
       ".list-inline>li:not(:last-child)::after {content: \"\\00b7\"; padding: 0 .5ex}\n",
       "</style>\n",
       "<ol class=list-inline><li>1416</li><li>2124</li></ol>\n"
      ],
      "text/latex": [
       "\\begin{enumerate*}\n",
       "\\item 1416\n",
       "\\item 2124\n",
       "\\end{enumerate*}\n"
      ],
      "text/markdown": [
       "1. 1416\n",
       "2. 2124\n",
       "\n",
       "\n"
      ],
      "text/plain": [
       "[1] 1416 2124"
      ]
     },
     "metadata": {},
     "output_type": "display_data"
    }
   ],
   "source": [
    "dim(expr_unlogged)         # before filtering\n",
    "dim(expr_filtered_log2)    # after filtering"
   ]
  },
  {
   "cell_type": "code",
   "execution_count": 170,
   "id": "b35605e8",
   "metadata": {
    "vscode": {
     "languageId": "r"
    }
   },
   "outputs": [
    {
     "data": {
      "image/png": "[encoded data removed]",
      "text/plain": [
       "Plot with title \"Expression Value Distribution\""
      ]
     },
     "metadata": {
      "image/png": {
       "height": 420,
       "width": 420
      }
     },
     "output_type": "display_data"
    }
   ],
   "source": [
    "hist(\n",
    "  as.numeric(unlist(expr_clean %>% select(-name))),\n",
    "  breaks = 100,\n",
    "  main = \"Expression Value Distribution\",\n",
    "  xlab = \"Expression Value\",\n",
    "  col = \"steelblue\",             # blue bars\n",
    "  border = \"white\",              # remove bar borders\n",
    "  cex.main = 1.5,                # increase title font size\n",
    "  cex.lab = 1.4,                 # increase axis label font size\n",
    "  cex.axis = 1.2,                # increase tick label size\n",
    "  las = 1                        # horizontal axis labels\n",
    ")\n",
    "\n",
    "# Optional: set light background\n",
    "par(bg = \"white\")  # or \"gray95\" for very light gray"
   ]
  },
  {
   "cell_type": "markdown",
   "id": "731a30da",
   "metadata": {},
   "source": []
  },
  {
   "cell_type": "code",
   "execution_count": null,
   "id": "708e0b1e",
   "metadata": {
    "vscode": {
     "languageId": "r"
    }
   },
   "outputs": [
    {
     "data": {
      "text/html": [
       "<table class=\"dataframe\">\n",
       "<caption>A tibble: 6 x 3</caption>\n",
       "<thead>\n",
       "\t<tr><th scope=col>Gene</th><th scope=col>Sample_ID</th><th scope=col>Expression</th></tr>\n",
       "\t<tr><th scope=col>&lt;chr&gt;</th><th scope=col>&lt;chr&gt;</th><th scope=col>&lt;dbl&gt;</th></tr>\n",
       "</thead>\n",
       "<tbody>\n",
       "\t<tr><td>A2M</td><td>MB_0362</td><td>7.653319</td></tr>\n",
       "\t<tr><td>A2M</td><td>MB_0346</td><td>6.564312</td></tr>\n",
       "\t<tr><td>A2M</td><td>MB_0386</td><td>8.201633</td></tr>\n",
       "\t<tr><td>A2M</td><td>MB_0574</td><td>7.587296</td></tr>\n",
       "\t<tr><td>A2M</td><td>MB_0185</td><td>8.427318</td></tr>\n",
       "\t<tr><td>A2M</td><td>MB_0503</td><td>7.545219</td></tr>\n",
       "</tbody>\n",
       "</table>\n"
      ],
      "text/latex": [
       "A tibble: 6 x 3\n",
       "\\begin{tabular}{lll}\n",
       " Gene & Sample\\_ID & Expression\\\\\n",
       " <chr> & <chr> & <dbl>\\\\\n",
       "\\hline\n",
       "\t A2M & MB\\_0362 & 7.653319\\\\\n",
       "\t A2M & MB\\_0346 & 6.564312\\\\\n",
       "\t A2M & MB\\_0386 & 8.201633\\\\\n",
       "\t A2M & MB\\_0574 & 7.587296\\\\\n",
       "\t A2M & MB\\_0185 & 8.427318\\\\\n",
       "\t A2M & MB\\_0503 & 7.545219\\\\\n",
       "\\end{tabular}\n"
      ],
      "text/markdown": [
       "\n",
       "A tibble: 6 x 3\n",
       "\n",
       "| Gene &lt;chr&gt; | Sample_ID &lt;chr&gt; | Expression &lt;dbl&gt; |\n",
       "|---|---|---|\n",
       "| A2M | MB_0362 | 7.653319 |\n",
       "| A2M | MB_0346 | 6.564312 |\n",
       "| A2M | MB_0386 | 8.201633 |\n",
       "| A2M | MB_0574 | 7.587296 |\n",
       "| A2M | MB_0185 | 8.427318 |\n",
       "| A2M | MB_0503 | 7.545219 |\n",
       "\n"
      ],
      "text/plain": [
       "  Gene Sample_ID Expression\n",
       "1 A2M  MB_0362   7.653319  \n",
       "2 A2M  MB_0346   6.564312  \n",
       "3 A2M  MB_0386   8.201633  \n",
       "4 A2M  MB_0574   7.587296  \n",
       "5 A2M  MB_0185   8.427318  \n",
       "6 A2M  MB_0503   7.545219  "
      ]
     },
     "metadata": {},
     "output_type": "display_data"
    },
    {
     "data": {
      "text/html": [
       "<style>\n",
       ".list-inline {list-style: none; margin:0; padding: 0}\n",
       ".list-inline>li {display: inline-block}\n",
       ".list-inline>li:not(:last-child)::after {content: \"\\00b7\"; padding: 0 .5ex}\n",
       "</style>\n",
       "<ol class=list-inline><li>3007584</li><li>3</li></ol>\n"
      ],
      "text/latex": [
       "\\begin{enumerate*}\n",
       "\\item 3007584\n",
       "\\item 3\n",
       "\\end{enumerate*}\n"
      ],
      "text/markdown": [
       "1. 3007584\n",
       "2. 3\n",
       "\n",
       "\n"
      ],
      "text/plain": [
       "[1] 3007584       3"
      ]
     },
     "metadata": {},
     "output_type": "display_data"
    }
   ],
   "source": [
    "expr_long_filtered <- expr_filtered_log2 %>%\n",
    "  as.data.frame() %>%\n",
    "  rownames_to_column(\"Gene\") %>%\n",
    "  pivot_longer(-Gene, names_to = \"Sample_ID\", values_to = \"Expression\")"
   ]
  },
  {
   "cell_type": "code",
   "execution_count": 176,
   "id": "7435a22e",
   "metadata": {
    "vscode": {
     "languageId": "r"
    }
   },
   "outputs": [
    {
     "data": {
      "text/html": [
       "<table class=\"dataframe\">\n",
       "<caption>A tibble: 6 x 4</caption>\n",
       "<thead>\n",
       "\t<tr><th scope=col>Gene</th><th scope=col>Sample_ID</th><th scope=col>Expression</th><th scope=col>Group</th></tr>\n",
       "\t<tr><th scope=col>&lt;chr&gt;</th><th scope=col>&lt;chr&gt;</th><th scope=col>&lt;dbl&gt;</th><th scope=col>&lt;chr&gt;</th></tr>\n",
       "</thead>\n",
       "<tbody>\n",
       "\t<tr><td>A2M</td><td>MB_0362</td><td>7.653319</td><td>Tumor</td></tr>\n",
       "\t<tr><td>A2M</td><td>MB_0386</td><td>8.201633</td><td>Tumor</td></tr>\n",
       "\t<tr><td>A2M</td><td>MB_0574</td><td>7.587296</td><td>Tumor</td></tr>\n",
       "\t<tr><td>A2M</td><td>MB_0503</td><td>7.545219</td><td>Tumor</td></tr>\n",
       "\t<tr><td>A2M</td><td>MB_0201</td><td>8.898809</td><td>Tumor</td></tr>\n",
       "\t<tr><td>A2M</td><td>MB_0218</td><td>8.763382</td><td>Tumor</td></tr>\n",
       "</tbody>\n",
       "</table>\n"
      ],
      "text/latex": [
       "A tibble: 6 x 4\n",
       "\\begin{tabular}{llll}\n",
       " Gene & Sample\\_ID & Expression & Group\\\\\n",
       " <chr> & <chr> & <dbl> & <chr>\\\\\n",
       "\\hline\n",
       "\t A2M & MB\\_0362 & 7.653319 & Tumor\\\\\n",
       "\t A2M & MB\\_0386 & 8.201633 & Tumor\\\\\n",
       "\t A2M & MB\\_0574 & 7.587296 & Tumor\\\\\n",
       "\t A2M & MB\\_0503 & 7.545219 & Tumor\\\\\n",
       "\t A2M & MB\\_0201 & 8.898809 & Tumor\\\\\n",
       "\t A2M & MB\\_0218 & 8.763382 & Tumor\\\\\n",
       "\\end{tabular}\n"
      ],
      "text/markdown": [
       "\n",
       "A tibble: 6 x 4\n",
       "\n",
       "| Gene &lt;chr&gt; | Sample_ID &lt;chr&gt; | Expression &lt;dbl&gt; | Group &lt;chr&gt; |\n",
       "|---|---|---|---|\n",
       "| A2M | MB_0362 | 7.653319 | Tumor |\n",
       "| A2M | MB_0386 | 8.201633 | Tumor |\n",
       "| A2M | MB_0574 | 7.587296 | Tumor |\n",
       "| A2M | MB_0503 | 7.545219 | Tumor |\n",
       "| A2M | MB_0201 | 8.898809 | Tumor |\n",
       "| A2M | MB_0218 | 8.763382 | Tumor |\n",
       "\n"
      ],
      "text/plain": [
       "  Gene Sample_ID Expression Group\n",
       "1 A2M  MB_0362   7.653319   Tumor\n",
       "2 A2M  MB_0386   8.201633   Tumor\n",
       "3 A2M  MB_0574   7.587296   Tumor\n",
       "4 A2M  MB_0503   7.545219   Tumor\n",
       "5 A2M  MB_0201   8.898809   Tumor\n",
       "6 A2M  MB_0218   8.763382   Tumor"
      ]
     },
     "metadata": {},
     "output_type": "display_data"
    }
   ],
   "source": [
    "expr_long_labeled <- expr_long_filtered %>%\n",
    "  mutate(Group = case_when(\n",
    "    Sample_ID %in% tumor_samples ~ \"Tumor\",\n",
    "    Sample_ID %in% normal_samples ~ \"Normal\",\n",
    "    TRUE ~ NA_character_\n",
    "  )) %>%\n",
    "  filter(!is.na(Group))  # remove samples that aren't labeled\n",
    "head(expr_long_labeled)"
   ]
  },
  {
   "cell_type": "code",
   "execution_count": 200,
   "id": "92169640",
   "metadata": {
    "vscode": {
     "languageId": "r"
    }
   },
   "outputs": [
    {
     "data": {
      "text/html": [
       "<table class=\"dataframe\">\n",
       "<caption>A tibble: 6 x 4</caption>\n",
       "<thead>\n",
       "\t<tr><th scope=col>Gene</th><th scope=col>mean_expr_Normal</th><th scope=col>mean_expr_Tumor</th><th scope=col>delta_expr</th></tr>\n",
       "\t<tr><th scope=col>&lt;chr&gt;</th><th scope=col>&lt;dbl&gt;</th><th scope=col>&lt;dbl&gt;</th><th scope=col>&lt;dbl&gt;</th></tr>\n",
       "</thead>\n",
       "<tbody>\n",
       "\t<tr><td>A2M   </td><td>9.615661</td><td>9.060828</td><td>-0.5548333</td></tr>\n",
       "\t<tr><td>ABCA3 </td><td>6.956976</td><td>7.719242</td><td> 0.7622658</td></tr>\n",
       "\t<tr><td>ABCA8 </td><td>9.460738</td><td>6.357415</td><td>-3.1033225</td></tr>\n",
       "\t<tr><td>ABCB9 </td><td>7.061722</td><td>7.802257</td><td> 0.7405352</td></tr>\n",
       "\t<tr><td>ABCC11</td><td>6.178671</td><td>7.025987</td><td> 0.8473162</td></tr>\n",
       "\t<tr><td>ABCC8 </td><td>6.280665</td><td>6.613724</td><td> 0.3330585</td></tr>\n",
       "</tbody>\n",
       "</table>\n"
      ],
      "text/latex": [
       "A tibble: 6 x 4\n",
       "\\begin{tabular}{llll}\n",
       " Gene & mean\\_expr\\_Normal & mean\\_expr\\_Tumor & delta\\_expr\\\\\n",
       " <chr> & <dbl> & <dbl> & <dbl>\\\\\n",
       "\\hline\n",
       "\t A2M    & 9.615661 & 9.060828 & -0.5548333\\\\\n",
       "\t ABCA3  & 6.956976 & 7.719242 &  0.7622658\\\\\n",
       "\t ABCA8  & 9.460738 & 6.357415 & -3.1033225\\\\\n",
       "\t ABCB9  & 7.061722 & 7.802257 &  0.7405352\\\\\n",
       "\t ABCC11 & 6.178671 & 7.025987 &  0.8473162\\\\\n",
       "\t ABCC8  & 6.280665 & 6.613724 &  0.3330585\\\\\n",
       "\\end{tabular}\n"
      ],
      "text/markdown": [
       "\n",
       "A tibble: 6 x 4\n",
       "\n",
       "| Gene &lt;chr&gt; | mean_expr_Normal &lt;dbl&gt; | mean_expr_Tumor &lt;dbl&gt; | delta_expr &lt;dbl&gt; |\n",
       "|---|---|---|---|\n",
       "| A2M    | 9.615661 | 9.060828 | -0.5548333 |\n",
       "| ABCA3  | 6.956976 | 7.719242 |  0.7622658 |\n",
       "| ABCA8  | 9.460738 | 6.357415 | -3.1033225 |\n",
       "| ABCB9  | 7.061722 | 7.802257 |  0.7405352 |\n",
       "| ABCC11 | 6.178671 | 7.025987 |  0.8473162 |\n",
       "| ABCC8  | 6.280665 | 6.613724 |  0.3330585 |\n",
       "\n"
      ],
      "text/plain": [
       "  Gene   mean_expr_Normal mean_expr_Tumor delta_expr\n",
       "1 A2M    9.615661         9.060828        -0.5548333\n",
       "2 ABCA3  6.956976         7.719242         0.7622658\n",
       "3 ABCA8  9.460738         6.357415        -3.1033225\n",
       "4 ABCB9  7.061722         7.802257         0.7405352\n",
       "5 ABCC11 6.178671         7.025987         0.8473162\n",
       "6 ABCC8  6.280665         6.613724         0.3330585"
      ]
     },
     "metadata": {},
     "output_type": "display_data"
    }
   ],
   "source": [
    "expr_avg <- expr_long_labeled %>%\n",
    "  group_by(Gene, Group) %>%\n",
    "  summarise(mean_expr = mean(Expression, na.rm = TRUE), .groups = \"drop\") %>%\n",
    "  pivot_wider(names_from = Group, values_from = mean_expr, names_prefix = \"mean_expr_\") %>%\n",
    "  mutate(delta_expr = mean_expr_Tumor - mean_expr_Normal)\n",
    "head(expr_avg)"
   ]
  },
  {
   "cell_type": "markdown",
   "id": "3e089499",
   "metadata": {},
   "source": [
    "merging expr and methylation"
   ]
  },
  {
   "cell_type": "code",
   "execution_count": 204,
   "id": "4826ba3b",
   "metadata": {
    "vscode": {
     "languageId": "r"
    }
   },
   "outputs": [
    {
     "data": {
      "text/html": [
       "<table class=\"dataframe\">\n",
       "<caption>A tibble: 6 x 4</caption>\n",
       "<thead>\n",
       "\t<tr><th scope=col>Gene</th><th scope=col>mean_beta_tumor</th><th scope=col>mean_beta_normal</th><th scope=col>delta_beta</th></tr>\n",
       "\t<tr><th scope=col>&lt;chr&gt;</th><th scope=col>&lt;dbl&gt;</th><th scope=col>&lt;dbl&gt;</th><th scope=col>&lt;dbl&gt;</th></tr>\n",
       "</thead>\n",
       "<tbody>\n",
       "\t<tr><td>RGS22       </td><td>0.5635271</td><td>0.12071097</td><td>0.4428162</td></tr>\n",
       "\t<tr><td>CCDC181     </td><td>0.4608988</td><td>0.06355955</td><td>0.3973392</td></tr>\n",
       "\t<tr><td>RARRES2     </td><td>0.6509755</td><td>0.25614017</td><td>0.3948353</td></tr>\n",
       "\t<tr><td>PFN3        </td><td>0.6632078</td><td>0.27926288</td><td>0.3839450</td></tr>\n",
       "\t<tr><td>FAM193A     </td><td>0.7167874</td><td>0.33508421</td><td>0.3817032</td></tr>\n",
       "\t<tr><td>LOC101929415</td><td>0.4569550</td><td>0.08099144</td><td>0.3759636</td></tr>\n",
       "</tbody>\n",
       "</table>\n"
      ],
      "text/latex": [
       "A tibble: 6 x 4\n",
       "\\begin{tabular}{llll}\n",
       " Gene & mean\\_beta\\_tumor & mean\\_beta\\_normal & delta\\_beta\\\\\n",
       " <chr> & <dbl> & <dbl> & <dbl>\\\\\n",
       "\\hline\n",
       "\t RGS22        & 0.5635271 & 0.12071097 & 0.4428162\\\\\n",
       "\t CCDC181      & 0.4608988 & 0.06355955 & 0.3973392\\\\\n",
       "\t RARRES2      & 0.6509755 & 0.25614017 & 0.3948353\\\\\n",
       "\t PFN3         & 0.6632078 & 0.27926288 & 0.3839450\\\\\n",
       "\t FAM193A      & 0.7167874 & 0.33508421 & 0.3817032\\\\\n",
       "\t LOC101929415 & 0.4569550 & 0.08099144 & 0.3759636\\\\\n",
       "\\end{tabular}\n"
      ],
      "text/markdown": [
       "\n",
       "A tibble: 6 x 4\n",
       "\n",
       "| Gene &lt;chr&gt; | mean_beta_tumor &lt;dbl&gt; | mean_beta_normal &lt;dbl&gt; | delta_beta &lt;dbl&gt; |\n",
       "|---|---|---|---|\n",
       "| RGS22        | 0.5635271 | 0.12071097 | 0.4428162 |\n",
       "| CCDC181      | 0.4608988 | 0.06355955 | 0.3973392 |\n",
       "| RARRES2      | 0.6509755 | 0.25614017 | 0.3948353 |\n",
       "| PFN3         | 0.6632078 | 0.27926288 | 0.3839450 |\n",
       "| FAM193A      | 0.7167874 | 0.33508421 | 0.3817032 |\n",
       "| LOC101929415 | 0.4569550 | 0.08099144 | 0.3759636 |\n",
       "\n"
      ],
      "text/plain": [
       "  Gene         mean_beta_tumor mean_beta_normal delta_beta\n",
       "1 RGS22        0.5635271       0.12071097       0.4428162 \n",
       "2 CCDC181      0.4608988       0.06355955       0.3973392 \n",
       "3 RARRES2      0.6509755       0.25614017       0.3948353 \n",
       "4 PFN3         0.6632078       0.27926288       0.3839450 \n",
       "5 FAM193A      0.7167874       0.33508421       0.3817032 \n",
       "6 LOC101929415 0.4569550       0.08099144       0.3759636 "
      ]
     },
     "metadata": {},
     "output_type": "display_data"
    }
   ],
   "source": [
    "head(dmr_genes)"
   ]
  },
  {
   "cell_type": "code",
   "execution_count": 205,
   "id": "3c329aa2",
   "metadata": {
    "vscode": {
     "languageId": "r"
    }
   },
   "outputs": [
    {
     "data": {
      "text/html": [
       "<table class=\"dataframe\">\n",
       "<caption>A tibble: 6 x 7</caption>\n",
       "<thead>\n",
       "\t<tr><th scope=col>Gene</th><th scope=col>mean_beta_tumor</th><th scope=col>mean_beta_normal</th><th scope=col>delta_beta</th><th scope=col>mean_expr_Normal</th><th scope=col>mean_expr_Tumor</th><th scope=col>delta_expr</th></tr>\n",
       "\t<tr><th scope=col>&lt;chr&gt;</th><th scope=col>&lt;dbl&gt;</th><th scope=col>&lt;dbl&gt;</th><th scope=col>&lt;dbl&gt;</th><th scope=col>&lt;dbl&gt;</th><th scope=col>&lt;dbl&gt;</th><th scope=col>&lt;dbl&gt;</th></tr>\n",
       "</thead>\n",
       "<tbody>\n",
       "\t<tr><td>RGS22  </td><td>0.5635271</td><td>0.1207110</td><td>0.4428162</td><td> 6.116625</td><td>6.044873</td><td>-0.07175191</td></tr>\n",
       "\t<tr><td>RARRES2</td><td>0.6509755</td><td>0.2561402</td><td>0.3948353</td><td>10.705178</td><td>9.341990</td><td>-1.36318830</td></tr>\n",
       "\t<tr><td>TAGLN  </td><td>0.5112087</td><td>0.1869937</td><td>0.3242150</td><td>10.665425</td><td>9.506119</td><td>-1.15930583</td></tr>\n",
       "\t<tr><td>HSPA7  </td><td>0.4777316</td><td>0.1795493</td><td>0.2981823</td><td> 7.672512</td><td>7.781231</td><td> 0.10871905</td></tr>\n",
       "\t<tr><td>HSPB6  </td><td>0.4693547</td><td>0.1754199</td><td>0.2939348</td><td> 9.544350</td><td>6.464520</td><td>-3.07983057</td></tr>\n",
       "\t<tr><td>CRYAB  </td><td>0.5716638</td><td>0.2885876</td><td>0.2830762</td><td>11.552219</td><td>8.606816</td><td>-2.94540358</td></tr>\n",
       "</tbody>\n",
       "</table>\n"
      ],
      "text/latex": [
       "A tibble: 6 x 7\n",
       "\\begin{tabular}{lllllll}\n",
       " Gene & mean\\_beta\\_tumor & mean\\_beta\\_normal & delta\\_beta & mean\\_expr\\_Normal & mean\\_expr\\_Tumor & delta\\_expr\\\\\n",
       " <chr> & <dbl> & <dbl> & <dbl> & <dbl> & <dbl> & <dbl>\\\\\n",
       "\\hline\n",
       "\t RGS22   & 0.5635271 & 0.1207110 & 0.4428162 &  6.116625 & 6.044873 & -0.07175191\\\\\n",
       "\t RARRES2 & 0.6509755 & 0.2561402 & 0.3948353 & 10.705178 & 9.341990 & -1.36318830\\\\\n",
       "\t TAGLN   & 0.5112087 & 0.1869937 & 0.3242150 & 10.665425 & 9.506119 & -1.15930583\\\\\n",
       "\t HSPA7   & 0.4777316 & 0.1795493 & 0.2981823 &  7.672512 & 7.781231 &  0.10871905\\\\\n",
       "\t HSPB6   & 0.4693547 & 0.1754199 & 0.2939348 &  9.544350 & 6.464520 & -3.07983057\\\\\n",
       "\t CRYAB   & 0.5716638 & 0.2885876 & 0.2830762 & 11.552219 & 8.606816 & -2.94540358\\\\\n",
       "\\end{tabular}\n"
      ],
      "text/markdown": [
       "\n",
       "A tibble: 6 x 7\n",
       "\n",
       "| Gene &lt;chr&gt; | mean_beta_tumor &lt;dbl&gt; | mean_beta_normal &lt;dbl&gt; | delta_beta &lt;dbl&gt; | mean_expr_Normal &lt;dbl&gt; | mean_expr_Tumor &lt;dbl&gt; | delta_expr &lt;dbl&gt; |\n",
       "|---|---|---|---|---|---|---|\n",
       "| RGS22   | 0.5635271 | 0.1207110 | 0.4428162 |  6.116625 | 6.044873 | -0.07175191 |\n",
       "| RARRES2 | 0.6509755 | 0.2561402 | 0.3948353 | 10.705178 | 9.341990 | -1.36318830 |\n",
       "| TAGLN   | 0.5112087 | 0.1869937 | 0.3242150 | 10.665425 | 9.506119 | -1.15930583 |\n",
       "| HSPA7   | 0.4777316 | 0.1795493 | 0.2981823 |  7.672512 | 7.781231 |  0.10871905 |\n",
       "| HSPB6   | 0.4693547 | 0.1754199 | 0.2939348 |  9.544350 | 6.464520 | -3.07983057 |\n",
       "| CRYAB   | 0.5716638 | 0.2885876 | 0.2830762 | 11.552219 | 8.606816 | -2.94540358 |\n",
       "\n"
      ],
      "text/plain": [
       "  Gene    mean_beta_tumor mean_beta_normal delta_beta mean_expr_Normal\n",
       "1 RGS22   0.5635271       0.1207110        0.4428162   6.116625       \n",
       "2 RARRES2 0.6509755       0.2561402        0.3948353  10.705178       \n",
       "3 TAGLN   0.5112087       0.1869937        0.3242150  10.665425       \n",
       "4 HSPA7   0.4777316       0.1795493        0.2981823   7.672512       \n",
       "5 HSPB6   0.4693547       0.1754199        0.2939348   9.544350       \n",
       "6 CRYAB   0.5716638       0.2885876        0.2830762  11.552219       \n",
       "  mean_expr_Tumor delta_expr \n",
       "1 6.044873        -0.07175191\n",
       "2 9.341990        -1.36318830\n",
       "3 9.506119        -1.15930583\n",
       "4 7.781231         0.10871905\n",
       "5 6.464520        -3.07983057\n",
       "6 8.606816        -2.94540358"
      ]
     },
     "metadata": {},
     "output_type": "display_data"
    }
   ],
   "source": [
    "dmr_expr_merged <- inner_join(dmr_genes, expr_avg, by = \"Gene\")\n",
    "head(dmr_expr_merged)"
   ]
  },
  {
   "cell_type": "code",
   "execution_count": 218,
   "id": "4a5c08a2",
   "metadata": {
    "vscode": {
     "languageId": "r"
    }
   },
   "outputs": [
    {
     "data": {
      "text/plain": [
       "\n",
       "\tSpearman's rank correlation rho\n",
       "\n",
       "data:  dmr_expr_merged$delta_beta and dmr_expr_merged$delta_expr\n",
       "S = 4160, p-value = 0.03268\n",
       "alternative hypothesis: true rho is not equal to 0\n",
       "sample estimates:\n",
       "       rho \n",
       "-0.4222222 \n"
      ]
     },
     "metadata": {},
     "output_type": "display_data"
    },
    {
     "name": "stderr",
     "output_type": "stream",
     "text": [
      "\u001b[1m\u001b[22m`geom_smooth()` using formula = 'y ~ x'\n"
     ]
    },
    {
     "data": {
      "image/png": "[encoded data removed]",
      "text/plain": [
       "plot without title"
      ]
     },
     "metadata": {
      "image/png": {
       "height": 420,
       "width": 420
      }
     },
     "output_type": "display_data"
    }
   ],
   "source": [
    "cor.test(dmr_expr_merged$delta_beta, dmr_expr_merged$delta_expr, method = \"spearman\")\n",
    "\n",
    "ggplot(dmr_expr_merged, aes(x = delta_beta, y = delta_expr)) +\n",
    "  geom_point(color = \"steelblue\", alpha = 0.7) +\n",
    "  geom_smooth(method = \"lm\", se = TRUE, color = \"darkred\", linetype = \"dashed\") +\n",
    "  theme_minimal(base_size = 14) +\n",
    "  labs(\n",
    "    title = \"Expression vs Methylation \",\n",
    "    x = \"Methylation (Tumor - Normal)\",\n",
    "    y = \"Expression(Tumor - Normal)\"\n",
    "  )"
   ]
  },
  {
   "cell_type": "markdown",
   "id": "24af67eb",
   "metadata": {},
   "source": [
    "the correlation suggests that genes with higher methylation (Δβ ↑) tend to have lower expression (ΔExpr ↓) "
   ]
  },
  {
   "cell_type": "code",
   "execution_count": 215,
   "id": "c8ded69a",
   "metadata": {
    "vscode": {
     "languageId": "r"
    }
   },
   "outputs": [
    {
     "data": {
      "image/png": "[encoded data removed]",
      "text/plain": [
       "plot without title"
      ]
     },
     "metadata": {
      "image/png": {
       "height": 420,
       "width": 420
      }
     },
     "output_type": "display_data"
    }
   ],
   "source": [
    "volcano_df <- dmr_expr_merged %>%\n",
    "  mutate(Quadrant = case_when(\n",
    "    delta_beta > 0.2 & delta_expr > 1 ~ \"Hypo + Up\",\n",
    "    delta_beta < -0.2 & delta_expr < -1 ~ \"Hyper + Down\",\n",
    "    delta_beta > 0.2 & delta_expr < -1 ~ \"Hypo + Down\",\n",
    "    delta_beta < -0.2 & delta_expr > 1 ~ \"Hyper + Up\",\n",
    "    TRUE ~ \"Not Significant\"\n",
    "  ))\n",
    "\n",
    "library(ggplot2)\n",
    "\n",
    "ggplot(volcano_df, aes(x = delta_beta, y = delta_expr)) +\n",
    "  geom_point(aes(color = Quadrant), alpha = 0.8, size = 2) +\n",
    "  scale_color_manual(values = c(\n",
    "    \"Hypo + Up\" = \"blue\",\n",
    "    \"Hyper + Down\" = \"red\",\n",
    "    \"Hypo + Down\" = \"orange\",\n",
    "    \"Hyper + Up\" = \"green\",\n",
    "    \"Not Significant\" = \"gray70\"\n",
    "  )) +\n",
    "  geom_vline(xintercept = c(-0.2, 0.2), linetype = \"dashed\", color = \"black\") +\n",
    "  geom_hline(yintercept = c(-1, 1), linetype = \"dashed\", color = \"black\") +\n",
    "  theme_minimal(base_size = 14) +\n",
    "  labs(\n",
    "    title = \"Volcano Plot: ΔMethylation vs ΔExpression\",\n",
    "    x = \"Δβ (Methylation Change)\",\n",
    "    y = \"ΔExpr (Expression Change)\",\n",
    "    color = \"Quadrant\"\n",
    "  )"
   ]
  },
  {
   "cell_type": "code",
   "execution_count": 216,
   "id": "ec61e9bb",
   "metadata": {
    "vscode": {
     "languageId": "r"
    }
   },
   "outputs": [
    {
     "data": {
      "text/html": [
       "<table class=\"dataframe\">\n",
       "<caption>A tibble: 6 x 8</caption>\n",
       "<thead>\n",
       "\t<tr><th scope=col>Gene</th><th scope=col>mean_beta_tumor</th><th scope=col>mean_beta_normal</th><th scope=col>delta_beta</th><th scope=col>mean_expr_Normal</th><th scope=col>mean_expr_Tumor</th><th scope=col>delta_expr</th><th scope=col>Label</th></tr>\n",
       "\t<tr><th scope=col>&lt;chr&gt;</th><th scope=col>&lt;dbl&gt;</th><th scope=col>&lt;dbl&gt;</th><th scope=col>&lt;dbl&gt;</th><th scope=col>&lt;dbl&gt;</th><th scope=col>&lt;dbl&gt;</th><th scope=col>&lt;dbl&gt;</th><th scope=col>&lt;chr&gt;</th></tr>\n",
       "</thead>\n",
       "<tbody>\n",
       "\t<tr><td>RARRES2</td><td>0.6509755</td><td>0.2561402</td><td>0.3948353</td><td>10.705178</td><td>9.341990</td><td>-1.363188</td><td>RARRES2</td></tr>\n",
       "\t<tr><td>TAGLN  </td><td>0.5112087</td><td>0.1869937</td><td>0.3242150</td><td>10.665425</td><td>9.506119</td><td>-1.159306</td><td>NA     </td></tr>\n",
       "\t<tr><td>HSPB6  </td><td>0.4693547</td><td>0.1754199</td><td>0.2939348</td><td> 9.544350</td><td>6.464520</td><td>-3.079831</td><td>HSPB6  </td></tr>\n",
       "\t<tr><td>CRYAB  </td><td>0.5716638</td><td>0.2885876</td><td>0.2830762</td><td>11.552219</td><td>8.606816</td><td>-2.945404</td><td>CRYAB  </td></tr>\n",
       "\t<tr><td>CX3CL1 </td><td>0.6233477</td><td>0.3434441</td><td>0.2799036</td><td> 9.938606</td><td>7.627114</td><td>-2.311493</td><td>CX3CL1 </td></tr>\n",
       "\t<tr><td>GNG11  </td><td>0.5732588</td><td>0.3053986</td><td>0.2678602</td><td>10.221563</td><td>8.320411</td><td>-1.901152</td><td>GNG11  </td></tr>\n",
       "</tbody>\n",
       "</table>\n"
      ],
      "text/latex": [
       "A tibble: 6 x 8\n",
       "\\begin{tabular}{llllllll}\n",
       " Gene & mean\\_beta\\_tumor & mean\\_beta\\_normal & delta\\_beta & mean\\_expr\\_Normal & mean\\_expr\\_Tumor & delta\\_expr & Label\\\\\n",
       " <chr> & <dbl> & <dbl> & <dbl> & <dbl> & <dbl> & <dbl> & <chr>\\\\\n",
       "\\hline\n",
       "\t RARRES2 & 0.6509755 & 0.2561402 & 0.3948353 & 10.705178 & 9.341990 & -1.363188 & RARRES2\\\\\n",
       "\t TAGLN   & 0.5112087 & 0.1869937 & 0.3242150 & 10.665425 & 9.506119 & -1.159306 & NA     \\\\\n",
       "\t HSPB6   & 0.4693547 & 0.1754199 & 0.2939348 &  9.544350 & 6.464520 & -3.079831 & HSPB6  \\\\\n",
       "\t CRYAB   & 0.5716638 & 0.2885876 & 0.2830762 & 11.552219 & 8.606816 & -2.945404 & CRYAB  \\\\\n",
       "\t CX3CL1  & 0.6233477 & 0.3434441 & 0.2799036 &  9.938606 & 7.627114 & -2.311493 & CX3CL1 \\\\\n",
       "\t GNG11   & 0.5732588 & 0.3053986 & 0.2678602 & 10.221563 & 8.320411 & -1.901152 & GNG11  \\\\\n",
       "\\end{tabular}\n"
      ],
      "text/markdown": [
       "\n",
       "A tibble: 6 x 8\n",
       "\n",
       "| Gene &lt;chr&gt; | mean_beta_tumor &lt;dbl&gt; | mean_beta_normal &lt;dbl&gt; | delta_beta &lt;dbl&gt; | mean_expr_Normal &lt;dbl&gt; | mean_expr_Tumor &lt;dbl&gt; | delta_expr &lt;dbl&gt; | Label &lt;chr&gt; |\n",
       "|---|---|---|---|---|---|---|---|\n",
       "| RARRES2 | 0.6509755 | 0.2561402 | 0.3948353 | 10.705178 | 9.341990 | -1.363188 | RARRES2 |\n",
       "| TAGLN   | 0.5112087 | 0.1869937 | 0.3242150 | 10.665425 | 9.506119 | -1.159306 | NA      |\n",
       "| HSPB6   | 0.4693547 | 0.1754199 | 0.2939348 |  9.544350 | 6.464520 | -3.079831 | HSPB6   |\n",
       "| CRYAB   | 0.5716638 | 0.2885876 | 0.2830762 | 11.552219 | 8.606816 | -2.945404 | CRYAB   |\n",
       "| CX3CL1  | 0.6233477 | 0.3434441 | 0.2799036 |  9.938606 | 7.627114 | -2.311493 | CX3CL1  |\n",
       "| GNG11   | 0.5732588 | 0.3053986 | 0.2678602 | 10.221563 | 8.320411 | -1.901152 | GNG11   |\n",
       "\n"
      ],
      "text/plain": [
       "  Gene    mean_beta_tumor mean_beta_normal delta_beta mean_expr_Normal\n",
       "1 RARRES2 0.6509755       0.2561402        0.3948353  10.705178       \n",
       "2 TAGLN   0.5112087       0.1869937        0.3242150  10.665425       \n",
       "3 HSPB6   0.4693547       0.1754199        0.2939348   9.544350       \n",
       "4 CRYAB   0.5716638       0.2885876        0.2830762  11.552219       \n",
       "5 CX3CL1  0.6233477       0.3434441        0.2799036   9.938606       \n",
       "6 GNG11   0.5732588       0.3053986        0.2678602  10.221563       \n",
       "  mean_expr_Tumor delta_expr Label  \n",
       "1 9.341990        -1.363188  RARRES2\n",
       "2 9.506119        -1.159306  NA     \n",
       "3 6.464520        -3.079831  HSPB6  \n",
       "4 8.606816        -2.945404  CRYAB  \n",
       "5 7.627114        -2.311493  CX3CL1 \n",
       "6 8.320411        -1.901152  GNG11  "
      ]
     },
     "metadata": {},
     "output_type": "display_data"
    },
    {
     "data": {
      "text/html": [
       "<style>\n",
       ".list-inline {list-style: none; margin:0; padding: 0}\n",
       ".list-inline>li {display: inline-block}\n",
       ".list-inline>li:not(:last-child)::after {content: \"\\00b7\"; padding: 0 .5ex}\n",
       "</style>\n",
       "<ol class=list-inline><li>12</li><li>8</li></ol>\n"
      ],
      "text/latex": [
       "\\begin{enumerate*}\n",
       "\\item 12\n",
       "\\item 8\n",
       "\\end{enumerate*}\n"
      ],
      "text/markdown": [
       "1. 12\n",
       "2. 8\n",
       "\n",
       "\n"
      ],
      "text/plain": [
       "[1] 12  8"
      ]
     },
     "metadata": {},
     "output_type": "display_data"
    }
   ],
   "source": [
    "inverse_genes <- dmr_expr_merged %>%\n",
    "  filter((delta_beta > 0.2 & delta_expr < -1) | (delta_beta < -0.2 & delta_expr > 1))\n",
    "head(inverse_genes)\n",
    "dim(inverse_genes)"
   ]
  }
 ],
 "metadata": {
  "kernelspec": {
   "display_name": "R",
   "language": "R",
   "name": "ir"
  },
  "language_info": {
   "codemirror_mode": "r",
   "file_extension": ".r",
   "mimetype": "text/x-r-source",
   "name": "R",
   "pygments_lexer": "r",
   "version": "4.4.2"
  }
 },
 "nbformat": 4,
 "nbformat_minor": 5
}
